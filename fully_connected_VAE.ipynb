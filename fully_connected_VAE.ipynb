{
  "cells": [
    {
      "cell_type": "code",
      "execution_count": 1,
      "metadata": {
        "id": "1gvy-EAfzyZ1"
      },
      "outputs": [],
      "source": [
        "import tensorflow as tf\n",
        "import scipy.io.wavfile as wav\n",
        "import numpy as np\n",
        "import os\n",
        "import time"
      ]
    },
    {
      "cell_type": "code",
      "source": [
        "from google.colab import drive\n",
        "drive.mount('/content/drive', force_remount=True)"
      ],
      "metadata": {
        "colab": {
          "base_uri": "https://localhost:8080/"
        },
        "id": "U6hbH9Fozy8a",
        "outputId": "549f4388-e3de-4569-e6fd-6c5bfda34c99"
      },
      "execution_count": 2,
      "outputs": [
        {
          "output_type": "stream",
          "name": "stdout",
          "text": [
            "Mounted at /content/drive\n"
          ]
        }
      ]
    },
    {
      "cell_type": "code",
      "execution_count": 3,
      "metadata": {
        "id": "o4mLFyGhzyZ3"
      },
      "outputs": [],
      "source": [
        "class PlanarVAE(tf.keras.Model):\n",
        "    \"\"\"Planar Variational Autoencoder.\"\"\"\n",
        "\n",
        "    def __init__(self, latent_dim, input_shape_):\n",
        "        super(PlanarVAE, self).__init__()\n",
        "        self.latent_dim = latent_dim\n",
        "        self.input_shape_ = input_shape_\n",
        "\n",
        "        # Encoder\n",
        "        self.encoder = tf.keras.Sequential([\n",
        "            tf.keras.layers.InputLayer(input_shape=input_shape_),\n",
        "            tf.keras.layers.Dense(256, activation='relu'),\n",
        "            tf.keras.layers.Dense(128, activation='relu'),\n",
        "            tf.keras.layers.Dense(latent_dim + latent_dim)  # mean and log variance\n",
        "        ])\n",
        "\n",
        "        # Decoder\n",
        "        self.decoder = tf.keras.Sequential([\n",
        "            tf.keras.layers.InputLayer(input_shape=(latent_dim,)),\n",
        "            tf.keras.layers.Dense(128, activation='relu'),\n",
        "            tf.keras.layers.Dense(256, activation='relu'),\n",
        "            tf.keras.layers.Dense(np.prod(input_shape_), activation=None),\n",
        "            tf.keras.layers.Reshape(target_shape=input_shape_)\n",
        "        ])\n",
        "\n",
        "    def call(self, inputs):\n",
        "        mean, logvar = self.encode(inputs)\n",
        "        z = self.reparameterize(mean, logvar)\n",
        "        logits = self.decode(z)\n",
        "        return logits\n",
        "\n",
        "    def encode(self, x):\n",
        "        mean, logvar = tf.split(self.encoder(x), num_or_size_splits=2, axis=1)\n",
        "        return mean, logvar\n",
        "\n",
        "    def reparameterize(self, mean, logvar):\n",
        "        batch_size = tf.shape(mean)[0]\n",
        "        eps = tf.random.normal(shape=(batch_size, self.latent_dim))\n",
        "        return eps * tf.exp(logvar * .5) + mean\n",
        "\n",
        "    def decode(self, z):\n",
        "        logits = self.decoder(z)\n",
        "        return logits\n",
        "\n",
        "    def sample(self, eps=None):\n",
        "        if eps is None:\n",
        "            eps = tf.random.normal(shape=(100, self.latent_dim))\n",
        "        return self.decode(eps)"
      ]
    },
    {
      "cell_type": "code",
      "execution_count": 4,
      "metadata": {
        "id": "QQVtDc9ezyZ4"
      },
      "outputs": [],
      "source": [
        "subsample_factor = 4\n",
        "# Load the time series from .npy files\n",
        "def load_data_from_folder(folder_path, subsample_factor=1):\n",
        "    data = []\n",
        "    for file_name in os.listdir(folder_path):\n",
        "        if file_name.endswith('.npy'):\n",
        "            file_path = os.path.join(folder_path, file_name)\n",
        "            time_series = np.load(file_path)\n",
        "            subsampled_time_series = time_series[::subsample_factor]\n",
        "            data.append(subsampled_time_series)\n",
        "    return np.array(data)"
      ]
    },
    {
      "cell_type": "code",
      "execution_count": 5,
      "metadata": {
        "id": "xL95gQbVzyZ4"
      },
      "outputs": [],
      "source": [
        "# Load data\n",
        "folder_path = 'drive/MyDrive/music_preprocessed_planarVAE'\n",
        "data = load_data_from_folder(folder_path, subsample_factor=subsample_factor)"
      ]
    },
    {
      "cell_type": "code",
      "execution_count": 6,
      "metadata": {
        "id": "I_id8ZWEzyZ4"
      },
      "outputs": [],
      "source": [
        "# Normalize data (assuming data is between 0 and 1; adjust if needed)\n",
        "data = data.astype(np.float32) / np.max(data)\n",
        "\n",
        "# Create TensorFlow dataset\n",
        "batch_size = 16\n",
        "dataset = tf.data.Dataset.from_tensor_slices(data)\n",
        "dataset = dataset.shuffle(buffer_size=len(data)).batch(batch_size)"
      ]
    },
    {
      "cell_type": "code",
      "execution_count": 7,
      "metadata": {
        "colab": {
          "base_uri": "https://localhost:8080/"
        },
        "id": "0BUqdlEKzyZ4",
        "outputId": "df0da280-eb9f-446c-db0e-672e112f8837"
      },
      "outputs": [
        {
          "output_type": "stream",
          "name": "stdout",
          "text": [
            "input shape:(55125,)\n",
            "Model: \"planar_vae\"\n",
            "_________________________________________________________________\n",
            " Layer (type)                Output Shape              Param #   \n",
            "=================================================================\n",
            " sequential (Sequential)     (None, 32)                14149280  \n",
            "                                                                 \n",
            " sequential_1 (Sequential)   (None, 55125)             14202325  \n",
            "                                                                 \n",
            "=================================================================\n",
            "Total params: 28351605 (108.15 MB)\n",
            "Trainable params: 28351605 (108.15 MB)\n",
            "Non-trainable params: 0 (0.00 Byte)\n",
            "_________________________________________________________________\n"
          ]
        }
      ],
      "source": [
        "# Setup\n",
        "latent_dim = 16  # Adjust as needed\n",
        "input_shape_ = ((44100*5) // subsample_factor,)  # Adjusted input shape for 5 seconds at 44100 Hz\n",
        "print(f\"input shape:{input_shape_}\")\n",
        "\n",
        "model = PlanarVAE(latent_dim, input_shape_)\n",
        "optimizer = tf.keras.optimizers.Adam(1e-4)\n",
        "model.build((None, *input_shape_))  # Build the model with input shape\n",
        "model.summary()"
      ]
    },
    {
      "cell_type": "code",
      "execution_count": 8,
      "metadata": {
        "id": "iYoBZ_6tzyZ5"
      },
      "outputs": [],
      "source": [
        "# Ensure data shape matches the model's input shape\n",
        "data = data[:, :input_shape_[0]]\n",
        "\n",
        "# Create a TensorFlow dataset\n",
        "batch_size = 16\n",
        "dataset = tf.data.Dataset.from_tensor_slices(data).batch(batch_size)\n",
        "\n",
        "def log_normal_pdf(sample, mean, logvar, raxis=1):        # function that defines a lognormal function\n",
        "  log2pi = tf.math.log(2. * np.pi)\n",
        "  return tf.reduce_sum(\n",
        "      -.5 * ((sample - mean) ** 2. * tf.exp(-logvar) + logvar + log2pi),\n",
        "      axis=raxis)\n",
        "\n",
        "\n",
        "def compute_loss(model, x):\n",
        "    # Encode input to obtain mean and log variance\n",
        "    mean, logvar = model.encode(x)\n",
        "    # Reparameterize to get latent variable z\n",
        "    z = model.reparameterize(mean, logvar)\n",
        "    # Decode to get the reconstruction\n",
        "    x_logit = model.decode(z)\n",
        "\n",
        "    # Compute reconstruction loss (Mean Squared Error)\n",
        "    mse_loss = tf.reduce_mean(tf.square(x - x_logit), axis=-1)  # Reduce over the feature dimension\n",
        "\n",
        "    # Compute KL divergence\n",
        "    logpz = log_normal_pdf(z, 0., 0.)\n",
        "    logqz_x = log_normal_pdf(z, mean, logvar)\n",
        "    kl_divergence = logqz_x - logpz\n",
        "\n",
        "    # Total loss: reconstruction error - KL divergence\n",
        "    loss = tf.reduce_mean(mse_loss - kl_divergence)\n",
        "    return loss\n",
        "\n",
        "@tf.function\n",
        "def train_step(model, x, optimizer):\n",
        "  \"\"\"Executes one training step and returns the loss.\n",
        "\n",
        "  This function computes the loss and gradients, and uses the latter to\n",
        "  update the model's parameters.\n",
        "  \"\"\"\n",
        "  with tf.GradientTape() as tape:\n",
        "    loss = compute_loss(model, x)\n",
        "  gradients = tape.gradient(loss, model.trainable_variables)\n",
        "  optimizer.build(model.trainable_variables)"
      ]
    },
    {
      "cell_type": "code",
      "source": [
        "def generate_and_save_audio(model, epoch, output_dir='drive/MyDrive/generated_audio', subsample_factor=1):\n",
        "    os.makedirs(output_dir, exist_ok=True)\n",
        "\n",
        "    # Compute current sampling rate\n",
        "    base_sampling_rate = 44100  # Example base rate\n",
        "    sampling_rate = base_sampling_rate // subsample_factor\n",
        "\n",
        "    # Generate samples from the latent space\n",
        "    num_samples = 1\n",
        "    latent_samples = tf.random.normal(shape=(num_samples, model.latent_dim))\n",
        "    generated_audio = model.decode(latent_samples)  # Generate audio from latent space\n",
        "\n",
        "    # Convert the generated audio to numpy array\n",
        "    generated_audio_np = generated_audio.numpy()\n",
        "    generated_audio_np = np.clip(generated_audio_np, -1.0, 1.0)\n",
        "\n",
        "    for i, audio in enumerate(generated_audio_np):\n",
        "        file_path = os.path.join(output_dir, f'audio_epoch_{epoch}_sample_{i}.wav')\n",
        "        wav.write(file_path, sampling_rate, (audio * 32767).astype(np.int16))"
      ],
      "metadata": {
        "id": "7WODJKr-5GWo"
      },
      "execution_count": 9,
      "outputs": []
    },
    {
      "cell_type": "code",
      "source": [
        "# set the dimensionality of the latent space to a plane for visualization later\n",
        "latent_dim = 16\n",
        "num_examples_to_generate = 1\n",
        "\n",
        "# keeping the random vector constant for generation (prediction) so\n",
        "# it will be easier to see the improvement.\n",
        "random_vector_for_generation = tf.random.normal(\n",
        "    shape=[num_examples_to_generate, latent_dim])\n",
        "model = PlanarVAE(latent_dim, input_shape_)"
      ],
      "metadata": {
        "id": "cE3M14374DR8"
      },
      "execution_count": 10,
      "outputs": []
    },
    {
      "cell_type": "code",
      "source": [
        "from IPython.display import display, clear_output\n",
        "\n",
        "# Training loop\n",
        "epochs = 25\n",
        "\n",
        "loss_history = []\n",
        "\n",
        "for epoch in range(1, epochs + 1):\n",
        "    start_time = time.time()\n",
        "\n",
        "    # Training\n",
        "    for batch in dataset:\n",
        "        train_step(model, batch, optimizer)\n",
        "\n",
        "    end_time = time.time()\n",
        "\n",
        "    # Compute loss for the dataset\n",
        "    loss_metric = tf.keras.metrics.Mean()\n",
        "    for batch in dataset:\n",
        "        loss_metric(compute_loss(model, batch))\n",
        "    elbo = -loss_metric.result()\n",
        "\n",
        "    # Save the loss value for the current epoch\n",
        "    loss_history.append(elbo.numpy())\n",
        "\n",
        "    # Print status\n",
        "    clear_output(wait=False)  # Clear output for each epoch\n",
        "    print(f'Epoch: {epoch}, Test set ELBO: {elbo:.4f}, Time elapsed for current epoch: {end_time - start_time:.2f} seconds')\n",
        "\n",
        "    # Generate and save audio files\n",
        "    generate_and_save_audio(model, epoch, subsample_factor=subsample_factor)"
      ],
      "metadata": {
        "colab": {
          "base_uri": "https://localhost:8080/"
        },
        "id": "NKlp3MFi5afO",
        "outputId": "c65890d6-2275-4e2f-b957-051dc0810970"
      },
      "execution_count": 11,
      "outputs": [
        {
          "output_type": "stream",
          "name": "stdout",
          "text": [
            "Epoch: 25, Test set ELBO: 0.2924, Time elapsed for current epoch: 0.30 seconds\n"
          ]
        }
      ]
    },
    {
      "cell_type": "code",
      "source": [
        "import matplotlib.pyplot as plt\n",
        "# Plot loss history\n",
        "plt.figure(figsize=(10, 6))\n",
        "plt.plot(range(1, epochs + 1), loss_history, marker='o', linestyle='-', color='b')\n",
        "plt.xlabel('Epoch')\n",
        "plt.ylabel('ELBO')\n",
        "plt.title('Loss History over Epochs')\n",
        "plt.grid(True)\n",
        "plt.show()"
      ],
      "metadata": {
        "colab": {
          "base_uri": "https://localhost:8080/",
          "height": 564
        },
        "id": "O_p331Ba9d5Z",
        "outputId": "8635c5d4-7ead-4d36-a338-425a11ad70b4"
      },
      "execution_count": 12,
      "outputs": [
        {
          "output_type": "display_data",
          "data": {
            "text/plain": [
              "<Figure size 1000x600 with 1 Axes>"
            ],
            "image/png": "[encoded data removed]"
          },
          "metadata": {}
        }
      ]
    },
    {
      "cell_type": "code",
      "execution_count": 13,
      "metadata": {
        "colab": {
          "base_uri": "https://localhost:8080/"
        },
        "id": "TVRsudZFzyZ6",
        "outputId": "f857f4bb-cfbf-427f-f1bc-153d98cc3bb9"
      },
      "outputs": [
        {
          "output_type": "stream",
          "name": "stdout",
          "text": [
            "Model built.\n",
            "Model saved to drive/MyDrive/trained_planar_vae.\n",
            "Model saved to drive/MyDrive/trained_planar_vae.\n"
          ]
        }
      ],
      "source": [
        "# Define input shape\n",
        "input_shape = (None, np.prod(data.shape[1:]))\n",
        "\n",
        "# Build the model\n",
        "model.build(input_shape)\n",
        "print(\"Model built.\")\n",
        "\n",
        "dummy_input = tf.random.normal(shape=(1, np.prod(data.shape[1:])))  # Batch size of 1\n",
        "model(dummy_input)  # This call will build the model\n",
        "\n",
        "# Save the trained model\n",
        "model_save_path = 'drive/MyDrive/trained_planar_vae'\n",
        "model.save(model_save_path)\n",
        "print(f\"Model saved to {model_save_path}.\")"
      ]
    },
    {
      "cell_type": "code",
      "execution_count": 13,
      "metadata": {
        "id": "emI6Avv7zyZ6"
      },
      "outputs": [],
      "source": []
    }
  ],
  "metadata": {
    "kernelspec": {
      "display_name": "Python 3",
      "name": "python3"
    },
    "language_info": {
      "codemirror_mode": {
        "name": "ipython",
        "version": 3
      },
      "file_extension": ".py",
      "mimetype": "text/x-python",
      "name": "python",
      "nbconvert_exporter": "python",
      "pygments_lexer": "ipython3",
      "version": "3.11.4"
    },
    "colab": {
      "provenance": [],
      "gpuType": "T4"
    },
    "accelerator": "GPU"
  },
  "nbformat": 4,
  "nbformat_minor": 0
}