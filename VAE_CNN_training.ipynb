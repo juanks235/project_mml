{
  "cells": [
    {
      "cell_type": "code",
      "execution_count": 1,
      "metadata": {
        "id": "GAeFCrp4PQER"
      },
      "outputs": [],
      "source": [
        "import os\n",
        "import numpy as np\n",
        "import torch\n",
        "import torch.nn as nn\n",
        "import torch.optim as optim\n",
        "from torch.utils.data import Dataset, DataLoader, TensorDataset\n",
        "import torch.nn.functional as F\n",
        "import matplotlib.pyplot as plt\n",
        "from sklearn.preprocessing import MinMaxScaler\n",
        "from tqdm import tqdm\n",
        "from  stft.spectrograms import convert_npy_to_audio\n",
        "from scipy.interpolate import interp2d\n",
        "\n",
        "import logging\n",
        "\n",
        "# Configure logging\n",
        "logging.basicConfig(level=logging.DEBUG)"
      ]
    },
    {
      "cell_type": "code",
      "execution_count": 3,
      "metadata": {
        "id": "v1rtGD4yPIyY"
      },
      "outputs": [],
      "source": [
        "# Function to normalize and preprocess the magnitude and phase\n",
        "def preprocess_spectrograms(magnitude_path):\n",
        "    # Load the magnitude and phase\n",
        "    magnitude = np.load(magnitude_path)\n",
        "    phase = np.load(magnitude_path.replace(\"magnitude\", \"phase\"))\n",
        "\n",
        "    # Original shape\n",
        "    original_shape = magnitude.shape\n",
        "\n",
        "    # Normalize magnitude\n",
        "    scaler = MinMaxScaler()\n",
        "    magnitude = scaler.fit_transform(magnitude.reshape(-1, magnitude.shape[-1])).reshape(magnitude.shape)\n",
        "\n",
        "    # Normalize phase\n",
        "    phase = (phase + np.pi) / (2 * np.pi)  # Normalize to [0, 1]\n",
        "\n",
        "    # Concatenate magnitude and phase into a 2-channel image\n",
        "    spectrogram_image = np.stack([magnitude, phase], axis=0)\n",
        "    return spectrogram_image, scaler, original_shape\n",
        "\n",
        "def denormalize_spectrograms(spectrogram_image, scaler, original_shape):\n",
        "    # Separate magnitude and phase\n",
        "    magnitude = spectrogram_image[0]\n",
        "    phase = spectrogram_image[1]\n",
        "\n",
        "    # Get the original shape\n",
        "    original_height, original_width = original_shape\n",
        "    current_height, current_width = magnitude.shape\n",
        "\n",
        "    # Check if magnitude is 2D or 3D\n",
        "    if magnitude.ndim == 2:\n",
        "        magnitude = np.expand_dims(magnitude, axis=-1)  # Add a dummy channel dimension\n",
        "        phase = np.expand_dims(phase, axis=-1)\n",
        "\n",
        "    # Rescale magnitude and phase to the original dimensions\n",
        "    x = np.arange(current_width)\n",
        "    y = np.arange(current_height)\n",
        "\n",
        "    magnitude_interp = interp2d(x, y, magnitude[:, :, 0], kind='cubic')\n",
        "    phase_interp = interp2d(x, y, phase[:, :, 0], kind='cubic')\n",
        "\n",
        "    new_x = np.linspace(0, current_width - 1, original_width)\n",
        "    new_y = np.linspace(0, current_height - 1, original_height)\n",
        "\n",
        "    magnitude_rescaled = magnitude_interp(new_x, new_y)\n",
        "    phase_rescaled = phase_interp(new_x, new_y)\n",
        "\n",
        "    # Check if the scaler's shape matches the magnitude data\n",
        "    if magnitude_rescaled.shape[-1] != scaler.data_max_.shape[0]:\n",
        "        raise ValueError(\"Scaler shape mismatch with magnitude data\")\n",
        "\n",
        "    # Reshape magnitude to 2D for scaling\n",
        "    magnitude_rescaled_reshaped = magnitude_rescaled.reshape(-1, magnitude_rescaled.shape[-1])\n",
        "\n",
        "    # Denormalize magnitude\n",
        "    magnitude_denorm = scaler.inverse_transform(magnitude_rescaled_reshaped).reshape(original_height, original_width, -1)\n",
        "\n",
        "    # Denormalize phase\n",
        "    phase_denorm = phase_rescaled * 2 * np.pi - np.pi\n",
        "\n",
        "    # If phase is 2D, add a channel dimension for consistency\n",
        "    if phase_denorm.ndim == 2:\n",
        "        phase_denorm = np.expand_dims(phase_denorm, axis=-1)\n",
        "        \n",
        "    # Squeeze la tercera dimensión si es de tamaño 1\n",
        "    magnitude_denorm = np.squeeze(magnitude_denorm, axis=-1) if magnitude_denorm.shape[-1] == 1 else magnitude_denorm\n",
        "    phase_denorm = np.squeeze(phase_denorm, axis=-1) if phase_denorm.shape[-1] == 1 else phase_denorm\n",
        "\n",
        "    return magnitude_denorm, phase_denorm\n",
        "\n",
        "class ConvVAE(nn.Module):\n",
        "    def __init__(self, in_channels, latent_dim, img_height, img_width, device, debug=False):\n",
        "        super(ConvVAE, self).__init__()\n",
        "        self.latent_dim = latent_dim\n",
        "        self.img_height = img_height\n",
        "        self.img_width = img_width\n",
        "        self.device = device\n",
        "        self.debug = debug\n",
        "\n",
        "        # Encoder\n",
        "        self.conv1 = nn.Conv2d(in_channels, 32, kernel_size=(4, 8), stride=(2, 4), padding=1)  # Output: (32, img_height//2, img_width//4)\n",
        "        self.conv2 = nn.Conv2d(32, 64, kernel_size=(4, 8), stride=(2, 4), padding=1)          # Output: (64, img_height//4, img_width//16)\n",
        "        self.conv3 = nn.Conv2d(64, 128, kernel_size=(4, 8), stride=(2, 4), padding=1)         # Output: (128, img_height//8, img_width//64)\n",
        "\n",
        "        # Compute the size of the flattened layer\n",
        "        flattened_size = 128 * (img_height // 8) * (img_width // 64)\n",
        "        self.fc_mean = nn.Linear(flattened_size, latent_dim)\n",
        "        self.fc_log_var = nn.Linear(flattened_size, latent_dim)\n",
        "\n",
        "        # Decoder\n",
        "        self.fc_decode = nn.Linear(latent_dim, flattened_size)\n",
        "        self.deconv1 = nn.ConvTranspose2d(128, 64, kernel_size=(4, 8), stride=(2, 4), padding=1)  # Output: (64, img_height//4, img_width//16)\n",
        "        self.deconv2 = nn.ConvTranspose2d(64, 32, kernel_size=(4, 8), stride=(2, 4), padding=1)   # Output: (32, img_height//2, img_width//4)\n",
        "        self.deconv3 = nn.ConvTranspose2d(32, in_channels, kernel_size=(4, 8), stride=(2, 4), padding=1)  # Output: (in_channels, img_height, img_width)\n",
        "\n",
        "    def encode(self, x):\n",
        "        logging.debug(f\"Input shape to encoder: {x.shape}\") if self.debug else None\n",
        "        e = F.relu(self.conv1(x))\n",
        "        logging.debug(f\"Shape after conv1: {e.shape}\") if self.debug else None\n",
        "        e = F.relu(self.conv2(e))\n",
        "        logging.debug(f\"Shape after conv2: {e.shape}\") if self.debug else None\n",
        "        e = F.relu(self.conv3(e))\n",
        "        logging.debug(f\"Shape after conv3: {e.shape}\") if self.debug else None\n",
        "        e = e.view(e.size(0), -1)\n",
        "        logging.debug(f\"Shape after flattening: {e.shape}\") if self.debug else None\n",
        "        z_mean = self.fc_mean(e)\n",
        "        z_log_var = self.fc_log_var(e)\n",
        "        logging.debug(f\"Shape of z_mean: {z_mean.shape}\") if self.debug else None\n",
        "        logging.debug(f\"Shape of z_log_var: {z_log_var.shape}\") if self.debug else None\n",
        "        return z_mean, z_log_var\n",
        "\n",
        "    def reparameterize(self, mean, log_var):\n",
        "        epsilon = torch.randn_like(mean)\n",
        "        return mean + torch.exp(0.5 * log_var) * epsilon\n",
        "\n",
        "    def decode(self, z):\n",
        "        logging.debug(f\"Input shape to decoder: {z.shape}\") if self.debug else None\n",
        "        d = self.fc_decode(z)\n",
        "        logging.debug(f\"Shape after fc_decode: {d.shape}\") if self.debug else None\n",
        "        d = d.view(d.size(0), 128, self.img_height // 8, self.img_width // 64)  # Reshape\n",
        "        logging.debug(f\"Shape after reshape: {d.shape}\") if self.debug else None\n",
        "        d = F.relu(self.deconv1(d))\n",
        "        logging.debug(f\"Shape after deconv1: {d.shape}\") if self.debug else None\n",
        "        d = F.relu(self.deconv2(d))\n",
        "        logging.debug(f\"Shape after deconv2: {d.shape}\") if self.debug else None\n",
        "        outputs = torch.sigmoid(self.deconv3(d))\n",
        "        logging.debug(f\"Shape after deconv3: {outputs.shape}\") if self.debug else None\n",
        "        return outputs\n",
        "\n",
        "    def forward(self, x):\n",
        "        z_mean, z_log_var = self.encode(x)\n",
        "        z = self.reparameterize(z_mean, z_log_var)\n",
        "        x_reconstructed = self.decode(z)\n",
        "        return x_reconstructed, z_mean, z_log_var\n",
        "\n",
        "    def compute_loss(self, x, x_reconstructed, z_mean, z_log_var):\n",
        "        # Debugging logs\n",
        "        logging.debug(f\"Shape of input: {x.shape}\") if self.debug else None\n",
        "        logging.debug(f\"Shape of reconstructed: {x_reconstructed.shape}\") if self.debug else None\n",
        "        logging.debug(f\"x min: {x.min().item()}, x max: {x.max().item()}\") if self.debug else None\n",
        "        logging.debug(f\"x_reconstructed min: {x_reconstructed.min().item()}, x_reconstructed max: {x_reconstructed.max().item()}\") if self.debug else None\n",
        "        # Compute the reconstruction loss using MSE\n",
        "        reconstruction_loss = F.mse_loss(x_reconstructed, x, reduction='sum')\n",
        "        kl_loss = -0.5 * torch.mean(z_log_var - torch.square(z_mean) - torch.exp(z_log_var) + 1)\n",
        "        total_loss = reconstruction_loss + kl_loss\n",
        "        # More debugging logs\n",
        "        logging.debug(f\"Reconstruction loss: {reconstruction_loss.item()}\") if self.debug else None\n",
        "        logging.debug(f\"KL loss: {kl_loss.item()}\") if self.debug else None\n",
        "        logging.debug(f\"Total loss: {total_loss.item()}\") if self.debug else None\n",
        "        return total_loss\n",
        "\n",
        "    def training_step(self, x):\n",
        "        self.optimizer.zero_grad()\n",
        "        x_reconstructed, z_mean, z_log_var = self(x)\n",
        "        loss = self.compute_loss(x, x_reconstructed, z_mean, z_log_var)\n",
        "        loss.backward()\n",
        "        self.optimizer.step()\n",
        "        return loss.item()\n",
        "\n",
        "    def generate_images(self, num_samples):\n",
        "        with torch.no_grad():\n",
        "            z = torch.randn(num_samples, self.latent_dim).to(self.device)\n",
        "            return self.decode(z).cpu().numpy()\n",
        "\n",
        "    def plot_images(self, training_images, generated_images, scaler, original_shape):\n",
        "        num_images = min(5, training_images.shape[0], generated_images.shape[0])\n",
        "        fig, axs = plt.subplots(2, num_images, figsize=(15, 6))\n",
        "\n",
        "        for i in range(num_images):\n",
        "            train_mag, train_phase = denormalize_spectrograms(training_images[i], scaler, original_shape)\n",
        "            gen_mag, gen_phase = denormalize_spectrograms(generated_images[i], scaler, original_shape)\n",
        "\n",
        "            train_combined = np.concatenate([train_mag, train_phase], axis=-1)\n",
        "            gen_combined = np.concatenate([gen_mag, gen_phase], axis=-1)\n",
        "\n",
        "            axs[0, i].imshow(train_combined, aspect='auto', cmap='viridis')\n",
        "            axs[0, i].set_title('Training Image')\n",
        "            axs[0, i].axis('off')\n",
        "\n",
        "            axs[1, i].imshow(gen_combined, aspect='auto', cmap='viridis')\n",
        "            axs[1, i].set_title('Generated Image')\n",
        "            axs[1, i].axis('off')\n",
        "\n",
        "        plt.suptitle('Training vs Generated Images')\n",
        "        plt.savefig('cnn_vae/generated_images.png')\n",
        "        plt.close()\n"
      ]
    },
    {
      "cell_type": "code",
      "execution_count": 4,
      "metadata": {
        "id": "aA3kz93kaTbT"
      },
      "outputs": [],
      "source": [
        "def get_image_paths(clean_data_dir):\n",
        "    image_paths = []\n",
        "    for filename in os.listdir(clean_data_dir):\n",
        "        if filename.endswith('_magnitude.npy'):\n",
        "            ex = filename.split('_')[0]\n",
        "            magnitude_path = os.path.join(clean_data_dir, filename)\n",
        "            phase_path = os.path.join(clean_data_dir, f'{ex}_phase.npy')\n",
        "            if os.path.exists(phase_path):\n",
        "                image_paths.append((magnitude_path, phase_path))\n",
        "    return image_paths\n",
        "\n",
        "class SpectrogramDataset(Dataset):\n",
        "    def __init__(self, image_paths, subsample_factor=2):\n",
        "        self.image_paths = image_paths\n",
        "        self.subsample_factor = subsample_factor\n",
        "        \n",
        "        # Fit the scaler on the magnitude of the first item\n",
        "        first_magnitude_path, _ = self.image_paths[0]\n",
        "        first_magnitude = np.load(first_magnitude_path)\n",
        "        self.scaler = MinMaxScaler().fit(first_magnitude.reshape(-1, first_magnitude.shape[-1]))\n",
        "\n",
        "        # # Store the shape for later use\n",
        "        self.original_shape = (first_magnitude.shape[0], first_magnitude.shape[1])\n",
        "\n",
        "    def __len__(self):\n",
        "        return len(self.image_paths)\n",
        "\n",
        "    def __getitem__(self, idx):\n",
        "        magnitude_path, phase_path = self.image_paths[idx]\n",
        "        spectrogram_image, _, _ = preprocess_spectrograms(magnitude_path)\n",
        "\n",
        "        # Subsample the spectrogram image\n",
        "        spectrogram_image_subsampled = spectrogram_image[:, :, ::self.subsample_factor]\n",
        "        spectrogram_image_cropped = spectrogram_image_subsampled[:, :-1, :-self.subsample_factor-1]\n",
        "\n",
        "        return torch.tensor(spectrogram_image_cropped, dtype=torch.float32)"
      ]
    },
    {
      "cell_type": "markdown",
      "metadata": {},
      "source": [
        "Se subsamplea la imagen original (únicamente en el eje horizontal) con el fin the disminuir dimensionalidad, después se reconstruira esta parte usando una interpolación."
      ]
    },
    {
      "cell_type": "code",
      "execution_count": 5,
      "metadata": {
        "id": "01yqo2jeVToK"
      },
      "outputs": [
        {
          "name": "stdout",
          "output_type": "stream",
          "text": [
            "device: cuda\n"
          ]
        }
      ],
      "source": [
        "clean_data_dir = 'spectrogram_npy' #drive/MyDrive/spectrogram_npy'\n",
        "batch_size = 64\n",
        "latent_dim = 32\n",
        "epochs = 100\n",
        "device = torch.device('cuda' if torch.cuda.is_available() else 'cpu')\n",
        "print(f\"device: {device}\")"
      ]
    },
    {
      "cell_type": "code",
      "execution_count": 6,
      "metadata": {
        "id": "v5dQDubta0WV"
      },
      "outputs": [],
      "source": [
        "subsample_factor = 2\n",
        "#  Get all image paths\n",
        "image_paths = get_image_paths(clean_data_dir)\n",
        "dataset = SpectrogramDataset(image_paths, subsample_factor=subsample_factor)\n",
        "dataloader = DataLoader(dataset, batch_size=batch_size, shuffle=True)"
      ]
    },
    {
      "cell_type": "code",
      "execution_count": 7,
      "metadata": {
        "id": "ANtHzzFAVRfF"
      },
      "outputs": [],
      "source": [
        "# Image dimensions\n",
        "img_height = 128\n",
        "img_width = 10328//subsample_factor\n",
        "\n",
        "# Create the model instance\n",
        "vae = ConvVAE(in_channels=2, latent_dim=latent_dim, img_height=img_height, img_width=img_width, device=device, debug=False).to(device)\n",
        "vae.optimizer = optim.Adam(vae.parameters(), lr=1e-4)"
      ]
    },
    {
      "cell_type": "code",
      "execution_count": 8,
      "metadata": {
        "colab": {
          "base_uri": "https://localhost:8080/"
        },
        "id": "smJFDIL_R9gM",
        "outputId": "f7356845-e8a3-4391-a94c-d70497bae908"
      },
      "outputs": [
        {
          "name": "stdout",
          "output_type": "stream",
          "text": [
            "epoch 1\n"
          ]
        },
        {
          "name": "stderr",
          "output_type": "stream",
          "text": [
            "100%|██████████| 11/11 [00:15<00:00,  1.45s/it]\n"
          ]
        },
        {
          "name": "stdout",
          "output_type": "stream",
          "text": [
            "Epoch 0, Loss: 12384765.727272727\n",
            "epoch 2\n"
          ]
        },
        {
          "name": "stderr",
          "output_type": "stream",
          "text": [
            "100%|██████████| 11/11 [00:15<00:00,  1.44s/it]\n"
          ]
        },
        {
          "name": "stdout",
          "output_type": "stream",
          "text": [
            "Epoch 1, Loss: 10266858.454545455\n",
            "epoch 3\n"
          ]
        },
        {
          "name": "stderr",
          "output_type": "stream",
          "text": [
            "100%|██████████| 11/11 [00:16<00:00,  1.52s/it]\n"
          ]
        },
        {
          "name": "stdout",
          "output_type": "stream",
          "text": [
            "Epoch 2, Loss: 7753004.045454546\n",
            "epoch 4\n"
          ]
        },
        {
          "name": "stderr",
          "output_type": "stream",
          "text": [
            "100%|██████████| 11/11 [00:16<00:00,  1.51s/it]\n"
          ]
        },
        {
          "name": "stdout",
          "output_type": "stream",
          "text": [
            "Epoch 3, Loss: 5989357.545454546\n",
            "epoch 5\n"
          ]
        },
        {
          "name": "stderr",
          "output_type": "stream",
          "text": [
            "100%|██████████| 11/11 [00:15<00:00,  1.37s/it]\n"
          ]
        },
        {
          "name": "stdout",
          "output_type": "stream",
          "text": [
            "Epoch 4, Loss: 4989014.818181818\n",
            "epoch 6\n"
          ]
        },
        {
          "name": "stderr",
          "output_type": "stream",
          "text": [
            "100%|██████████| 11/11 [00:15<00:00,  1.38s/it]\n"
          ]
        },
        {
          "name": "stdout",
          "output_type": "stream",
          "text": [
            "Epoch 5, Loss: 4461197.9772727275\n",
            "epoch 7\n"
          ]
        },
        {
          "name": "stderr",
          "output_type": "stream",
          "text": [
            "100%|██████████| 11/11 [00:14<00:00,  1.35s/it]\n"
          ]
        },
        {
          "name": "stdout",
          "output_type": "stream",
          "text": [
            "Epoch 6, Loss: 4224992.5\n",
            "epoch 8\n"
          ]
        },
        {
          "name": "stderr",
          "output_type": "stream",
          "text": [
            "100%|██████████| 11/11 [00:14<00:00,  1.35s/it]\n"
          ]
        },
        {
          "name": "stdout",
          "output_type": "stream",
          "text": [
            "Epoch 7, Loss: 4103906.0454545454\n",
            "epoch 9\n"
          ]
        },
        {
          "name": "stderr",
          "output_type": "stream",
          "text": [
            "100%|██████████| 11/11 [00:14<00:00,  1.33s/it]\n"
          ]
        },
        {
          "name": "stdout",
          "output_type": "stream",
          "text": [
            "Epoch 8, Loss: 4041791.840909091\n",
            "epoch 10\n"
          ]
        },
        {
          "name": "stderr",
          "output_type": "stream",
          "text": [
            "100%|██████████| 11/11 [00:15<00:00,  1.38s/it]\n"
          ]
        },
        {
          "name": "stdout",
          "output_type": "stream",
          "text": [
            "Epoch 9, Loss: 4003557.3636363638\n",
            "epoch 11\n"
          ]
        },
        {
          "name": "stderr",
          "output_type": "stream",
          "text": [
            "100%|██████████| 11/11 [00:14<00:00,  1.29s/it]\n"
          ]
        },
        {
          "name": "stdout",
          "output_type": "stream",
          "text": [
            "Epoch 10, Loss: 3978384.0454545454\n",
            "epoch 12\n"
          ]
        },
        {
          "name": "stderr",
          "output_type": "stream",
          "text": [
            "100%|██████████| 11/11 [00:14<00:00,  1.27s/it]\n"
          ]
        },
        {
          "name": "stdout",
          "output_type": "stream",
          "text": [
            "Epoch 11, Loss: 3959497.0454545454\n",
            "epoch 13\n"
          ]
        },
        {
          "name": "stderr",
          "output_type": "stream",
          "text": [
            "100%|██████████| 11/11 [00:14<00:00,  1.34s/it]\n"
          ]
        },
        {
          "name": "stdout",
          "output_type": "stream",
          "text": [
            "Epoch 12, Loss: 3944723.6363636362\n",
            "epoch 14\n"
          ]
        },
        {
          "name": "stderr",
          "output_type": "stream",
          "text": [
            "100%|██████████| 11/11 [00:14<00:00,  1.32s/it]\n"
          ]
        },
        {
          "name": "stdout",
          "output_type": "stream",
          "text": [
            "Epoch 13, Loss: 3932326.909090909\n",
            "epoch 15\n"
          ]
        },
        {
          "name": "stderr",
          "output_type": "stream",
          "text": [
            "100%|██████████| 11/11 [00:13<00:00,  1.26s/it]\n"
          ]
        },
        {
          "name": "stdout",
          "output_type": "stream",
          "text": [
            "Epoch 14, Loss: 3921376.0454545454\n",
            "epoch 16\n"
          ]
        },
        {
          "name": "stderr",
          "output_type": "stream",
          "text": [
            "100%|██████████| 11/11 [00:14<00:00,  1.31s/it]\n"
          ]
        },
        {
          "name": "stdout",
          "output_type": "stream",
          "text": [
            "Epoch 15, Loss: 3911301.6363636362\n",
            "epoch 17\n"
          ]
        },
        {
          "name": "stderr",
          "output_type": "stream",
          "text": [
            "100%|██████████| 11/11 [00:13<00:00,  1.24s/it]\n"
          ]
        },
        {
          "name": "stdout",
          "output_type": "stream",
          "text": [
            "Epoch 16, Loss: 3902666.4545454546\n",
            "epoch 18\n"
          ]
        },
        {
          "name": "stderr",
          "output_type": "stream",
          "text": [
            "100%|██████████| 11/11 [00:13<00:00,  1.27s/it]\n"
          ]
        },
        {
          "name": "stdout",
          "output_type": "stream",
          "text": [
            "Epoch 17, Loss: 3894544.159090909\n",
            "epoch 19\n"
          ]
        },
        {
          "name": "stderr",
          "output_type": "stream",
          "text": [
            "100%|██████████| 11/11 [00:13<00:00,  1.25s/it]\n"
          ]
        },
        {
          "name": "stdout",
          "output_type": "stream",
          "text": [
            "Epoch 18, Loss: 3888059.022727273\n",
            "epoch 20\n"
          ]
        },
        {
          "name": "stderr",
          "output_type": "stream",
          "text": [
            "100%|██████████| 11/11 [00:14<00:00,  1.31s/it]\n"
          ]
        },
        {
          "name": "stdout",
          "output_type": "stream",
          "text": [
            "Epoch 19, Loss: 3882662.8863636362\n",
            "epoch 21\n"
          ]
        },
        {
          "name": "stderr",
          "output_type": "stream",
          "text": [
            "100%|██████████| 11/11 [00:14<00:00,  1.28s/it]\n"
          ]
        },
        {
          "name": "stdout",
          "output_type": "stream",
          "text": [
            "Epoch 20, Loss: 3878243.7045454546\n",
            "epoch 22\n"
          ]
        },
        {
          "name": "stderr",
          "output_type": "stream",
          "text": [
            "100%|██████████| 11/11 [00:14<00:00,  1.36s/it]\n"
          ]
        },
        {
          "name": "stdout",
          "output_type": "stream",
          "text": [
            "Epoch 21, Loss: 3873821.75\n",
            "epoch 23\n"
          ]
        },
        {
          "name": "stderr",
          "output_type": "stream",
          "text": [
            "100%|██████████| 11/11 [00:14<00:00,  1.34s/it]\n"
          ]
        },
        {
          "name": "stdout",
          "output_type": "stream",
          "text": [
            "Epoch 22, Loss: 3870093.5681818184\n",
            "epoch 24\n"
          ]
        },
        {
          "name": "stderr",
          "output_type": "stream",
          "text": [
            "100%|██████████| 11/11 [00:14<00:00,  1.29s/it]\n"
          ]
        },
        {
          "name": "stdout",
          "output_type": "stream",
          "text": [
            "Epoch 23, Loss: 3866348.0681818184\n",
            "epoch 25\n"
          ]
        },
        {
          "name": "stderr",
          "output_type": "stream",
          "text": [
            "100%|██████████| 11/11 [00:14<00:00,  1.35s/it]\n"
          ]
        },
        {
          "name": "stdout",
          "output_type": "stream",
          "text": [
            "Epoch 24, Loss: 3863084.727272727\n",
            "epoch 26\n"
          ]
        },
        {
          "name": "stderr",
          "output_type": "stream",
          "text": [
            "100%|██████████| 11/11 [00:14<00:00,  1.31s/it]\n"
          ]
        },
        {
          "name": "stdout",
          "output_type": "stream",
          "text": [
            "Epoch 25, Loss: 3860053.8636363638\n",
            "epoch 27\n"
          ]
        },
        {
          "name": "stderr",
          "output_type": "stream",
          "text": [
            "100%|██████████| 11/11 [00:14<00:00,  1.34s/it]\n"
          ]
        },
        {
          "name": "stdout",
          "output_type": "stream",
          "text": [
            "Epoch 26, Loss: 3857330.3181818184\n",
            "epoch 28\n"
          ]
        },
        {
          "name": "stderr",
          "output_type": "stream",
          "text": [
            "100%|██████████| 11/11 [00:14<00:00,  1.31s/it]\n"
          ]
        },
        {
          "name": "stdout",
          "output_type": "stream",
          "text": [
            "Epoch 27, Loss: 3854793.4545454546\n",
            "epoch 29\n"
          ]
        },
        {
          "name": "stderr",
          "output_type": "stream",
          "text": [
            "100%|██████████| 11/11 [00:14<00:00,  1.30s/it]\n"
          ]
        },
        {
          "name": "stdout",
          "output_type": "stream",
          "text": [
            "Epoch 28, Loss: 3852393.022727273\n",
            "epoch 30\n"
          ]
        },
        {
          "name": "stderr",
          "output_type": "stream",
          "text": [
            "100%|██████████| 11/11 [00:14<00:00,  1.29s/it]\n"
          ]
        },
        {
          "name": "stdout",
          "output_type": "stream",
          "text": [
            "Epoch 29, Loss: 3850360.4545454546\n",
            "epoch 31\n"
          ]
        },
        {
          "name": "stderr",
          "output_type": "stream",
          "text": [
            "100%|██████████| 11/11 [00:14<00:00,  1.30s/it]\n"
          ]
        },
        {
          "name": "stdout",
          "output_type": "stream",
          "text": [
            "Epoch 30, Loss: 3848155.159090909\n",
            "epoch 32\n"
          ]
        },
        {
          "name": "stderr",
          "output_type": "stream",
          "text": [
            "100%|██████████| 11/11 [00:14<00:00,  1.30s/it]\n"
          ]
        },
        {
          "name": "stdout",
          "output_type": "stream",
          "text": [
            "Epoch 31, Loss: 3845872.590909091\n",
            "epoch 33\n"
          ]
        },
        {
          "name": "stderr",
          "output_type": "stream",
          "text": [
            "100%|██████████| 11/11 [00:14<00:00,  1.31s/it]\n"
          ]
        },
        {
          "name": "stdout",
          "output_type": "stream",
          "text": [
            "Epoch 32, Loss: 3844128.2954545454\n",
            "epoch 34\n"
          ]
        },
        {
          "name": "stderr",
          "output_type": "stream",
          "text": [
            "100%|██████████| 11/11 [00:15<00:00,  1.38s/it]\n"
          ]
        },
        {
          "name": "stdout",
          "output_type": "stream",
          "text": [
            "Epoch 33, Loss: 3841947.090909091\n",
            "epoch 35\n"
          ]
        },
        {
          "name": "stderr",
          "output_type": "stream",
          "text": [
            "100%|██████████| 11/11 [00:15<00:00,  1.39s/it]\n"
          ]
        },
        {
          "name": "stdout",
          "output_type": "stream",
          "text": [
            "Epoch 34, Loss: 3839990.7954545454\n",
            "epoch 36\n"
          ]
        },
        {
          "name": "stderr",
          "output_type": "stream",
          "text": [
            "100%|██████████| 11/11 [00:14<00:00,  1.28s/it]\n"
          ]
        },
        {
          "name": "stdout",
          "output_type": "stream",
          "text": [
            "Epoch 35, Loss: 3838144.7045454546\n",
            "epoch 37\n"
          ]
        },
        {
          "name": "stderr",
          "output_type": "stream",
          "text": [
            "100%|██████████| 11/11 [00:14<00:00,  1.31s/it]\n"
          ]
        },
        {
          "name": "stdout",
          "output_type": "stream",
          "text": [
            "Epoch 36, Loss: 3836295.409090909\n",
            "epoch 38\n"
          ]
        },
        {
          "name": "stderr",
          "output_type": "stream",
          "text": [
            "100%|██████████| 11/11 [00:14<00:00,  1.29s/it]\n"
          ]
        },
        {
          "name": "stdout",
          "output_type": "stream",
          "text": [
            "Epoch 37, Loss: 3834531.0681818184\n",
            "epoch 39\n"
          ]
        },
        {
          "name": "stderr",
          "output_type": "stream",
          "text": [
            "100%|██████████| 11/11 [00:14<00:00,  1.30s/it]\n"
          ]
        },
        {
          "name": "stdout",
          "output_type": "stream",
          "text": [
            "Epoch 38, Loss: 3832573.590909091\n",
            "epoch 40\n"
          ]
        },
        {
          "name": "stderr",
          "output_type": "stream",
          "text": [
            "100%|██████████| 11/11 [00:14<00:00,  1.29s/it]\n"
          ]
        },
        {
          "name": "stdout",
          "output_type": "stream",
          "text": [
            "Epoch 39, Loss: 3830475.5681818184\n",
            "epoch 41\n"
          ]
        },
        {
          "name": "stderr",
          "output_type": "stream",
          "text": [
            "100%|██████████| 11/11 [00:14<00:00,  1.36s/it]\n"
          ]
        },
        {
          "name": "stdout",
          "output_type": "stream",
          "text": [
            "Epoch 40, Loss: 3828083.8863636362\n",
            "epoch 42\n"
          ]
        },
        {
          "name": "stderr",
          "output_type": "stream",
          "text": [
            "100%|██████████| 11/11 [00:15<00:00,  1.37s/it]\n"
          ]
        },
        {
          "name": "stdout",
          "output_type": "stream",
          "text": [
            "Epoch 41, Loss: 3826022.022727273\n",
            "epoch 43\n"
          ]
        },
        {
          "name": "stderr",
          "output_type": "stream",
          "text": [
            "100%|██████████| 11/11 [00:14<00:00,  1.34s/it]\n"
          ]
        },
        {
          "name": "stdout",
          "output_type": "stream",
          "text": [
            "Epoch 42, Loss: 3824486.6818181816\n",
            "epoch 44\n"
          ]
        },
        {
          "name": "stderr",
          "output_type": "stream",
          "text": [
            "100%|██████████| 11/11 [00:14<00:00,  1.33s/it]\n"
          ]
        },
        {
          "name": "stdout",
          "output_type": "stream",
          "text": [
            "Epoch 43, Loss: 3824072.977272727\n",
            "epoch 45\n"
          ]
        },
        {
          "name": "stderr",
          "output_type": "stream",
          "text": [
            "100%|██████████| 11/11 [00:14<00:00,  1.34s/it]\n"
          ]
        },
        {
          "name": "stdout",
          "output_type": "stream",
          "text": [
            "Epoch 44, Loss: 3822459.7954545454\n",
            "epoch 46\n"
          ]
        },
        {
          "name": "stderr",
          "output_type": "stream",
          "text": [
            "100%|██████████| 11/11 [00:14<00:00,  1.33s/it]\n"
          ]
        },
        {
          "name": "stdout",
          "output_type": "stream",
          "text": [
            "Epoch 45, Loss: 3820503.772727273\n",
            "epoch 47\n"
          ]
        },
        {
          "name": "stderr",
          "output_type": "stream",
          "text": [
            "100%|██████████| 11/11 [00:14<00:00,  1.31s/it]\n"
          ]
        },
        {
          "name": "stdout",
          "output_type": "stream",
          "text": [
            "Epoch 46, Loss: 3819129.8636363638\n",
            "epoch 48\n"
          ]
        },
        {
          "name": "stderr",
          "output_type": "stream",
          "text": [
            "100%|██████████| 11/11 [00:14<00:00,  1.28s/it]\n"
          ]
        },
        {
          "name": "stdout",
          "output_type": "stream",
          "text": [
            "Epoch 47, Loss: 3817915.4318181816\n",
            "epoch 49\n"
          ]
        },
        {
          "name": "stderr",
          "output_type": "stream",
          "text": [
            "100%|██████████| 11/11 [00:14<00:00,  1.28s/it]\n"
          ]
        },
        {
          "name": "stdout",
          "output_type": "stream",
          "text": [
            "Epoch 48, Loss: 3816831.727272727\n",
            "epoch 50\n"
          ]
        },
        {
          "name": "stderr",
          "output_type": "stream",
          "text": [
            "100%|██████████| 11/11 [00:14<00:00,  1.33s/it]\n"
          ]
        },
        {
          "name": "stdout",
          "output_type": "stream",
          "text": [
            "Epoch 49, Loss: 3815695.272727273\n",
            "epoch 51\n"
          ]
        },
        {
          "name": "stderr",
          "output_type": "stream",
          "text": [
            "100%|██████████| 11/11 [00:14<00:00,  1.32s/it]\n"
          ]
        },
        {
          "name": "stdout",
          "output_type": "stream",
          "text": [
            "Epoch 50, Loss: 3814671.022727273\n",
            "epoch 52\n"
          ]
        },
        {
          "name": "stderr",
          "output_type": "stream",
          "text": [
            "100%|██████████| 11/11 [00:14<00:00,  1.33s/it]\n"
          ]
        },
        {
          "name": "stdout",
          "output_type": "stream",
          "text": [
            "Epoch 51, Loss: 3813678.772727273\n",
            "epoch 53\n"
          ]
        },
        {
          "name": "stderr",
          "output_type": "stream",
          "text": [
            "100%|██████████| 11/11 [00:14<00:00,  1.31s/it]\n"
          ]
        },
        {
          "name": "stdout",
          "output_type": "stream",
          "text": [
            "Epoch 52, Loss: 3812874.022727273\n",
            "epoch 54\n"
          ]
        },
        {
          "name": "stderr",
          "output_type": "stream",
          "text": [
            "100%|██████████| 11/11 [00:14<00:00,  1.30s/it]\n"
          ]
        },
        {
          "name": "stdout",
          "output_type": "stream",
          "text": [
            "Epoch 53, Loss: 3811893.659090909\n",
            "epoch 55\n"
          ]
        },
        {
          "name": "stderr",
          "output_type": "stream",
          "text": [
            "100%|██████████| 11/11 [00:14<00:00,  1.29s/it]\n"
          ]
        },
        {
          "name": "stdout",
          "output_type": "stream",
          "text": [
            "Epoch 54, Loss: 3811179.3181818184\n",
            "epoch 56\n"
          ]
        },
        {
          "name": "stderr",
          "output_type": "stream",
          "text": [
            "100%|██████████| 11/11 [00:14<00:00,  1.30s/it]\n"
          ]
        },
        {
          "name": "stdout",
          "output_type": "stream",
          "text": [
            "Epoch 55, Loss: 3809823.8181818184\n",
            "epoch 57\n"
          ]
        },
        {
          "name": "stderr",
          "output_type": "stream",
          "text": [
            "100%|██████████| 11/11 [00:14<00:00,  1.28s/it]\n"
          ]
        },
        {
          "name": "stdout",
          "output_type": "stream",
          "text": [
            "Epoch 56, Loss: 3808721.1136363638\n",
            "epoch 58\n"
          ]
        },
        {
          "name": "stderr",
          "output_type": "stream",
          "text": [
            "100%|██████████| 11/11 [00:14<00:00,  1.28s/it]\n"
          ]
        },
        {
          "name": "stdout",
          "output_type": "stream",
          "text": [
            "Epoch 57, Loss: 3807746.4318181816\n",
            "epoch 59\n"
          ]
        },
        {
          "name": "stderr",
          "output_type": "stream",
          "text": [
            "100%|██████████| 11/11 [00:16<00:00,  1.47s/it]\n"
          ]
        },
        {
          "name": "stdout",
          "output_type": "stream",
          "text": [
            "Epoch 58, Loss: 3806710.9545454546\n",
            "epoch 60\n"
          ]
        },
        {
          "name": "stderr",
          "output_type": "stream",
          "text": [
            "100%|██████████| 11/11 [00:14<00:00,  1.30s/it]\n"
          ]
        },
        {
          "name": "stdout",
          "output_type": "stream",
          "text": [
            "Epoch 59, Loss: 3805749.022727273\n",
            "epoch 61\n"
          ]
        },
        {
          "name": "stderr",
          "output_type": "stream",
          "text": [
            "100%|██████████| 11/11 [00:14<00:00,  1.30s/it]\n"
          ]
        },
        {
          "name": "stdout",
          "output_type": "stream",
          "text": [
            "Epoch 60, Loss: 3804762.3863636362\n",
            "epoch 62\n"
          ]
        },
        {
          "name": "stderr",
          "output_type": "stream",
          "text": [
            "100%|██████████| 11/11 [00:14<00:00,  1.31s/it]\n"
          ]
        },
        {
          "name": "stdout",
          "output_type": "stream",
          "text": [
            "Epoch 61, Loss: 3803753.159090909\n",
            "epoch 63\n"
          ]
        },
        {
          "name": "stderr",
          "output_type": "stream",
          "text": [
            "100%|██████████| 11/11 [00:14<00:00,  1.29s/it]\n"
          ]
        },
        {
          "name": "stdout",
          "output_type": "stream",
          "text": [
            "Epoch 62, Loss: 3802739.022727273\n",
            "epoch 64\n"
          ]
        },
        {
          "name": "stderr",
          "output_type": "stream",
          "text": [
            "100%|██████████| 11/11 [00:14<00:00,  1.34s/it]\n"
          ]
        },
        {
          "name": "stdout",
          "output_type": "stream",
          "text": [
            "Epoch 63, Loss: 3801632.5\n",
            "epoch 65\n"
          ]
        },
        {
          "name": "stderr",
          "output_type": "stream",
          "text": [
            "100%|██████████| 11/11 [00:14<00:00,  1.30s/it]\n"
          ]
        },
        {
          "name": "stdout",
          "output_type": "stream",
          "text": [
            "Epoch 64, Loss: 3800626.4545454546\n",
            "epoch 66\n"
          ]
        },
        {
          "name": "stderr",
          "output_type": "stream",
          "text": [
            "100%|██████████| 11/11 [00:14<00:00,  1.29s/it]\n"
          ]
        },
        {
          "name": "stdout",
          "output_type": "stream",
          "text": [
            "Epoch 65, Loss: 3799458.727272727\n",
            "epoch 67\n"
          ]
        },
        {
          "name": "stderr",
          "output_type": "stream",
          "text": [
            "100%|██████████| 11/11 [00:14<00:00,  1.31s/it]\n"
          ]
        },
        {
          "name": "stdout",
          "output_type": "stream",
          "text": [
            "Epoch 66, Loss: 3798539.5\n",
            "epoch 68\n"
          ]
        },
        {
          "name": "stderr",
          "output_type": "stream",
          "text": [
            "100%|██████████| 11/11 [00:14<00:00,  1.33s/it]\n"
          ]
        },
        {
          "name": "stdout",
          "output_type": "stream",
          "text": [
            "Epoch 67, Loss: 3798368.522727273\n",
            "epoch 69\n"
          ]
        },
        {
          "name": "stderr",
          "output_type": "stream",
          "text": [
            "100%|██████████| 11/11 [00:14<00:00,  1.30s/it]\n"
          ]
        },
        {
          "name": "stdout",
          "output_type": "stream",
          "text": [
            "Epoch 68, Loss: 3797295.9545454546\n",
            "epoch 70\n"
          ]
        },
        {
          "name": "stderr",
          "output_type": "stream",
          "text": [
            "100%|██████████| 11/11 [00:14<00:00,  1.33s/it]\n"
          ]
        },
        {
          "name": "stdout",
          "output_type": "stream",
          "text": [
            "Epoch 69, Loss: 3795832.8181818184\n",
            "epoch 71\n"
          ]
        },
        {
          "name": "stderr",
          "output_type": "stream",
          "text": [
            "100%|██████████| 11/11 [00:15<00:00,  1.38s/it]\n"
          ]
        },
        {
          "name": "stdout",
          "output_type": "stream",
          "text": [
            "Epoch 70, Loss: 3794230.0\n",
            "epoch 72\n"
          ]
        },
        {
          "name": "stderr",
          "output_type": "stream",
          "text": [
            "100%|██████████| 11/11 [00:14<00:00,  1.33s/it]\n"
          ]
        },
        {
          "name": "stdout",
          "output_type": "stream",
          "text": [
            "Epoch 71, Loss: 3793197.5681818184\n",
            "epoch 73\n"
          ]
        },
        {
          "name": "stderr",
          "output_type": "stream",
          "text": [
            "100%|██████████| 11/11 [00:14<00:00,  1.34s/it]\n"
          ]
        },
        {
          "name": "stdout",
          "output_type": "stream",
          "text": [
            "Epoch 72, Loss: 3792064.5\n",
            "epoch 74\n"
          ]
        },
        {
          "name": "stderr",
          "output_type": "stream",
          "text": [
            "100%|██████████| 11/11 [00:16<00:00,  1.52s/it]\n"
          ]
        },
        {
          "name": "stdout",
          "output_type": "stream",
          "text": [
            "Epoch 73, Loss: 3791643.0681818184\n",
            "epoch 75\n"
          ]
        },
        {
          "name": "stderr",
          "output_type": "stream",
          "text": [
            "100%|██████████| 11/11 [00:16<00:00,  1.54s/it]\n"
          ]
        },
        {
          "name": "stdout",
          "output_type": "stream",
          "text": [
            "Epoch 74, Loss: 3790530.659090909\n",
            "epoch 76\n"
          ]
        },
        {
          "name": "stderr",
          "output_type": "stream",
          "text": [
            "100%|██████████| 11/11 [00:17<00:00,  1.62s/it]\n"
          ]
        },
        {
          "name": "stdout",
          "output_type": "stream",
          "text": [
            "Epoch 75, Loss: 3789504.3181818184\n",
            "epoch 77\n"
          ]
        },
        {
          "name": "stderr",
          "output_type": "stream",
          "text": [
            "100%|██████████| 11/11 [00:17<00:00,  1.55s/it]\n"
          ]
        },
        {
          "name": "stdout",
          "output_type": "stream",
          "text": [
            "Epoch 76, Loss: 3787494.909090909\n",
            "epoch 78\n"
          ]
        },
        {
          "name": "stderr",
          "output_type": "stream",
          "text": [
            "100%|██████████| 11/11 [00:16<00:00,  1.49s/it]\n"
          ]
        },
        {
          "name": "stdout",
          "output_type": "stream",
          "text": [
            "Epoch 77, Loss: 3785834.772727273\n",
            "epoch 79\n"
          ]
        },
        {
          "name": "stderr",
          "output_type": "stream",
          "text": [
            "100%|██████████| 11/11 [00:16<00:00,  1.49s/it]\n"
          ]
        },
        {
          "name": "stdout",
          "output_type": "stream",
          "text": [
            "Epoch 78, Loss: 3784389.8181818184\n",
            "epoch 80\n"
          ]
        },
        {
          "name": "stderr",
          "output_type": "stream",
          "text": [
            "100%|██████████| 11/11 [00:16<00:00,  1.47s/it]\n"
          ]
        },
        {
          "name": "stdout",
          "output_type": "stream",
          "text": [
            "Epoch 79, Loss: 3782784.25\n",
            "epoch 81\n"
          ]
        },
        {
          "name": "stderr",
          "output_type": "stream",
          "text": [
            "100%|██████████| 11/11 [00:17<00:00,  1.56s/it]\n"
          ]
        },
        {
          "name": "stdout",
          "output_type": "stream",
          "text": [
            "Epoch 80, Loss: 3781599.909090909\n",
            "epoch 82\n"
          ]
        },
        {
          "name": "stderr",
          "output_type": "stream",
          "text": [
            "100%|██████████| 11/11 [00:16<00:00,  1.47s/it]\n"
          ]
        },
        {
          "name": "stdout",
          "output_type": "stream",
          "text": [
            "Epoch 81, Loss: 3779909.7954545454\n",
            "epoch 83\n"
          ]
        },
        {
          "name": "stderr",
          "output_type": "stream",
          "text": [
            "100%|██████████| 11/11 [00:18<00:00,  1.66s/it]\n"
          ]
        },
        {
          "name": "stdout",
          "output_type": "stream",
          "text": [
            "Epoch 82, Loss: 3778664.022727273\n",
            "epoch 84\n"
          ]
        },
        {
          "name": "stderr",
          "output_type": "stream",
          "text": [
            "100%|██████████| 11/11 [00:17<00:00,  1.62s/it]\n"
          ]
        },
        {
          "name": "stdout",
          "output_type": "stream",
          "text": [
            "Epoch 83, Loss: 3777130.909090909\n",
            "epoch 85\n"
          ]
        },
        {
          "name": "stderr",
          "output_type": "stream",
          "text": [
            "100%|██████████| 11/11 [00:16<00:00,  1.48s/it]\n"
          ]
        },
        {
          "name": "stdout",
          "output_type": "stream",
          "text": [
            "Epoch 84, Loss: 3775965.022727273\n",
            "epoch 86\n"
          ]
        },
        {
          "name": "stderr",
          "output_type": "stream",
          "text": [
            "100%|██████████| 11/11 [00:17<00:00,  1.56s/it]\n"
          ]
        },
        {
          "name": "stdout",
          "output_type": "stream",
          "text": [
            "Epoch 85, Loss: 3774917.522727273\n",
            "epoch 87\n"
          ]
        },
        {
          "name": "stderr",
          "output_type": "stream",
          "text": [
            "100%|██████████| 11/11 [00:16<00:00,  1.53s/it]\n"
          ]
        },
        {
          "name": "stdout",
          "output_type": "stream",
          "text": [
            "Epoch 86, Loss: 3773762.7954545454\n",
            "epoch 88\n"
          ]
        },
        {
          "name": "stderr",
          "output_type": "stream",
          "text": [
            "100%|██████████| 11/11 [00:17<00:00,  1.57s/it]\n"
          ]
        },
        {
          "name": "stdout",
          "output_type": "stream",
          "text": [
            "Epoch 87, Loss: 3772309.227272727\n",
            "epoch 89\n"
          ]
        },
        {
          "name": "stderr",
          "output_type": "stream",
          "text": [
            "100%|██████████| 11/11 [00:17<00:00,  1.58s/it]\n"
          ]
        },
        {
          "name": "stdout",
          "output_type": "stream",
          "text": [
            "Epoch 88, Loss: 3770771.25\n",
            "epoch 90\n"
          ]
        },
        {
          "name": "stderr",
          "output_type": "stream",
          "text": [
            "100%|██████████| 11/11 [00:17<00:00,  1.59s/it]\n"
          ]
        },
        {
          "name": "stdout",
          "output_type": "stream",
          "text": [
            "Epoch 89, Loss: 3769381.8863636362\n",
            "epoch 91\n"
          ]
        },
        {
          "name": "stderr",
          "output_type": "stream",
          "text": [
            "100%|██████████| 11/11 [00:14<00:00,  1.30s/it]\n"
          ]
        },
        {
          "name": "stdout",
          "output_type": "stream",
          "text": [
            "Epoch 90, Loss: 3768442.4545454546\n",
            "epoch 92\n"
          ]
        },
        {
          "name": "stderr",
          "output_type": "stream",
          "text": [
            "100%|██████████| 11/11 [00:15<00:00,  1.37s/it]\n"
          ]
        },
        {
          "name": "stdout",
          "output_type": "stream",
          "text": [
            "Epoch 91, Loss: 3767146.3863636362\n",
            "epoch 93\n"
          ]
        },
        {
          "name": "stderr",
          "output_type": "stream",
          "text": [
            "100%|██████████| 11/11 [00:14<00:00,  1.30s/it]\n"
          ]
        },
        {
          "name": "stdout",
          "output_type": "stream",
          "text": [
            "Epoch 92, Loss: 3765962.340909091\n",
            "epoch 94\n"
          ]
        },
        {
          "name": "stderr",
          "output_type": "stream",
          "text": [
            "100%|██████████| 11/11 [00:14<00:00,  1.31s/it]\n"
          ]
        },
        {
          "name": "stdout",
          "output_type": "stream",
          "text": [
            "Epoch 93, Loss: 3764858.1136363638\n",
            "epoch 95\n"
          ]
        },
        {
          "name": "stderr",
          "output_type": "stream",
          "text": [
            "100%|██████████| 11/11 [00:14<00:00,  1.32s/it]\n"
          ]
        },
        {
          "name": "stdout",
          "output_type": "stream",
          "text": [
            "Epoch 94, Loss: 3763873.977272727\n",
            "epoch 96\n"
          ]
        },
        {
          "name": "stderr",
          "output_type": "stream",
          "text": [
            "100%|██████████| 11/11 [00:14<00:00,  1.31s/it]\n"
          ]
        },
        {
          "name": "stdout",
          "output_type": "stream",
          "text": [
            "Epoch 95, Loss: 3763034.25\n",
            "epoch 97\n"
          ]
        },
        {
          "name": "stderr",
          "output_type": "stream",
          "text": [
            "100%|██████████| 11/11 [00:14<00:00,  1.33s/it]\n"
          ]
        },
        {
          "name": "stdout",
          "output_type": "stream",
          "text": [
            "Epoch 96, Loss: 3762145.5454545454\n",
            "epoch 98\n"
          ]
        },
        {
          "name": "stderr",
          "output_type": "stream",
          "text": [
            "100%|██████████| 11/11 [00:14<00:00,  1.36s/it]\n"
          ]
        },
        {
          "name": "stdout",
          "output_type": "stream",
          "text": [
            "Epoch 97, Loss: 3762084.5681818184\n",
            "epoch 99\n"
          ]
        },
        {
          "name": "stderr",
          "output_type": "stream",
          "text": [
            "100%|██████████| 11/11 [00:14<00:00,  1.35s/it]\n"
          ]
        },
        {
          "name": "stdout",
          "output_type": "stream",
          "text": [
            "Epoch 98, Loss: 3761044.75\n",
            "epoch 100\n"
          ]
        },
        {
          "name": "stderr",
          "output_type": "stream",
          "text": [
            "100%|██████████| 11/11 [00:15<00:00,  1.41s/it]"
          ]
        },
        {
          "name": "stdout",
          "output_type": "stream",
          "text": [
            "Epoch 99, Loss: 3760440.8863636362\n"
          ]
        },
        {
          "name": "stderr",
          "output_type": "stream",
          "text": [
            "\n"
          ]
        }
      ],
      "source": [
        "# Training loop with loss history\n",
        "loss_history = []\n",
        "training_images_batch = None\n",
        "for epoch in range(epochs):\n",
        "    epoch_loss = 0\n",
        "    print(f\"epoch {epoch+1}\")\n",
        "    for batch_x in tqdm(dataloader):\n",
        "        batch_x = batch_x.to(device)\n",
        "        loss = vae.training_step(batch_x)\n",
        "        epoch_loss += loss\n",
        "\n",
        "        # Save a batch of training images for plotting\n",
        "        if training_images_batch is None:\n",
        "            training_images_batch = batch_x.cpu().numpy()\n",
        "\n",
        "    epoch_loss /= len(dataloader)\n",
        "    loss_history.append(epoch_loss)\n",
        "    if epoch % 1 == 0:\n",
        "        print(f'Epoch {epoch}, Loss: {epoch_loss}')"
      ]
    },
    {
      "cell_type": "code",
      "execution_count": 9,
      "metadata": {},
      "outputs": [
        {
          "name": "stderr",
          "output_type": "stream",
          "text": [
            "DEBUG:matplotlib.pyplot:Loaded backend module://matplotlib_inline.backend_inline version unknown.\n",
            "DEBUG:matplotlib.pyplot:Loaded backend module://matplotlib_inline.backend_inline version unknown.\n",
            "DEBUG:matplotlib.font_manager:findfont: Matching sans\\-serif:style=normal:variant=normal:weight=normal:stretch=normal:size=10.0.\n",
            "DEBUG:matplotlib.font_manager:findfont: score(FontEntry(fname='c:\\\\Users\\\\USUARIO\\\\anaconda3\\\\envs\\\\torch\\\\Lib\\\\site-packages\\\\matplotlib\\\\mpl-data\\\\fonts\\\\ttf\\\\DejaVuSans.ttf', name='DejaVu Sans', style='normal', variant='normal', weight=400, stretch='normal', size='scalable')) = 0.05\n",
            "DEBUG:matplotlib.font_manager:findfont: score(FontEntry(fname='c:\\\\Users\\\\USUARIO\\\\anaconda3\\\\envs\\\\torch\\\\Lib\\\\site-packages\\\\matplotlib\\\\mpl-data\\\\fonts\\\\ttf\\\\DejaVuSansMono-Oblique.ttf', name='DejaVu Sans Mono', style='oblique', variant='normal', weight=400, stretch='normal', size='scalable')) = 11.05\n",
            "DEBUG:matplotlib.font_manager:findfont: score(FontEntry(fname='c:\\\\Users\\\\USUARIO\\\\anaconda3\\\\envs\\\\torch\\\\Lib\\\\site-packages\\\\matplotlib\\\\mpl-data\\\\fonts\\\\ttf\\\\STIXSizTwoSymBol.ttf', name='STIXSizeTwoSym', style='normal', variant='normal', weight=700, stretch='normal', size='scalable')) = 10.335\n",
            "DEBUG:matplotlib.font_manager:findfont: score(FontEntry(fname='c:\\\\Users\\\\USUARIO\\\\anaconda3\\\\envs\\\\torch\\\\Lib\\\\site-packages\\\\matplotlib\\\\mpl-data\\\\fonts\\\\ttf\\\\STIXNonUniBolIta.ttf', name='STIXNonUnicode', style='italic', variant='normal', weight=700, stretch='normal', size='scalable')) = 11.335\n",
            "DEBUG:matplotlib.font_manager:findfont: score(FontEntry(fname='c:\\\\Users\\\\USUARIO\\\\anaconda3\\\\envs\\\\torch\\\\Lib\\\\site-packages\\\\matplotlib\\\\mpl-data\\\\fonts\\\\ttf\\\\DejaVuSansMono-BoldOblique.ttf', name='DejaVu Sans Mono', style='oblique', variant='normal', weight=700, stretch='normal', size='scalable')) = 11.335\n",
            "DEBUG:matplotlib.font_manager:findfont: score(FontEntry(fname='c:\\\\Users\\\\USUARIO\\\\anaconda3\\\\envs\\\\torch\\\\Lib\\\\site-packages\\\\matplotlib\\\\mpl-data\\\\fonts\\\\ttf\\\\DejaVuSansMono-Bold.ttf', name='DejaVu Sans Mono', style='normal', variant='normal', weight=700, stretch='normal', size='scalable')) = 10.335\n",
            "DEBUG:matplotlib.font_manager:findfont: score(FontEntry(fname='c:\\\\Users\\\\USUARIO\\\\anaconda3\\\\envs\\\\torch\\\\Lib\\\\site-packages\\\\matplotlib\\\\mpl-data\\\\fonts\\\\ttf\\\\cmex10.ttf', name='cmex10', style='normal', variant='normal', weight=400, stretch='normal', size='scalable')) = 10.05\n",
            "DEBUG:matplotlib.font_manager:findfont: score(FontEntry(fname='c:\\\\Users\\\\USUARIO\\\\anaconda3\\\\envs\\\\torch\\\\Lib\\\\site-packages\\\\matplotlib\\\\mpl-data\\\\fonts\\\\ttf\\\\STIXNonUni.ttf', name='STIXNonUnicode', style='normal', variant='normal', weight=400, stretch='normal', size='scalable')) = 10.05\n",
            "DEBUG:matplotlib.font_manager:findfont: score(FontEntry(fname='c:\\\\Users\\\\USUARIO\\\\anaconda3\\\\envs\\\\torch\\\\Lib\\\\site-packages\\\\matplotlib\\\\mpl-data\\\\fonts\\\\ttf\\\\STIXSizOneSymBol.ttf', name='STIXSizeOneSym', style='normal', variant='normal', weight=700, stretch='normal', size='scalable')) = 10.335\n",
            "DEBUG:matplotlib.font_manager:findfont: score(FontEntry(fname='c:\\\\Users\\\\USUARIO\\\\anaconda3\\\\envs\\\\torch\\\\Lib\\\\site-packages\\\\matplotlib\\\\mpl-data\\\\fonts\\\\ttf\\\\DejaVuSans-BoldOblique.ttf', name='DejaVu Sans', style='oblique', variant='normal', weight=700, stretch='normal', size='scalable')) = 1.335\n",
            "DEBUG:matplotlib.font_manager:findfont: score(FontEntry(fname='c:\\\\Users\\\\USUARIO\\\\anaconda3\\\\envs\\\\torch\\\\Lib\\\\site-packages\\\\matplotlib\\\\mpl-data\\\\fonts\\\\ttf\\\\DejaVuSans-Bold.ttf', name='DejaVu Sans', style='normal', variant='normal', weight=700, stretch='normal', size='scalable')) = 0.33499999999999996\n",
            "DEBUG:matplotlib.font_manager:findfont: score(FontEntry(fname='c:\\\\Users\\\\USUARIO\\\\anaconda3\\\\envs\\\\torch\\\\Lib\\\\site-packages\\\\matplotlib\\\\mpl-data\\\\fonts\\\\ttf\\\\STIXSizFiveSymReg.ttf', name='STIXSizeFiveSym', style='normal', variant='normal', weight=400, stretch='normal', size='scalable')) = 10.05\n",
            "DEBUG:matplotlib.font_manager:findfont: score(FontEntry(fname='c:\\\\Users\\\\USUARIO\\\\anaconda3\\\\envs\\\\torch\\\\Lib\\\\site-packages\\\\matplotlib\\\\mpl-data\\\\fonts\\\\ttf\\\\DejaVuSans-Oblique.ttf', name='DejaVu Sans', style='oblique', variant='normal', weight=400, stretch='normal', size='scalable')) = 1.05\n",
            "DEBUG:matplotlib.font_manager:findfont: score(FontEntry(fname='c:\\\\Users\\\\USUARIO\\\\anaconda3\\\\envs\\\\torch\\\\Lib\\\\site-packages\\\\matplotlib\\\\mpl-data\\\\fonts\\\\ttf\\\\DejaVuSerif.ttf', name='DejaVu Serif', style='normal', variant='normal', weight=400, stretch='normal', size='scalable')) = 10.05\n",
            "DEBUG:matplotlib.font_manager:findfont: score(FontEntry(fname='c:\\\\Users\\\\USUARIO\\\\anaconda3\\\\envs\\\\torch\\\\Lib\\\\site-packages\\\\matplotlib\\\\mpl-data\\\\fonts\\\\ttf\\\\STIXGeneralItalic.ttf', name='STIXGeneral', style='italic', variant='normal', weight=400, stretch='normal', size='scalable')) = 11.05\n",
            "DEBUG:matplotlib.font_manager:findfont: score(FontEntry(fname='c:\\\\Users\\\\USUARIO\\\\anaconda3\\\\envs\\\\torch\\\\Lib\\\\site-packages\\\\matplotlib\\\\mpl-data\\\\fonts\\\\ttf\\\\cmss10.ttf', name='cmss10', style='normal', variant='normal', weight=400, stretch='normal', size='scalable')) = 10.05\n",
            "DEBUG:matplotlib.font_manager:findfont: score(FontEntry(fname='c:\\\\Users\\\\USUARIO\\\\anaconda3\\\\envs\\\\torch\\\\Lib\\\\site-packages\\\\matplotlib\\\\mpl-data\\\\fonts\\\\ttf\\\\STIXSizThreeSymBol.ttf', name='STIXSizeThreeSym', style='normal', variant='normal', weight=700, stretch='normal', size='scalable')) = 10.335\n",
            "DEBUG:matplotlib.font_manager:findfont: score(FontEntry(fname='c:\\\\Users\\\\USUARIO\\\\anaconda3\\\\envs\\\\torch\\\\Lib\\\\site-packages\\\\matplotlib\\\\mpl-data\\\\fonts\\\\ttf\\\\DejaVuSerif-Bold.ttf', name='DejaVu Serif', style='normal', variant='normal', weight=700, stretch='normal', size='scalable')) = 10.335\n",
            "DEBUG:matplotlib.font_manager:findfont: score(FontEntry(fname='c:\\\\Users\\\\USUARIO\\\\anaconda3\\\\envs\\\\torch\\\\Lib\\\\site-packages\\\\matplotlib\\\\mpl-data\\\\fonts\\\\ttf\\\\STIXGeneralBolIta.ttf', name='STIXGeneral', style='italic', variant='normal', weight=700, stretch='normal', size='scalable')) = 11.335\n",
            "DEBUG:matplotlib.font_manager:findfont: score(FontEntry(fname='c:\\\\Users\\\\USUARIO\\\\anaconda3\\\\envs\\\\torch\\\\Lib\\\\site-packages\\\\matplotlib\\\\mpl-data\\\\fonts\\\\ttf\\\\cmb10.ttf', name='cmb10', style='normal', variant='normal', weight=400, stretch='normal', size='scalable')) = 10.05\n",
            "DEBUG:matplotlib.font_manager:findfont: score(FontEntry(fname='c:\\\\Users\\\\USUARIO\\\\anaconda3\\\\envs\\\\torch\\\\Lib\\\\site-packages\\\\matplotlib\\\\mpl-data\\\\fonts\\\\ttf\\\\cmsy10.ttf', name='cmsy10', style='normal', variant='normal', weight=400, stretch='normal', size='scalable')) = 10.05\n",
            "DEBUG:matplotlib.font_manager:findfont: score(FontEntry(fname='c:\\\\Users\\\\USUARIO\\\\anaconda3\\\\envs\\\\torch\\\\Lib\\\\site-packages\\\\matplotlib\\\\mpl-data\\\\fonts\\\\ttf\\\\cmmi10.ttf', name='cmmi10', style='normal', variant='normal', weight=400, stretch='normal', size='scalable')) = 10.05\n",
            "DEBUG:matplotlib.font_manager:findfont: score(FontEntry(fname='c:\\\\Users\\\\USUARIO\\\\anaconda3\\\\envs\\\\torch\\\\Lib\\\\site-packages\\\\matplotlib\\\\mpl-data\\\\fonts\\\\ttf\\\\STIXGeneral.ttf', name='STIXGeneral', style='normal', variant='normal', weight=400, stretch='normal', size='scalable')) = 10.05\n",
            "DEBUG:matplotlib.font_manager:findfont: score(FontEntry(fname='c:\\\\Users\\\\USUARIO\\\\anaconda3\\\\envs\\\\torch\\\\Lib\\\\site-packages\\\\matplotlib\\\\mpl-data\\\\fonts\\\\ttf\\\\STIXGeneralBol.ttf', name='STIXGeneral', style='normal', variant='normal', weight=700, stretch='normal', size='scalable')) = 10.335\n",
            "DEBUG:matplotlib.font_manager:findfont: score(FontEntry(fname='c:\\\\Users\\\\USUARIO\\\\anaconda3\\\\envs\\\\torch\\\\Lib\\\\site-packages\\\\matplotlib\\\\mpl-data\\\\fonts\\\\ttf\\\\STIXNonUniIta.ttf', name='STIXNonUnicode', style='italic', variant='normal', weight=400, stretch='normal', size='scalable')) = 11.05\n",
            "DEBUG:matplotlib.font_manager:findfont: score(FontEntry(fname='c:\\\\Users\\\\USUARIO\\\\anaconda3\\\\envs\\\\torch\\\\Lib\\\\site-packages\\\\matplotlib\\\\mpl-data\\\\fonts\\\\ttf\\\\DejaVuSansDisplay.ttf', name='DejaVu Sans Display', style='normal', variant='normal', weight=400, stretch='normal', size='scalable')) = 10.05\n",
            "DEBUG:matplotlib.font_manager:findfont: score(FontEntry(fname='c:\\\\Users\\\\USUARIO\\\\anaconda3\\\\envs\\\\torch\\\\Lib\\\\site-packages\\\\matplotlib\\\\mpl-data\\\\fonts\\\\ttf\\\\STIXSizOneSymReg.ttf', name='STIXSizeOneSym', style='normal', variant='normal', weight=400, stretch='normal', size='scalable')) = 10.05\n",
            "DEBUG:matplotlib.font_manager:findfont: score(FontEntry(fname='c:\\\\Users\\\\USUARIO\\\\anaconda3\\\\envs\\\\torch\\\\Lib\\\\site-packages\\\\matplotlib\\\\mpl-data\\\\fonts\\\\ttf\\\\STIXSizFourSymBol.ttf', name='STIXSizeFourSym', style='normal', variant='normal', weight=700, stretch='normal', size='scalable')) = 10.335\n",
            "DEBUG:matplotlib.font_manager:findfont: score(FontEntry(fname='c:\\\\Users\\\\USUARIO\\\\anaconda3\\\\envs\\\\torch\\\\Lib\\\\site-packages\\\\matplotlib\\\\mpl-data\\\\fonts\\\\ttf\\\\cmtt10.ttf', name='cmtt10', style='normal', variant='normal', weight=400, stretch='normal', size='scalable')) = 10.05\n",
            "DEBUG:matplotlib.font_manager:findfont: score(FontEntry(fname='c:\\\\Users\\\\USUARIO\\\\anaconda3\\\\envs\\\\torch\\\\Lib\\\\site-packages\\\\matplotlib\\\\mpl-data\\\\fonts\\\\ttf\\\\STIXSizThreeSymReg.ttf', name='STIXSizeThreeSym', style='normal', variant='normal', weight=400, stretch='normal', size='scalable')) = 10.05\n",
            "DEBUG:matplotlib.font_manager:findfont: score(FontEntry(fname='c:\\\\Users\\\\USUARIO\\\\anaconda3\\\\envs\\\\torch\\\\Lib\\\\site-packages\\\\matplotlib\\\\mpl-data\\\\fonts\\\\ttf\\\\STIXNonUniBol.ttf', name='STIXNonUnicode', style='normal', variant='normal', weight=700, stretch='normal', size='scalable')) = 10.335\n",
            "DEBUG:matplotlib.font_manager:findfont: score(FontEntry(fname='c:\\\\Users\\\\USUARIO\\\\anaconda3\\\\envs\\\\torch\\\\Lib\\\\site-packages\\\\matplotlib\\\\mpl-data\\\\fonts\\\\ttf\\\\DejaVuSansMono.ttf', name='DejaVu Sans Mono', style='normal', variant='normal', weight=400, stretch='normal', size='scalable')) = 10.05\n",
            "DEBUG:matplotlib.font_manager:findfont: score(FontEntry(fname='c:\\\\Users\\\\USUARIO\\\\anaconda3\\\\envs\\\\torch\\\\Lib\\\\site-packages\\\\matplotlib\\\\mpl-data\\\\fonts\\\\ttf\\\\DejaVuSerifDisplay.ttf', name='DejaVu Serif Display', style='normal', variant='normal', weight=400, stretch='normal', size='scalable')) = 10.05\n",
            "DEBUG:matplotlib.font_manager:findfont: score(FontEntry(fname='c:\\\\Users\\\\USUARIO\\\\anaconda3\\\\envs\\\\torch\\\\Lib\\\\site-packages\\\\matplotlib\\\\mpl-data\\\\fonts\\\\ttf\\\\STIXSizTwoSymReg.ttf', name='STIXSizeTwoSym', style='normal', variant='normal', weight=400, stretch='normal', size='scalable')) = 10.05\n",
            "DEBUG:matplotlib.font_manager:findfont: score(FontEntry(fname='c:\\\\Users\\\\USUARIO\\\\anaconda3\\\\envs\\\\torch\\\\Lib\\\\site-packages\\\\matplotlib\\\\mpl-data\\\\fonts\\\\ttf\\\\cmr10.ttf', name='cmr10', style='normal', variant='normal', weight=400, stretch='normal', size='scalable')) = 10.05\n",
            "DEBUG:matplotlib.font_manager:findfont: score(FontEntry(fname='c:\\\\Users\\\\USUARIO\\\\anaconda3\\\\envs\\\\torch\\\\Lib\\\\site-packages\\\\matplotlib\\\\mpl-data\\\\fonts\\\\ttf\\\\STIXSizFourSymReg.ttf', name='STIXSizeFourSym', style='normal', variant='normal', weight=400, stretch='normal', size='scalable')) = 10.05\n",
            "DEBUG:matplotlib.font_manager:findfont: score(FontEntry(fname='c:\\\\Users\\\\USUARIO\\\\anaconda3\\\\envs\\\\torch\\\\Lib\\\\site-packages\\\\matplotlib\\\\mpl-data\\\\fonts\\\\ttf\\\\DejaVuSerif-Italic.ttf', name='DejaVu Serif', style='italic', variant='normal', weight=400, stretch='normal', size='scalable')) = 11.05\n",
            "DEBUG:matplotlib.font_manager:findfont: score(FontEntry(fname='c:\\\\Users\\\\USUARIO\\\\anaconda3\\\\envs\\\\torch\\\\Lib\\\\site-packages\\\\matplotlib\\\\mpl-data\\\\fonts\\\\ttf\\\\DejaVuSerif-BoldItalic.ttf', name='DejaVu Serif', style='italic', variant='normal', weight=700, stretch='normal', size='scalable')) = 11.335\n",
            "DEBUG:matplotlib.font_manager:findfont: score(FontEntry(fname='C:\\\\Windows\\\\Fonts\\\\timesbi.ttf', name='Times New Roman', style='italic', variant='normal', weight=700, stretch='normal', size='scalable')) = 11.335\n",
            "DEBUG:matplotlib.font_manager:findfont: score(FontEntry(fname='C:\\\\Windows\\\\Fonts\\\\HARNGTON.TTF', name='Harrington', style='normal', variant='normal', weight=400, stretch='normal', size='scalable')) = 10.05\n",
            "DEBUG:matplotlib.font_manager:findfont: score(FontEntry(fname='C:\\\\Windows\\\\Fonts\\\\NewsGoth BT Bold.ttf', name='NewsGoth BT', style='normal', variant='normal', weight=700, stretch='normal', size='scalable')) = 10.335\n",
            "DEBUG:matplotlib.font_manager:findfont: score(FontEntry(fname='C:\\\\Windows\\\\Fonts\\\\ENGR.TTF', name='Engravers MT', style='normal', variant='normal', weight=500, stretch='normal', size='scalable')) = 10.145\n",
            "DEBUG:matplotlib.font_manager:findfont: score(FontEntry(fname='C:\\\\Windows\\\\Fonts\\\\CentSchbkCyrill BT Italic.ttf', name='CentSchbkCyrill BT', style='italic', variant='normal', weight=400, stretch='normal', size='scalable')) = 11.05\n",
            "DEBUG:matplotlib.font_manager:findfont: score(FontEntry(fname='C:\\\\Windows\\\\Fonts\\\\Geometr706 BlkCn BT Black.ttf', name='Geometr706 BlkCn BT', style='normal', variant='normal', weight=400, stretch='normal', size='scalable')) = 10.05\n",
            "DEBUG:matplotlib.font_manager:findfont: score(FontEntry(fname='C:\\\\Windows\\\\Fonts\\\\Clarendon Blk BT Black.ttf', name='Clarendon Blk BT', style='normal', variant='normal', weight=400, stretch='normal', size='scalable')) = 10.05\n",
            "DEBUG:matplotlib.font_manager:findfont: score(FontEntry(fname='C:\\\\Windows\\\\Fonts\\\\swissb.ttf', name='Swis721 BT', style='normal', variant='normal', weight=700, stretch='normal', size='scalable')) = 10.335\n",
            "DEBUG:matplotlib.font_manager:findfont: score(FontEntry(fname='C:\\\\Windows\\\\Fonts\\\\HTOWERT.TTF', name='High Tower Text', style='normal', variant='normal', weight=400, stretch='normal', size='scalable')) = 10.05\n",
            "DEBUG:matplotlib.font_manager:findfont: score(FontEntry(fname='C:\\\\Windows\\\\Fonts\\\\Swis721 Lt BT Light.ttf', name='Swis721 Lt BT', style='normal', variant='normal', weight=400, stretch='normal', size='scalable')) = 10.05\n",
            "DEBUG:matplotlib.font_manager:findfont: score(FontEntry(fname='C:\\\\Windows\\\\Fonts\\\\cambriaz.ttf', name='Cambria', style='italic', variant='normal', weight=700, stretch='normal', size='scalable')) = 11.335\n",
            "DEBUG:matplotlib.font_manager:findfont: score(FontEntry(fname='C:\\\\Windows\\\\Fonts\\\\swisse.ttf', name='Swis721 Ex BT', style='normal', variant='normal', weight=400, stretch='expanded', size='scalable')) = 10.25\n",
            "DEBUG:matplotlib.font_manager:findfont: score(FontEntry(fname='C:\\\\Windows\\\\Fonts\\\\Square721 BT Roman.ttf', name='Square721 BT', style='normal', variant='normal', weight=400, stretch='normal', size='scalable')) = 10.05\n",
            "DEBUG:matplotlib.font_manager:findfont: score(FontEntry(fname='C:\\\\Windows\\\\Fonts\\\\CALIFI.TTF', name='Californian FB', style='italic', variant='normal', weight=400, stretch='normal', size='scalable')) = 11.05\n",
            "DEBUG:matplotlib.font_manager:findfont: score(FontEntry(fname='C:\\\\Windows\\\\Fonts\\\\mtproxy9.ttf', name='Proxy 9', style='normal', variant='normal', weight=400, stretch='normal', size='scalable')) = 10.05\n",
            "DEBUG:matplotlib.font_manager:findfont: score(FontEntry(fname='C:\\\\Windows\\\\Fonts\\\\courbd.ttf', name='Courier New', style='normal', variant='normal', weight=700, stretch='normal', size='scalable')) = 10.335\n",
            "DEBUG:matplotlib.font_manager:findfont: score(FontEntry(fname='C:\\\\Windows\\\\Fonts\\\\sanssbo_.ttf', name='SansSerif', style='oblique', variant='normal', weight=700, stretch='normal', size='scalable')) = 11.335\n",
            "DEBUG:matplotlib.font_manager:findfont: score(FontEntry(fname='C:\\\\Windows\\\\Fonts\\\\FRAMDCN.TTF', name='Franklin Gothic Medium Cond', style='normal', variant='normal', weight=400, stretch='condensed', size='scalable')) = 10.25\n",
            "DEBUG:matplotlib.font_manager:findfont: score(FontEntry(fname='C:\\\\Windows\\\\Fonts\\\\COLONNA.TTF', name='Colonna MT', style='normal', variant='normal', weight=400, stretch='normal', size='scalable')) = 10.05\n",
            "DEBUG:matplotlib.font_manager:findfont: score(FontEntry(fname='C:\\\\Windows\\\\Fonts\\\\TCM_____.TTF', name='Tw Cen MT', style='normal', variant='normal', weight=400, stretch='normal', size='scalable')) = 10.05\n",
            "DEBUG:matplotlib.font_manager:findfont: score(FontEntry(fname='C:\\\\Windows\\\\Fonts\\\\txt_____.ttf', name='Txt', style='normal', variant='normal', weight=400, stretch='normal', size='scalable')) = 10.05\n",
            "DEBUG:matplotlib.font_manager:findfont: score(FontEntry(fname='C:\\\\Windows\\\\Fonts\\\\SCHLBKI.TTF', name='Century Schoolbook', style='italic', variant='normal', weight=400, stretch='normal', size='scalable')) = 11.05\n",
            "DEBUG:matplotlib.font_manager:findfont: score(FontEntry(fname='C:\\\\Windows\\\\Fonts\\\\BOOKOS.TTF', name='Bookman Old Style', style='normal', variant='normal', weight=300, stretch='normal', size='scalable')) = 10.145\n",
            "DEBUG:matplotlib.font_manager:findfont: score(FontEntry(fname='C:\\\\Windows\\\\Fonts\\\\TCB_____.TTF', name='Tw Cen MT', style='normal', variant='normal', weight=700, stretch='normal', size='scalable')) = 10.335\n",
            "DEBUG:matplotlib.font_manager:findfont: score(FontEntry(fname='C:\\\\Windows\\\\Fonts\\\\ARIALNB.TTF', name='Arial', style='normal', variant='normal', weight=700, stretch='condensed', size='scalable')) = 6.8986363636363635\n",
            "DEBUG:matplotlib.font_manager:findfont: score(FontEntry(fname='C:\\\\Windows\\\\Fonts\\\\SCHLBKB.TTF', name='Century Schoolbook', style='normal', variant='normal', weight=700, stretch='normal', size='scalable')) = 10.335\n",
            "DEBUG:matplotlib.font_manager:findfont: score(FontEntry(fname='C:\\\\Windows\\\\Fonts\\\\Century751 BT Italic.ttf', name='Century751 BT', style='italic', variant='normal', weight=400, stretch='normal', size='scalable')) = 11.05\n",
            "DEBUG:matplotlib.font_manager:findfont: score(FontEntry(fname='C:\\\\Windows\\\\Fonts\\\\mingliub.ttc', name='MingLiU-ExtB', style='normal', variant='normal', weight=400, stretch='normal', size='scalable')) = 10.05\n",
            "DEBUG:matplotlib.font_manager:findfont: score(FontEntry(fname='C:\\\\Windows\\\\Fonts\\\\consolab.ttf', name='Consolas', style='normal', variant='normal', weight=700, stretch='normal', size='scalable')) = 10.335\n",
            "DEBUG:matplotlib.font_manager:findfont: score(FontEntry(fname='C:\\\\Windows\\\\Fonts\\\\malgun.ttf', name='Malgun Gothic', style='normal', variant='normal', weight=400, stretch='normal', size='scalable')) = 10.05\n",
            "DEBUG:matplotlib.font_manager:findfont: score(FontEntry(fname='C:\\\\Windows\\\\Fonts\\\\CURLZ___.TTF', name='Curlz MT', style='normal', variant='normal', weight=400, stretch='normal', size='scalable')) = 10.05\n",
            "DEBUG:matplotlib.font_manager:findfont: score(FontEntry(fname='C:\\\\Windows\\\\Fonts\\\\comic.ttf', name='Comic Sans MS', style='normal', variant='normal', weight=400, stretch='normal', size='scalable')) = 10.05\n",
            "DEBUG:matplotlib.font_manager:findfont: score(FontEntry(fname='C:\\\\Windows\\\\Fonts\\\\ERASBD.TTF', name='Eras Bold ITC', style='normal', variant='normal', weight=400, stretch='normal', size='scalable')) = 10.05\n",
            "DEBUG:matplotlib.font_manager:findfont: score(FontEntry(fname='C:\\\\Windows\\\\Fonts\\\\comicbd.ttf', name='Comic Sans MS', style='normal', variant='normal', weight=700, stretch='normal', size='scalable')) = 10.335\n",
            "DEBUG:matplotlib.font_manager:findfont: score(FontEntry(fname='C:\\\\Windows\\\\Fonts\\\\LeelUIsl.ttf', name='Leelawadee UI', style='normal', variant='normal', weight=350, stretch='normal', size='scalable')) = 10.0975\n",
            "DEBUG:matplotlib.font_manager:findfont: score(FontEntry(fname='C:\\\\Windows\\\\Fonts\\\\symusic_.ttf', name='Symusic', style='normal', variant='normal', weight=400, stretch='normal', size='scalable')) = 10.05\n",
            "DEBUG:matplotlib.font_manager:findfont: score(FontEntry(fname='C:\\\\Windows\\\\Fonts\\\\ROCCB___.TTF', name='Rockwell Condensed', style='normal', variant='normal', weight=700, stretch='condensed', size='scalable')) = 10.535\n",
            "DEBUG:matplotlib.font_manager:findfont: score(FontEntry(fname='C:\\\\Windows\\\\Fonts\\\\msjhl.ttc', name='Microsoft JhengHei', style='normal', variant='normal', weight=290, stretch='normal', size='scalable')) = 10.1545\n",
            "DEBUG:matplotlib.font_manager:findfont: score(FontEntry(fname='C:\\\\Windows\\\\Fonts\\\\NIAGENG.TTF', name='Niagara Engraved', style='normal', variant='normal', weight=400, stretch='normal', size='scalable')) = 10.05\n",
            "DEBUG:matplotlib.font_manager:findfont: score(FontEntry(fname='C:\\\\Windows\\\\Fonts\\\\SNAP____.TTF', name='Snap ITC', style='normal', variant='normal', weight=400, stretch='normal', size='scalable')) = 10.05\n",
            "DEBUG:matplotlib.font_manager:findfont: score(FontEntry(fname='C:\\\\Windows\\\\Fonts\\\\malgunsl.ttf', name='Malgun Gothic', style='normal', variant='normal', weight=300, stretch='normal', size='scalable')) = 10.145\n",
            "DEBUG:matplotlib.font_manager:findfont: score(FontEntry(fname='C:\\\\Windows\\\\Fonts\\\\TCCM____.TTF', name='Tw Cen MT Condensed', style='normal', variant='normal', weight=400, stretch='condensed', size='scalable')) = 10.25\n",
            "DEBUG:matplotlib.font_manager:findfont: score(FontEntry(fname='C:\\\\Windows\\\\Fonts\\\\COPRGTB.TTF', name='Copperplate Gothic Bold', style='normal', variant='normal', weight=400, stretch='normal', size='scalable')) = 10.05\n",
            "DEBUG:matplotlib.font_manager:findfont: score(FontEntry(fname='C:\\\\Windows\\\\Fonts\\\\romans__.ttf', name='RomanS', style='normal', variant='normal', weight=400, stretch='normal', size='scalable')) = 10.05\n",
            "DEBUG:matplotlib.font_manager:findfont: score(FontEntry(fname='C:\\\\Windows\\\\Fonts\\\\GeoSlab703 Md BT Medium Italic.ttf', name='GeoSlab703 Md BT', style='italic', variant='normal', weight=400, stretch='normal', size='scalable')) = 11.05\n",
            "DEBUG:matplotlib.font_manager:findfont: score(FontEntry(fname='C:\\\\Windows\\\\Fonts\\\\Clarendon BT Roman.ttf', name='Clarendon BT', style='normal', variant='normal', weight=400, stretch='normal', size='scalable')) = 10.05\n",
            "DEBUG:matplotlib.font_manager:findfont: score(FontEntry(fname='C:\\\\Windows\\\\Fonts\\\\Nirmala.ttf', name='Nirmala UI', style='normal', variant='normal', weight=400, stretch='normal', size='scalable')) = 10.05\n",
            "DEBUG:matplotlib.font_manager:findfont: score(FontEntry(fname='C:\\\\Windows\\\\Fonts\\\\panroman.ttf', name='PanRoman', style='normal', variant='normal', weight=400, stretch='normal', size='scalable')) = 10.05\n",
            "DEBUG:matplotlib.font_manager:findfont: score(FontEntry(fname='C:\\\\Windows\\\\Fonts\\\\BOD_BI.TTF', name='Bodoni MT', style='italic', variant='normal', weight=700, stretch='normal', size='scalable')) = 11.335\n",
            "DEBUG:matplotlib.font_manager:findfont: score(FontEntry(fname='C:\\\\Windows\\\\Fonts\\\\Futura Md BT Bold Italic.ttf', name='Futura Md BT', style='italic', variant='normal', weight=700, stretch='normal', size='scalable')) = 11.335\n",
            "DEBUG:matplotlib.font_manager:findfont: score(FontEntry(fname='C:\\\\Windows\\\\Fonts\\\\ERASDEMI.TTF', name='Eras Demi ITC', style='normal', variant='normal', weight=400, stretch='normal', size='scalable')) = 10.05\n",
            "DEBUG:matplotlib.font_manager:findfont: score(FontEntry(fname='C:\\\\Windows\\\\Fonts\\\\PARCHM.TTF', name='Parchment', style='normal', variant='normal', weight=400, stretch='normal', size='scalable')) = 10.05\n",
            "DEBUG:matplotlib.font_manager:findfont: score(FontEntry(fname='C:\\\\Windows\\\\Fonts\\\\Artifakt Element Regular.ttf', name='Artifakt Element', style='normal', variant='normal', weight=400, stretch='normal', size='scalable')) = 10.05\n",
            "DEBUG:matplotlib.font_manager:findfont: score(FontEntry(fname='C:\\\\Windows\\\\Fonts\\\\swissli.ttf', name='Swis721 Lt BT', style='italic', variant='normal', weight=400, stretch='normal', size='scalable')) = 11.05\n",
            "DEBUG:matplotlib.font_manager:findfont: score(FontEntry(fname='C:\\\\Windows\\\\Fonts\\\\LTYPEB.TTF', name='Lucida Sans Typewriter', style='normal', variant='normal', weight=600, stretch='normal', size='scalable')) = 10.24\n",
            "DEBUG:matplotlib.font_manager:findfont: score(FontEntry(fname='C:\\\\Windows\\\\Fonts\\\\BOD_BLAR.TTF', name='Bodoni MT', style='normal', variant='normal', weight=900, stretch='normal', size='scalable')) = 10.525\n",
            "DEBUG:matplotlib.font_manager:findfont: score(FontEntry(fname='C:\\\\Windows\\\\Fonts\\\\TCCB____.TTF', name='Tw Cen MT Condensed', style='normal', variant='normal', weight=700, stretch='condensed', size='scalable')) = 10.535\n",
            "DEBUG:matplotlib.font_manager:findfont: score(FontEntry(fname='C:\\\\Windows\\\\Fonts\\\\calibriz.ttf', name='Calibri', style='italic', variant='normal', weight=700, stretch='normal', size='scalable')) = 11.335\n",
            "DEBUG:matplotlib.font_manager:findfont: score(FontEntry(fname='C:\\\\Windows\\\\Fonts\\\\palab.ttf', name='Palatino Linotype', style='normal', variant='normal', weight=700, stretch='normal', size='scalable')) = 10.335\n",
            "DEBUG:matplotlib.font_manager:findfont: score(FontEntry(fname='C:\\\\Windows\\\\Fonts\\\\ELEPHNTI.TTF', name='Elephant', style='italic', variant='normal', weight=400, stretch='normal', size='scalable')) = 11.05\n",
            "DEBUG:matplotlib.font_manager:findfont: score(FontEntry(fname='C:\\\\Windows\\\\Fonts\\\\Century751 BT Roman.ttf', name='Century751 BT', style='normal', variant='normal', weight=400, stretch='normal', size='scalable')) = 10.05\n",
            "DEBUG:matplotlib.font_manager:findfont: score(FontEntry(fname='C:\\\\Windows\\\\Fonts\\\\corbelli.ttf', name='Corbel', style='italic', variant='normal', weight=300, stretch='normal', size='scalable')) = 11.145\n",
            "DEBUG:matplotlib.font_manager:findfont: score(FontEntry(fname='C:\\\\Windows\\\\Fonts\\\\romantic.ttf', name='Romantic', style='normal', variant='normal', weight=400, stretch='normal', size='scalable')) = 10.05\n",
            "DEBUG:matplotlib.font_manager:findfont: score(FontEntry(fname='C:\\\\Windows\\\\Fonts\\\\Humanst521 BT Bold Italic.ttf', name='Humanst521 BT', style='italic', variant='normal', weight=700, stretch='normal', size='scalable')) = 11.335\n",
            "DEBUG:matplotlib.font_manager:findfont: score(FontEntry(fname='C:\\\\Windows\\\\Fonts\\\\ANTQUAI.TTF', name='Book Antiqua', style='italic', variant='normal', weight=400, stretch='normal', size='scalable')) = 11.05\n",
            "DEBUG:matplotlib.font_manager:findfont: score(FontEntry(fname='C:\\\\Windows\\\\Fonts\\\\himalaya.ttf', name='Microsoft Himalaya', style='normal', variant='normal', weight=400, stretch='normal', size='scalable')) = 10.05\n",
            "DEBUG:matplotlib.font_manager:findfont: score(FontEntry(fname='C:\\\\Windows\\\\Fonts\\\\SHOWG.TTF', name='Showcard Gothic', style='normal', variant='normal', weight=400, stretch='normal', size='scalable')) = 10.05\n",
            "DEBUG:matplotlib.font_manager:findfont: score(FontEntry(fname='C:\\\\Windows\\\\Fonts\\\\bgothm.ttf', name='BankGothic Md BT', style='normal', variant='normal', weight=400, stretch='normal', size='scalable')) = 10.05\n",
            "DEBUG:matplotlib.font_manager:findfont: score(FontEntry(fname='C:\\\\Windows\\\\Fonts\\\\isocp3__.ttf', name='ISOCP3', style='normal', variant='normal', weight=400, stretch='normal', size='scalable')) = 10.05\n",
            "DEBUG:matplotlib.font_manager:findfont: score(FontEntry(fname='C:\\\\Windows\\\\Fonts\\\\gothice_.ttf', name='GothicE', style='normal', variant='normal', weight=400, stretch='normal', size='scalable')) = 10.05\n",
            "DEBUG:matplotlib.font_manager:findfont: score(FontEntry(fname='C:\\\\Windows\\\\Fonts\\\\PRISTINA.TTF', name='Pristina', style='normal', variant='normal', weight=400, stretch='normal', size='scalable')) = 10.05\n",
            "DEBUG:matplotlib.font_manager:findfont: score(FontEntry(fname='C:\\\\Windows\\\\Fonts\\\\CALISTB.TTF', name='Calisto MT', style='normal', variant='normal', weight=700, stretch='normal', size='scalable')) = 10.335\n",
            "DEBUG:matplotlib.font_manager:findfont: score(FontEntry(fname='C:\\\\Windows\\\\Fonts\\\\FRAHV.TTF', name='Franklin Gothic Heavy', style='normal', variant='normal', weight=400, stretch='normal', size='scalable')) = 10.05\n",
            "DEBUG:matplotlib.font_manager:findfont: score(FontEntry(fname='C:\\\\Windows\\\\Fonts\\\\JOKERMAN.TTF', name='Jokerman', style='normal', variant='normal', weight=400, stretch='normal', size='scalable')) = 10.05\n",
            "DEBUG:matplotlib.font_manager:findfont: score(FontEntry(fname='C:\\\\Windows\\\\Fonts\\\\simplex_.ttf', name='Simplex', style='normal', variant='normal', weight=400, stretch='normal', size='scalable')) = 10.05\n",
            "DEBUG:matplotlib.font_manager:findfont: score(FontEntry(fname='C:\\\\Windows\\\\Fonts\\\\ROCKBI.TTF', name='Rockwell', style='italic', variant='normal', weight=700, stretch='normal', size='scalable')) = 11.335\n",
            "DEBUG:matplotlib.font_manager:findfont: score(FontEntry(fname='C:\\\\Windows\\\\Fonts\\\\cityb___.ttf', name='CityBlueprint', style='normal', variant='normal', weight=400, stretch='normal', size='scalable')) = 10.05\n",
            "DEBUG:matplotlib.font_manager:findfont: score(FontEntry(fname='C:\\\\Windows\\\\Fonts\\\\MAGNETOB.TTF', name='Magneto', style='normal', variant='normal', weight=700, stretch='normal', size='scalable')) = 10.335\n",
            "DEBUG:matplotlib.font_manager:findfont: score(FontEntry(fname='C:\\\\Windows\\\\Fonts\\\\POORICH.TTF', name='Poor Richard', style='normal', variant='normal', weight=400, stretch='normal', size='scalable')) = 10.05\n",
            "DEBUG:matplotlib.font_manager:findfont: score(FontEntry(fname='C:\\\\Windows\\\\Fonts\\\\FORTE.TTF', name='Forte', style='normal', variant='normal', weight=400, stretch='normal', size='scalable')) = 10.05\n",
            "DEBUG:matplotlib.font_manager:findfont: score(FontEntry(fname='C:\\\\Windows\\\\Fonts\\\\isocteui.ttf', name='ISOCTEUR', style='italic', variant='normal', weight=400, stretch='normal', size='scalable')) = 11.05\n",
            "DEBUG:matplotlib.font_manager:findfont: score(FontEntry(fname='C:\\\\Windows\\\\Fonts\\\\Candara.ttf', name='Candara', style='normal', variant='normal', weight=400, stretch='normal', size='scalable')) = 10.05\n",
            "DEBUG:matplotlib.font_manager:findfont: score(FontEntry(fname='C:\\\\Windows\\\\Fonts\\\\mtproxy6.ttf', name='Proxy 6', style='normal', variant='normal', weight=400, stretch='normal', size='scalable')) = 10.05\n",
            "DEBUG:matplotlib.font_manager:findfont: score(FontEntry(fname='C:\\\\Windows\\\\Fonts\\\\monos.ttf', name='Monospac821 BT', style='normal', variant='normal', weight=400, stretch='normal', size='scalable')) = 10.05\n",
            "DEBUG:matplotlib.font_manager:findfont: score(FontEntry(fname='C:\\\\Windows\\\\Fonts\\\\Swis721 LtEx BT Light.ttf', name='Swis721 LtEx BT', style='normal', variant='normal', weight=400, stretch='normal', size='scalable')) = 10.05\n",
            "DEBUG:matplotlib.font_manager:findfont: score(FontEntry(fname='C:\\\\Windows\\\\Fonts\\\\SCRIPTBL.TTF', name='Script MT Bold', style='normal', variant='normal', weight=700, stretch='normal', size='scalable')) = 10.335\n",
            "DEBUG:matplotlib.font_manager:findfont: score(FontEntry(fname='C:\\\\Windows\\\\Fonts\\\\FREESCPT.TTF', name='Freestyle Script', style='normal', variant='normal', weight=400, stretch='normal', size='scalable')) = 10.05\n",
            "DEBUG:matplotlib.font_manager:findfont: score(FontEntry(fname='C:\\\\Windows\\\\Fonts\\\\symap___.ttf', name='Symap', style='normal', variant='normal', weight=400, stretch='normal', size='scalable')) = 10.05\n",
            "DEBUG:matplotlib.font_manager:findfont: score(FontEntry(fname='C:\\\\Windows\\\\Fonts\\\\monotxt_.ttf', name='Monotxt', style='normal', variant='normal', weight=400, stretch='normal', size='scalable')) = 10.05\n",
            "DEBUG:matplotlib.font_manager:findfont: score(FontEntry(fname='C:\\\\Windows\\\\Fonts\\\\GILLUBCD.TTF', name='Gill Sans Ultra Bold Condensed', style='normal', variant='normal', weight=400, stretch='condensed', size='scalable')) = 10.25\n",
            "DEBUG:matplotlib.font_manager:findfont: score(FontEntry(fname='C:\\\\Windows\\\\Fonts\\\\FRABKIT.TTF', name='Franklin Gothic Book', style='italic', variant='normal', weight=400, stretch='normal', size='scalable')) = 11.05\n",
            "DEBUG:matplotlib.font_manager:findfont: score(FontEntry(fname='C:\\\\Windows\\\\Fonts\\\\cambriab.ttf', name='Cambria', style='normal', variant='normal', weight=700, stretch='normal', size='scalable')) = 10.335\n",
            "DEBUG:matplotlib.font_manager:findfont: score(FontEntry(fname='C:\\\\Windows\\\\Fonts\\\\dutchb.ttf', name='Dutch801 Rm BT', style='normal', variant='normal', weight=700, stretch='normal', size='scalable')) = 10.335\n",
            "DEBUG:matplotlib.font_manager:findfont: score(FontEntry(fname='C:\\\\Windows\\\\Fonts\\\\RAVIE.TTF', name='Ravie', style='normal', variant='normal', weight=400, stretch='normal', size='scalable')) = 10.05\n",
            "DEBUG:matplotlib.font_manager:findfont: score(FontEntry(fname='C:\\\\Windows\\\\Fonts\\\\romand__.ttf', name='RomanD', style='normal', variant='normal', weight=400, stretch='normal', size='scalable')) = 10.05\n",
            "DEBUG:matplotlib.font_manager:findfont: score(FontEntry(fname='C:\\\\Windows\\\\Fonts\\\\REFSAN.TTF', name='MS Reference Sans Serif', style='normal', variant='normal', weight=400, stretch='normal', size='scalable')) = 10.05\n",
            "DEBUG:matplotlib.font_manager:findfont: score(FontEntry(fname='C:\\\\Windows\\\\Fonts\\\\greekc__.ttf', name='GreekC', style='normal', variant='normal', weight=400, stretch='normal', size='scalable')) = 10.05\n",
            "DEBUG:matplotlib.font_manager:findfont: score(FontEntry(fname='C:\\\\Windows\\\\Fonts\\\\isocp___.ttf', name='ISOCP', style='normal', variant='normal', weight=400, stretch='normal', size='scalable')) = 10.05\n",
            "DEBUG:matplotlib.font_manager:findfont: score(FontEntry(fname='C:\\\\Windows\\\\Fonts\\\\swissl.ttf', name='Swis721 Lt BT', style='normal', variant='normal', weight=400, stretch='normal', size='scalable')) = 10.05\n",
            "DEBUG:matplotlib.font_manager:findfont: score(FontEntry(fname='C:\\\\Windows\\\\Fonts\\\\GENISO.ttf', name='GENISO', style='normal', variant='normal', weight=400, stretch='normal', size='scalable')) = 10.05\n",
            "DEBUG:matplotlib.font_manager:findfont: score(FontEntry(fname='C:\\\\Windows\\\\Fonts\\\\LFAXDI.TTF', name='Lucida Fax', style='italic', variant='normal', weight=600, stretch='normal', size='scalable')) = 11.24\n",
            "DEBUG:matplotlib.font_manager:findfont: score(FontEntry(fname='C:\\\\Windows\\\\Fonts\\\\holomdl2.ttf', name='HoloLens MDL2 Assets', style='normal', variant='normal', weight=400, stretch='normal', size='scalable')) = 10.05\n",
            "DEBUG:matplotlib.font_manager:findfont: score(FontEntry(fname='C:\\\\Windows\\\\Fonts\\\\Schadow BT Roman.ttf', name='Schadow BT', style='normal', variant='normal', weight=400, stretch='normal', size='scalable')) = 10.05\n",
            "DEBUG:matplotlib.font_manager:findfont: score(FontEntry(fname='C:\\\\Windows\\\\Fonts\\\\tahoma.ttf', name='Tahoma', style='normal', variant='normal', weight=400, stretch='normal', size='scalable')) = 10.05\n",
            "DEBUG:matplotlib.font_manager:findfont: score(FontEntry(fname='C:\\\\Windows\\\\Fonts\\\\swiss.ttf', name='Swis721 BT', style='normal', variant='normal', weight=400, stretch='normal', size='scalable')) = 10.05\n",
            "DEBUG:matplotlib.font_manager:findfont: score(FontEntry(fname='C:\\\\Windows\\\\Fonts\\\\taile.ttf', name='Microsoft Tai Le', style='normal', variant='normal', weight=400, stretch='normal', size='scalable')) = 10.05\n",
            "DEBUG:matplotlib.font_manager:findfont: score(FontEntry(fname='C:\\\\Windows\\\\Fonts\\\\seguihis.ttf', name='Segoe UI Historic', style='normal', variant='normal', weight=400, stretch='normal', size='scalable')) = 10.05\n",
            "DEBUG:matplotlib.font_manager:findfont: score(FontEntry(fname='C:\\\\Windows\\\\Fonts\\\\OLDENGL.TTF', name='Old English Text MT', style='normal', variant='normal', weight=400, stretch='normal', size='scalable')) = 10.05\n",
            "DEBUG:matplotlib.font_manager:findfont: score(FontEntry(fname='C:\\\\Windows\\\\Fonts\\\\arialbd.ttf', name='Arial', style='normal', variant='normal', weight=700, stretch='normal', size='scalable')) = 6.698636363636363\n",
            "DEBUG:matplotlib.font_manager:findfont: score(FontEntry(fname='C:\\\\Windows\\\\Fonts\\\\LBRITEDI.TTF', name='Lucida Bright', style='italic', variant='normal', weight=600, stretch='normal', size='scalable')) = 11.24\n",
            "DEBUG:matplotlib.font_manager:findfont: score(FontEntry(fname='C:\\\\Windows\\\\Fonts\\\\Swis721 Cn BT Bold.ttf', name='Swis721 Cn BT', style='normal', variant='normal', weight=700, stretch='normal', size='scalable')) = 10.335\n",
            "DEBUG:matplotlib.font_manager:findfont: score(FontEntry(fname='C:\\\\Windows\\\\Fonts\\\\LHANDW.TTF', name='Lucida Handwriting', style='italic', variant='normal', weight=400, stretch='normal', size='scalable')) = 11.05\n",
            "DEBUG:matplotlib.font_manager:findfont: score(FontEntry(fname='C:\\\\Windows\\\\Fonts\\\\arialbi.ttf', name='Arial', style='italic', variant='normal', weight=700, stretch='normal', size='scalable')) = 7.698636363636363\n",
            "DEBUG:matplotlib.font_manager:findfont: score(FontEntry(fname='C:\\\\Windows\\\\Fonts\\\\segoesc.ttf', name='Segoe Script', style='normal', variant='normal', weight=400, stretch='normal', size='scalable')) = 10.05\n",
            "DEBUG:matplotlib.font_manager:findfont: score(FontEntry(fname='C:\\\\Windows\\\\Fonts\\\\LSANSDI.TTF', name='Lucida Sans', style='italic', variant='normal', weight=600, stretch='normal', size='scalable')) = 11.24\n",
            "DEBUG:matplotlib.font_manager:findfont: score(FontEntry(fname='C:\\\\Windows\\\\Fonts\\\\mtproxy2.ttf', name='Proxy 2', style='normal', variant='normal', weight=400, stretch='normal', size='scalable')) = 10.05\n",
            "DEBUG:matplotlib.font_manager:findfont: score(FontEntry(fname='C:\\\\Windows\\\\Fonts\\\\NIAGSOL.TTF', name='Niagara Solid', style='normal', variant='normal', weight=400, stretch='normal', size='scalable')) = 10.05\n",
            "DEBUG:matplotlib.font_manager:findfont: score(FontEntry(fname='C:\\\\Windows\\\\Fonts\\\\LTYPEBO.TTF', name='Lucida Sans Typewriter', style='oblique', variant='normal', weight=600, stretch='normal', size='scalable')) = 11.24\n",
            "DEBUG:matplotlib.font_manager:findfont: score(FontEntry(fname='C:\\\\Windows\\\\Fonts\\\\swissbo.ttf', name='Swis721 BdOul BT', style='normal', variant='normal', weight=400, stretch='normal', size='scalable')) = 10.05\n",
            "DEBUG:matplotlib.font_manager:findfont: score(FontEntry(fname='C:\\\\Windows\\\\Fonts\\\\GIGI.TTF', name='Gigi', style='normal', variant='normal', weight=400, stretch='normal', size='scalable')) = 10.05\n",
            "DEBUG:matplotlib.font_manager:findfont: score(FontEntry(fname='C:\\\\Windows\\\\Fonts\\\\INFROMAN.TTF', name='Informal Roman', style='normal', variant='normal', weight=400, stretch='normal', size='scalable')) = 10.05\n",
            "DEBUG:matplotlib.font_manager:findfont: score(FontEntry(fname='C:\\\\Windows\\\\Fonts\\\\corbelb.ttf', name='Corbel', style='normal', variant='normal', weight=700, stretch='normal', size='scalable')) = 10.335\n",
            "DEBUG:matplotlib.font_manager:findfont: score(FontEntry(fname='C:\\\\Windows\\\\Fonts\\\\ntailu.ttf', name='Microsoft New Tai Lue', style='normal', variant='normal', weight=400, stretch='normal', size='scalable')) = 10.05\n",
            "DEBUG:matplotlib.font_manager:findfont: score(FontEntry(fname='C:\\\\Windows\\\\Fonts\\\\lucon.ttf', name='Lucida Console', style='normal', variant='normal', weight=400, stretch='normal', size='scalable')) = 10.05\n",
            "DEBUG:matplotlib.font_manager:findfont: score(FontEntry(fname='C:\\\\Windows\\\\Fonts\\\\FRAHVIT.TTF', name='Franklin Gothic Heavy', style='italic', variant='normal', weight=400, stretch='normal', size='scalable')) = 11.05\n",
            "DEBUG:matplotlib.font_manager:findfont: score(FontEntry(fname='C:\\\\Windows\\\\Fonts\\\\symath__.ttf', name='Symath', style='normal', variant='normal', weight=400, stretch='normal', size='scalable')) = 10.05\n",
            "DEBUG:matplotlib.font_manager:findfont: score(FontEntry(fname='C:\\\\Windows\\\\Fonts\\\\mtproxy3.ttf', name='Proxy 3', style='normal', variant='normal', weight=400, stretch='normal', size='scalable')) = 10.05\n",
            "DEBUG:matplotlib.font_manager:findfont: score(FontEntry(fname='C:\\\\Windows\\\\Fonts\\\\ITCEDSCR.TTF', name='Edwardian Script ITC', style='normal', variant='normal', weight=400, stretch='normal', size='scalable')) = 10.05\n",
            "DEBUG:matplotlib.font_manager:findfont: score(FontEntry(fname='C:\\\\Windows\\\\Fonts\\\\consolai.ttf', name='Consolas', style='italic', variant='normal', weight=400, stretch='normal', size='scalable')) = 11.05\n",
            "DEBUG:matplotlib.font_manager:findfont: score(FontEntry(fname='C:\\\\Windows\\\\Fonts\\\\NewsGoth BT Bold Italic.ttf', name='NewsGoth BT', style='italic', variant='normal', weight=700, stretch='normal', size='scalable')) = 11.335\n",
            "DEBUG:matplotlib.font_manager:findfont: score(FontEntry(fname='C:\\\\Windows\\\\Fonts\\\\SitkaI.ttc', name='Sitka Small', style='italic', variant='normal', weight=400, stretch='normal', size='scalable')) = 11.05\n",
            "DEBUG:matplotlib.font_manager:findfont: score(FontEntry(fname='C:\\\\Windows\\\\Fonts\\\\msyhbd.ttc', name='Microsoft YaHei', style='normal', variant='normal', weight=700, stretch='normal', size='scalable')) = 10.335\n",
            "DEBUG:matplotlib.font_manager:findfont: score(FontEntry(fname='C:\\\\Windows\\\\Fonts\\\\segoeuii.ttf', name='Segoe UI', style='italic', variant='normal', weight=400, stretch='normal', size='scalable')) = 11.05\n",
            "DEBUG:matplotlib.font_manager:findfont: score(FontEntry(fname='C:\\\\Windows\\\\Fonts\\\\dutchbi.ttf', name='Dutch801 Rm BT', style='italic', variant='normal', weight=700, stretch='normal', size='scalable')) = 11.335\n",
            "DEBUG:matplotlib.font_manager:findfont: score(FontEntry(fname='C:\\\\Windows\\\\Fonts\\\\vinet.ttf', name='Vineta BT', style='normal', variant='normal', weight=400, stretch='normal', size='scalable')) = 10.05\n",
            "DEBUG:matplotlib.font_manager:findfont: score(FontEntry(fname='C:\\\\Windows\\\\Fonts\\\\simsunb.ttf', name='SimSun-ExtB', style='normal', variant='normal', weight=400, stretch='normal', size='scalable')) = 10.05\n",
            "DEBUG:matplotlib.font_manager:findfont: score(FontEntry(fname='C:\\\\Windows\\\\Fonts\\\\CentSchbkCyrill BT Bold.ttf', name='CentSchbkCyrill BT', style='normal', variant='normal', weight=700, stretch='normal', size='scalable')) = 10.335\n",
            "DEBUG:matplotlib.font_manager:findfont: score(FontEntry(fname='C:\\\\Windows\\\\Fonts\\\\mtproxy8.ttf', name='Proxy 8', style='normal', variant='normal', weight=400, stretch='normal', size='scalable')) = 10.05\n",
            "DEBUG:matplotlib.font_manager:findfont: score(FontEntry(fname='C:\\\\Windows\\\\Fonts\\\\GOTHIC.TTF', name='Century Gothic', style='normal', variant='normal', weight=400, stretch='normal', size='scalable')) = 10.05\n",
            "DEBUG:matplotlib.font_manager:findfont: score(FontEntry(fname='C:\\\\Windows\\\\Fonts\\\\LFAX.TTF', name='Lucida Fax', style='normal', variant='normal', weight=400, stretch='normal', size='scalable')) = 10.05\n",
            "DEBUG:matplotlib.font_manager:findfont: score(FontEntry(fname='C:\\\\Windows\\\\Fonts\\\\Futura Md BT Medium Italic.ttf', name='Futura Md BT', style='italic', variant='normal', weight=400, stretch='normal', size='scalable')) = 11.05\n",
            "DEBUG:matplotlib.font_manager:findfont: score(FontEntry(fname='C:\\\\Windows\\\\Fonts\\\\symbol.ttf', name='Symbol', style='normal', variant='normal', weight=400, stretch='normal', size='scalable')) = 10.05\n",
            "DEBUG:matplotlib.font_manager:findfont: score(FontEntry(fname='C:\\\\Windows\\\\Fonts\\\\GeoSlab703 Md BT Medium.ttf', name='GeoSlab703 Md BT', style='normal', variant='normal', weight=400, stretch='normal', size='scalable')) = 10.05\n",
            "DEBUG:matplotlib.font_manager:findfont: score(FontEntry(fname='C:\\\\Windows\\\\Fonts\\\\COPRGTL.TTF', name='Copperplate Gothic Light', style='normal', variant='normal', weight=400, stretch='normal', size='scalable')) = 10.05\n",
            "DEBUG:matplotlib.font_manager:findfont: score(FontEntry(fname='C:\\\\Windows\\\\Fonts\\\\corbeli.ttf', name='Corbel', style='italic', variant='normal', weight=400, stretch='normal', size='scalable')) = 11.05\n",
            "DEBUG:matplotlib.font_manager:findfont: score(FontEntry(fname='C:\\\\Windows\\\\Fonts\\\\Swis721 WGL4 BT Roman.ttf', name='Swis721 WGL4 BT', style='normal', variant='normal', weight=400, stretch='normal', size='scalable')) = 10.05\n",
            "DEBUG:matplotlib.font_manager:findfont: score(FontEntry(fname='C:\\\\Windows\\\\Fonts\\\\BRLNSB.TTF', name='Berlin Sans FB', style='normal', variant='normal', weight=700, stretch='normal', size='scalable')) = 10.335\n",
            "DEBUG:matplotlib.font_manager:findfont: score(FontEntry(fname='C:\\\\Windows\\\\Fonts\\\\AcadEref.ttf', name='AcadEref', style='normal', variant='normal', weight=400, stretch='normal', size='scalable')) = 10.05\n",
            "DEBUG:matplotlib.font_manager:findfont: score(FontEntry(fname='C:\\\\Windows\\\\Fonts\\\\ERASLGHT.TTF', name='Eras Light ITC', style='normal', variant='normal', weight=400, stretch='normal', size='scalable')) = 10.05\n",
            "DEBUG:matplotlib.font_manager:findfont: score(FontEntry(fname='C:\\\\Windows\\\\Fonts\\\\simsun.ttc', name='SimSun', style='normal', variant='normal', weight=400, stretch='normal', size='scalable')) = 10.05\n",
            "DEBUG:matplotlib.font_manager:findfont: score(FontEntry(fname='C:\\\\Windows\\\\Fonts\\\\verdana.ttf', name='Verdana', style='normal', variant='normal', weight=400, stretch='normal', size='scalable')) = 3.6863636363636365\n",
            "DEBUG:matplotlib.font_manager:findfont: score(FontEntry(fname='C:\\\\Windows\\\\Fonts\\\\BOD_CBI.TTF', name='Bodoni MT', style='italic', variant='normal', weight=700, stretch='condensed', size='scalable')) = 11.535\n",
            "DEBUG:matplotlib.font_manager:findfont: score(FontEntry(fname='C:\\\\Windows\\\\Fonts\\\\GOTHICI.TTF', name='Century Gothic', style='italic', variant='normal', weight=400, stretch='normal', size='scalable')) = 11.05\n",
            "DEBUG:matplotlib.font_manager:findfont: score(FontEntry(fname='C:\\\\Windows\\\\Fonts\\\\segoeuib.ttf', name='Segoe UI', style='normal', variant='normal', weight=700, stretch='normal', size='scalable')) = 10.335\n",
            "DEBUG:matplotlib.font_manager:findfont: score(FontEntry(fname='C:\\\\Windows\\\\Fonts\\\\seguibl.ttf', name='Segoe UI', style='normal', variant='normal', weight=900, stretch='normal', size='scalable')) = 10.525\n",
            "DEBUG:matplotlib.font_manager:findfont: score(FontEntry(fname='C:\\\\Windows\\\\Fonts\\\\BOD_I.TTF', name='Bodoni MT', style='italic', variant='normal', weight=400, stretch='normal', size='scalable')) = 11.05\n",
            "DEBUG:matplotlib.font_manager:findfont: score(FontEntry(fname='C:\\\\Windows\\\\Fonts\\\\GOUDOSB.TTF', name='Goudy Old Style', style='normal', variant='normal', weight=700, stretch='normal', size='scalable')) = 10.335\n",
            "DEBUG:matplotlib.font_manager:findfont: score(FontEntry(fname='C:\\\\Windows\\\\Fonts\\\\greeks__.ttf', name='GreekS', style='normal', variant='normal', weight=400, stretch='normal', size='scalable')) = 10.05\n",
            "DEBUG:matplotlib.font_manager:findfont: score(FontEntry(fname='C:\\\\Windows\\\\Fonts\\\\cambriai.ttf', name='Cambria', style='italic', variant='normal', weight=400, stretch='normal', size='scalable')) = 11.05\n",
            "DEBUG:matplotlib.font_manager:findfont: score(FontEntry(fname='C:\\\\Windows\\\\Fonts\\\\SitkaZ.ttc', name='Sitka Small', style='italic', variant='normal', weight=700, stretch='normal', size='scalable')) = 11.335\n",
            "DEBUG:matplotlib.font_manager:findfont: score(FontEntry(fname='C:\\\\Windows\\\\Fonts\\\\MSUIGHUB.TTF', name='Microsoft Uighur', style='normal', variant='normal', weight=700, stretch='normal', size='scalable')) = 10.335\n",
            "DEBUG:matplotlib.font_manager:findfont: score(FontEntry(fname='C:\\\\Windows\\\\Fonts\\\\LBRITEI.TTF', name='Lucida Bright', style='italic', variant='normal', weight=400, stretch='normal', size='scalable')) = 11.05\n",
            "DEBUG:matplotlib.font_manager:findfont: score(FontEntry(fname='C:\\\\Windows\\\\Fonts\\\\Inkfree.ttf', name='Ink Free', style='normal', variant='normal', weight=400, stretch='normal', size='scalable')) = 10.05\n",
            "DEBUG:matplotlib.font_manager:findfont: score(FontEntry(fname='C:\\\\Windows\\\\Fonts\\\\seguili.ttf', name='Segoe UI', style='italic', variant='normal', weight=300, stretch='normal', size='scalable')) = 11.145\n",
            "DEBUG:matplotlib.font_manager:findfont: score(FontEntry(fname='C:\\\\Windows\\\\Fonts\\\\corbel.ttf', name='Corbel', style='normal', variant='normal', weight=400, stretch='normal', size='scalable')) = 10.05\n",
            "DEBUG:matplotlib.font_manager:findfont: score(FontEntry(fname='C:\\\\Windows\\\\Fonts\\\\BOD_BLAI.TTF', name='Bodoni MT', style='italic', variant='normal', weight=900, stretch='normal', size='scalable')) = 11.525\n",
            "DEBUG:matplotlib.font_manager:findfont: score(FontEntry(fname='C:\\\\Windows\\\\Fonts\\\\GILSANUB.TTF', name='Gill Sans Ultra Bold', style='normal', variant='normal', weight=400, stretch='normal', size='scalable')) = 10.05\n",
            "DEBUG:matplotlib.font_manager:findfont: score(FontEntry(fname='C:\\\\Windows\\\\Fonts\\\\courbi.ttf', name='Courier New', style='italic', variant='normal', weight=700, stretch='normal', size='scalable')) = 11.335\n",
            "DEBUG:matplotlib.font_manager:findfont: score(FontEntry(fname='C:\\\\Windows\\\\Fonts\\\\verdanaz.ttf', name='Verdana', style='italic', variant='normal', weight=700, stretch='normal', size='scalable')) = 4.971363636363637\n",
            "DEBUG:matplotlib.font_manager:findfont: score(FontEntry(fname='C:\\\\Windows\\\\Fonts\\\\TCBI____.TTF', name='Tw Cen MT', style='italic', variant='normal', weight=700, stretch='normal', size='scalable')) = 11.335\n",
            "DEBUG:matplotlib.font_manager:findfont: score(FontEntry(fname='C:\\\\Windows\\\\Fonts\\\\DUBAI-REGULAR.TTF', name='Dubai', style='normal', variant='normal', weight=400, stretch='normal', size='scalable')) = 10.05\n",
            "DEBUG:matplotlib.font_manager:findfont: score(FontEntry(fname='C:\\\\Windows\\\\Fonts\\\\swisscbi.ttf', name='Swis721 Cn BT', style='italic', variant='normal', weight=700, stretch='condensed', size='scalable')) = 11.535\n",
            "DEBUG:matplotlib.font_manager:findfont: score(FontEntry(fname='C:\\\\Windows\\\\Fonts\\\\swissek.ttf', name='Swis721 BlkEx BT', style='normal', variant='normal', weight=400, stretch='expanded', size='scalable')) = 10.25\n",
            "DEBUG:matplotlib.font_manager:findfont: score(FontEntry(fname='C:\\\\Windows\\\\Fonts\\\\LTYPE.TTF', name='Lucida Sans Typewriter', style='normal', variant='normal', weight=400, stretch='normal', size='scalable')) = 10.05\n",
            "DEBUG:matplotlib.font_manager:findfont: score(FontEntry(fname='C:\\\\Windows\\\\Fonts\\\\OCR-B 10 BT.ttf', name='OCR-B 10 BT', style='normal', variant='normal', weight=400, stretch='normal', size='scalable')) = 10.05\n",
            "DEBUG:matplotlib.font_manager:findfont: score(FontEntry(fname='C:\\\\Windows\\\\Fonts\\\\dutchi.ttf', name='Dutch801 Rm BT', style='italic', variant='normal', weight=400, stretch='normal', size='scalable')) = 11.05\n",
            "DEBUG:matplotlib.font_manager:findfont: score(FontEntry(fname='C:\\\\Windows\\\\Fonts\\\\Swis721 BlkCn BT Black.ttf', name='Swis721 BlkCn BT', style='normal', variant='normal', weight=400, stretch='normal', size='scalable')) = 10.05\n",
            "DEBUG:matplotlib.font_manager:findfont: score(FontEntry(fname='C:\\\\Windows\\\\Fonts\\\\BOD_B.TTF', name='Bodoni MT', style='normal', variant='normal', weight=700, stretch='normal', size='scalable')) = 10.335\n",
            "DEBUG:matplotlib.font_manager:findfont: score(FontEntry(fname='C:\\\\Windows\\\\Fonts\\\\TEMPSITC.TTF', name='Tempus Sans ITC', style='normal', variant='normal', weight=400, stretch='normal', size='scalable')) = 10.05\n",
            "DEBUG:matplotlib.font_manager:findfont: score(FontEntry(fname='C:\\\\Windows\\\\Fonts\\\\sanssb__.ttf', name='SansSerif', style='normal', variant='normal', weight=700, stretch='normal', size='scalable')) = 10.335\n",
            "DEBUG:matplotlib.font_manager:findfont: score(FontEntry(fname='C:\\\\Windows\\\\Fonts\\\\BELL.TTF', name='Bell MT', style='normal', variant='normal', weight=400, stretch='normal', size='scalable')) = 10.05\n",
            "DEBUG:matplotlib.font_manager:findfont: score(FontEntry(fname='C:\\\\Windows\\\\Fonts\\\\BOD_R.TTF', name='Bodoni MT', style='normal', variant='normal', weight=400, stretch='normal', size='scalable')) = 10.05\n",
            "DEBUG:matplotlib.font_manager:findfont: score(FontEntry(fname='C:\\\\Windows\\\\Fonts\\\\KUNSTLER.TTF', name='Kunstler Script', style='normal', variant='normal', weight=400, stretch='normal', size='scalable')) = 10.05\n",
            "DEBUG:matplotlib.font_manager:findfont: score(FontEntry(fname='C:\\\\Windows\\\\Fonts\\\\mtproxy5.ttf', name='Proxy 5', style='normal', variant='normal', weight=400, stretch='normal', size='scalable')) = 10.05\n",
            "DEBUG:matplotlib.font_manager:findfont: score(FontEntry(fname='C:\\\\Windows\\\\Fonts\\\\Century751 No2 BT Roman.ttf', name='Century751 No2 BT', style='normal', variant='normal', weight=400, stretch='normal', size='scalable')) = 10.05\n",
            "DEBUG:matplotlib.font_manager:findfont: score(FontEntry(fname='C:\\\\Windows\\\\Fonts\\\\segoeuiz.ttf', name='Segoe UI', style='italic', variant='normal', weight=700, stretch='normal', size='scalable')) = 11.335\n",
            "DEBUG:matplotlib.font_manager:findfont: score(FontEntry(fname='C:\\\\Windows\\\\Fonts\\\\Schadow BT Bold.ttf', name='Schadow BT', style='normal', variant='normal', weight=700, stretch='normal', size='scalable')) = 10.335\n",
            "DEBUG:matplotlib.font_manager:findfont: score(FontEntry(fname='C:\\\\Windows\\\\Fonts\\\\Swis721 Cn BT Roman.ttf', name='Swis721 Cn BT', style='normal', variant='normal', weight=400, stretch='normal', size='scalable')) = 10.05\n",
            "DEBUG:matplotlib.font_manager:findfont: score(FontEntry(fname='C:\\\\Windows\\\\Fonts\\\\Square721 BT Bold.ttf', name='Square721 BT', style='normal', variant='normal', weight=700, stretch='normal', size='scalable')) = 10.335\n",
            "DEBUG:matplotlib.font_manager:findfont: score(FontEntry(fname='C:\\\\Windows\\\\Fonts\\\\Century751 No2 BT Bold Italic.ttf', name='Century751 No2 BT', style='italic', variant='normal', weight=700, stretch='normal', size='scalable')) = 11.335\n",
            "DEBUG:matplotlib.font_manager:findfont: score(FontEntry(fname='C:\\\\Windows\\\\Fonts\\\\BROADW.TTF', name='Broadway', style='normal', variant='normal', weight=400, stretch='normal', size='scalable')) = 10.05\n",
            "DEBUG:matplotlib.font_manager:findfont: score(FontEntry(fname='C:\\\\Windows\\\\Fonts\\\\MISTRAL.TTF', name='Mistral', style='normal', variant='normal', weight=400, stretch='normal', size='scalable')) = 10.05\n",
            "DEBUG:matplotlib.font_manager:findfont: score(FontEntry(fname='C:\\\\Windows\\\\Fonts\\\\TCCEB.TTF', name='Tw Cen MT Condensed Extra Bold', style='normal', variant='normal', weight=400, stretch='condensed', size='scalable')) = 10.25\n",
            "DEBUG:matplotlib.font_manager:findfont: score(FontEntry(fname='C:\\\\Windows\\\\Fonts\\\\BKANT.TTF', name='Book Antiqua', style='normal', variant='normal', weight=400, stretch='normal', size='scalable')) = 10.05\n",
            "DEBUG:matplotlib.font_manager:findfont: score(FontEntry(fname='C:\\\\Windows\\\\Fonts\\\\calibrii.ttf', name='Calibri', style='italic', variant='normal', weight=400, stretch='normal', size='scalable')) = 11.05\n",
            "DEBUG:matplotlib.font_manager:findfont: score(FontEntry(fname='C:\\\\Windows\\\\Fonts\\\\comici.ttf', name='Comic Sans MS', style='italic', variant='normal', weight=400, stretch='normal', size='scalable')) = 11.05\n",
            "DEBUG:matplotlib.font_manager:findfont: score(FontEntry(fname='C:\\\\Windows\\\\Fonts\\\\LFAXD.TTF', name='Lucida Fax', style='normal', variant='normal', weight=600, stretch='normal', size='scalable')) = 10.24\n",
            "DEBUG:matplotlib.font_manager:findfont: score(FontEntry(fname='C:\\\\Windows\\\\Fonts\\\\isocpeur.ttf', name='ISOCPEUR', style='normal', variant='normal', weight=400, stretch='normal', size='scalable')) = 10.05\n",
            "DEBUG:matplotlib.font_manager:findfont: score(FontEntry(fname='C:\\\\Windows\\\\Fonts\\\\LSANSI.TTF', name='Lucida Sans', style='italic', variant='normal', weight=400, stretch='normal', size='scalable')) = 11.05\n",
            "DEBUG:matplotlib.font_manager:findfont: score(FontEntry(fname='C:\\\\Windows\\\\Fonts\\\\georgiab.ttf', name='Georgia', style='normal', variant='normal', weight=700, stretch='normal', size='scalable')) = 10.335\n",
            "DEBUG:matplotlib.font_manager:findfont: score(FontEntry(fname='C:\\\\Windows\\\\Fonts\\\\segoeprb.ttf', name='Segoe Print', style='normal', variant='normal', weight=700, stretch='normal', size='scalable')) = 10.335\n",
            "DEBUG:matplotlib.font_manager:findfont: score(FontEntry(fname='C:\\\\Windows\\\\Fonts\\\\Gabriola.ttf', name='Gabriola', style='normal', variant='normal', weight=400, stretch='normal', size='scalable')) = 10.05\n",
            "DEBUG:matplotlib.font_manager:findfont: score(FontEntry(fname='C:\\\\Windows\\\\Fonts\\\\Humnst777 Cn BT Bold.ttf', name='Humnst777 Cn BT', style='normal', variant='normal', weight=700, stretch='normal', size='scalable')) = 10.335\n",
            "DEBUG:matplotlib.font_manager:findfont: score(FontEntry(fname='C:\\\\Windows\\\\Fonts\\\\mmrtextb.ttf', name='Myanmar Text', style='normal', variant='normal', weight=700, stretch='normal', size='scalable')) = 10.335\n",
            "DEBUG:matplotlib.font_manager:findfont: score(FontEntry(fname='C:\\\\Windows\\\\Fonts\\\\GLSNECB.TTF', name='Gill Sans MT Ext Condensed Bold', style='normal', variant='normal', weight=400, stretch='condensed', size='scalable')) = 10.25\n",
            "DEBUG:matplotlib.font_manager:findfont: score(FontEntry(fname='C:\\\\Windows\\\\Fonts\\\\MOD20.TTF', name='Modern No. 20', style='normal', variant='normal', weight=400, stretch='normal', size='scalable')) = 10.05\n",
            "DEBUG:matplotlib.font_manager:findfont: score(FontEntry(fname='C:\\\\Windows\\\\Fonts\\\\corbelz.ttf', name='Corbel', style='italic', variant='normal', weight=700, stretch='normal', size='scalable')) = 11.335\n",
            "DEBUG:matplotlib.font_manager:findfont: score(FontEntry(fname='C:\\\\Windows\\\\Fonts\\\\LeelawUI.ttf', name='Leelawadee UI', style='normal', variant='normal', weight=400, stretch='normal', size='scalable')) = 10.05\n",
            "DEBUG:matplotlib.font_manager:findfont: score(FontEntry(fname='C:\\\\Windows\\\\Fonts\\\\BOOKOSB.TTF', name='Bookman Old Style', style='normal', variant='normal', weight=600, stretch='normal', size='scalable')) = 10.24\n",
            "DEBUG:matplotlib.font_manager:findfont: score(FontEntry(fname='C:\\\\Windows\\\\Fonts\\\\PAPYRUS.TTF', name='Papyrus', style='normal', variant='normal', weight=400, stretch='normal', size='scalable')) = 10.05\n",
            "DEBUG:matplotlib.font_manager:findfont: score(FontEntry(fname='C:\\\\Windows\\\\Fonts\\\\GILC____.TTF', name='Gill Sans MT Condensed', style='normal', variant='normal', weight=400, stretch='condensed', size='scalable')) = 10.25\n",
            "DEBUG:matplotlib.font_manager:findfont: score(FontEntry(fname='C:\\\\Windows\\\\Fonts\\\\isocp2__.ttf', name='ISOCP2', style='normal', variant='normal', weight=400, stretch='normal', size='scalable')) = 10.05\n",
            "DEBUG:matplotlib.font_manager:findfont: score(FontEntry(fname='C:\\\\Windows\\\\Fonts\\\\Swis721 BT Italic.ttf', name='Swis721 BT', style='italic', variant='normal', weight=400, stretch='normal', size='scalable')) = 11.05\n",
            "DEBUG:matplotlib.font_manager:findfont: score(FontEntry(fname='C:\\\\Windows\\\\Fonts\\\\FRADMCN.TTF', name='Franklin Gothic Demi Cond', style='normal', variant='normal', weight=400, stretch='condensed', size='scalable')) = 10.25\n",
            "DEBUG:matplotlib.font_manager:findfont: score(FontEntry(fname='C:\\\\Program Files (x86)\\\\Adobe\\\\Acrobat DC\\\\Resource\\\\Font\\\\AdobeDevanagari-Regular.otf', name='Adobe Devanagari', style='normal', variant='normal', weight=400, stretch='normal', size='scalable')) = 10.05\n",
            "DEBUG:matplotlib.font_manager:findfont: score(FontEntry(fname='C:\\\\Windows\\\\Fonts\\\\GLECB.TTF', name='Gloucester MT Extra Condensed', style='normal', variant='normal', weight=400, stretch='condensed', size='scalable')) = 10.25\n",
            "DEBUG:matplotlib.font_manager:findfont: score(FontEntry(fname='C:\\\\Windows\\\\Fonts\\\\monbaiti.ttf', name='Mongolian Baiti', style='normal', variant='normal', weight=400, stretch='normal', size='scalable')) = 10.05\n",
            "DEBUG:matplotlib.font_manager:findfont: score(FontEntry(fname='C:\\\\Windows\\\\Fonts\\\\AMDT_Symbols.ttf', name='AmdtSymbols', style='normal', variant='normal', weight=400, stretch='normal', size='scalable')) = 10.05\n",
            "DEBUG:matplotlib.font_manager:findfont: score(FontEntry(fname='C:\\\\Windows\\\\Fonts\\\\symeteo_.ttf', name='Symeteo', style='normal', variant='normal', weight=400, stretch='normal', size='scalable')) = 10.05\n",
            "DEBUG:matplotlib.font_manager:findfont: score(FontEntry(fname='C:\\\\Windows\\\\Fonts\\\\timesbd.ttf', name='Times New Roman', style='normal', variant='normal', weight=700, stretch='normal', size='scalable')) = 10.335\n",
            "DEBUG:matplotlib.font_manager:findfont: score(FontEntry(fname='C:\\\\Windows\\\\Fonts\\\\swissbi.ttf', name='Swis721 BT', style='italic', variant='normal', weight=700, stretch='normal', size='scalable')) = 11.335\n",
            "DEBUG:matplotlib.font_manager:findfont: score(FontEntry(fname='C:\\\\Windows\\\\Fonts\\\\MTEXTRA.TTF', name='MT Extra', style='normal', variant='normal', weight=400, stretch='normal', size='scalable')) = 10.05\n",
            "DEBUG:matplotlib.font_manager:findfont: score(FontEntry(fname='C:\\\\Windows\\\\Fonts\\\\verdanai.ttf', name='Verdana', style='italic', variant='normal', weight=400, stretch='normal', size='scalable')) = 4.6863636363636365\n",
            "DEBUG:matplotlib.font_manager:findfont: score(FontEntry(fname='C:\\\\Windows\\\\Fonts\\\\GeoSlab703 Md BT Bold Italic.ttf', name='GeoSlab703 Md BT', style='italic', variant='normal', weight=700, stretch='normal', size='scalable')) = 11.335\n",
            "DEBUG:matplotlib.font_manager:findfont: score(FontEntry(fname='C:\\\\Windows\\\\Fonts\\\\segoeuisl.ttf', name='Segoe UI', style='normal', variant='normal', weight=350, stretch='normal', size='scalable')) = 10.0975\n",
            "DEBUG:matplotlib.font_manager:findfont: score(FontEntry(fname='C:\\\\Windows\\\\Fonts\\\\YuGothL.ttc', name='Yu Gothic', style='normal', variant='normal', weight=300, stretch='normal', size='scalable')) = 10.145\n",
            "DEBUG:matplotlib.font_manager:findfont: score(FontEntry(fname='C:\\\\Windows\\\\Fonts\\\\CASTELAR.TTF', name='Castellar', style='normal', variant='normal', weight=400, stretch='normal', size='scalable')) = 10.05\n",
            "DEBUG:matplotlib.font_manager:findfont: score(FontEntry(fname='C:\\\\Windows\\\\Fonts\\\\GILI____.TTF', name='Gill Sans MT', style='italic', variant='normal', weight=400, stretch='normal', size='scalable')) = 11.05\n",
            "DEBUG:matplotlib.font_manager:findfont: score(FontEntry(fname='C:\\\\Windows\\\\Fonts\\\\msjh.ttc', name='Microsoft JhengHei', style='normal', variant='normal', weight=400, stretch='normal', size='scalable')) = 10.05\n",
            "DEBUG:matplotlib.font_manager:findfont: score(FontEntry(fname='C:\\\\Windows\\\\Fonts\\\\calibrili.ttf', name='Calibri', style='italic', variant='normal', weight=300, stretch='normal', size='scalable')) = 11.145\n",
            "DEBUG:matplotlib.font_manager:findfont: score(FontEntry(fname='C:\\\\Windows\\\\Fonts\\\\swisski.ttf', name='Swis721 Blk BT', style='italic', variant='normal', weight=400, stretch='normal', size='scalable')) = 11.05\n",
            "DEBUG:matplotlib.font_manager:findfont: score(FontEntry(fname='C:\\\\Windows\\\\Fonts\\\\LEELAWDB.TTF', name='Leelawadee', style='normal', variant='normal', weight=700, stretch='normal', size='scalable')) = 10.335\n",
            "DEBUG:matplotlib.font_manager:findfont: score(FontEntry(fname='C:\\\\Windows\\\\Fonts\\\\FRABK.TTF', name='Franklin Gothic Book', style='normal', variant='normal', weight=400, stretch='normal', size='scalable')) = 10.05\n",
            "DEBUG:matplotlib.font_manager:findfont: score(FontEntry(fname='C:\\\\Windows\\\\Fonts\\\\italicc_.ttf', name='ItalicC', style='italic', variant='normal', weight=400, stretch='normal', size='scalable')) = 11.05\n",
            "DEBUG:matplotlib.font_manager:findfont: score(FontEntry(fname='C:\\\\Windows\\\\Fonts\\\\PERBI___.TTF', name='Perpetua', style='italic', variant='normal', weight=700, stretch='normal', size='scalable')) = 11.335\n",
            "DEBUG:matplotlib.font_manager:findfont: score(FontEntry(fname='C:\\\\Windows\\\\Fonts\\\\Swis721 Cn BT Bold Italic.ttf', name='Swis721 Cn BT', style='italic', variant='normal', weight=700, stretch='normal', size='scalable')) = 11.335\n",
            "DEBUG:matplotlib.font_manager:findfont: score(FontEntry(fname='C:\\\\Windows\\\\Fonts\\\\Century751 SeBd BT Semi Bold.ttf', name='Century751 SeBd BT', style='normal', variant='normal', weight=400, stretch='normal', size='scalable')) = 10.05\n",
            "DEBUG:matplotlib.font_manager:findfont: score(FontEntry(fname='C:\\\\Windows\\\\Fonts\\\\seguiemj.ttf', name='Segoe UI Emoji', style='normal', variant='normal', weight=400, stretch='normal', size='scalable')) = 10.05\n",
            "DEBUG:matplotlib.font_manager:findfont: score(FontEntry(fname='C:\\\\Windows\\\\Fonts\\\\gdt_____.ttf', name='GDT', style='normal', variant='normal', weight=400, stretch='normal', size='scalable')) = 10.05\n",
            "DEBUG:matplotlib.font_manager:findfont: score(FontEntry(fname='C:\\\\Windows\\\\Fonts\\\\NewsGoth Lt BT Light.ttf', name='NewsGoth Lt BT', style='normal', variant='normal', weight=400, stretch='normal', size='scalable')) = 10.05\n",
            "DEBUG:matplotlib.font_manager:findfont: score(FontEntry(fname='C:\\\\Windows\\\\Fonts\\\\Candarab.ttf', name='Candara', style='normal', variant='normal', weight=700, stretch='normal', size='scalable')) = 10.335\n",
            "DEBUG:matplotlib.font_manager:findfont: score(FontEntry(fname='C:\\\\Windows\\\\Fonts\\\\monosbi.ttf', name='Monospac821 BT', style='italic', variant='normal', weight=700, stretch='normal', size='scalable')) = 11.335\n",
            "DEBUG:matplotlib.font_manager:findfont: score(FontEntry(fname='C:\\\\Windows\\\\Fonts\\\\CENTURY.TTF', name='Century', style='normal', variant='normal', weight=400, stretch='normal', size='scalable')) = 10.05\n",
            "DEBUG:matplotlib.font_manager:findfont: score(FontEntry(fname='C:\\\\Windows\\\\Fonts\\\\VINERITC.TTF', name='Viner Hand ITC', style='normal', variant='normal', weight=400, stretch='normal', size='scalable')) = 10.05\n",
            "DEBUG:matplotlib.font_manager:findfont: score(FontEntry(fname='C:\\\\Windows\\\\Fonts\\\\romab___.ttf', name='Romantic', style='normal', variant='normal', weight=700, stretch='normal', size='scalable')) = 10.335\n",
            "DEBUG:matplotlib.font_manager:findfont: score(FontEntry(fname='C:\\\\Windows\\\\Fonts\\\\ARLRDBD.TTF', name='Arial Rounded MT Bold', style='normal', variant='normal', weight=400, stretch='normal', size='scalable')) = 10.05\n",
            "DEBUG:matplotlib.font_manager:findfont: score(FontEntry(fname='C:\\\\Windows\\\\Fonts\\\\stylu.ttf', name='Stylus BT', style='normal', variant='normal', weight=300, stretch='normal', size='scalable')) = 10.145\n",
            "DEBUG:matplotlib.font_manager:findfont: score(FontEntry(fname='C:\\\\Windows\\\\Fonts\\\\framdit.ttf', name='Franklin Gothic Medium', style='italic', variant='normal', weight=400, stretch='normal', size='scalable')) = 11.05\n",
            "DEBUG:matplotlib.font_manager:findfont: score(FontEntry(fname='C:\\\\Windows\\\\Fonts\\\\CentSchbkCyrill BT Roman.ttf', name='CentSchbkCyrill BT', style='normal', variant='normal', weight=400, stretch='normal', size='scalable')) = 10.05\n",
            "DEBUG:matplotlib.font_manager:findfont: score(FontEntry(fname='C:\\\\Windows\\\\Fonts\\\\constani.ttf', name='Constantia', style='italic', variant='normal', weight=400, stretch='normal', size='scalable')) = 11.05\n",
            "DEBUG:matplotlib.font_manager:findfont: score(FontEntry(fname='C:\\\\Windows\\\\Fonts\\\\micross.ttf', name='Microsoft Sans Serif', style='normal', variant='normal', weight=400, stretch='normal', size='scalable')) = 10.05\n",
            "DEBUG:matplotlib.font_manager:findfont: score(FontEntry(fname='C:\\\\Windows\\\\Fonts\\\\ARIALN.TTF', name='Arial', style='normal', variant='normal', weight=400, stretch='condensed', size='scalable')) = 6.613636363636363\n",
            "DEBUG:matplotlib.font_manager:findfont: score(FontEntry(fname='C:\\\\Windows\\\\Fonts\\\\CentSchbkCyrill BT Bold Italic.ttf', name='CentSchbkCyrill BT', style='italic', variant='normal', weight=700, stretch='normal', size='scalable')) = 11.335\n",
            "DEBUG:matplotlib.font_manager:findfont: score(FontEntry(fname='C:\\\\Windows\\\\Fonts\\\\LSANS.TTF', name='Lucida Sans', style='normal', variant='normal', weight=400, stretch='normal', size='scalable')) = 10.05\n",
            "DEBUG:matplotlib.font_manager:findfont: score(FontEntry(fname='C:\\\\Windows\\\\Fonts\\\\Humnst777 Blk BT Black Italic.ttf', name='Humnst777 Blk BT', style='italic', variant='normal', weight=400, stretch='normal', size='scalable')) = 11.05\n",
            "DEBUG:matplotlib.font_manager:findfont: score(FontEntry(fname='C:\\\\Windows\\\\Fonts\\\\FRADM.TTF', name='Franklin Gothic Demi', style='normal', variant='normal', weight=400, stretch='normal', size='scalable')) = 10.05\n",
            "DEBUG:matplotlib.font_manager:findfont: score(FontEntry(fname='C:\\\\Windows\\\\Fonts\\\\ariali.ttf', name='Arial', style='italic', variant='normal', weight=400, stretch='normal', size='scalable')) = 7.413636363636363\n",
            "DEBUG:matplotlib.font_manager:findfont: score(FontEntry(fname='C:\\\\Windows\\\\Fonts\\\\Bodoni Bk BT Book Italic.ttf', name='Bodoni Bk BT', style='italic', variant='normal', weight=400, stretch='normal', size='scalable')) = 11.05\n",
            "DEBUG:matplotlib.font_manager:findfont: score(FontEntry(fname='C:\\\\Windows\\\\Fonts\\\\l_10646.ttf', name='Lucida Sans Unicode', style='normal', variant='normal', weight=400, stretch='normal', size='scalable')) = 10.05\n",
            "DEBUG:matplotlib.font_manager:findfont: score(FontEntry(fname='C:\\\\Windows\\\\Fonts\\\\NirmalaS.ttf', name='Nirmala UI', style='normal', variant='normal', weight=350, stretch='normal', size='scalable')) = 10.0975\n",
            "DEBUG:matplotlib.font_manager:findfont: score(FontEntry(fname='C:\\\\Windows\\\\Fonts\\\\Humanst521 BT Italic.ttf', name='Humanst521 BT', style='italic', variant='normal', weight=400, stretch='normal', size='scalable')) = 11.05\n",
            "DEBUG:matplotlib.font_manager:findfont: score(FontEntry(fname='C:\\\\Windows\\\\Fonts\\\\NirmalaB.ttf', name='Nirmala UI', style='normal', variant='normal', weight=700, stretch='normal', size='scalable')) = 10.335\n",
            "DEBUG:matplotlib.font_manager:findfont: score(FontEntry(fname='C:\\\\Windows\\\\Fonts\\\\LeelaUIb.ttf', name='Leelawadee UI', style='normal', variant='normal', weight=700, stretch='normal', size='scalable')) = 10.335\n",
            "DEBUG:matplotlib.font_manager:findfont: score(FontEntry(fname='C:\\\\Windows\\\\Fonts\\\\calibril.ttf', name='Calibri', style='normal', variant='normal', weight=300, stretch='normal', size='scalable')) = 10.145\n",
            "DEBUG:matplotlib.font_manager:findfont: score(FontEntry(fname='C:\\\\Windows\\\\Fonts\\\\corbell.ttf', name='Corbel', style='normal', variant='normal', weight=300, stretch='normal', size='scalable')) = 10.145\n",
            "DEBUG:matplotlib.font_manager:findfont: score(FontEntry(fname='C:\\\\Windows\\\\Fonts\\\\msyhl.ttc', name='Microsoft YaHei', style='normal', variant='normal', weight=290, stretch='normal', size='scalable')) = 10.1545\n",
            "DEBUG:matplotlib.font_manager:findfont: score(FontEntry(fname='C:\\\\Windows\\\\Fonts\\\\LCALLIG.TTF', name='Lucida Calligraphy', style='italic', variant='normal', weight=400, stretch='normal', size='scalable')) = 11.05\n",
            "DEBUG:matplotlib.font_manager:findfont: score(FontEntry(fname='C:\\\\Windows\\\\Fonts\\\\umath.ttf', name='UniversalMath1 BT', style='normal', variant='normal', weight=400, stretch='normal', size='scalable')) = 10.05\n",
            "DEBUG:matplotlib.font_manager:findfont: score(FontEntry(fname='C:\\\\Windows\\\\Fonts\\\\comicz.ttf', name='Comic Sans MS', style='italic', variant='normal', weight=700, stretch='normal', size='scalable')) = 11.335\n",
            "DEBUG:matplotlib.font_manager:findfont: score(FontEntry(fname='C:\\\\Windows\\\\Fonts\\\\MSUIGHUR.TTF', name='Microsoft Uighur', style='normal', variant='normal', weight=400, stretch='normal', size='scalable')) = 10.05\n",
            "DEBUG:matplotlib.font_manager:findfont: score(FontEntry(fname='C:\\\\Windows\\\\Fonts\\\\CALIFR.TTF', name='Californian FB', style='normal', variant='normal', weight=400, stretch='normal', size='scalable')) = 10.05\n",
            "DEBUG:matplotlib.font_manager:findfont: score(FontEntry(fname='C:\\\\Windows\\\\Fonts\\\\ELEPHNT.TTF', name='Elephant', style='normal', variant='normal', weight=400, stretch='normal', size='scalable')) = 10.05\n",
            "DEBUG:matplotlib.font_manager:findfont: score(FontEntry(fname='C:\\\\Windows\\\\Fonts\\\\Candarali.ttf', name='Candara', style='italic', variant='normal', weight=400, stretch='normal', size='scalable')) = 11.05\n",
            "DEBUG:matplotlib.font_manager:findfont: score(FontEntry(fname='C:\\\\Windows\\\\Fonts\\\\HARLOWSI.TTF', name='Harlow Solid Italic', style='italic', variant='normal', weight=400, stretch='normal', size='scalable')) = 11.05\n",
            "DEBUG:matplotlib.font_manager:findfont: score(FontEntry(fname='C:\\\\Windows\\\\Fonts\\\\Swis721 WGL4 BT Bold.ttf', name='Swis721 WGL4 BT', style='normal', variant='normal', weight=700, stretch='normal', size='scalable')) = 10.335\n",
            "DEBUG:matplotlib.font_manager:findfont: score(FontEntry(fname='C:\\\\Windows\\\\Fonts\\\\RAGE.TTF', name='Rage Italic', style='italic', variant='normal', weight=400, stretch='normal', size='scalable')) = 11.05\n",
            "DEBUG:matplotlib.font_manager:findfont: score(FontEntry(fname='C:\\\\Windows\\\\Fonts\\\\Clarendon Lt BT Light.ttf', name='Clarendon Lt BT', style='normal', variant='normal', weight=400, stretch='normal', size='scalable')) = 10.05\n",
            "DEBUG:matplotlib.font_manager:findfont: score(FontEntry(fname='C:\\\\Windows\\\\Fonts\\\\syastro_.ttf', name='Syastro', style='normal', variant='normal', weight=400, stretch='normal', size='scalable')) = 10.05\n",
            "DEBUG:matplotlib.font_manager:findfont: score(FontEntry(fname='C:\\\\Windows\\\\Fonts\\\\Swis721 Lt BT Light Italic.ttf', name='Swis721 Lt BT', style='italic', variant='normal', weight=400, stretch='normal', size='scalable')) = 11.05\n",
            "DEBUG:matplotlib.font_manager:findfont: score(FontEntry(fname='C:\\\\Windows\\\\Fonts\\\\comsc.ttf', name='CommercialScript BT', style='normal', variant='normal', weight=400, stretch='normal', size='scalable')) = 10.05\n",
            "DEBUG:matplotlib.font_manager:findfont: score(FontEntry(fname='C:\\\\Windows\\\\Fonts\\\\BELLB.TTF', name='Bell MT', style='normal', variant='normal', weight=700, stretch='normal', size='scalable')) = 10.335\n",
            "DEBUG:matplotlib.font_manager:findfont: score(FontEntry(fname='C:\\\\Windows\\\\Fonts\\\\trebucbi.ttf', name='Trebuchet MS', style='italic', variant='normal', weight=700, stretch='normal', size='scalable')) = 11.335\n",
            "DEBUG:matplotlib.font_manager:findfont: score(FontEntry(fname='C:\\\\Windows\\\\Fonts\\\\DUBAI-MEDIUM.TTF', name='Dubai', style='normal', variant='normal', weight=500, stretch='normal', size='scalable')) = 10.145\n",
            "DEBUG:matplotlib.font_manager:findfont: score(FontEntry(fname='C:\\\\Windows\\\\Fonts\\\\Bodoni Bd BT Bold.ttf', name='Bodoni Bd BT', style='normal', variant='normal', weight=400, stretch='normal', size='scalable')) = 10.05\n",
            "DEBUG:matplotlib.font_manager:findfont: score(FontEntry(fname='C:\\\\Windows\\\\Fonts\\\\PERI____.TTF', name='Perpetua', style='italic', variant='normal', weight=400, stretch='normal', size='scalable')) = 11.05\n",
            "DEBUG:matplotlib.font_manager:findfont: score(FontEntry(fname='C:\\\\Windows\\\\Fonts\\\\constan.ttf', name='Constantia', style='normal', variant='normal', weight=400, stretch='normal', size='scalable')) = 10.05\n",
            "DEBUG:matplotlib.font_manager:findfont: score(FontEntry(fname='C:\\\\Program Files (x86)\\\\Adobe\\\\Acrobat DC\\\\Resource\\\\Font\\\\AdobeDevanagari-Italic.otf', name='Adobe Devanagari', style='italic', variant='normal', weight=400, stretch='normal', size='scalable')) = 11.05\n",
            "DEBUG:matplotlib.font_manager:findfont: score(FontEntry(fname='C:\\\\Windows\\\\Fonts\\\\romai___.ttf', name='Romantic', style='italic', variant='normal', weight=400, stretch='normal', size='scalable')) = 11.05\n",
            "DEBUG:matplotlib.font_manager:findfont: score(FontEntry(fname='C:\\\\Windows\\\\Fonts\\\\segoepr.ttf', name='Segoe Print', style='normal', variant='normal', weight=400, stretch='normal', size='scalable')) = 10.05\n",
            "DEBUG:matplotlib.font_manager:findfont: score(FontEntry(fname='C:\\\\Windows\\\\Fonts\\\\PALSCRI.TTF', name='Palace Script MT', style='normal', variant='normal', weight=400, stretch='normal', size='scalable')) = 10.05\n",
            "DEBUG:matplotlib.font_manager:findfont: score(FontEntry(fname='C:\\\\Windows\\\\Fonts\\\\ROCKEB.TTF', name='Rockwell Extra Bold', style='normal', variant='normal', weight=800, stretch='normal', size='scalable')) = 10.43\n",
            "DEBUG:matplotlib.font_manager:findfont: score(FontEntry(fname='C:\\\\Windows\\\\Fonts\\\\CALIST.TTF', name='Calisto MT', style='normal', variant='normal', weight=400, stretch='normal', size='scalable')) = 10.05\n",
            "DEBUG:matplotlib.font_manager:findfont: score(FontEntry(fname='C:\\\\Windows\\\\Fonts\\\\FRSCRIPT.TTF', name='French Script MT', style='normal', variant='normal', weight=400, stretch='normal', size='scalable')) = 10.05\n",
            "DEBUG:matplotlib.font_manager:findfont: score(FontEntry(fname='C:\\\\Windows\\\\Fonts\\\\calibri.ttf', name='Calibri', style='normal', variant='normal', weight=400, stretch='normal', size='scalable')) = 10.05\n",
            "DEBUG:matplotlib.font_manager:findfont: score(FontEntry(fname='C:\\\\Windows\\\\Fonts\\\\couri.ttf', name='Courier New', style='italic', variant='normal', weight=400, stretch='normal', size='scalable')) = 11.05\n",
            "DEBUG:matplotlib.font_manager:findfont: score(FontEntry(fname='C:\\\\Windows\\\\Fonts\\\\tahomabd.ttf', name='Tahoma', style='normal', variant='normal', weight=700, stretch='normal', size='scalable')) = 10.335\n",
            "DEBUG:matplotlib.font_manager:findfont: score(FontEntry(fname='C:\\\\Windows\\\\Fonts\\\\gothicg_.ttf', name='GothicG', style='normal', variant='normal', weight=400, stretch='normal', size='scalable')) = 10.05\n",
            "DEBUG:matplotlib.font_manager:findfont: score(FontEntry(fname='C:\\\\Windows\\\\Fonts\\\\Candaraz.ttf', name='Candara', style='italic', variant='normal', weight=700, stretch='normal', size='scalable')) = 11.335\n",
            "DEBUG:matplotlib.font_manager:findfont: score(FontEntry(fname='C:\\\\Windows\\\\Fonts\\\\Humnst777 Lt BT Light.ttf', name='Humnst777 Lt BT', style='normal', variant='normal', weight=400, stretch='normal', size='scalable')) = 10.05\n",
            "DEBUG:matplotlib.font_manager:findfont: score(FontEntry(fname='C:\\\\Windows\\\\Fonts\\\\swisscli.ttf', name='Swis721 LtCn BT', style='italic', variant='normal', weight=400, stretch='condensed', size='scalable')) = 11.25\n",
            "DEBUG:matplotlib.font_manager:findfont: score(FontEntry(fname='C:\\\\Windows\\\\Fonts\\\\Geometr212 BkCn BT Heavy.ttf', name='Geometr212 BkCn BT', style='normal', variant='normal', weight=700, stretch='normal', size='scalable')) = 10.335\n",
            "DEBUG:matplotlib.font_manager:findfont: score(FontEntry(fname='C:\\\\Windows\\\\Fonts\\\\OCR-A BT.ttf', name='OCR-A BT', style='normal', variant='normal', weight=400, stretch='normal', size='scalable')) = 10.05\n",
            "DEBUG:matplotlib.font_manager:findfont: score(FontEntry(fname='C:\\\\Windows\\\\Fonts\\\\CALISTI.TTF', name='Calisto MT', style='italic', variant='normal', weight=400, stretch='normal', size='scalable')) = 11.05\n",
            "DEBUG:matplotlib.font_manager:findfont: score(FontEntry(fname='C:\\\\Windows\\\\Fonts\\\\PERTILI.TTF', name='Perpetua Titling MT', style='normal', variant='normal', weight=300, stretch='normal', size='scalable')) = 10.145\n",
            "DEBUG:matplotlib.font_manager:findfont: score(FontEntry(fname='C:\\\\Windows\\\\Fonts\\\\calibrib.ttf', name='Calibri', style='normal', variant='normal', weight=700, stretch='normal', size='scalable')) = 10.335\n",
            "DEBUG:matplotlib.font_manager:findfont: score(FontEntry(fname='C:\\\\Windows\\\\Fonts\\\\gadugi.ttf', name='Gadugi', style='normal', variant='normal', weight=400, stretch='normal', size='scalable')) = 10.05\n",
            "DEBUG:matplotlib.font_manager:findfont: score(FontEntry(fname='C:\\\\Windows\\\\Fonts\\\\Century751 No2 BT Bold.ttf', name='Century751 No2 BT', style='normal', variant='normal', weight=700, stretch='normal', size='scalable')) = 10.335\n",
            "DEBUG:matplotlib.font_manager:findfont: score(FontEntry(fname='C:\\\\Windows\\\\Fonts\\\\Bodoni Bd BT Bold Italic.ttf', name='Bodoni Bd BT', style='italic', variant='normal', weight=400, stretch='normal', size='scalable')) = 11.05\n",
            "DEBUG:matplotlib.font_manager:findfont: score(FontEntry(fname='C:\\\\Windows\\\\Fonts\\\\palabi.ttf', name='Palatino Linotype', style='italic', variant='normal', weight=700, stretch='normal', size='scalable')) = 11.335\n",
            "DEBUG:matplotlib.font_manager:findfont: score(FontEntry(fname='C:\\\\Windows\\\\Fonts\\\\italict_.ttf', name='ItalicT', style='italic', variant='normal', weight=400, stretch='normal', size='scalable')) = 11.05\n",
            "DEBUG:matplotlib.font_manager:findfont: score(FontEntry(fname='C:\\\\Windows\\\\Fonts\\\\Humnst777 BT Roman.ttf', name='Humnst777 BT', style='normal', variant='normal', weight=400, stretch='normal', size='scalable')) = 10.05\n",
            "DEBUG:matplotlib.font_manager:findfont: score(FontEntry(fname='C:\\\\Windows\\\\Fonts\\\\DUBAI-LIGHT.TTF', name='Dubai', style='normal', variant='normal', weight=300, stretch='normal', size='scalable')) = 10.145\n",
            "DEBUG:matplotlib.font_manager:findfont: score(FontEntry(fname='C:\\\\Windows\\\\Fonts\\\\ANTQUAB.TTF', name='Book Antiqua', style='normal', variant='normal', weight=700, stretch='normal', size='scalable')) = 10.335\n",
            "DEBUG:matplotlib.font_manager:findfont: score(FontEntry(fname='C:\\\\Windows\\\\Fonts\\\\YuGothR.ttc', name='Yu Gothic', style='normal', variant='normal', weight=400, stretch='normal', size='scalable')) = 10.05\n",
            "DEBUG:matplotlib.font_manager:findfont: score(FontEntry(fname='C:\\\\Windows\\\\Fonts\\\\BOD_CI.TTF', name='Bodoni MT', style='italic', variant='normal', weight=400, stretch='condensed', size='scalable')) = 11.25\n",
            "DEBUG:matplotlib.font_manager:findfont: score(FontEntry(fname='C:\\\\Windows\\\\Fonts\\\\LATINWD.TTF', name='Wide Latin', style='normal', variant='normal', weight=400, stretch='expanded', size='scalable')) = 10.25\n",
            "DEBUG:matplotlib.font_manager:findfont: score(FontEntry(fname='C:\\\\Windows\\\\Fonts\\\\AGENCYR.TTF', name='Agency FB', style='normal', variant='normal', weight=400, stretch='normal', size='scalable')) = 10.05\n",
            "DEBUG:matplotlib.font_manager:findfont: score(FontEntry(fname='C:\\\\Windows\\\\Fonts\\\\BOD_PSTC.TTF', name='Bodoni MT', style='normal', variant='normal', weight=300, stretch='normal', size='scalable')) = 10.145\n",
            "DEBUG:matplotlib.font_manager:findfont: score(FontEntry(fname='C:\\\\Windows\\\\Fonts\\\\msgothic.ttc', name='MS Gothic', style='normal', variant='normal', weight=400, stretch='normal', size='scalable')) = 10.05\n",
            "DEBUG:matplotlib.font_manager:findfont: score(FontEntry(fname='C:\\\\Windows\\\\Fonts\\\\LSANSD.TTF', name='Lucida Sans', style='normal', variant='normal', weight=600, stretch='normal', size='scalable')) = 10.24\n",
            "DEBUG:matplotlib.font_manager:findfont: score(FontEntry(fname='C:\\\\Windows\\\\Fonts\\\\GOUDOS.TTF', name='Goudy Old Style', style='normal', variant='normal', weight=400, stretch='normal', size='scalable')) = 10.05\n",
            "DEBUG:matplotlib.font_manager:findfont: score(FontEntry(fname='C:\\\\Windows\\\\Fonts\\\\Futura Md BT Bold.ttf', name='Futura Md BT', style='normal', variant='normal', weight=700, stretch='normal', size='scalable')) = 10.335\n",
            "DEBUG:matplotlib.font_manager:findfont: score(FontEntry(fname='C:\\\\Windows\\\\Fonts\\\\swissk.ttf', name='Swis721 Blk BT', style='normal', variant='normal', weight=400, stretch='normal', size='scalable')) = 10.05\n",
            "DEBUG:matplotlib.font_manager:findfont: score(FontEntry(fname='C:\\\\Windows\\\\Fonts\\\\BELLI.TTF', name='Bell MT', style='italic', variant='normal', weight=400, stretch='normal', size='scalable')) = 11.05\n",
            "DEBUG:matplotlib.font_manager:findfont: score(FontEntry(fname='C:\\\\Windows\\\\Fonts\\\\ANTQUABI.TTF', name='Book Antiqua', style='italic', variant='normal', weight=700, stretch='normal', size='scalable')) = 11.335\n",
            "DEBUG:matplotlib.font_manager:findfont: score(FontEntry(fname='C:\\\\Windows\\\\Fonts\\\\bgothl.ttf', name='BankGothic Lt BT', style='normal', variant='normal', weight=400, stretch='normal', size='scalable')) = 10.05\n",
            "DEBUG:matplotlib.font_manager:findfont: score(FontEntry(fname='C:\\\\Windows\\\\Fonts\\\\javatext.ttf', name='Javanese Text', style='normal', variant='normal', weight=400, stretch='normal', size='scalable')) = 10.05\n",
            "DEBUG:matplotlib.font_manager:findfont: score(FontEntry(fname='C:\\\\Windows\\\\Fonts\\\\bahnschrift.ttf', name='Bahnschrift', style='normal', variant='normal', weight=400, stretch='normal', size='scalable')) = 10.05\n",
            "DEBUG:matplotlib.font_manager:findfont: score(FontEntry(fname='C:\\\\Windows\\\\Fonts\\\\TypoUpright BT.ttf', name='TypoUpright BT', style='normal', variant='normal', weight=400, stretch='normal', size='scalable')) = 10.05\n",
            "DEBUG:matplotlib.font_manager:findfont: score(FontEntry(fname='C:\\\\Windows\\\\Fonts\\\\ARIALNBI.TTF', name='Arial', style='italic', variant='normal', weight=700, stretch='condensed', size='scalable')) = 7.8986363636363635\n",
            "DEBUG:matplotlib.font_manager:findfont: score(FontEntry(fname='C:\\\\Windows\\\\Fonts\\\\isoct2__.ttf', name='ISOCT2', style='normal', variant='normal', weight=400, stretch='normal', size='scalable')) = 10.05\n",
            "DEBUG:matplotlib.font_manager:findfont: score(FontEntry(fname='C:\\\\Windows\\\\Fonts\\\\trebucbd.ttf', name='Trebuchet MS', style='normal', variant='normal', weight=700, stretch='normal', size='scalable')) = 10.335\n",
            "DEBUG:matplotlib.font_manager:findfont: score(FontEntry(fname='C:\\\\Windows\\\\Fonts\\\\phagspa.ttf', name='Microsoft PhagsPa', style='normal', variant='normal', weight=400, stretch='normal', size='scalable')) = 10.05\n",
            "DEBUG:matplotlib.font_manager:findfont: score(FontEntry(fname='C:\\\\Windows\\\\Fonts\\\\seguisli.ttf', name='Segoe UI', style='italic', variant='normal', weight=350, stretch='normal', size='scalable')) = 11.0975\n",
            "DEBUG:matplotlib.font_manager:findfont: score(FontEntry(fname='C:\\\\Windows\\\\Fonts\\\\eurr____.ttf', name='EuroRoman', style='normal', variant='normal', weight=400, stretch='normal', size='scalable')) = 10.05\n",
            "DEBUG:matplotlib.font_manager:findfont: score(FontEntry(fname='C:\\\\Windows\\\\Fonts\\\\gothici_.ttf', name='GothicI', style='normal', variant='normal', weight=400, stretch='normal', size='scalable')) = 10.05\n",
            "DEBUG:matplotlib.font_manager:findfont: score(FontEntry(fname='C:\\\\Windows\\\\Fonts\\\\pala.ttf', name='Palatino Linotype', style='normal', variant='normal', weight=400, stretch='normal', size='scalable')) = 10.05\n",
            "DEBUG:matplotlib.font_manager:findfont: score(FontEntry(fname='C:\\\\Program Files (x86)\\\\Adobe\\\\Acrobat DC\\\\Resource\\\\Font\\\\AdobeDevanagari-Bold.otf', name='Adobe Devanagari', style='normal', variant='normal', weight=700, stretch='normal', size='scalable')) = 10.335\n",
            "DEBUG:matplotlib.font_manager:findfont: score(FontEntry(fname='C:\\\\Windows\\\\Fonts\\\\GARAIT.TTF', name='Garamond', style='italic', variant='normal', weight=400, stretch='normal', size='scalable')) = 11.05\n",
            "DEBUG:matplotlib.font_manager:findfont: score(FontEntry(fname='C:\\\\Windows\\\\Fonts\\\\LBRITE.TTF', name='Lucida Bright', style='normal', variant='normal', weight=400, stretch='normal', size='scalable')) = 10.05\n",
            "DEBUG:matplotlib.font_manager:findfont: score(FontEntry(fname='C:\\\\Windows\\\\Fonts\\\\AGENCYB.TTF', name='Agency FB', style='normal', variant='normal', weight=700, stretch='normal', size='scalable')) = 10.335\n",
            "DEBUG:matplotlib.font_manager:findfont: score(FontEntry(fname='C:\\\\Windows\\\\Fonts\\\\dutcheb.ttf', name='Dutch801 XBd BT', style='normal', variant='normal', weight=400, stretch='normal', size='scalable')) = 10.05\n",
            "DEBUG:matplotlib.font_manager:findfont: score(FontEntry(fname='C:\\\\Windows\\\\Fonts\\\\HATTEN.TTF', name='Haettenschweiler', style='normal', variant='normal', weight=400, stretch='normal', size='scalable')) = 10.05\n",
            "DEBUG:matplotlib.font_manager:findfont: score(FontEntry(fname='C:\\\\Windows\\\\Fonts\\\\News701 BT Bold.ttf', name='News701 BT', style='normal', variant='normal', weight=700, stretch='normal', size='scalable')) = 10.335\n",
            "DEBUG:matplotlib.font_manager:findfont: score(FontEntry(fname='C:\\\\Windows\\\\Fonts\\\\swisscbo.ttf', name='Swis721 BdCnOul BT', style='normal', variant='normal', weight=400, stretch='condensed', size='scalable')) = 10.25\n",
            "DEBUG:matplotlib.font_manager:findfont: score(FontEntry(fname='C:\\\\Windows\\\\Fonts\\\\techb___.ttf', name='TechnicBold', style='normal', variant='normal', weight=400, stretch='normal', size='scalable')) = 10.05\n",
            "DEBUG:matplotlib.font_manager:findfont: score(FontEntry(fname='C:\\\\Windows\\\\Fonts\\\\ITCBLKAD.TTF', name='Blackadder ITC', style='normal', variant='normal', weight=400, stretch='normal', size='scalable')) = 10.05\n",
            "DEBUG:matplotlib.font_manager:findfont: score(FontEntry(fname='C:\\\\Windows\\\\Fonts\\\\JUICE___.TTF', name='Juice ITC', style='normal', variant='normal', weight=400, stretch='normal', size='scalable')) = 10.05\n",
            "DEBUG:matplotlib.font_manager:findfont: score(FontEntry(fname='C:\\\\Windows\\\\Fonts\\\\Candarai.ttf', name='Candara', style='italic', variant='normal', weight=400, stretch='normal', size='scalable')) = 11.05\n",
            "DEBUG:matplotlib.font_manager:findfont: score(FontEntry(fname='C:\\\\Windows\\\\Fonts\\\\ERASMD.TTF', name='Eras Medium ITC', style='normal', variant='normal', weight=400, stretch='normal', size='scalable')) = 10.05\n",
            "DEBUG:matplotlib.font_manager:findfont: score(FontEntry(fname='C:\\\\Windows\\\\Fonts\\\\Humnst777 BlkCn BT Black.ttf', name='Humnst777 BlkCn BT', style='normal', variant='normal', weight=400, stretch='normal', size='scalable')) = 10.05\n",
            "DEBUG:matplotlib.font_manager:findfont: score(FontEntry(fname='C:\\\\Windows\\\\Fonts\\\\FTLTLT.TTF', name='Footlight MT Light', style='normal', variant='normal', weight=300, stretch='normal', size='scalable')) = 10.145\n",
            "DEBUG:matplotlib.font_manager:findfont: score(FontEntry(fname='C:\\\\Windows\\\\Fonts\\\\italic__.ttf', name='Italic', style='italic', variant='normal', weight=400, stretch='normal', size='scalable')) = 11.05\n",
            "DEBUG:matplotlib.font_manager:findfont: score(FontEntry(fname='C:\\\\Windows\\\\Fonts\\\\DeVinne Txt BT.ttf', name='DeVinne Txt BT', style='normal', variant='normal', weight=400, stretch='normal', size='scalable')) = 10.05\n",
            "DEBUG:matplotlib.font_manager:findfont: score(FontEntry(fname='C:\\\\Windows\\\\Fonts\\\\technic_.ttf', name='Technic', style='normal', variant='normal', weight=400, stretch='normal', size='scalable')) = 10.05\n",
            "DEBUG:matplotlib.font_manager:findfont: score(FontEntry(fname='C:\\\\Windows\\\\Fonts\\\\cour.ttf', name='Courier New', style='normal', variant='normal', weight=400, stretch='normal', size='scalable')) = 10.05\n",
            "DEBUG:matplotlib.font_manager:findfont: score(FontEntry(fname='C:\\\\Windows\\\\Fonts\\\\scriptc_.ttf', name='ScriptC', style='normal', variant='normal', weight=400, stretch='normal', size='scalable')) = 10.05\n",
            "DEBUG:matplotlib.font_manager:findfont: score(FontEntry(fname='C:\\\\Windows\\\\Fonts\\\\Humanst521 BT Bold.ttf', name='Humanst521 BT', style='normal', variant='normal', weight=700, stretch='normal', size='scalable')) = 10.335\n",
            "DEBUG:matplotlib.font_manager:findfont: score(FontEntry(fname='C:\\\\Windows\\\\Fonts\\\\Bodoni Bk BT Book.ttf', name='Bodoni Bk BT', style='normal', variant='normal', weight=400, stretch='normal', size='scalable')) = 10.05\n",
            "DEBUG:matplotlib.font_manager:findfont: score(FontEntry(fname='C:\\\\Windows\\\\Fonts\\\\BOD_CR.TTF', name='Bodoni MT', style='normal', variant='normal', weight=400, stretch='condensed', size='scalable')) = 10.25\n",
            "DEBUG:matplotlib.font_manager:findfont: score(FontEntry(fname='C:\\\\Windows\\\\Fonts\\\\Sitka.ttc', name='Sitka Small', style='normal', variant='normal', weight=400, stretch='normal', size='scalable')) = 10.05\n",
            "DEBUG:matplotlib.font_manager:findfont: score(FontEntry(fname='C:\\\\Windows\\\\Fonts\\\\DUBAI-BOLD.TTF', name='Dubai', style='normal', variant='normal', weight=700, stretch='normal', size='scalable')) = 10.335\n",
            "DEBUG:matplotlib.font_manager:findfont: score(FontEntry(fname='C:\\\\Windows\\\\Fonts\\\\ebrimabd.ttf', name='Ebrima', style='normal', variant='normal', weight=700, stretch='normal', size='scalable')) = 10.335\n",
            "DEBUG:matplotlib.font_manager:findfont: score(FontEntry(fname='C:\\\\Windows\\\\Fonts\\\\Swis721 BT Bold Italic.ttf', name='Swis721 BT', style='italic', variant='normal', weight=700, stretch='normal', size='scalable')) = 11.335\n",
            "DEBUG:matplotlib.font_manager:findfont: score(FontEntry(fname='C:\\\\Windows\\\\Fonts\\\\Swis721 Blk BT Black.ttf', name='Swis721 Blk BT', style='normal', variant='normal', weight=400, stretch='normal', size='scalable')) = 10.05\n",
            "DEBUG:matplotlib.font_manager:findfont: score(FontEntry(fname='C:\\\\Windows\\\\Fonts\\\\ariblk.ttf', name='Arial', style='normal', variant='normal', weight=900, stretch='normal', size='scalable')) = 6.888636363636364\n",
            "DEBUG:matplotlib.font_manager:findfont: score(FontEntry(fname='C:\\\\Windows\\\\Fonts\\\\BRITANIC.TTF', name='Britannic Bold', style='normal', variant='normal', weight=400, stretch='normal', size='scalable')) = 10.05\n",
            "DEBUG:matplotlib.font_manager:findfont: score(FontEntry(fname='C:\\\\Windows\\\\Fonts\\\\BRUSHSCI.TTF', name='Brush Script MT', style='italic', variant='normal', weight=400, stretch='normal', size='scalable')) = 11.05\n",
            "DEBUG:matplotlib.font_manager:findfont: score(FontEntry(fname='C:\\\\Windows\\\\Fonts\\\\BRLNSDB.TTF', name='Berlin Sans FB Demi', style='normal', variant='normal', weight=700, stretch='normal', size='scalable')) = 10.335\n",
            "DEBUG:matplotlib.font_manager:findfont: score(FontEntry(fname='C:\\\\Windows\\\\Fonts\\\\swissck.ttf', name='Swis721 BlkCn BT', style='normal', variant='normal', weight=400, stretch='condensed', size='scalable')) = 10.25\n",
            "DEBUG:matplotlib.font_manager:findfont: score(FontEntry(fname='C:\\\\Program Files (x86)\\\\Adobe\\\\Acrobat DC\\\\Resource\\\\Font\\\\AdobeDevanagari-BoldItalic.otf', name='Adobe Devanagari', style='italic', variant='normal', weight=700, stretch='normal', size='scalable')) = 11.335\n",
            "DEBUG:matplotlib.font_manager:findfont: score(FontEntry(fname='C:\\\\Windows\\\\Fonts\\\\msyi.ttf', name='Microsoft Yi Baiti', style='normal', variant='normal', weight=400, stretch='normal', size='scalable')) = 10.05\n",
            "DEBUG:matplotlib.font_manager:findfont: score(FontEntry(fname='C:\\\\Windows\\\\Fonts\\\\GOUDYSTO.TTF', name='Goudy Stout', style='normal', variant='normal', weight=400, stretch='normal', size='scalable')) = 10.05\n",
            "DEBUG:matplotlib.font_manager:findfont: score(FontEntry(fname='C:\\\\Windows\\\\Fonts\\\\seguisbi.ttf', name='Segoe UI', style='italic', variant='normal', weight=600, stretch='normal', size='scalable')) = 11.24\n",
            "DEBUG:matplotlib.font_manager:findfont: score(FontEntry(fname='C:\\\\Windows\\\\Fonts\\\\malgunbd.ttf', name='Malgun Gothic', style='normal', variant='normal', weight=700, stretch='normal', size='scalable')) = 10.335\n",
            "DEBUG:matplotlib.font_manager:findfont: score(FontEntry(fname='C:\\\\Windows\\\\Fonts\\\\mvboli.ttf', name='MV Boli', style='normal', variant='normal', weight=400, stretch='normal', size='scalable')) = 10.05\n",
            "DEBUG:matplotlib.font_manager:findfont: score(FontEntry(fname='C:\\\\Windows\\\\Fonts\\\\msjhbd.ttc', name='Microsoft JhengHei', style='normal', variant='normal', weight=700, stretch='normal', size='scalable')) = 10.335\n",
            "DEBUG:matplotlib.font_manager:findfont: score(FontEntry(fname='C:\\\\Windows\\\\Fonts\\\\GARA.TTF', name='Garamond', style='normal', variant='normal', weight=400, stretch='normal', size='scalable')) = 10.05\n",
            "DEBUG:matplotlib.font_manager:findfont: score(FontEntry(fname='C:\\\\Windows\\\\Fonts\\\\Futura Bk BT Book Italic.ttf', name='Futura Bk BT', style='italic', variant='normal', weight=400, stretch='normal', size='scalable')) = 11.05\n",
            "DEBUG:matplotlib.font_manager:findfont: score(FontEntry(fname='C:\\\\Windows\\\\Fonts\\\\TCMI____.TTF', name='Tw Cen MT', style='italic', variant='normal', weight=400, stretch='normal', size='scalable')) = 11.05\n",
            "DEBUG:matplotlib.font_manager:findfont: score(FontEntry(fname='C:\\\\Windows\\\\Fonts\\\\taileb.ttf', name='Microsoft Tai Le', style='normal', variant='normal', weight=700, stretch='normal', size='scalable')) = 10.335\n",
            "DEBUG:matplotlib.font_manager:findfont: score(FontEntry(fname='C:\\\\Windows\\\\Fonts\\\\ntailub.ttf', name='Microsoft New Tai Lue', style='normal', variant='normal', weight=700, stretch='normal', size='scalable')) = 10.335\n",
            "DEBUG:matplotlib.font_manager:findfont: score(FontEntry(fname='C:\\\\Windows\\\\Fonts\\\\swisseb.ttf', name='Swis721 Ex BT', style='normal', variant='normal', weight=700, stretch='expanded', size='scalable')) = 10.535\n",
            "DEBUG:matplotlib.font_manager:findfont: score(FontEntry(fname='C:\\\\Windows\\\\Fonts\\\\consola.ttf', name='Consolas', style='normal', variant='normal', weight=400, stretch='normal', size='scalable')) = 10.05\n",
            "DEBUG:matplotlib.font_manager:findfont: score(FontEntry(fname='C:\\\\Windows\\\\Fonts\\\\ebrima.ttf', name='Ebrima', style='normal', variant='normal', weight=400, stretch='normal', size='scalable')) = 10.05\n",
            "DEBUG:matplotlib.font_manager:findfont: score(FontEntry(fname='C:\\\\Windows\\\\Fonts\\\\News701 BT Italic.ttf', name='News701 BT', style='italic', variant='normal', weight=400, stretch='normal', size='scalable')) = 11.05\n",
            "DEBUG:matplotlib.font_manager:findfont: score(FontEntry(fname='C:\\\\Windows\\\\Fonts\\\\CALIFB.TTF', name='Californian FB', style='normal', variant='normal', weight=700, stretch='normal', size='scalable')) = 10.335\n",
            "DEBUG:matplotlib.font_manager:findfont: score(FontEntry(fname='C:\\\\Windows\\\\Fonts\\\\romanc__.ttf', name='RomanC', style='normal', variant='normal', weight=400, stretch='normal', size='scalable')) = 10.05\n",
            "DEBUG:matplotlib.font_manager:findfont: score(FontEntry(fname='C:\\\\Windows\\\\Fonts\\\\SitkaB.ttc', name='Sitka Small', style='normal', variant='normal', weight=700, stretch='normal', size='scalable')) = 10.335\n",
            "DEBUG:matplotlib.font_manager:findfont: score(FontEntry(fname='C:\\\\Windows\\\\Fonts\\\\mtproxy7.ttf', name='Proxy 7', style='normal', variant='normal', weight=400, stretch='normal', size='scalable')) = 10.05\n",
            "DEBUG:matplotlib.font_manager:findfont: score(FontEntry(fname='C:\\\\Windows\\\\Fonts\\\\Swis721 Cn BT Italic.ttf', name='Swis721 Cn BT', style='italic', variant='normal', weight=400, stretch='normal', size='scalable')) = 11.05\n",
            "DEBUG:matplotlib.font_manager:findfont: score(FontEntry(fname='C:\\\\Windows\\\\Fonts\\\\PERB____.TTF', name='Perpetua', style='normal', variant='normal', weight=700, stretch='normal', size='scalable')) = 10.335\n",
            "DEBUG:matplotlib.font_manager:findfont: score(FontEntry(fname='C:\\\\Windows\\\\Fonts\\\\constanb.ttf', name='Constantia', style='normal', variant='normal', weight=700, stretch='normal', size='scalable')) = 10.335\n",
            "DEBUG:matplotlib.font_manager:findfont: score(FontEntry(fname='C:\\\\Windows\\\\Fonts\\\\Swis721 BT Roman.ttf', name='Swis721 BT', style='normal', variant='normal', weight=400, stretch='normal', size='scalable')) = 10.05\n",
            "DEBUG:matplotlib.font_manager:findfont: score(FontEntry(fname='C:\\\\Windows\\\\Fonts\\\\FELIXTI.TTF', name='Felix Titling', style='normal', variant='normal', weight=400, stretch='normal', size='scalable')) = 10.05\n",
            "DEBUG:matplotlib.font_manager:findfont: score(FontEntry(fname='C:\\\\Windows\\\\Fonts\\\\complex_.ttf', name='Complex', style='normal', variant='normal', weight=400, stretch='normal', size='scalable')) = 10.05\n",
            "DEBUG:matplotlib.font_manager:findfont: score(FontEntry(fname='C:\\\\Windows\\\\Fonts\\\\swissko.ttf', name='Swis721 BlkOul BT', style='normal', variant='normal', weight=400, stretch='normal', size='scalable')) = 10.05\n",
            "DEBUG:matplotlib.font_manager:findfont: score(FontEntry(fname='C:\\\\Windows\\\\Fonts\\\\GILBI___.TTF', name='Gill Sans MT', style='italic', variant='normal', weight=700, stretch='normal', size='scalable')) = 11.335\n",
            "DEBUG:matplotlib.font_manager:findfont: score(FontEntry(fname='C:\\\\Windows\\\\Fonts\\\\BRLNSR.TTF', name='Berlin Sans FB', style='normal', variant='normal', weight=400, stretch='normal', size='scalable')) = 10.05\n",
            "DEBUG:matplotlib.font_manager:findfont: score(FontEntry(fname='C:\\\\Windows\\\\Fonts\\\\BOOKOSI.TTF', name='Bookman Old Style', style='italic', variant='normal', weight=300, stretch='normal', size='scalable')) = 11.145\n",
            "DEBUG:matplotlib.font_manager:findfont: score(FontEntry(fname='C:\\\\Windows\\\\Fonts\\\\ROCK.TTF', name='Rockwell', style='normal', variant='normal', weight=400, stretch='normal', size='scalable')) = 10.05\n",
            "DEBUG:matplotlib.font_manager:findfont: score(FontEntry(fname='C:\\\\Windows\\\\Fonts\\\\Century751 SeBd BT Semi Bold Italic.ttf', name='Century751 SeBd BT', style='italic', variant='normal', weight=400, stretch='normal', size='scalable')) = 11.05\n",
            "DEBUG:matplotlib.font_manager:findfont: score(FontEntry(fname='C:\\\\Windows\\\\Fonts\\\\LTYPEO.TTF', name='Lucida Sans Typewriter', style='oblique', variant='normal', weight=400, stretch='normal', size='scalable')) = 11.05\n",
            "DEBUG:matplotlib.font_manager:findfont: score(FontEntry(fname='C:\\\\Windows\\\\Fonts\\\\georgia.ttf', name='Georgia', style='normal', variant='normal', weight=400, stretch='normal', size='scalable')) = 10.05\n",
            "DEBUG:matplotlib.font_manager:findfont: score(FontEntry(fname='C:\\\\Windows\\\\Fonts\\\\MAIAN.TTF', name='Maiandra GD', style='normal', variant='normal', weight=400, stretch='normal', size='scalable')) = 10.05\n",
            "DEBUG:matplotlib.font_manager:findfont: score(FontEntry(fname='C:\\\\Windows\\\\Fonts\\\\EngraversGothic BT.ttf', name='EngraversGothic BT', style='normal', variant='normal', weight=400, stretch='normal', size='scalable')) = 10.05\n",
            "DEBUG:matplotlib.font_manager:findfont: score(FontEntry(fname='C:\\\\Windows\\\\Fonts\\\\Artifakt Element Italic.ttf', name='Artifakt Element', style='italic', variant='normal', weight=400, stretch='normal', size='scalable')) = 11.05\n",
            "DEBUG:matplotlib.font_manager:findfont: score(FontEntry(fname='C:\\\\Windows\\\\Fonts\\\\supef___.ttf', name='SuperFrench', style='normal', variant='normal', weight=400, stretch='normal', size='scalable')) = 10.05\n",
            "DEBUG:matplotlib.font_manager:findfont: score(FontEntry(fname='C:\\\\Windows\\\\Fonts\\\\SCHLBKBI.TTF', name='Century Schoolbook', style='italic', variant='normal', weight=700, stretch='normal', size='scalable')) = 11.335\n",
            "DEBUG:matplotlib.font_manager:findfont: score(FontEntry(fname='C:\\\\Windows\\\\Fonts\\\\ROCKB.TTF', name='Rockwell', style='normal', variant='normal', weight=700, stretch='normal', size='scalable')) = 10.335\n",
            "DEBUG:matplotlib.font_manager:findfont: score(FontEntry(fname='C:\\\\Windows\\\\Fonts\\\\phagspab.ttf', name='Microsoft PhagsPa', style='normal', variant='normal', weight=700, stretch='normal', size='scalable')) = 10.335\n",
            "DEBUG:matplotlib.font_manager:findfont: score(FontEntry(fname='C:\\\\Windows\\\\Fonts\\\\Embassy BT.ttf', name='Embassy BT', style='normal', variant='normal', weight=400, stretch='normal', size='scalable')) = 10.05\n",
            "DEBUG:matplotlib.font_manager:findfont: score(FontEntry(fname='C:\\\\Windows\\\\Fonts\\\\Artifakt Element Bold Italic.ttf', name='Artifakt Element', style='italic', variant='normal', weight=700, stretch='normal', size='scalable')) = 11.335\n",
            "DEBUG:matplotlib.font_manager:findfont: score(FontEntry(fname='C:\\\\Windows\\\\Fonts\\\\ROCC____.TTF', name='Rockwell Condensed', style='normal', variant='normal', weight=400, stretch='condensed', size='scalable')) = 10.25\n",
            "DEBUG:matplotlib.font_manager:findfont: score(FontEntry(fname='C:\\\\Windows\\\\Fonts\\\\swissi.ttf', name='Swis721 BT', style='italic', variant='normal', weight=400, stretch='normal', size='scalable')) = 11.05\n",
            "DEBUG:matplotlib.font_manager:findfont: score(FontEntry(fname='C:\\\\Windows\\\\Fonts\\\\GARABD.TTF', name='Garamond', style='normal', variant='normal', weight=700, stretch='normal', size='scalable')) = 10.335\n",
            "DEBUG:matplotlib.font_manager:findfont: score(FontEntry(fname='C:\\\\Windows\\\\Fonts\\\\swissci.ttf', name='Swis721 Cn BT', style='italic', variant='normal', weight=400, stretch='condensed', size='scalable')) = 11.25\n",
            "DEBUG:matplotlib.font_manager:findfont: score(FontEntry(fname='C:\\\\Windows\\\\Fonts\\\\ITCKRIST.TTF', name='Kristen ITC', style='normal', variant='normal', weight=400, stretch='normal', size='scalable')) = 10.05\n",
            "DEBUG:matplotlib.font_manager:findfont: score(FontEntry(fname='C:\\\\Windows\\\\Fonts\\\\gadugib.ttf', name='Gadugi', style='normal', variant='normal', weight=700, stretch='normal', size='scalable')) = 10.335\n",
            "DEBUG:matplotlib.font_manager:findfont: score(FontEntry(fname='C:\\\\Windows\\\\Fonts\\\\Humnst777 Cn BT.ttf', name='Humnst777 Cn BT', style='normal', variant='normal', weight=400, stretch='normal', size='scalable')) = 10.05\n",
            "DEBUG:matplotlib.font_manager:findfont: score(FontEntry(fname='C:\\\\Windows\\\\Fonts\\\\sansso__.ttf', name='SansSerif', style='oblique', variant='normal', weight=400, stretch='normal', size='scalable')) = 11.05\n",
            "DEBUG:matplotlib.font_manager:findfont: score(FontEntry(fname='C:\\\\Windows\\\\Fonts\\\\segoeui.ttf', name='Segoe UI', style='normal', variant='normal', weight=400, stretch='normal', size='scalable')) = 10.05\n",
            "DEBUG:matplotlib.font_manager:findfont: score(FontEntry(fname='C:\\\\Windows\\\\Fonts\\\\ROCKI.TTF', name='Rockwell', style='italic', variant='normal', weight=400, stretch='normal', size='scalable')) = 11.05\n",
            "DEBUG:matplotlib.font_manager:findfont: score(FontEntry(fname='C:\\\\Windows\\\\Fonts\\\\isoct___.ttf', name='ISOCT', style='normal', variant='normal', weight=400, stretch='normal', size='scalable')) = 10.05\n",
            "DEBUG:matplotlib.font_manager:findfont: score(FontEntry(fname='C:\\\\Windows\\\\Fonts\\\\Geometr415 Blk BT Black.ttf', name='Geometr415 Blk BT', style='normal', variant='normal', weight=400, stretch='normal', size='scalable')) = 10.05\n",
            "DEBUG:matplotlib.font_manager:findfont: score(FontEntry(fname='C:\\\\Windows\\\\Fonts\\\\ONYX.TTF', name='Onyx', style='normal', variant='normal', weight=400, stretch='normal', size='scalable')) = 10.05\n",
            "DEBUG:matplotlib.font_manager:findfont: score(FontEntry(fname='C:\\\\Windows\\\\Fonts\\\\REFSPCL.TTF', name='MS Reference Specialty', style='normal', variant='normal', weight=400, stretch='normal', size='scalable')) = 10.05\n",
            "DEBUG:matplotlib.font_manager:findfont: score(FontEntry(fname='C:\\\\Windows\\\\Fonts\\\\BASKVILL.TTF', name='Baskerville Old Face', style='normal', variant='normal', weight=400, stretch='normal', size='scalable')) = 10.05\n",
            "DEBUG:matplotlib.font_manager:findfont: score(FontEntry(fname='C:\\\\Windows\\\\Fonts\\\\VIVALDII.TTF', name='Vivaldi', style='italic', variant='normal', weight=400, stretch='normal', size='scalable')) = 11.05\n",
            "DEBUG:matplotlib.font_manager:findfont: score(FontEntry(fname='C:\\\\Windows\\\\Fonts\\\\CENTAUR.TTF', name='Centaur', style='normal', variant='normal', weight=400, stretch='normal', size='scalable')) = 10.05\n",
            "DEBUG:matplotlib.font_manager:findfont: score(FontEntry(fname='C:\\\\Windows\\\\Fonts\\\\Century751 No2 BT Italic.ttf', name='Century751 No2 BT', style='italic', variant='normal', weight=400, stretch='normal', size='scalable')) = 11.05\n",
            "DEBUG:matplotlib.font_manager:findfont: score(FontEntry(fname='C:\\\\Windows\\\\Fonts\\\\consolaz.ttf', name='Consolas', style='italic', variant='normal', weight=700, stretch='normal', size='scalable')) = 11.335\n",
            "DEBUG:matplotlib.font_manager:findfont: score(FontEntry(fname='C:\\\\Windows\\\\Fonts\\\\seguibli.ttf', name='Segoe UI', style='italic', variant='normal', weight=900, stretch='normal', size='scalable')) = 11.525\n",
            "DEBUG:matplotlib.font_manager:findfont: score(FontEntry(fname='C:\\\\Windows\\\\Fonts\\\\scripts_.ttf', name='ScriptS', style='normal', variant='normal', weight=400, stretch='normal', size='scalable')) = 10.05\n",
            "DEBUG:matplotlib.font_manager:findfont: score(FontEntry(fname='C:\\\\Windows\\\\Fonts\\\\GeoSlab703 Md BT Bold.ttf', name='GeoSlab703 Md BT', style='normal', variant='normal', weight=700, stretch='normal', size='scalable')) = 10.335\n",
            "DEBUG:matplotlib.font_manager:findfont: score(FontEntry(fname='C:\\\\Windows\\\\Fonts\\\\segmdl2.ttf', name='Segoe MDL2 Assets', style='normal', variant='normal', weight=400, stretch='normal', size='scalable')) = 10.05\n",
            "DEBUG:matplotlib.font_manager:findfont: score(FontEntry(fname='C:\\\\Windows\\\\Fonts\\\\Futura Bk BT Book.ttf', name='Futura Bk BT', style='normal', variant='normal', weight=400, stretch='normal', size='scalable')) = 10.05\n",
            "DEBUG:matplotlib.font_manager:findfont: score(FontEntry(fname='C:\\\\Windows\\\\Fonts\\\\Geometr212 BkCn BT Book.ttf', name='Geometr212 BkCn BT', style='normal', variant='normal', weight=400, stretch='normal', size='scalable')) = 10.05\n",
            "DEBUG:matplotlib.font_manager:findfont: score(FontEntry(fname='C:\\\\Windows\\\\Fonts\\\\Artifakt Element Bold.ttf', name='Artifakt Element', style='normal', variant='normal', weight=700, stretch='normal', size='scalable')) = 10.335\n",
            "DEBUG:matplotlib.font_manager:findfont: score(FontEntry(fname='C:\\\\Windows\\\\Fonts\\\\constanz.ttf', name='Constantia', style='italic', variant='normal', weight=700, stretch='normal', size='scalable')) = 11.335\n",
            "DEBUG:matplotlib.font_manager:findfont: score(FontEntry(fname='C:\\\\Windows\\\\Fonts\\\\Swis721 WGL4 BT Italic.ttf', name='Swis721 WGL4 BT', style='italic', variant='normal', weight=400, stretch='normal', size='scalable')) = 11.05\n",
            "DEBUG:matplotlib.font_manager:findfont: score(FontEntry(fname='C:\\\\Windows\\\\Fonts\\\\MTCORSVA.TTF', name='Monotype Corsiva', style='normal', variant='normal', weight=400, stretch='normal', size='scalable')) = 10.05\n",
            "DEBUG:matplotlib.font_manager:findfont: score(FontEntry(fname='C:\\\\Windows\\\\Fonts\\\\segoeuil.ttf', name='Segoe UI', style='normal', variant='normal', weight=300, stretch='normal', size='scalable')) = 10.145\n",
            "DEBUG:matplotlib.font_manager:findfont: score(FontEntry(fname='C:\\\\Windows\\\\Fonts\\\\timesi.ttf', name='Times New Roman', style='italic', variant='normal', weight=400, stretch='normal', size='scalable')) = 11.05\n",
            "DEBUG:matplotlib.font_manager:findfont: score(FontEntry(fname='C:\\\\Windows\\\\Fonts\\\\Swis721 WGL4 BT Bold Italic.ttf', name='Swis721 WGL4 BT', style='italic', variant='normal', weight=700, stretch='normal', size='scalable')) = 11.335\n",
            "DEBUG:matplotlib.font_manager:findfont: score(FontEntry(fname='C:\\\\Windows\\\\Fonts\\\\AIGDT___.TTF', name='AIGDT', style='normal', variant='normal', weight=400, stretch='normal', size='scalable')) = 10.05\n",
            "DEBUG:matplotlib.font_manager:findfont: score(FontEntry(fname='C:\\\\Windows\\\\Fonts\\\\sanss___.ttf', name='SansSerif', style='normal', variant='normal', weight=400, stretch='normal', size='scalable')) = 10.05\n",
            "DEBUG:matplotlib.font_manager:findfont: score(FontEntry(fname='C:\\\\Windows\\\\Fonts\\\\GOTHICB.TTF', name='Century Gothic', style='normal', variant='normal', weight=700, stretch='normal', size='scalable')) = 10.335\n",
            "DEBUG:matplotlib.font_manager:findfont: score(FontEntry(fname='C:\\\\Windows\\\\Fonts\\\\CALISTBI.TTF', name='Calisto MT', style='italic', variant='normal', weight=700, stretch='normal', size='scalable')) = 11.335\n",
            "DEBUG:matplotlib.font_manager:findfont: score(FontEntry(fname='C:\\\\Windows\\\\Fonts\\\\FRADMIT.TTF', name='Franklin Gothic Demi', style='italic', variant='normal', weight=400, stretch='normal', size='scalable')) = 11.05\n",
            "DEBUG:matplotlib.font_manager:findfont: score(FontEntry(fname='C:\\\\Windows\\\\Fonts\\\\Kaufmann BT.ttf', name='Kaufmann BT', style='normal', variant='normal', weight=400, stretch='normal', size='scalable')) = 10.05\n",
            "DEBUG:matplotlib.font_manager:findfont: score(FontEntry(fname='C:\\\\Windows\\\\Fonts\\\\BOD_CB.TTF', name='Bodoni MT', style='normal', variant='normal', weight=700, stretch='condensed', size='scalable')) = 10.535\n",
            "DEBUG:matplotlib.font_manager:findfont: score(FontEntry(fname='C:\\\\Windows\\\\Fonts\\\\Candaral.ttf', name='Candara', style='normal', variant='normal', weight=400, stretch='normal', size='scalable')) = 10.05\n",
            "DEBUG:matplotlib.font_manager:findfont: score(FontEntry(fname='C:\\\\Windows\\\\Fonts\\\\News706 BT Bold.ttf', name='News706 BT', style='normal', variant='normal', weight=700, stretch='normal', size='scalable')) = 10.335\n",
            "DEBUG:matplotlib.font_manager:findfont: score(FontEntry(fname='C:\\\\Windows\\\\Fonts\\\\georgiaz.ttf', name='Georgia', style='italic', variant='normal', weight=700, stretch='normal', size='scalable')) = 11.335\n",
            "DEBUG:matplotlib.font_manager:findfont: score(FontEntry(fname='C:\\\\Windows\\\\Fonts\\\\webdings.ttf', name='Webdings', style='normal', variant='normal', weight=400, stretch='normal', size='scalable')) = 10.05\n",
            "DEBUG:matplotlib.font_manager:findfont: score(FontEntry(fname='C:\\\\Windows\\\\Fonts\\\\monosi.ttf', name='Monospac821 BT', style='italic', variant='normal', weight=400, stretch='normal', size='scalable')) = 11.05\n",
            "DEBUG:matplotlib.font_manager:findfont: score(FontEntry(fname='C:\\\\Windows\\\\Fonts\\\\cambria.ttc', name='Cambria', style='normal', variant='normal', weight=400, stretch='normal', size='scalable')) = 10.05\n",
            "DEBUG:matplotlib.font_manager:findfont: score(FontEntry(fname='C:\\\\Windows\\\\Fonts\\\\marlett.ttf', name='Marlett', style='normal', variant='normal', weight=500, stretch='normal', size='scalable')) = 10.145\n",
            "DEBUG:matplotlib.font_manager:findfont: score(FontEntry(fname='C:\\\\Windows\\\\Fonts\\\\compi.ttf', name='CommercialPi BT', style='normal', variant='normal', weight=400, stretch='normal', size='scalable')) = 10.05\n",
            "DEBUG:matplotlib.font_manager:findfont: score(FontEntry(fname='C:\\\\Windows\\\\Fonts\\\\NewsGoth BT Italic.ttf', name='NewsGoth BT', style='italic', variant='normal', weight=400, stretch='normal', size='scalable')) = 11.05\n",
            "DEBUG:matplotlib.font_manager:findfont: score(FontEntry(fname='C:\\\\Windows\\\\Fonts\\\\Freehand521 BT.ttf', name='Freehand521 BT', style='normal', variant='normal', weight=400, stretch='normal', size='scalable')) = 10.05\n",
            "DEBUG:matplotlib.font_manager:findfont: score(FontEntry(fname='C:\\\\Windows\\\\Fonts\\\\Humanst521 BT Roman.ttf', name='Humanst521 BT', style='normal', variant='normal', weight=400, stretch='normal', size='scalable')) = 10.05\n",
            "DEBUG:matplotlib.font_manager:findfont: score(FontEntry(fname='C:\\\\Windows\\\\Fonts\\\\isocpeui.ttf', name='ISOCPEUR', style='italic', variant='normal', weight=400, stretch='normal', size='scalable')) = 11.05\n",
            "DEBUG:matplotlib.font_manager:findfont: score(FontEntry(fname='C:\\\\Windows\\\\Fonts\\\\PLAYBILL.TTF', name='Playbill', style='normal', variant='normal', weight=400, stretch='normal', size='scalable')) = 10.05\n",
            "DEBUG:matplotlib.font_manager:findfont: score(FontEntry(fname='C:\\\\Windows\\\\Fonts\\\\counb___.ttf', name='CountryBlueprint', style='normal', variant='normal', weight=400, stretch='normal', size='scalable')) = 10.05\n",
            "DEBUG:matplotlib.font_manager:findfont: score(FontEntry(fname='C:\\\\Windows\\\\Fonts\\\\ZWAdobeF.TTF', name='ZWAdobeF', style='normal', variant='normal', weight=400, stretch='normal', size='scalable')) = 10.05\n",
            "DEBUG:matplotlib.font_manager:findfont: score(FontEntry(fname='C:\\\\Windows\\\\Fonts\\\\seguisym.ttf', name='Segoe UI Symbol', style='normal', variant='normal', weight=400, stretch='normal', size='scalable')) = 10.05\n",
            "DEBUG:matplotlib.font_manager:findfont: score(FontEntry(fname='C:\\\\Windows\\\\Fonts\\\\isocteur.ttf', name='ISOCTEUR', style='normal', variant='normal', weight=400, stretch='normal', size='scalable')) = 10.05\n",
            "DEBUG:matplotlib.font_manager:findfont: score(FontEntry(fname='C:\\\\Windows\\\\Fonts\\\\dutch.ttf', name='Dutch801 Rm BT', style='normal', variant='normal', weight=400, stretch='normal', size='scalable')) = 10.05\n",
            "DEBUG:matplotlib.font_manager:findfont: score(FontEntry(fname='C:\\\\Windows\\\\Fonts\\\\wingding.ttf', name='Wingdings', style='normal', variant='normal', weight=400, stretch='normal', size='scalable')) = 10.05\n",
            "DEBUG:matplotlib.font_manager:findfont: score(FontEntry(fname='C:\\\\Windows\\\\Fonts\\\\HTOWERTI.TTF', name='High Tower Text', style='italic', variant='normal', weight=400, stretch='normal', size='scalable')) = 11.05\n",
            "DEBUG:matplotlib.font_manager:findfont: score(FontEntry(fname='C:\\\\Windows\\\\Fonts\\\\Clarendon BT Bold.ttf', name='Clarendon BT', style='normal', variant='normal', weight=700, stretch='normal', size='scalable')) = 10.335\n",
            "DEBUG:matplotlib.font_manager:findfont: score(FontEntry(fname='C:\\\\Windows\\\\Fonts\\\\romant__.ttf', name='RomanT', style='normal', variant='normal', weight=400, stretch='normal', size='scalable')) = 10.05\n",
            "DEBUG:matplotlib.font_manager:findfont: score(FontEntry(fname='C:\\\\Windows\\\\Fonts\\\\BSSYM7.TTF', name='Bookshelf Symbol 7', style='normal', variant='normal', weight=400, stretch='normal', size='scalable')) = 10.05\n",
            "DEBUG:matplotlib.font_manager:findfont: score(FontEntry(fname='C:\\\\Windows\\\\Fonts\\\\PER_____.TTF', name='Perpetua', style='normal', variant='normal', weight=400, stretch='normal', size='scalable')) = 10.05\n",
            "DEBUG:matplotlib.font_manager:findfont: score(FontEntry(fname='C:\\\\Windows\\\\Fonts\\\\LBRITED.TTF', name='Lucida Bright', style='normal', variant='normal', weight=600, stretch='normal', size='scalable')) = 10.24\n",
            "DEBUG:matplotlib.font_manager:findfont: score(FontEntry(fname='C:\\\\Windows\\\\Fonts\\\\LEELAWAD.TTF', name='Leelawadee', style='normal', variant='normal', weight=400, stretch='normal', size='scalable')) = 10.05\n",
            "DEBUG:matplotlib.font_manager:findfont: score(FontEntry(fname='C:\\\\Windows\\\\Fonts\\\\Humanst521 Lt BT Light.ttf', name='Humanst521 Lt BT', style='normal', variant='normal', weight=400, stretch='normal', size='scalable')) = 10.05\n",
            "DEBUG:matplotlib.font_manager:findfont: score(FontEntry(fname='C:\\\\Windows\\\\Fonts\\\\palai.ttf', name='Palatino Linotype', style='italic', variant='normal', weight=400, stretch='normal', size='scalable')) = 11.05\n",
            "DEBUG:matplotlib.font_manager:findfont: score(FontEntry(fname='C:\\\\Windows\\\\Fonts\\\\times.ttf', name='Times New Roman', style='normal', variant='normal', weight=400, stretch='normal', size='scalable')) = 10.05\n",
            "DEBUG:matplotlib.font_manager:findfont: score(FontEntry(fname='C:\\\\Windows\\\\Fonts\\\\isoct3__.ttf', name='ISOCT3', style='normal', variant='normal', weight=400, stretch='normal', size='scalable')) = 10.05\n",
            "DEBUG:matplotlib.font_manager:findfont: score(FontEntry(fname='C:\\\\Windows\\\\Fonts\\\\BOOKOSBI.TTF', name='Bookman Old Style', style='italic', variant='normal', weight=600, stretch='normal', size='scalable')) = 11.24\n",
            "DEBUG:matplotlib.font_manager:findfont: score(FontEntry(fname='C:\\\\Windows\\\\Fonts\\\\LFAXI.TTF', name='Lucida Fax', style='italic', variant='normal', weight=400, stretch='normal', size='scalable')) = 11.05\n",
            "DEBUG:matplotlib.font_manager:findfont: score(FontEntry(fname='C:\\\\Windows\\\\Fonts\\\\GOUDOSI.TTF', name='Goudy Old Style', style='italic', variant='normal', weight=400, stretch='normal', size='scalable')) = 11.05\n",
            "DEBUG:matplotlib.font_manager:findfont: score(FontEntry(fname='C:\\\\Windows\\\\Fonts\\\\trebucit.ttf', name='Trebuchet MS', style='italic', variant='normal', weight=400, stretch='normal', size='scalable')) = 11.05\n",
            "DEBUG:matplotlib.font_manager:findfont: score(FontEntry(fname='C:\\\\Windows\\\\Fonts\\\\Swis721 Hv BT Heavy.ttf', name='Swis721 Hv BT', style='normal', variant='normal', weight=400, stretch='normal', size='scalable')) = 10.05\n",
            "DEBUG:matplotlib.font_manager:findfont: score(FontEntry(fname='C:\\\\Windows\\\\Fonts\\\\GeoSlab703 MdCn BT Bold.ttf', name='GeoSlab703 MdCn BT', style='normal', variant='normal', weight=700, stretch='normal', size='scalable')) = 10.335\n",
            "DEBUG:matplotlib.font_manager:findfont: score(FontEntry(fname='C:\\\\Windows\\\\Fonts\\\\GOTHICBI.TTF', name='Century Gothic', style='italic', variant='normal', weight=700, stretch='normal', size='scalable')) = 11.335\n",
            "DEBUG:matplotlib.font_manager:findfont: score(FontEntry(fname='C:\\\\Windows\\\\Fonts\\\\BAUHS93.TTF', name='Bauhaus 93', style='normal', variant='normal', weight=400, stretch='normal', size='scalable')) = 10.05\n",
            "DEBUG:matplotlib.font_manager:findfont: score(FontEntry(fname='C:\\\\Windows\\\\Fonts\\\\Century725 Cn BT.ttf', name='Century725 Cn BT', style='normal', variant='normal', weight=400, stretch='normal', size='scalable')) = 10.05\n",
            "DEBUG:matplotlib.font_manager:findfont: score(FontEntry(fname='C:\\\\Windows\\\\Fonts\\\\msyh.ttc', name='Microsoft YaHei', style='normal', variant='normal', weight=400, stretch='normal', size='scalable')) = 10.05\n",
            "DEBUG:matplotlib.font_manager:findfont: score(FontEntry(fname='C:\\\\Windows\\\\Fonts\\\\BERNHC.TTF', name='Bernard MT Condensed', style='normal', variant='normal', weight=400, stretch='condensed', size='scalable')) = 10.25\n",
            "DEBUG:matplotlib.font_manager:findfont: score(FontEntry(fname='C:\\\\Windows\\\\Fonts\\\\techl___.ttf', name='TechnicLite', style='normal', variant='normal', weight=400, stretch='normal', size='scalable')) = 10.05\n",
            "DEBUG:matplotlib.font_manager:findfont: score(FontEntry(fname='C:\\\\Windows\\\\Fonts\\\\COOPBL.TTF', name='Cooper Black', style='normal', variant='normal', weight=400, stretch='normal', size='scalable')) = 10.05\n",
            "DEBUG:matplotlib.font_manager:findfont: score(FontEntry(fname='C:\\\\Windows\\\\Fonts\\\\segoescb.ttf', name='Segoe Script', style='normal', variant='normal', weight=700, stretch='normal', size='scalable')) = 10.335\n",
            "DEBUG:matplotlib.font_manager:findfont: score(FontEntry(fname='C:\\\\Windows\\\\Fonts\\\\arial.ttf', name='Arial', style='normal', variant='normal', weight=400, stretch='normal', size='scalable')) = 6.413636363636363\n",
            "DEBUG:matplotlib.font_manager:findfont: score(FontEntry(fname='C:\\\\Windows\\\\Fonts\\\\MATURASC.TTF', name='Matura MT Script Capitals', style='normal', variant='normal', weight=400, stretch='normal', size='scalable')) = 10.05\n",
            "DEBUG:matplotlib.font_manager:findfont: score(FontEntry(fname='C:\\\\Windows\\\\Fonts\\\\WINGDNG3.TTF', name='Wingdings 3', style='normal', variant='normal', weight=400, stretch='normal', size='scalable')) = 10.05\n",
            "DEBUG:matplotlib.font_manager:findfont: score(FontEntry(fname='C:\\\\Windows\\\\Fonts\\\\AMGDT___.ttf', name='AMGDT', style='normal', variant='normal', weight=400, stretch='normal', size='scalable')) = 10.05\n",
            "DEBUG:matplotlib.font_manager:findfont: score(FontEntry(fname='C:\\\\Windows\\\\Fonts\\\\swissc.ttf', name='Swis721 Cn BT', style='normal', variant='normal', weight=400, stretch='condensed', size='scalable')) = 10.25\n",
            "DEBUG:matplotlib.font_manager:findfont: score(FontEntry(fname='C:\\\\Windows\\\\Fonts\\\\swissel.ttf', name='Swis721 LtEx BT', style='normal', variant='normal', weight=400, stretch='expanded', size='scalable')) = 10.25\n",
            "DEBUG:matplotlib.font_manager:findfont: score(FontEntry(fname='C:\\\\Windows\\\\Fonts\\\\mmrtext.ttf', name='Myanmar Text', style='normal', variant='normal', weight=400, stretch='normal', size='scalable')) = 10.05\n",
            "DEBUG:matplotlib.font_manager:findfont: score(FontEntry(fname='C:\\\\Windows\\\\Fonts\\\\georgiai.ttf', name='Georgia', style='italic', variant='normal', weight=400, stretch='normal', size='scalable')) = 11.05\n",
            "DEBUG:matplotlib.font_manager:findfont: score(FontEntry(fname='C:\\\\Windows\\\\Fonts\\\\IMPRISHA.TTF', name='Imprint MT Shadow', style='normal', variant='normal', weight=400, stretch='normal', size='scalable')) = 10.05\n",
            "DEBUG:matplotlib.font_manager:findfont: score(FontEntry(fname='C:\\\\Windows\\\\Fonts\\\\CHILLER.TTF', name='Chiller', style='normal', variant='normal', weight=400, stretch='normal', size='scalable')) = 10.05\n",
            "DEBUG:matplotlib.font_manager:findfont: score(FontEntry(fname='C:\\\\Windows\\\\Fonts\\\\swisscki.ttf', name='Swis721 BlkCn BT', style='italic', variant='normal', weight=400, stretch='condensed', size='scalable')) = 11.25\n",
            "DEBUG:matplotlib.font_manager:findfont: score(FontEntry(fname='C:\\\\Windows\\\\Fonts\\\\OUTLOOK.TTF', name='MS Outlook', style='normal', variant='normal', weight=400, stretch='normal', size='scalable')) = 10.05\n",
            "DEBUG:matplotlib.font_manager:findfont: score(FontEntry(fname='C:\\\\Windows\\\\Fonts\\\\WINGDNG2.TTF', name='Wingdings 2', style='normal', variant='normal', weight=400, stretch='normal', size='scalable')) = 10.05\n",
            "DEBUG:matplotlib.font_manager:findfont: score(FontEntry(fname='C:\\\\Windows\\\\Fonts\\\\framd.ttf', name='Franklin Gothic Medium', style='normal', variant='normal', weight=400, stretch='normal', size='scalable')) = 10.05\n",
            "DEBUG:matplotlib.font_manager:findfont: score(FontEntry(fname='C:\\\\Windows\\\\Fonts\\\\CENSCBK.TTF', name='Century Schoolbook', style='normal', variant='normal', weight=400, stretch='normal', size='scalable')) = 10.05\n",
            "DEBUG:matplotlib.font_manager:findfont: score(FontEntry(fname='C:\\\\Windows\\\\Fonts\\\\Square721 Cn BT Bold.ttf', name='Square721 Cn BT', style='normal', variant='normal', weight=700, stretch='normal', size='scalable')) = 10.335\n",
            "DEBUG:matplotlib.font_manager:findfont: score(FontEntry(fname='C:\\\\Windows\\\\Fonts\\\\GeoSlab703 MdCn BT Medium.ttf', name='GeoSlab703 MdCn BT', style='normal', variant='normal', weight=400, stretch='normal', size='scalable')) = 10.05\n",
            "DEBUG:matplotlib.font_manager:findfont: score(FontEntry(fname='C:\\\\Windows\\\\Fonts\\\\eurro___.ttf', name='EuroRoman', style='oblique', variant='normal', weight=400, stretch='normal', size='scalable')) = 11.05\n",
            "DEBUG:matplotlib.font_manager:findfont: score(FontEntry(fname='C:\\\\Windows\\\\Fonts\\\\impact.ttf', name='Impact', style='normal', variant='normal', weight=400, stretch='normal', size='scalable')) = 10.05\n",
            "DEBUG:matplotlib.font_manager:findfont: score(FontEntry(fname='C:\\\\Windows\\\\Fonts\\\\YuGothM.ttc', name='Yu Gothic', style='normal', variant='normal', weight=500, stretch='normal', size='scalable')) = 10.145\n",
            "DEBUG:matplotlib.font_manager:findfont: score(FontEntry(fname='C:\\\\Windows\\\\Fonts\\\\Square721 Cn BT Roman.ttf', name='Square721 Cn BT', style='normal', variant='normal', weight=400, stretch='normal', size='scalable')) = 10.05\n",
            "DEBUG:matplotlib.font_manager:findfont: score(FontEntry(fname='C:\\\\Windows\\\\Fonts\\\\YuGothB.ttc', name='Yu Gothic', style='normal', variant='normal', weight=700, stretch='normal', size='scalable')) = 10.335\n",
            "DEBUG:matplotlib.font_manager:findfont: score(FontEntry(fname='C:\\\\Windows\\\\Fonts\\\\NewsGoth BT Roman.ttf', name='NewsGoth BT', style='normal', variant='normal', weight=400, stretch='normal', size='scalable')) = 10.05\n",
            "DEBUG:matplotlib.font_manager:findfont: score(FontEntry(fname='C:\\\\Windows\\\\Fonts\\\\monosb.ttf', name='Monospac821 BT', style='normal', variant='normal', weight=700, stretch='normal', size='scalable')) = 10.335\n",
            "DEBUG:matplotlib.font_manager:findfont: score(FontEntry(fname='C:\\\\Windows\\\\Fonts\\\\OCRAEXT.TTF', name='OCR A Extended', style='normal', variant='normal', weight=400, stretch='expanded', size='scalable')) = 10.25\n",
            "DEBUG:matplotlib.font_manager:findfont: score(FontEntry(fname='C:\\\\Windows\\\\Fonts\\\\sylfaen.ttf', name='Sylfaen', style='normal', variant='normal', weight=400, stretch='normal', size='scalable')) = 10.05\n",
            "DEBUG:matplotlib.font_manager:findfont: score(FontEntry(fname='C:\\\\Windows\\\\Fonts\\\\PERTIBD.TTF', name='Perpetua Titling MT', style='normal', variant='normal', weight=700, stretch='normal', size='scalable')) = 10.335\n",
            "DEBUG:matplotlib.font_manager:findfont: score(FontEntry(fname='C:\\\\Windows\\\\Fonts\\\\Humanst521 Lt BT Light Italic.ttf', name='Humanst521 Lt BT', style='italic', variant='normal', weight=400, stretch='normal', size='scalable')) = 11.05\n",
            "DEBUG:matplotlib.font_manager:findfont: score(FontEntry(fname='C:\\\\Windows\\\\Fonts\\\\ALGER.TTF', name='Algerian', style='normal', variant='normal', weight=400, stretch='normal', size='scalable')) = 10.05\n",
            "DEBUG:matplotlib.font_manager:findfont: score(FontEntry(fname='C:\\\\Windows\\\\Fonts\\\\Futura Md BT Medium.ttf', name='Futura Md BT', style='normal', variant='normal', weight=400, stretch='normal', size='scalable')) = 10.05\n",
            "DEBUG:matplotlib.font_manager:findfont: score(FontEntry(fname='C:\\\\Windows\\\\Fonts\\\\VLADIMIR.TTF', name='Vladimir Script', style='normal', variant='normal', weight=400, stretch='normal', size='scalable')) = 10.05\n",
            "DEBUG:matplotlib.font_manager:findfont: score(FontEntry(fname='C:\\\\Windows\\\\Fonts\\\\verdanab.ttf', name='Verdana', style='normal', variant='normal', weight=700, stretch='normal', size='scalable')) = 3.9713636363636367\n",
            "DEBUG:matplotlib.font_manager:findfont: score(FontEntry(fname='C:\\\\Windows\\\\Fonts\\\\swisscl.ttf', name='Swis721 LtCn BT', style='normal', variant='normal', weight=400, stretch='condensed', size='scalable')) = 10.25\n",
            "DEBUG:matplotlib.font_manager:findfont: score(FontEntry(fname='C:\\\\Windows\\\\Fonts\\\\STENCIL.TTF', name='Stencil', style='normal', variant='normal', weight=400, stretch='normal', size='scalable')) = 10.05\n",
            "DEBUG:matplotlib.font_manager:findfont: score(FontEntry(fname='C:\\\\Windows\\\\Fonts\\\\BRADHITC.TTF', name='Bradley Hand ITC', style='normal', variant='normal', weight=400, stretch='normal', size='scalable')) = 10.05\n",
            "DEBUG:matplotlib.font_manager:findfont: score(FontEntry(fname='C:\\\\Windows\\\\Fonts\\\\mtproxy4.ttf', name='Proxy 4', style='normal', variant='normal', weight=400, stretch='normal', size='scalable')) = 10.05\n",
            "DEBUG:matplotlib.font_manager:findfont: score(FontEntry(fname='C:\\\\Windows\\\\Fonts\\\\trebuc.ttf', name='Trebuchet MS', style='normal', variant='normal', weight=400, stretch='normal', size='scalable')) = 10.05\n",
            "DEBUG:matplotlib.font_manager:findfont: score(FontEntry(fname='C:\\\\Windows\\\\Fonts\\\\seguisb.ttf', name='Segoe UI', style='normal', variant='normal', weight=600, stretch='normal', size='scalable')) = 10.24\n",
            "DEBUG:matplotlib.font_manager:findfont: score(FontEntry(fname='C:\\\\Windows\\\\Fonts\\\\Exotc350 DmBd BT Demi-Bold.ttf', name='Exotc350 DmBd BT', style='normal', variant='normal', weight=400, stretch='normal', size='scalable')) = 10.05\n",
            "DEBUG:matplotlib.font_manager:findfont: score(FontEntry(fname='C:\\\\Windows\\\\Fonts\\\\GIL_____.TTF', name='Gill Sans MT', style='normal', variant='normal', weight=400, stretch='normal', size='scalable')) = 10.05\n",
            "DEBUG:matplotlib.font_manager:findfont: score(FontEntry(fname='C:\\\\Windows\\\\Fonts\\\\Swis721 BT Bold.ttf', name='Swis721 BT', style='normal', variant='normal', weight=700, stretch='normal', size='scalable')) = 10.335\n",
            "DEBUG:matplotlib.font_manager:findfont: score(FontEntry(fname='C:\\\\Windows\\\\Fonts\\\\GILB____.TTF', name='Gill Sans MT', style='normal', variant='normal', weight=700, stretch='normal', size='scalable')) = 10.335\n",
            "DEBUG:matplotlib.font_manager:findfont: score(FontEntry(fname='C:\\\\Windows\\\\Fonts\\\\mtproxy1.ttf', name='Proxy 1', style='normal', variant='normal', weight=400, stretch='normal', size='scalable')) = 10.05\n",
            "DEBUG:matplotlib.font_manager:findfont: score(FontEntry(fname='C:\\\\Windows\\\\Fonts\\\\ARIALNI.TTF', name='Arial', style='italic', variant='normal', weight=400, stretch='condensed', size='scalable')) = 7.613636363636363\n",
            "DEBUG:matplotlib.font_manager:findfont: score(FontEntry(fname='C:\\\\Windows\\\\Fonts\\\\swisscb.ttf', name='Swis721 Cn BT', style='normal', variant='normal', weight=700, stretch='condensed', size='scalable')) = 10.535\n",
            "DEBUG:matplotlib.font_manager:findfont: score(FontEntry(fname='C:\\\\Windows\\\\Fonts\\\\Exotc350 Bd BT Bold.ttf', name='Exotc350 Bd BT', style='normal', variant='normal', weight=400, stretch='normal', size='scalable')) = 10.05\n",
            "DEBUG:matplotlib.font_manager:findfont: Matching sans\\-serif:style=normal:variant=normal:weight=normal:stretch=normal:size=10.0 to DejaVu Sans ('c:\\\\Users\\\\USUARIO\\\\anaconda3\\\\envs\\\\torch\\\\Lib\\\\site-packages\\\\matplotlib\\\\mpl-data\\\\fonts\\\\ttf\\\\DejaVuSans.ttf') with score of 0.050000.\n",
            "DEBUG:matplotlib.font_manager:findfont: Matching sans\\-serif:style=normal:variant=normal:weight=normal:stretch=normal:size=12.0.\n",
            "DEBUG:matplotlib.font_manager:findfont: score(FontEntry(fname='c:\\\\Users\\\\USUARIO\\\\anaconda3\\\\envs\\\\torch\\\\Lib\\\\site-packages\\\\matplotlib\\\\mpl-data\\\\fonts\\\\ttf\\\\DejaVuSans.ttf', name='DejaVu Sans', style='normal', variant='normal', weight=400, stretch='normal', size='scalable')) = 0.05\n",
            "DEBUG:matplotlib.font_manager:findfont: score(FontEntry(fname='c:\\\\Users\\\\USUARIO\\\\anaconda3\\\\envs\\\\torch\\\\Lib\\\\site-packages\\\\matplotlib\\\\mpl-data\\\\fonts\\\\ttf\\\\DejaVuSansMono-Oblique.ttf', name='DejaVu Sans Mono', style='oblique', variant='normal', weight=400, stretch='normal', size='scalable')) = 11.05\n",
            "DEBUG:matplotlib.font_manager:findfont: score(FontEntry(fname='c:\\\\Users\\\\USUARIO\\\\anaconda3\\\\envs\\\\torch\\\\Lib\\\\site-packages\\\\matplotlib\\\\mpl-data\\\\fonts\\\\ttf\\\\STIXSizTwoSymBol.ttf', name='STIXSizeTwoSym', style='normal', variant='normal', weight=700, stretch='normal', size='scalable')) = 10.335\n",
            "DEBUG:matplotlib.font_manager:findfont: score(FontEntry(fname='c:\\\\Users\\\\USUARIO\\\\anaconda3\\\\envs\\\\torch\\\\Lib\\\\site-packages\\\\matplotlib\\\\mpl-data\\\\fonts\\\\ttf\\\\STIXNonUniBolIta.ttf', name='STIXNonUnicode', style='italic', variant='normal', weight=700, stretch='normal', size='scalable')) = 11.335\n",
            "DEBUG:matplotlib.font_manager:findfont: score(FontEntry(fname='c:\\\\Users\\\\USUARIO\\\\anaconda3\\\\envs\\\\torch\\\\Lib\\\\site-packages\\\\matplotlib\\\\mpl-data\\\\fonts\\\\ttf\\\\DejaVuSansMono-BoldOblique.ttf', name='DejaVu Sans Mono', style='oblique', variant='normal', weight=700, stretch='normal', size='scalable')) = 11.335\n",
            "DEBUG:matplotlib.font_manager:findfont: score(FontEntry(fname='c:\\\\Users\\\\USUARIO\\\\anaconda3\\\\envs\\\\torch\\\\Lib\\\\site-packages\\\\matplotlib\\\\mpl-data\\\\fonts\\\\ttf\\\\DejaVuSansMono-Bold.ttf', name='DejaVu Sans Mono', style='normal', variant='normal', weight=700, stretch='normal', size='scalable')) = 10.335\n",
            "DEBUG:matplotlib.font_manager:findfont: score(FontEntry(fname='c:\\\\Users\\\\USUARIO\\\\anaconda3\\\\envs\\\\torch\\\\Lib\\\\site-packages\\\\matplotlib\\\\mpl-data\\\\fonts\\\\ttf\\\\cmex10.ttf', name='cmex10', style='normal', variant='normal', weight=400, stretch='normal', size='scalable')) = 10.05\n",
            "DEBUG:matplotlib.font_manager:findfont: score(FontEntry(fname='c:\\\\Users\\\\USUARIO\\\\anaconda3\\\\envs\\\\torch\\\\Lib\\\\site-packages\\\\matplotlib\\\\mpl-data\\\\fonts\\\\ttf\\\\STIXNonUni.ttf', name='STIXNonUnicode', style='normal', variant='normal', weight=400, stretch='normal', size='scalable')) = 10.05\n",
            "DEBUG:matplotlib.font_manager:findfont: score(FontEntry(fname='c:\\\\Users\\\\USUARIO\\\\anaconda3\\\\envs\\\\torch\\\\Lib\\\\site-packages\\\\matplotlib\\\\mpl-data\\\\fonts\\\\ttf\\\\STIXSizOneSymBol.ttf', name='STIXSizeOneSym', style='normal', variant='normal', weight=700, stretch='normal', size='scalable')) = 10.335\n",
            "DEBUG:matplotlib.font_manager:findfont: score(FontEntry(fname='c:\\\\Users\\\\USUARIO\\\\anaconda3\\\\envs\\\\torch\\\\Lib\\\\site-packages\\\\matplotlib\\\\mpl-data\\\\fonts\\\\ttf\\\\DejaVuSans-BoldOblique.ttf', name='DejaVu Sans', style='oblique', variant='normal', weight=700, stretch='normal', size='scalable')) = 1.335\n",
            "DEBUG:matplotlib.font_manager:findfont: score(FontEntry(fname='c:\\\\Users\\\\USUARIO\\\\anaconda3\\\\envs\\\\torch\\\\Lib\\\\site-packages\\\\matplotlib\\\\mpl-data\\\\fonts\\\\ttf\\\\DejaVuSans-Bold.ttf', name='DejaVu Sans', style='normal', variant='normal', weight=700, stretch='normal', size='scalable')) = 0.33499999999999996\n",
            "DEBUG:matplotlib.font_manager:findfont: score(FontEntry(fname='c:\\\\Users\\\\USUARIO\\\\anaconda3\\\\envs\\\\torch\\\\Lib\\\\site-packages\\\\matplotlib\\\\mpl-data\\\\fonts\\\\ttf\\\\STIXSizFiveSymReg.ttf', name='STIXSizeFiveSym', style='normal', variant='normal', weight=400, stretch='normal', size='scalable')) = 10.05\n",
            "DEBUG:matplotlib.font_manager:findfont: score(FontEntry(fname='c:\\\\Users\\\\USUARIO\\\\anaconda3\\\\envs\\\\torch\\\\Lib\\\\site-packages\\\\matplotlib\\\\mpl-data\\\\fonts\\\\ttf\\\\DejaVuSans-Oblique.ttf', name='DejaVu Sans', style='oblique', variant='normal', weight=400, stretch='normal', size='scalable')) = 1.05\n",
            "DEBUG:matplotlib.font_manager:findfont: score(FontEntry(fname='c:\\\\Users\\\\USUARIO\\\\anaconda3\\\\envs\\\\torch\\\\Lib\\\\site-packages\\\\matplotlib\\\\mpl-data\\\\fonts\\\\ttf\\\\DejaVuSerif.ttf', name='DejaVu Serif', style='normal', variant='normal', weight=400, stretch='normal', size='scalable')) = 10.05\n",
            "DEBUG:matplotlib.font_manager:findfont: score(FontEntry(fname='c:\\\\Users\\\\USUARIO\\\\anaconda3\\\\envs\\\\torch\\\\Lib\\\\site-packages\\\\matplotlib\\\\mpl-data\\\\fonts\\\\ttf\\\\STIXGeneralItalic.ttf', name='STIXGeneral', style='italic', variant='normal', weight=400, stretch='normal', size='scalable')) = 11.05\n",
            "DEBUG:matplotlib.font_manager:findfont: score(FontEntry(fname='c:\\\\Users\\\\USUARIO\\\\anaconda3\\\\envs\\\\torch\\\\Lib\\\\site-packages\\\\matplotlib\\\\mpl-data\\\\fonts\\\\ttf\\\\cmss10.ttf', name='cmss10', style='normal', variant='normal', weight=400, stretch='normal', size='scalable')) = 10.05\n",
            "DEBUG:matplotlib.font_manager:findfont: score(FontEntry(fname='c:\\\\Users\\\\USUARIO\\\\anaconda3\\\\envs\\\\torch\\\\Lib\\\\site-packages\\\\matplotlib\\\\mpl-data\\\\fonts\\\\ttf\\\\STIXSizThreeSymBol.ttf', name='STIXSizeThreeSym', style='normal', variant='normal', weight=700, stretch='normal', size='scalable')) = 10.335\n",
            "DEBUG:matplotlib.font_manager:findfont: score(FontEntry(fname='c:\\\\Users\\\\USUARIO\\\\anaconda3\\\\envs\\\\torch\\\\Lib\\\\site-packages\\\\matplotlib\\\\mpl-data\\\\fonts\\\\ttf\\\\DejaVuSerif-Bold.ttf', name='DejaVu Serif', style='normal', variant='normal', weight=700, stretch='normal', size='scalable')) = 10.335\n",
            "DEBUG:matplotlib.font_manager:findfont: score(FontEntry(fname='c:\\\\Users\\\\USUARIO\\\\anaconda3\\\\envs\\\\torch\\\\Lib\\\\site-packages\\\\matplotlib\\\\mpl-data\\\\fonts\\\\ttf\\\\STIXGeneralBolIta.ttf', name='STIXGeneral', style='italic', variant='normal', weight=700, stretch='normal', size='scalable')) = 11.335\n",
            "DEBUG:matplotlib.font_manager:findfont: score(FontEntry(fname='c:\\\\Users\\\\USUARIO\\\\anaconda3\\\\envs\\\\torch\\\\Lib\\\\site-packages\\\\matplotlib\\\\mpl-data\\\\fonts\\\\ttf\\\\cmb10.ttf', name='cmb10', style='normal', variant='normal', weight=400, stretch='normal', size='scalable')) = 10.05\n",
            "DEBUG:matplotlib.font_manager:findfont: score(FontEntry(fname='c:\\\\Users\\\\USUARIO\\\\anaconda3\\\\envs\\\\torch\\\\Lib\\\\site-packages\\\\matplotlib\\\\mpl-data\\\\fonts\\\\ttf\\\\cmsy10.ttf', name='cmsy10', style='normal', variant='normal', weight=400, stretch='normal', size='scalable')) = 10.05\n",
            "DEBUG:matplotlib.font_manager:findfont: score(FontEntry(fname='c:\\\\Users\\\\USUARIO\\\\anaconda3\\\\envs\\\\torch\\\\Lib\\\\site-packages\\\\matplotlib\\\\mpl-data\\\\fonts\\\\ttf\\\\cmmi10.ttf', name='cmmi10', style='normal', variant='normal', weight=400, stretch='normal', size='scalable')) = 10.05\n",
            "DEBUG:matplotlib.font_manager:findfont: score(FontEntry(fname='c:\\\\Users\\\\USUARIO\\\\anaconda3\\\\envs\\\\torch\\\\Lib\\\\site-packages\\\\matplotlib\\\\mpl-data\\\\fonts\\\\ttf\\\\STIXGeneral.ttf', name='STIXGeneral', style='normal', variant='normal', weight=400, stretch='normal', size='scalable')) = 10.05\n",
            "DEBUG:matplotlib.font_manager:findfont: score(FontEntry(fname='c:\\\\Users\\\\USUARIO\\\\anaconda3\\\\envs\\\\torch\\\\Lib\\\\site-packages\\\\matplotlib\\\\mpl-data\\\\fonts\\\\ttf\\\\STIXGeneralBol.ttf', name='STIXGeneral', style='normal', variant='normal', weight=700, stretch='normal', size='scalable')) = 10.335\n",
            "DEBUG:matplotlib.font_manager:findfont: score(FontEntry(fname='c:\\\\Users\\\\USUARIO\\\\anaconda3\\\\envs\\\\torch\\\\Lib\\\\site-packages\\\\matplotlib\\\\mpl-data\\\\fonts\\\\ttf\\\\STIXNonUniIta.ttf', name='STIXNonUnicode', style='italic', variant='normal', weight=400, stretch='normal', size='scalable')) = 11.05\n",
            "DEBUG:matplotlib.font_manager:findfont: score(FontEntry(fname='c:\\\\Users\\\\USUARIO\\\\anaconda3\\\\envs\\\\torch\\\\Lib\\\\site-packages\\\\matplotlib\\\\mpl-data\\\\fonts\\\\ttf\\\\DejaVuSansDisplay.ttf', name='DejaVu Sans Display', style='normal', variant='normal', weight=400, stretch='normal', size='scalable')) = 10.05\n",
            "DEBUG:matplotlib.font_manager:findfont: score(FontEntry(fname='c:\\\\Users\\\\USUARIO\\\\anaconda3\\\\envs\\\\torch\\\\Lib\\\\site-packages\\\\matplotlib\\\\mpl-data\\\\fonts\\\\ttf\\\\STIXSizOneSymReg.ttf', name='STIXSizeOneSym', style='normal', variant='normal', weight=400, stretch='normal', size='scalable')) = 10.05\n",
            "DEBUG:matplotlib.font_manager:findfont: score(FontEntry(fname='c:\\\\Users\\\\USUARIO\\\\anaconda3\\\\envs\\\\torch\\\\Lib\\\\site-packages\\\\matplotlib\\\\mpl-data\\\\fonts\\\\ttf\\\\STIXSizFourSymBol.ttf', name='STIXSizeFourSym', style='normal', variant='normal', weight=700, stretch='normal', size='scalable')) = 10.335\n",
            "DEBUG:matplotlib.font_manager:findfont: score(FontEntry(fname='c:\\\\Users\\\\USUARIO\\\\anaconda3\\\\envs\\\\torch\\\\Lib\\\\site-packages\\\\matplotlib\\\\mpl-data\\\\fonts\\\\ttf\\\\cmtt10.ttf', name='cmtt10', style='normal', variant='normal', weight=400, stretch='normal', size='scalable')) = 10.05\n",
            "DEBUG:matplotlib.font_manager:findfont: score(FontEntry(fname='c:\\\\Users\\\\USUARIO\\\\anaconda3\\\\envs\\\\torch\\\\Lib\\\\site-packages\\\\matplotlib\\\\mpl-data\\\\fonts\\\\ttf\\\\STIXSizThreeSymReg.ttf', name='STIXSizeThreeSym', style='normal', variant='normal', weight=400, stretch='normal', size='scalable')) = 10.05\n",
            "DEBUG:matplotlib.font_manager:findfont: score(FontEntry(fname='c:\\\\Users\\\\USUARIO\\\\anaconda3\\\\envs\\\\torch\\\\Lib\\\\site-packages\\\\matplotlib\\\\mpl-data\\\\fonts\\\\ttf\\\\STIXNonUniBol.ttf', name='STIXNonUnicode', style='normal', variant='normal', weight=700, stretch='normal', size='scalable')) = 10.335\n",
            "DEBUG:matplotlib.font_manager:findfont: score(FontEntry(fname='c:\\\\Users\\\\USUARIO\\\\anaconda3\\\\envs\\\\torch\\\\Lib\\\\site-packages\\\\matplotlib\\\\mpl-data\\\\fonts\\\\ttf\\\\DejaVuSansMono.ttf', name='DejaVu Sans Mono', style='normal', variant='normal', weight=400, stretch='normal', size='scalable')) = 10.05\n",
            "DEBUG:matplotlib.font_manager:findfont: score(FontEntry(fname='c:\\\\Users\\\\USUARIO\\\\anaconda3\\\\envs\\\\torch\\\\Lib\\\\site-packages\\\\matplotlib\\\\mpl-data\\\\fonts\\\\ttf\\\\DejaVuSerifDisplay.ttf', name='DejaVu Serif Display', style='normal', variant='normal', weight=400, stretch='normal', size='scalable')) = 10.05\n",
            "DEBUG:matplotlib.font_manager:findfont: score(FontEntry(fname='c:\\\\Users\\\\USUARIO\\\\anaconda3\\\\envs\\\\torch\\\\Lib\\\\site-packages\\\\matplotlib\\\\mpl-data\\\\fonts\\\\ttf\\\\STIXSizTwoSymReg.ttf', name='STIXSizeTwoSym', style='normal', variant='normal', weight=400, stretch='normal', size='scalable')) = 10.05\n",
            "DEBUG:matplotlib.font_manager:findfont: score(FontEntry(fname='c:\\\\Users\\\\USUARIO\\\\anaconda3\\\\envs\\\\torch\\\\Lib\\\\site-packages\\\\matplotlib\\\\mpl-data\\\\fonts\\\\ttf\\\\cmr10.ttf', name='cmr10', style='normal', variant='normal', weight=400, stretch='normal', size='scalable')) = 10.05\n",
            "DEBUG:matplotlib.font_manager:findfont: score(FontEntry(fname='c:\\\\Users\\\\USUARIO\\\\anaconda3\\\\envs\\\\torch\\\\Lib\\\\site-packages\\\\matplotlib\\\\mpl-data\\\\fonts\\\\ttf\\\\STIXSizFourSymReg.ttf', name='STIXSizeFourSym', style='normal', variant='normal', weight=400, stretch='normal', size='scalable')) = 10.05\n",
            "DEBUG:matplotlib.font_manager:findfont: score(FontEntry(fname='c:\\\\Users\\\\USUARIO\\\\anaconda3\\\\envs\\\\torch\\\\Lib\\\\site-packages\\\\matplotlib\\\\mpl-data\\\\fonts\\\\ttf\\\\DejaVuSerif-Italic.ttf', name='DejaVu Serif', style='italic', variant='normal', weight=400, stretch='normal', size='scalable')) = 11.05\n",
            "DEBUG:matplotlib.font_manager:findfont: score(FontEntry(fname='c:\\\\Users\\\\USUARIO\\\\anaconda3\\\\envs\\\\torch\\\\Lib\\\\site-packages\\\\matplotlib\\\\mpl-data\\\\fonts\\\\ttf\\\\DejaVuSerif-BoldItalic.ttf', name='DejaVu Serif', style='italic', variant='normal', weight=700, stretch='normal', size='scalable')) = 11.335\n",
            "DEBUG:matplotlib.font_manager:findfont: score(FontEntry(fname='C:\\\\Windows\\\\Fonts\\\\timesbi.ttf', name='Times New Roman', style='italic', variant='normal', weight=700, stretch='normal', size='scalable')) = 11.335\n",
            "DEBUG:matplotlib.font_manager:findfont: score(FontEntry(fname='C:\\\\Windows\\\\Fonts\\\\HARNGTON.TTF', name='Harrington', style='normal', variant='normal', weight=400, stretch='normal', size='scalable')) = 10.05\n",
            "DEBUG:matplotlib.font_manager:findfont: score(FontEntry(fname='C:\\\\Windows\\\\Fonts\\\\NewsGoth BT Bold.ttf', name='NewsGoth BT', style='normal', variant='normal', weight=700, stretch='normal', size='scalable')) = 10.335\n",
            "DEBUG:matplotlib.font_manager:findfont: score(FontEntry(fname='C:\\\\Windows\\\\Fonts\\\\ENGR.TTF', name='Engravers MT', style='normal', variant='normal', weight=500, stretch='normal', size='scalable')) = 10.145\n",
            "DEBUG:matplotlib.font_manager:findfont: score(FontEntry(fname='C:\\\\Windows\\\\Fonts\\\\CentSchbkCyrill BT Italic.ttf', name='CentSchbkCyrill BT', style='italic', variant='normal', weight=400, stretch='normal', size='scalable')) = 11.05\n",
            "DEBUG:matplotlib.font_manager:findfont: score(FontEntry(fname='C:\\\\Windows\\\\Fonts\\\\Geometr706 BlkCn BT Black.ttf', name='Geometr706 BlkCn BT', style='normal', variant='normal', weight=400, stretch='normal', size='scalable')) = 10.05\n",
            "DEBUG:matplotlib.font_manager:findfont: score(FontEntry(fname='C:\\\\Windows\\\\Fonts\\\\Clarendon Blk BT Black.ttf', name='Clarendon Blk BT', style='normal', variant='normal', weight=400, stretch='normal', size='scalable')) = 10.05\n",
            "DEBUG:matplotlib.font_manager:findfont: score(FontEntry(fname='C:\\\\Windows\\\\Fonts\\\\swissb.ttf', name='Swis721 BT', style='normal', variant='normal', weight=700, stretch='normal', size='scalable')) = 10.335\n",
            "DEBUG:matplotlib.font_manager:findfont: score(FontEntry(fname='C:\\\\Windows\\\\Fonts\\\\HTOWERT.TTF', name='High Tower Text', style='normal', variant='normal', weight=400, stretch='normal', size='scalable')) = 10.05\n",
            "DEBUG:matplotlib.font_manager:findfont: score(FontEntry(fname='C:\\\\Windows\\\\Fonts\\\\Swis721 Lt BT Light.ttf', name='Swis721 Lt BT', style='normal', variant='normal', weight=400, stretch='normal', size='scalable')) = 10.05\n",
            "DEBUG:matplotlib.font_manager:findfont: score(FontEntry(fname='C:\\\\Windows\\\\Fonts\\\\cambriaz.ttf', name='Cambria', style='italic', variant='normal', weight=700, stretch='normal', size='scalable')) = 11.335\n",
            "DEBUG:matplotlib.font_manager:findfont: score(FontEntry(fname='C:\\\\Windows\\\\Fonts\\\\swisse.ttf', name='Swis721 Ex BT', style='normal', variant='normal', weight=400, stretch='expanded', size='scalable')) = 10.25\n",
            "DEBUG:matplotlib.font_manager:findfont: score(FontEntry(fname='C:\\\\Windows\\\\Fonts\\\\Square721 BT Roman.ttf', name='Square721 BT', style='normal', variant='normal', weight=400, stretch='normal', size='scalable')) = 10.05\n",
            "DEBUG:matplotlib.font_manager:findfont: score(FontEntry(fname='C:\\\\Windows\\\\Fonts\\\\CALIFI.TTF', name='Californian FB', style='italic', variant='normal', weight=400, stretch='normal', size='scalable')) = 11.05\n",
            "DEBUG:matplotlib.font_manager:findfont: score(FontEntry(fname='C:\\\\Windows\\\\Fonts\\\\mtproxy9.ttf', name='Proxy 9', style='normal', variant='normal', weight=400, stretch='normal', size='scalable')) = 10.05\n",
            "DEBUG:matplotlib.font_manager:findfont: score(FontEntry(fname='C:\\\\Windows\\\\Fonts\\\\courbd.ttf', name='Courier New', style='normal', variant='normal', weight=700, stretch='normal', size='scalable')) = 10.335\n",
            "DEBUG:matplotlib.font_manager:findfont: score(FontEntry(fname='C:\\\\Windows\\\\Fonts\\\\sanssbo_.ttf', name='SansSerif', style='oblique', variant='normal', weight=700, stretch='normal', size='scalable')) = 11.335\n",
            "DEBUG:matplotlib.font_manager:findfont: score(FontEntry(fname='C:\\\\Windows\\\\Fonts\\\\FRAMDCN.TTF', name='Franklin Gothic Medium Cond', style='normal', variant='normal', weight=400, stretch='condensed', size='scalable')) = 10.25\n",
            "DEBUG:matplotlib.font_manager:findfont: score(FontEntry(fname='C:\\\\Windows\\\\Fonts\\\\COLONNA.TTF', name='Colonna MT', style='normal', variant='normal', weight=400, stretch='normal', size='scalable')) = 10.05\n",
            "DEBUG:matplotlib.font_manager:findfont: score(FontEntry(fname='C:\\\\Windows\\\\Fonts\\\\TCM_____.TTF', name='Tw Cen MT', style='normal', variant='normal', weight=400, stretch='normal', size='scalable')) = 10.05\n",
            "DEBUG:matplotlib.font_manager:findfont: score(FontEntry(fname='C:\\\\Windows\\\\Fonts\\\\txt_____.ttf', name='Txt', style='normal', variant='normal', weight=400, stretch='normal', size='scalable')) = 10.05\n",
            "DEBUG:matplotlib.font_manager:findfont: score(FontEntry(fname='C:\\\\Windows\\\\Fonts\\\\SCHLBKI.TTF', name='Century Schoolbook', style='italic', variant='normal', weight=400, stretch='normal', size='scalable')) = 11.05\n",
            "DEBUG:matplotlib.font_manager:findfont: score(FontEntry(fname='C:\\\\Windows\\\\Fonts\\\\BOOKOS.TTF', name='Bookman Old Style', style='normal', variant='normal', weight=300, stretch='normal', size='scalable')) = 10.145\n",
            "DEBUG:matplotlib.font_manager:findfont: score(FontEntry(fname='C:\\\\Windows\\\\Fonts\\\\TCB_____.TTF', name='Tw Cen MT', style='normal', variant='normal', weight=700, stretch='normal', size='scalable')) = 10.335\n",
            "DEBUG:matplotlib.font_manager:findfont: score(FontEntry(fname='C:\\\\Windows\\\\Fonts\\\\ARIALNB.TTF', name='Arial', style='normal', variant='normal', weight=700, stretch='condensed', size='scalable')) = 6.8986363636363635\n",
            "DEBUG:matplotlib.font_manager:findfont: score(FontEntry(fname='C:\\\\Windows\\\\Fonts\\\\SCHLBKB.TTF', name='Century Schoolbook', style='normal', variant='normal', weight=700, stretch='normal', size='scalable')) = 10.335\n",
            "DEBUG:matplotlib.font_manager:findfont: score(FontEntry(fname='C:\\\\Windows\\\\Fonts\\\\Century751 BT Italic.ttf', name='Century751 BT', style='italic', variant='normal', weight=400, stretch='normal', size='scalable')) = 11.05\n",
            "DEBUG:matplotlib.font_manager:findfont: score(FontEntry(fname='C:\\\\Windows\\\\Fonts\\\\mingliub.ttc', name='MingLiU-ExtB', style='normal', variant='normal', weight=400, stretch='normal', size='scalable')) = 10.05\n",
            "DEBUG:matplotlib.font_manager:findfont: score(FontEntry(fname='C:\\\\Windows\\\\Fonts\\\\consolab.ttf', name='Consolas', style='normal', variant='normal', weight=700, stretch='normal', size='scalable')) = 10.335\n",
            "DEBUG:matplotlib.font_manager:findfont: score(FontEntry(fname='C:\\\\Windows\\\\Fonts\\\\malgun.ttf', name='Malgun Gothic', style='normal', variant='normal', weight=400, stretch='normal', size='scalable')) = 10.05\n",
            "DEBUG:matplotlib.font_manager:findfont: score(FontEntry(fname='C:\\\\Windows\\\\Fonts\\\\CURLZ___.TTF', name='Curlz MT', style='normal', variant='normal', weight=400, stretch='normal', size='scalable')) = 10.05\n",
            "DEBUG:matplotlib.font_manager:findfont: score(FontEntry(fname='C:\\\\Windows\\\\Fonts\\\\comic.ttf', name='Comic Sans MS', style='normal', variant='normal', weight=400, stretch='normal', size='scalable')) = 10.05\n",
            "DEBUG:matplotlib.font_manager:findfont: score(FontEntry(fname='C:\\\\Windows\\\\Fonts\\\\ERASBD.TTF', name='Eras Bold ITC', style='normal', variant='normal', weight=400, stretch='normal', size='scalable')) = 10.05\n",
            "DEBUG:matplotlib.font_manager:findfont: score(FontEntry(fname='C:\\\\Windows\\\\Fonts\\\\comicbd.ttf', name='Comic Sans MS', style='normal', variant='normal', weight=700, stretch='normal', size='scalable')) = 10.335\n",
            "DEBUG:matplotlib.font_manager:findfont: score(FontEntry(fname='C:\\\\Windows\\\\Fonts\\\\LeelUIsl.ttf', name='Leelawadee UI', style='normal', variant='normal', weight=350, stretch='normal', size='scalable')) = 10.0975\n",
            "DEBUG:matplotlib.font_manager:findfont: score(FontEntry(fname='C:\\\\Windows\\\\Fonts\\\\symusic_.ttf', name='Symusic', style='normal', variant='normal', weight=400, stretch='normal', size='scalable')) = 10.05\n",
            "DEBUG:matplotlib.font_manager:findfont: score(FontEntry(fname='C:\\\\Windows\\\\Fonts\\\\ROCCB___.TTF', name='Rockwell Condensed', style='normal', variant='normal', weight=700, stretch='condensed', size='scalable')) = 10.535\n",
            "DEBUG:matplotlib.font_manager:findfont: score(FontEntry(fname='C:\\\\Windows\\\\Fonts\\\\msjhl.ttc', name='Microsoft JhengHei', style='normal', variant='normal', weight=290, stretch='normal', size='scalable')) = 10.1545\n",
            "DEBUG:matplotlib.font_manager:findfont: score(FontEntry(fname='C:\\\\Windows\\\\Fonts\\\\NIAGENG.TTF', name='Niagara Engraved', style='normal', variant='normal', weight=400, stretch='normal', size='scalable')) = 10.05\n",
            "DEBUG:matplotlib.font_manager:findfont: score(FontEntry(fname='C:\\\\Windows\\\\Fonts\\\\SNAP____.TTF', name='Snap ITC', style='normal', variant='normal', weight=400, stretch='normal', size='scalable')) = 10.05\n",
            "DEBUG:matplotlib.font_manager:findfont: score(FontEntry(fname='C:\\\\Windows\\\\Fonts\\\\malgunsl.ttf', name='Malgun Gothic', style='normal', variant='normal', weight=300, stretch='normal', size='scalable')) = 10.145\n",
            "DEBUG:matplotlib.font_manager:findfont: score(FontEntry(fname='C:\\\\Windows\\\\Fonts\\\\TCCM____.TTF', name='Tw Cen MT Condensed', style='normal', variant='normal', weight=400, stretch='condensed', size='scalable')) = 10.25\n",
            "DEBUG:matplotlib.font_manager:findfont: score(FontEntry(fname='C:\\\\Windows\\\\Fonts\\\\COPRGTB.TTF', name='Copperplate Gothic Bold', style='normal', variant='normal', weight=400, stretch='normal', size='scalable')) = 10.05\n",
            "DEBUG:matplotlib.font_manager:findfont: score(FontEntry(fname='C:\\\\Windows\\\\Fonts\\\\romans__.ttf', name='RomanS', style='normal', variant='normal', weight=400, stretch='normal', size='scalable')) = 10.05\n",
            "DEBUG:matplotlib.font_manager:findfont: score(FontEntry(fname='C:\\\\Windows\\\\Fonts\\\\GeoSlab703 Md BT Medium Italic.ttf', name='GeoSlab703 Md BT', style='italic', variant='normal', weight=400, stretch='normal', size='scalable')) = 11.05\n",
            "DEBUG:matplotlib.font_manager:findfont: score(FontEntry(fname='C:\\\\Windows\\\\Fonts\\\\Clarendon BT Roman.ttf', name='Clarendon BT', style='normal', variant='normal', weight=400, stretch='normal', size='scalable')) = 10.05\n",
            "DEBUG:matplotlib.font_manager:findfont: score(FontEntry(fname='C:\\\\Windows\\\\Fonts\\\\Nirmala.ttf', name='Nirmala UI', style='normal', variant='normal', weight=400, stretch='normal', size='scalable')) = 10.05\n",
            "DEBUG:matplotlib.font_manager:findfont: score(FontEntry(fname='C:\\\\Windows\\\\Fonts\\\\panroman.ttf', name='PanRoman', style='normal', variant='normal', weight=400, stretch='normal', size='scalable')) = 10.05\n",
            "DEBUG:matplotlib.font_manager:findfont: score(FontEntry(fname='C:\\\\Windows\\\\Fonts\\\\BOD_BI.TTF', name='Bodoni MT', style='italic', variant='normal', weight=700, stretch='normal', size='scalable')) = 11.335\n",
            "DEBUG:matplotlib.font_manager:findfont: score(FontEntry(fname='C:\\\\Windows\\\\Fonts\\\\Futura Md BT Bold Italic.ttf', name='Futura Md BT', style='italic', variant='normal', weight=700, stretch='normal', size='scalable')) = 11.335\n",
            "DEBUG:matplotlib.font_manager:findfont: score(FontEntry(fname='C:\\\\Windows\\\\Fonts\\\\ERASDEMI.TTF', name='Eras Demi ITC', style='normal', variant='normal', weight=400, stretch='normal', size='scalable')) = 10.05\n",
            "DEBUG:matplotlib.font_manager:findfont: score(FontEntry(fname='C:\\\\Windows\\\\Fonts\\\\PARCHM.TTF', name='Parchment', style='normal', variant='normal', weight=400, stretch='normal', size='scalable')) = 10.05\n",
            "DEBUG:matplotlib.font_manager:findfont: score(FontEntry(fname='C:\\\\Windows\\\\Fonts\\\\Artifakt Element Regular.ttf', name='Artifakt Element', style='normal', variant='normal', weight=400, stretch='normal', size='scalable')) = 10.05\n",
            "DEBUG:matplotlib.font_manager:findfont: score(FontEntry(fname='C:\\\\Windows\\\\Fonts\\\\swissli.ttf', name='Swis721 Lt BT', style='italic', variant='normal', weight=400, stretch='normal', size='scalable')) = 11.05\n",
            "DEBUG:matplotlib.font_manager:findfont: score(FontEntry(fname='C:\\\\Windows\\\\Fonts\\\\LTYPEB.TTF', name='Lucida Sans Typewriter', style='normal', variant='normal', weight=600, stretch='normal', size='scalable')) = 10.24\n",
            "DEBUG:matplotlib.font_manager:findfont: score(FontEntry(fname='C:\\\\Windows\\\\Fonts\\\\BOD_BLAR.TTF', name='Bodoni MT', style='normal', variant='normal', weight=900, stretch='normal', size='scalable')) = 10.525\n",
            "DEBUG:matplotlib.font_manager:findfont: score(FontEntry(fname='C:\\\\Windows\\\\Fonts\\\\TCCB____.TTF', name='Tw Cen MT Condensed', style='normal', variant='normal', weight=700, stretch='condensed', size='scalable')) = 10.535\n",
            "DEBUG:matplotlib.font_manager:findfont: score(FontEntry(fname='C:\\\\Windows\\\\Fonts\\\\calibriz.ttf', name='Calibri', style='italic', variant='normal', weight=700, stretch='normal', size='scalable')) = 11.335\n",
            "DEBUG:matplotlib.font_manager:findfont: score(FontEntry(fname='C:\\\\Windows\\\\Fonts\\\\palab.ttf', name='Palatino Linotype', style='normal', variant='normal', weight=700, stretch='normal', size='scalable')) = 10.335\n",
            "DEBUG:matplotlib.font_manager:findfont: score(FontEntry(fname='C:\\\\Windows\\\\Fonts\\\\ELEPHNTI.TTF', name='Elephant', style='italic', variant='normal', weight=400, stretch='normal', size='scalable')) = 11.05\n",
            "DEBUG:matplotlib.font_manager:findfont: score(FontEntry(fname='C:\\\\Windows\\\\Fonts\\\\Century751 BT Roman.ttf', name='Century751 BT', style='normal', variant='normal', weight=400, stretch='normal', size='scalable')) = 10.05\n",
            "DEBUG:matplotlib.font_manager:findfont: score(FontEntry(fname='C:\\\\Windows\\\\Fonts\\\\corbelli.ttf', name='Corbel', style='italic', variant='normal', weight=300, stretch='normal', size='scalable')) = 11.145\n",
            "DEBUG:matplotlib.font_manager:findfont: score(FontEntry(fname='C:\\\\Windows\\\\Fonts\\\\romantic.ttf', name='Romantic', style='normal', variant='normal', weight=400, stretch='normal', size='scalable')) = 10.05\n",
            "DEBUG:matplotlib.font_manager:findfont: score(FontEntry(fname='C:\\\\Windows\\\\Fonts\\\\Humanst521 BT Bold Italic.ttf', name='Humanst521 BT', style='italic', variant='normal', weight=700, stretch='normal', size='scalable')) = 11.335\n",
            "DEBUG:matplotlib.font_manager:findfont: score(FontEntry(fname='C:\\\\Windows\\\\Fonts\\\\ANTQUAI.TTF', name='Book Antiqua', style='italic', variant='normal', weight=400, stretch='normal', size='scalable')) = 11.05\n",
            "DEBUG:matplotlib.font_manager:findfont: score(FontEntry(fname='C:\\\\Windows\\\\Fonts\\\\himalaya.ttf', name='Microsoft Himalaya', style='normal', variant='normal', weight=400, stretch='normal', size='scalable')) = 10.05\n",
            "DEBUG:matplotlib.font_manager:findfont: score(FontEntry(fname='C:\\\\Windows\\\\Fonts\\\\SHOWG.TTF', name='Showcard Gothic', style='normal', variant='normal', weight=400, stretch='normal', size='scalable')) = 10.05\n",
            "DEBUG:matplotlib.font_manager:findfont: score(FontEntry(fname='C:\\\\Windows\\\\Fonts\\\\bgothm.ttf', name='BankGothic Md BT', style='normal', variant='normal', weight=400, stretch='normal', size='scalable')) = 10.05\n",
            "DEBUG:matplotlib.font_manager:findfont: score(FontEntry(fname='C:\\\\Windows\\\\Fonts\\\\isocp3__.ttf', name='ISOCP3', style='normal', variant='normal', weight=400, stretch='normal', size='scalable')) = 10.05\n",
            "DEBUG:matplotlib.font_manager:findfont: score(FontEntry(fname='C:\\\\Windows\\\\Fonts\\\\gothice_.ttf', name='GothicE', style='normal', variant='normal', weight=400, stretch='normal', size='scalable')) = 10.05\n",
            "DEBUG:matplotlib.font_manager:findfont: score(FontEntry(fname='C:\\\\Windows\\\\Fonts\\\\PRISTINA.TTF', name='Pristina', style='normal', variant='normal', weight=400, stretch='normal', size='scalable')) = 10.05\n",
            "DEBUG:matplotlib.font_manager:findfont: score(FontEntry(fname='C:\\\\Windows\\\\Fonts\\\\CALISTB.TTF', name='Calisto MT', style='normal', variant='normal', weight=700, stretch='normal', size='scalable')) = 10.335\n",
            "DEBUG:matplotlib.font_manager:findfont: score(FontEntry(fname='C:\\\\Windows\\\\Fonts\\\\FRAHV.TTF', name='Franklin Gothic Heavy', style='normal', variant='normal', weight=400, stretch='normal', size='scalable')) = 10.05\n",
            "DEBUG:matplotlib.font_manager:findfont: score(FontEntry(fname='C:\\\\Windows\\\\Fonts\\\\JOKERMAN.TTF', name='Jokerman', style='normal', variant='normal', weight=400, stretch='normal', size='scalable')) = 10.05\n",
            "DEBUG:matplotlib.font_manager:findfont: score(FontEntry(fname='C:\\\\Windows\\\\Fonts\\\\simplex_.ttf', name='Simplex', style='normal', variant='normal', weight=400, stretch='normal', size='scalable')) = 10.05\n",
            "DEBUG:matplotlib.font_manager:findfont: score(FontEntry(fname='C:\\\\Windows\\\\Fonts\\\\ROCKBI.TTF', name='Rockwell', style='italic', variant='normal', weight=700, stretch='normal', size='scalable')) = 11.335\n",
            "DEBUG:matplotlib.font_manager:findfont: score(FontEntry(fname='C:\\\\Windows\\\\Fonts\\\\cityb___.ttf', name='CityBlueprint', style='normal', variant='normal', weight=400, stretch='normal', size='scalable')) = 10.05\n",
            "DEBUG:matplotlib.font_manager:findfont: score(FontEntry(fname='C:\\\\Windows\\\\Fonts\\\\MAGNETOB.TTF', name='Magneto', style='normal', variant='normal', weight=700, stretch='normal', size='scalable')) = 10.335\n",
            "DEBUG:matplotlib.font_manager:findfont: score(FontEntry(fname='C:\\\\Windows\\\\Fonts\\\\POORICH.TTF', name='Poor Richard', style='normal', variant='normal', weight=400, stretch='normal', size='scalable')) = 10.05\n",
            "DEBUG:matplotlib.font_manager:findfont: score(FontEntry(fname='C:\\\\Windows\\\\Fonts\\\\FORTE.TTF', name='Forte', style='normal', variant='normal', weight=400, stretch='normal', size='scalable')) = 10.05\n",
            "DEBUG:matplotlib.font_manager:findfont: score(FontEntry(fname='C:\\\\Windows\\\\Fonts\\\\isocteui.ttf', name='ISOCTEUR', style='italic', variant='normal', weight=400, stretch='normal', size='scalable')) = 11.05\n",
            "DEBUG:matplotlib.font_manager:findfont: score(FontEntry(fname='C:\\\\Windows\\\\Fonts\\\\Candara.ttf', name='Candara', style='normal', variant='normal', weight=400, stretch='normal', size='scalable')) = 10.05\n",
            "DEBUG:matplotlib.font_manager:findfont: score(FontEntry(fname='C:\\\\Windows\\\\Fonts\\\\mtproxy6.ttf', name='Proxy 6', style='normal', variant='normal', weight=400, stretch='normal', size='scalable')) = 10.05\n",
            "DEBUG:matplotlib.font_manager:findfont: score(FontEntry(fname='C:\\\\Windows\\\\Fonts\\\\monos.ttf', name='Monospac821 BT', style='normal', variant='normal', weight=400, stretch='normal', size='scalable')) = 10.05\n",
            "DEBUG:matplotlib.font_manager:findfont: score(FontEntry(fname='C:\\\\Windows\\\\Fonts\\\\Swis721 LtEx BT Light.ttf', name='Swis721 LtEx BT', style='normal', variant='normal', weight=400, stretch='normal', size='scalable')) = 10.05\n",
            "DEBUG:matplotlib.font_manager:findfont: score(FontEntry(fname='C:\\\\Windows\\\\Fonts\\\\SCRIPTBL.TTF', name='Script MT Bold', style='normal', variant='normal', weight=700, stretch='normal', size='scalable')) = 10.335\n",
            "DEBUG:matplotlib.font_manager:findfont: score(FontEntry(fname='C:\\\\Windows\\\\Fonts\\\\FREESCPT.TTF', name='Freestyle Script', style='normal', variant='normal', weight=400, stretch='normal', size='scalable')) = 10.05\n",
            "DEBUG:matplotlib.font_manager:findfont: score(FontEntry(fname='C:\\\\Windows\\\\Fonts\\\\symap___.ttf', name='Symap', style='normal', variant='normal', weight=400, stretch='normal', size='scalable')) = 10.05\n",
            "DEBUG:matplotlib.font_manager:findfont: score(FontEntry(fname='C:\\\\Windows\\\\Fonts\\\\monotxt_.ttf', name='Monotxt', style='normal', variant='normal', weight=400, stretch='normal', size='scalable')) = 10.05\n",
            "DEBUG:matplotlib.font_manager:findfont: score(FontEntry(fname='C:\\\\Windows\\\\Fonts\\\\GILLUBCD.TTF', name='Gill Sans Ultra Bold Condensed', style='normal', variant='normal', weight=400, stretch='condensed', size='scalable')) = 10.25\n",
            "DEBUG:matplotlib.font_manager:findfont: score(FontEntry(fname='C:\\\\Windows\\\\Fonts\\\\FRABKIT.TTF', name='Franklin Gothic Book', style='italic', variant='normal', weight=400, stretch='normal', size='scalable')) = 11.05\n",
            "DEBUG:matplotlib.font_manager:findfont: score(FontEntry(fname='C:\\\\Windows\\\\Fonts\\\\cambriab.ttf', name='Cambria', style='normal', variant='normal', weight=700, stretch='normal', size='scalable')) = 10.335\n",
            "DEBUG:matplotlib.font_manager:findfont: score(FontEntry(fname='C:\\\\Windows\\\\Fonts\\\\dutchb.ttf', name='Dutch801 Rm BT', style='normal', variant='normal', weight=700, stretch='normal', size='scalable')) = 10.335\n",
            "DEBUG:matplotlib.font_manager:findfont: score(FontEntry(fname='C:\\\\Windows\\\\Fonts\\\\RAVIE.TTF', name='Ravie', style='normal', variant='normal', weight=400, stretch='normal', size='scalable')) = 10.05\n",
            "DEBUG:matplotlib.font_manager:findfont: score(FontEntry(fname='C:\\\\Windows\\\\Fonts\\\\romand__.ttf', name='RomanD', style='normal', variant='normal', weight=400, stretch='normal', size='scalable')) = 10.05\n",
            "DEBUG:matplotlib.font_manager:findfont: score(FontEntry(fname='C:\\\\Windows\\\\Fonts\\\\REFSAN.TTF', name='MS Reference Sans Serif', style='normal', variant='normal', weight=400, stretch='normal', size='scalable')) = 10.05\n",
            "DEBUG:matplotlib.font_manager:findfont: score(FontEntry(fname='C:\\\\Windows\\\\Fonts\\\\greekc__.ttf', name='GreekC', style='normal', variant='normal', weight=400, stretch='normal', size='scalable')) = 10.05\n",
            "DEBUG:matplotlib.font_manager:findfont: score(FontEntry(fname='C:\\\\Windows\\\\Fonts\\\\isocp___.ttf', name='ISOCP', style='normal', variant='normal', weight=400, stretch='normal', size='scalable')) = 10.05\n",
            "DEBUG:matplotlib.font_manager:findfont: score(FontEntry(fname='C:\\\\Windows\\\\Fonts\\\\swissl.ttf', name='Swis721 Lt BT', style='normal', variant='normal', weight=400, stretch='normal', size='scalable')) = 10.05\n",
            "DEBUG:matplotlib.font_manager:findfont: score(FontEntry(fname='C:\\\\Windows\\\\Fonts\\\\GENISO.ttf', name='GENISO', style='normal', variant='normal', weight=400, stretch='normal', size='scalable')) = 10.05\n",
            "DEBUG:matplotlib.font_manager:findfont: score(FontEntry(fname='C:\\\\Windows\\\\Fonts\\\\LFAXDI.TTF', name='Lucida Fax', style='italic', variant='normal', weight=600, stretch='normal', size='scalable')) = 11.24\n",
            "DEBUG:matplotlib.font_manager:findfont: score(FontEntry(fname='C:\\\\Windows\\\\Fonts\\\\holomdl2.ttf', name='HoloLens MDL2 Assets', style='normal', variant='normal', weight=400, stretch='normal', size='scalable')) = 10.05\n",
            "DEBUG:matplotlib.font_manager:findfont: score(FontEntry(fname='C:\\\\Windows\\\\Fonts\\\\Schadow BT Roman.ttf', name='Schadow BT', style='normal', variant='normal', weight=400, stretch='normal', size='scalable')) = 10.05\n",
            "DEBUG:matplotlib.font_manager:findfont: score(FontEntry(fname='C:\\\\Windows\\\\Fonts\\\\tahoma.ttf', name='Tahoma', style='normal', variant='normal', weight=400, stretch='normal', size='scalable')) = 10.05\n",
            "DEBUG:matplotlib.font_manager:findfont: score(FontEntry(fname='C:\\\\Windows\\\\Fonts\\\\swiss.ttf', name='Swis721 BT', style='normal', variant='normal', weight=400, stretch='normal', size='scalable')) = 10.05\n",
            "DEBUG:matplotlib.font_manager:findfont: score(FontEntry(fname='C:\\\\Windows\\\\Fonts\\\\taile.ttf', name='Microsoft Tai Le', style='normal', variant='normal', weight=400, stretch='normal', size='scalable')) = 10.05\n",
            "DEBUG:matplotlib.font_manager:findfont: score(FontEntry(fname='C:\\\\Windows\\\\Fonts\\\\seguihis.ttf', name='Segoe UI Historic', style='normal', variant='normal', weight=400, stretch='normal', size='scalable')) = 10.05\n",
            "DEBUG:matplotlib.font_manager:findfont: score(FontEntry(fname='C:\\\\Windows\\\\Fonts\\\\OLDENGL.TTF', name='Old English Text MT', style='normal', variant='normal', weight=400, stretch='normal', size='scalable')) = 10.05\n",
            "DEBUG:matplotlib.font_manager:findfont: score(FontEntry(fname='C:\\\\Windows\\\\Fonts\\\\arialbd.ttf', name='Arial', style='normal', variant='normal', weight=700, stretch='normal', size='scalable')) = 6.698636363636363\n",
            "DEBUG:matplotlib.font_manager:findfont: score(FontEntry(fname='C:\\\\Windows\\\\Fonts\\\\LBRITEDI.TTF', name='Lucida Bright', style='italic', variant='normal', weight=600, stretch='normal', size='scalable')) = 11.24\n",
            "DEBUG:matplotlib.font_manager:findfont: score(FontEntry(fname='C:\\\\Windows\\\\Fonts\\\\Swis721 Cn BT Bold.ttf', name='Swis721 Cn BT', style='normal', variant='normal', weight=700, stretch='normal', size='scalable')) = 10.335\n",
            "DEBUG:matplotlib.font_manager:findfont: score(FontEntry(fname='C:\\\\Windows\\\\Fonts\\\\LHANDW.TTF', name='Lucida Handwriting', style='italic', variant='normal', weight=400, stretch='normal', size='scalable')) = 11.05\n",
            "DEBUG:matplotlib.font_manager:findfont: score(FontEntry(fname='C:\\\\Windows\\\\Fonts\\\\arialbi.ttf', name='Arial', style='italic', variant='normal', weight=700, stretch='normal', size='scalable')) = 7.698636363636363\n",
            "DEBUG:matplotlib.font_manager:findfont: score(FontEntry(fname='C:\\\\Windows\\\\Fonts\\\\segoesc.ttf', name='Segoe Script', style='normal', variant='normal', weight=400, stretch='normal', size='scalable')) = 10.05\n",
            "DEBUG:matplotlib.font_manager:findfont: score(FontEntry(fname='C:\\\\Windows\\\\Fonts\\\\LSANSDI.TTF', name='Lucida Sans', style='italic', variant='normal', weight=600, stretch='normal', size='scalable')) = 11.24\n",
            "DEBUG:matplotlib.font_manager:findfont: score(FontEntry(fname='C:\\\\Windows\\\\Fonts\\\\mtproxy2.ttf', name='Proxy 2', style='normal', variant='normal', weight=400, stretch='normal', size='scalable')) = 10.05\n",
            "DEBUG:matplotlib.font_manager:findfont: score(FontEntry(fname='C:\\\\Windows\\\\Fonts\\\\NIAGSOL.TTF', name='Niagara Solid', style='normal', variant='normal', weight=400, stretch='normal', size='scalable')) = 10.05\n",
            "DEBUG:matplotlib.font_manager:findfont: score(FontEntry(fname='C:\\\\Windows\\\\Fonts\\\\LTYPEBO.TTF', name='Lucida Sans Typewriter', style='oblique', variant='normal', weight=600, stretch='normal', size='scalable')) = 11.24\n",
            "DEBUG:matplotlib.font_manager:findfont: score(FontEntry(fname='C:\\\\Windows\\\\Fonts\\\\swissbo.ttf', name='Swis721 BdOul BT', style='normal', variant='normal', weight=400, stretch='normal', size='scalable')) = 10.05\n",
            "DEBUG:matplotlib.font_manager:findfont: score(FontEntry(fname='C:\\\\Windows\\\\Fonts\\\\GIGI.TTF', name='Gigi', style='normal', variant='normal', weight=400, stretch='normal', size='scalable')) = 10.05\n",
            "DEBUG:matplotlib.font_manager:findfont: score(FontEntry(fname='C:\\\\Windows\\\\Fonts\\\\INFROMAN.TTF', name='Informal Roman', style='normal', variant='normal', weight=400, stretch='normal', size='scalable')) = 10.05\n",
            "DEBUG:matplotlib.font_manager:findfont: score(FontEntry(fname='C:\\\\Windows\\\\Fonts\\\\corbelb.ttf', name='Corbel', style='normal', variant='normal', weight=700, stretch='normal', size='scalable')) = 10.335\n",
            "DEBUG:matplotlib.font_manager:findfont: score(FontEntry(fname='C:\\\\Windows\\\\Fonts\\\\ntailu.ttf', name='Microsoft New Tai Lue', style='normal', variant='normal', weight=400, stretch='normal', size='scalable')) = 10.05\n",
            "DEBUG:matplotlib.font_manager:findfont: score(FontEntry(fname='C:\\\\Windows\\\\Fonts\\\\lucon.ttf', name='Lucida Console', style='normal', variant='normal', weight=400, stretch='normal', size='scalable')) = 10.05\n",
            "DEBUG:matplotlib.font_manager:findfont: score(FontEntry(fname='C:\\\\Windows\\\\Fonts\\\\FRAHVIT.TTF', name='Franklin Gothic Heavy', style='italic', variant='normal', weight=400, stretch='normal', size='scalable')) = 11.05\n",
            "DEBUG:matplotlib.font_manager:findfont: score(FontEntry(fname='C:\\\\Windows\\\\Fonts\\\\symath__.ttf', name='Symath', style='normal', variant='normal', weight=400, stretch='normal', size='scalable')) = 10.05\n",
            "DEBUG:matplotlib.font_manager:findfont: score(FontEntry(fname='C:\\\\Windows\\\\Fonts\\\\mtproxy3.ttf', name='Proxy 3', style='normal', variant='normal', weight=400, stretch='normal', size='scalable')) = 10.05\n",
            "DEBUG:matplotlib.font_manager:findfont: score(FontEntry(fname='C:\\\\Windows\\\\Fonts\\\\ITCEDSCR.TTF', name='Edwardian Script ITC', style='normal', variant='normal', weight=400, stretch='normal', size='scalable')) = 10.05\n",
            "DEBUG:matplotlib.font_manager:findfont: score(FontEntry(fname='C:\\\\Windows\\\\Fonts\\\\consolai.ttf', name='Consolas', style='italic', variant='normal', weight=400, stretch='normal', size='scalable')) = 11.05\n",
            "DEBUG:matplotlib.font_manager:findfont: score(FontEntry(fname='C:\\\\Windows\\\\Fonts\\\\NewsGoth BT Bold Italic.ttf', name='NewsGoth BT', style='italic', variant='normal', weight=700, stretch='normal', size='scalable')) = 11.335\n",
            "DEBUG:matplotlib.font_manager:findfont: score(FontEntry(fname='C:\\\\Windows\\\\Fonts\\\\SitkaI.ttc', name='Sitka Small', style='italic', variant='normal', weight=400, stretch='normal', size='scalable')) = 11.05\n",
            "DEBUG:matplotlib.font_manager:findfont: score(FontEntry(fname='C:\\\\Windows\\\\Fonts\\\\msyhbd.ttc', name='Microsoft YaHei', style='normal', variant='normal', weight=700, stretch='normal', size='scalable')) = 10.335\n",
            "DEBUG:matplotlib.font_manager:findfont: score(FontEntry(fname='C:\\\\Windows\\\\Fonts\\\\segoeuii.ttf', name='Segoe UI', style='italic', variant='normal', weight=400, stretch='normal', size='scalable')) = 11.05\n",
            "DEBUG:matplotlib.font_manager:findfont: score(FontEntry(fname='C:\\\\Windows\\\\Fonts\\\\dutchbi.ttf', name='Dutch801 Rm BT', style='italic', variant='normal', weight=700, stretch='normal', size='scalable')) = 11.335\n",
            "DEBUG:matplotlib.font_manager:findfont: score(FontEntry(fname='C:\\\\Windows\\\\Fonts\\\\vinet.ttf', name='Vineta BT', style='normal', variant='normal', weight=400, stretch='normal', size='scalable')) = 10.05\n",
            "DEBUG:matplotlib.font_manager:findfont: score(FontEntry(fname='C:\\\\Windows\\\\Fonts\\\\simsunb.ttf', name='SimSun-ExtB', style='normal', variant='normal', weight=400, stretch='normal', size='scalable')) = 10.05\n",
            "DEBUG:matplotlib.font_manager:findfont: score(FontEntry(fname='C:\\\\Windows\\\\Fonts\\\\CentSchbkCyrill BT Bold.ttf', name='CentSchbkCyrill BT', style='normal', variant='normal', weight=700, stretch='normal', size='scalable')) = 10.335\n",
            "DEBUG:matplotlib.font_manager:findfont: score(FontEntry(fname='C:\\\\Windows\\\\Fonts\\\\mtproxy8.ttf', name='Proxy 8', style='normal', variant='normal', weight=400, stretch='normal', size='scalable')) = 10.05\n",
            "DEBUG:matplotlib.font_manager:findfont: score(FontEntry(fname='C:\\\\Windows\\\\Fonts\\\\GOTHIC.TTF', name='Century Gothic', style='normal', variant='normal', weight=400, stretch='normal', size='scalable')) = 10.05\n",
            "DEBUG:matplotlib.font_manager:findfont: score(FontEntry(fname='C:\\\\Windows\\\\Fonts\\\\LFAX.TTF', name='Lucida Fax', style='normal', variant='normal', weight=400, stretch='normal', size='scalable')) = 10.05\n",
            "DEBUG:matplotlib.font_manager:findfont: score(FontEntry(fname='C:\\\\Windows\\\\Fonts\\\\Futura Md BT Medium Italic.ttf', name='Futura Md BT', style='italic', variant='normal', weight=400, stretch='normal', size='scalable')) = 11.05\n",
            "DEBUG:matplotlib.font_manager:findfont: score(FontEntry(fname='C:\\\\Windows\\\\Fonts\\\\symbol.ttf', name='Symbol', style='normal', variant='normal', weight=400, stretch='normal', size='scalable')) = 10.05\n",
            "DEBUG:matplotlib.font_manager:findfont: score(FontEntry(fname='C:\\\\Windows\\\\Fonts\\\\GeoSlab703 Md BT Medium.ttf', name='GeoSlab703 Md BT', style='normal', variant='normal', weight=400, stretch='normal', size='scalable')) = 10.05\n",
            "DEBUG:matplotlib.font_manager:findfont: score(FontEntry(fname='C:\\\\Windows\\\\Fonts\\\\COPRGTL.TTF', name='Copperplate Gothic Light', style='normal', variant='normal', weight=400, stretch='normal', size='scalable')) = 10.05\n",
            "DEBUG:matplotlib.font_manager:findfont: score(FontEntry(fname='C:\\\\Windows\\\\Fonts\\\\corbeli.ttf', name='Corbel', style='italic', variant='normal', weight=400, stretch='normal', size='scalable')) = 11.05\n",
            "DEBUG:matplotlib.font_manager:findfont: score(FontEntry(fname='C:\\\\Windows\\\\Fonts\\\\Swis721 WGL4 BT Roman.ttf', name='Swis721 WGL4 BT', style='normal', variant='normal', weight=400, stretch='normal', size='scalable')) = 10.05\n",
            "DEBUG:matplotlib.font_manager:findfont: score(FontEntry(fname='C:\\\\Windows\\\\Fonts\\\\BRLNSB.TTF', name='Berlin Sans FB', style='normal', variant='normal', weight=700, stretch='normal', size='scalable')) = 10.335\n",
            "DEBUG:matplotlib.font_manager:findfont: score(FontEntry(fname='C:\\\\Windows\\\\Fonts\\\\AcadEref.ttf', name='AcadEref', style='normal', variant='normal', weight=400, stretch='normal', size='scalable')) = 10.05\n",
            "DEBUG:matplotlib.font_manager:findfont: score(FontEntry(fname='C:\\\\Windows\\\\Fonts\\\\ERASLGHT.TTF', name='Eras Light ITC', style='normal', variant='normal', weight=400, stretch='normal', size='scalable')) = 10.05\n",
            "DEBUG:matplotlib.font_manager:findfont: score(FontEntry(fname='C:\\\\Windows\\\\Fonts\\\\simsun.ttc', name='SimSun', style='normal', variant='normal', weight=400, stretch='normal', size='scalable')) = 10.05\n",
            "DEBUG:matplotlib.font_manager:findfont: score(FontEntry(fname='C:\\\\Windows\\\\Fonts\\\\verdana.ttf', name='Verdana', style='normal', variant='normal', weight=400, stretch='normal', size='scalable')) = 3.6863636363636365\n",
            "DEBUG:matplotlib.font_manager:findfont: score(FontEntry(fname='C:\\\\Windows\\\\Fonts\\\\BOD_CBI.TTF', name='Bodoni MT', style='italic', variant='normal', weight=700, stretch='condensed', size='scalable')) = 11.535\n",
            "DEBUG:matplotlib.font_manager:findfont: score(FontEntry(fname='C:\\\\Windows\\\\Fonts\\\\GOTHICI.TTF', name='Century Gothic', style='italic', variant='normal', weight=400, stretch='normal', size='scalable')) = 11.05\n",
            "DEBUG:matplotlib.font_manager:findfont: score(FontEntry(fname='C:\\\\Windows\\\\Fonts\\\\segoeuib.ttf', name='Segoe UI', style='normal', variant='normal', weight=700, stretch='normal', size='scalable')) = 10.335\n",
            "DEBUG:matplotlib.font_manager:findfont: score(FontEntry(fname='C:\\\\Windows\\\\Fonts\\\\seguibl.ttf', name='Segoe UI', style='normal', variant='normal', weight=900, stretch='normal', size='scalable')) = 10.525\n",
            "DEBUG:matplotlib.font_manager:findfont: score(FontEntry(fname='C:\\\\Windows\\\\Fonts\\\\BOD_I.TTF', name='Bodoni MT', style='italic', variant='normal', weight=400, stretch='normal', size='scalable')) = 11.05\n",
            "DEBUG:matplotlib.font_manager:findfont: score(FontEntry(fname='C:\\\\Windows\\\\Fonts\\\\GOUDOSB.TTF', name='Goudy Old Style', style='normal', variant='normal', weight=700, stretch='normal', size='scalable')) = 10.335\n",
            "DEBUG:matplotlib.font_manager:findfont: score(FontEntry(fname='C:\\\\Windows\\\\Fonts\\\\greeks__.ttf', name='GreekS', style='normal', variant='normal', weight=400, stretch='normal', size='scalable')) = 10.05\n",
            "DEBUG:matplotlib.font_manager:findfont: score(FontEntry(fname='C:\\\\Windows\\\\Fonts\\\\cambriai.ttf', name='Cambria', style='italic', variant='normal', weight=400, stretch='normal', size='scalable')) = 11.05\n",
            "DEBUG:matplotlib.font_manager:findfont: score(FontEntry(fname='C:\\\\Windows\\\\Fonts\\\\SitkaZ.ttc', name='Sitka Small', style='italic', variant='normal', weight=700, stretch='normal', size='scalable')) = 11.335\n",
            "DEBUG:matplotlib.font_manager:findfont: score(FontEntry(fname='C:\\\\Windows\\\\Fonts\\\\MSUIGHUB.TTF', name='Microsoft Uighur', style='normal', variant='normal', weight=700, stretch='normal', size='scalable')) = 10.335\n",
            "DEBUG:matplotlib.font_manager:findfont: score(FontEntry(fname='C:\\\\Windows\\\\Fonts\\\\LBRITEI.TTF', name='Lucida Bright', style='italic', variant='normal', weight=400, stretch='normal', size='scalable')) = 11.05\n",
            "DEBUG:matplotlib.font_manager:findfont: score(FontEntry(fname='C:\\\\Windows\\\\Fonts\\\\Inkfree.ttf', name='Ink Free', style='normal', variant='normal', weight=400, stretch='normal', size='scalable')) = 10.05\n",
            "DEBUG:matplotlib.font_manager:findfont: score(FontEntry(fname='C:\\\\Windows\\\\Fonts\\\\seguili.ttf', name='Segoe UI', style='italic', variant='normal', weight=300, stretch='normal', size='scalable')) = 11.145\n",
            "DEBUG:matplotlib.font_manager:findfont: score(FontEntry(fname='C:\\\\Windows\\\\Fonts\\\\corbel.ttf', name='Corbel', style='normal', variant='normal', weight=400, stretch='normal', size='scalable')) = 10.05\n",
            "DEBUG:matplotlib.font_manager:findfont: score(FontEntry(fname='C:\\\\Windows\\\\Fonts\\\\BOD_BLAI.TTF', name='Bodoni MT', style='italic', variant='normal', weight=900, stretch='normal', size='scalable')) = 11.525\n",
            "DEBUG:matplotlib.font_manager:findfont: score(FontEntry(fname='C:\\\\Windows\\\\Fonts\\\\GILSANUB.TTF', name='Gill Sans Ultra Bold', style='normal', variant='normal', weight=400, stretch='normal', size='scalable')) = 10.05\n",
            "DEBUG:matplotlib.font_manager:findfont: score(FontEntry(fname='C:\\\\Windows\\\\Fonts\\\\courbi.ttf', name='Courier New', style='italic', variant='normal', weight=700, stretch='normal', size='scalable')) = 11.335\n",
            "DEBUG:matplotlib.font_manager:findfont: score(FontEntry(fname='C:\\\\Windows\\\\Fonts\\\\verdanaz.ttf', name='Verdana', style='italic', variant='normal', weight=700, stretch='normal', size='scalable')) = 4.971363636363637\n",
            "DEBUG:matplotlib.font_manager:findfont: score(FontEntry(fname='C:\\\\Windows\\\\Fonts\\\\TCBI____.TTF', name='Tw Cen MT', style='italic', variant='normal', weight=700, stretch='normal', size='scalable')) = 11.335\n",
            "DEBUG:matplotlib.font_manager:findfont: score(FontEntry(fname='C:\\\\Windows\\\\Fonts\\\\DUBAI-REGULAR.TTF', name='Dubai', style='normal', variant='normal', weight=400, stretch='normal', size='scalable')) = 10.05\n",
            "DEBUG:matplotlib.font_manager:findfont: score(FontEntry(fname='C:\\\\Windows\\\\Fonts\\\\swisscbi.ttf', name='Swis721 Cn BT', style='italic', variant='normal', weight=700, stretch='condensed', size='scalable')) = 11.535\n",
            "DEBUG:matplotlib.font_manager:findfont: score(FontEntry(fname='C:\\\\Windows\\\\Fonts\\\\swissek.ttf', name='Swis721 BlkEx BT', style='normal', variant='normal', weight=400, stretch='expanded', size='scalable')) = 10.25\n",
            "DEBUG:matplotlib.font_manager:findfont: score(FontEntry(fname='C:\\\\Windows\\\\Fonts\\\\LTYPE.TTF', name='Lucida Sans Typewriter', style='normal', variant='normal', weight=400, stretch='normal', size='scalable')) = 10.05\n",
            "DEBUG:matplotlib.font_manager:findfont: score(FontEntry(fname='C:\\\\Windows\\\\Fonts\\\\OCR-B 10 BT.ttf', name='OCR-B 10 BT', style='normal', variant='normal', weight=400, stretch='normal', size='scalable')) = 10.05\n",
            "DEBUG:matplotlib.font_manager:findfont: score(FontEntry(fname='C:\\\\Windows\\\\Fonts\\\\dutchi.ttf', name='Dutch801 Rm BT', style='italic', variant='normal', weight=400, stretch='normal', size='scalable')) = 11.05\n",
            "DEBUG:matplotlib.font_manager:findfont: score(FontEntry(fname='C:\\\\Windows\\\\Fonts\\\\Swis721 BlkCn BT Black.ttf', name='Swis721 BlkCn BT', style='normal', variant='normal', weight=400, stretch='normal', size='scalable')) = 10.05\n",
            "DEBUG:matplotlib.font_manager:findfont: score(FontEntry(fname='C:\\\\Windows\\\\Fonts\\\\BOD_B.TTF', name='Bodoni MT', style='normal', variant='normal', weight=700, stretch='normal', size='scalable')) = 10.335\n",
            "DEBUG:matplotlib.font_manager:findfont: score(FontEntry(fname='C:\\\\Windows\\\\Fonts\\\\TEMPSITC.TTF', name='Tempus Sans ITC', style='normal', variant='normal', weight=400, stretch='normal', size='scalable')) = 10.05\n",
            "DEBUG:matplotlib.font_manager:findfont: score(FontEntry(fname='C:\\\\Windows\\\\Fonts\\\\sanssb__.ttf', name='SansSerif', style='normal', variant='normal', weight=700, stretch='normal', size='scalable')) = 10.335\n",
            "DEBUG:matplotlib.font_manager:findfont: score(FontEntry(fname='C:\\\\Windows\\\\Fonts\\\\BELL.TTF', name='Bell MT', style='normal', variant='normal', weight=400, stretch='normal', size='scalable')) = 10.05\n",
            "DEBUG:matplotlib.font_manager:findfont: score(FontEntry(fname='C:\\\\Windows\\\\Fonts\\\\BOD_R.TTF', name='Bodoni MT', style='normal', variant='normal', weight=400, stretch='normal', size='scalable')) = 10.05\n",
            "DEBUG:matplotlib.font_manager:findfont: score(FontEntry(fname='C:\\\\Windows\\\\Fonts\\\\KUNSTLER.TTF', name='Kunstler Script', style='normal', variant='normal', weight=400, stretch='normal', size='scalable')) = 10.05\n",
            "DEBUG:matplotlib.font_manager:findfont: score(FontEntry(fname='C:\\\\Windows\\\\Fonts\\\\mtproxy5.ttf', name='Proxy 5', style='normal', variant='normal', weight=400, stretch='normal', size='scalable')) = 10.05\n",
            "DEBUG:matplotlib.font_manager:findfont: score(FontEntry(fname='C:\\\\Windows\\\\Fonts\\\\Century751 No2 BT Roman.ttf', name='Century751 No2 BT', style='normal', variant='normal', weight=400, stretch='normal', size='scalable')) = 10.05\n",
            "DEBUG:matplotlib.font_manager:findfont: score(FontEntry(fname='C:\\\\Windows\\\\Fonts\\\\segoeuiz.ttf', name='Segoe UI', style='italic', variant='normal', weight=700, stretch='normal', size='scalable')) = 11.335\n",
            "DEBUG:matplotlib.font_manager:findfont: score(FontEntry(fname='C:\\\\Windows\\\\Fonts\\\\Schadow BT Bold.ttf', name='Schadow BT', style='normal', variant='normal', weight=700, stretch='normal', size='scalable')) = 10.335\n",
            "DEBUG:matplotlib.font_manager:findfont: score(FontEntry(fname='C:\\\\Windows\\\\Fonts\\\\Swis721 Cn BT Roman.ttf', name='Swis721 Cn BT', style='normal', variant='normal', weight=400, stretch='normal', size='scalable')) = 10.05\n",
            "DEBUG:matplotlib.font_manager:findfont: score(FontEntry(fname='C:\\\\Windows\\\\Fonts\\\\Square721 BT Bold.ttf', name='Square721 BT', style='normal', variant='normal', weight=700, stretch='normal', size='scalable')) = 10.335\n",
            "DEBUG:matplotlib.font_manager:findfont: score(FontEntry(fname='C:\\\\Windows\\\\Fonts\\\\Century751 No2 BT Bold Italic.ttf', name='Century751 No2 BT', style='italic', variant='normal', weight=700, stretch='normal', size='scalable')) = 11.335\n",
            "DEBUG:matplotlib.font_manager:findfont: score(FontEntry(fname='C:\\\\Windows\\\\Fonts\\\\BROADW.TTF', name='Broadway', style='normal', variant='normal', weight=400, stretch='normal', size='scalable')) = 10.05\n",
            "DEBUG:matplotlib.font_manager:findfont: score(FontEntry(fname='C:\\\\Windows\\\\Fonts\\\\MISTRAL.TTF', name='Mistral', style='normal', variant='normal', weight=400, stretch='normal', size='scalable')) = 10.05\n",
            "DEBUG:matplotlib.font_manager:findfont: score(FontEntry(fname='C:\\\\Windows\\\\Fonts\\\\TCCEB.TTF', name='Tw Cen MT Condensed Extra Bold', style='normal', variant='normal', weight=400, stretch='condensed', size='scalable')) = 10.25\n",
            "DEBUG:matplotlib.font_manager:findfont: score(FontEntry(fname='C:\\\\Windows\\\\Fonts\\\\BKANT.TTF', name='Book Antiqua', style='normal', variant='normal', weight=400, stretch='normal', size='scalable')) = 10.05\n",
            "DEBUG:matplotlib.font_manager:findfont: score(FontEntry(fname='C:\\\\Windows\\\\Fonts\\\\calibrii.ttf', name='Calibri', style='italic', variant='normal', weight=400, stretch='normal', size='scalable')) = 11.05\n",
            "DEBUG:matplotlib.font_manager:findfont: score(FontEntry(fname='C:\\\\Windows\\\\Fonts\\\\comici.ttf', name='Comic Sans MS', style='italic', variant='normal', weight=400, stretch='normal', size='scalable')) = 11.05\n",
            "DEBUG:matplotlib.font_manager:findfont: score(FontEntry(fname='C:\\\\Windows\\\\Fonts\\\\LFAXD.TTF', name='Lucida Fax', style='normal', variant='normal', weight=600, stretch='normal', size='scalable')) = 10.24\n",
            "DEBUG:matplotlib.font_manager:findfont: score(FontEntry(fname='C:\\\\Windows\\\\Fonts\\\\isocpeur.ttf', name='ISOCPEUR', style='normal', variant='normal', weight=400, stretch='normal', size='scalable')) = 10.05\n",
            "DEBUG:matplotlib.font_manager:findfont: score(FontEntry(fname='C:\\\\Windows\\\\Fonts\\\\LSANSI.TTF', name='Lucida Sans', style='italic', variant='normal', weight=400, stretch='normal', size='scalable')) = 11.05\n",
            "DEBUG:matplotlib.font_manager:findfont: score(FontEntry(fname='C:\\\\Windows\\\\Fonts\\\\georgiab.ttf', name='Georgia', style='normal', variant='normal', weight=700, stretch='normal', size='scalable')) = 10.335\n",
            "DEBUG:matplotlib.font_manager:findfont: score(FontEntry(fname='C:\\\\Windows\\\\Fonts\\\\segoeprb.ttf', name='Segoe Print', style='normal', variant='normal', weight=700, stretch='normal', size='scalable')) = 10.335\n",
            "DEBUG:matplotlib.font_manager:findfont: score(FontEntry(fname='C:\\\\Windows\\\\Fonts\\\\Gabriola.ttf', name='Gabriola', style='normal', variant='normal', weight=400, stretch='normal', size='scalable')) = 10.05\n",
            "DEBUG:matplotlib.font_manager:findfont: score(FontEntry(fname='C:\\\\Windows\\\\Fonts\\\\Humnst777 Cn BT Bold.ttf', name='Humnst777 Cn BT', style='normal', variant='normal', weight=700, stretch='normal', size='scalable')) = 10.335\n",
            "DEBUG:matplotlib.font_manager:findfont: score(FontEntry(fname='C:\\\\Windows\\\\Fonts\\\\mmrtextb.ttf', name='Myanmar Text', style='normal', variant='normal', weight=700, stretch='normal', size='scalable')) = 10.335\n",
            "DEBUG:matplotlib.font_manager:findfont: score(FontEntry(fname='C:\\\\Windows\\\\Fonts\\\\GLSNECB.TTF', name='Gill Sans MT Ext Condensed Bold', style='normal', variant='normal', weight=400, stretch='condensed', size='scalable')) = 10.25\n",
            "DEBUG:matplotlib.font_manager:findfont: score(FontEntry(fname='C:\\\\Windows\\\\Fonts\\\\MOD20.TTF', name='Modern No. 20', style='normal', variant='normal', weight=400, stretch='normal', size='scalable')) = 10.05\n",
            "DEBUG:matplotlib.font_manager:findfont: score(FontEntry(fname='C:\\\\Windows\\\\Fonts\\\\corbelz.ttf', name='Corbel', style='italic', variant='normal', weight=700, stretch='normal', size='scalable')) = 11.335\n",
            "DEBUG:matplotlib.font_manager:findfont: score(FontEntry(fname='C:\\\\Windows\\\\Fonts\\\\LeelawUI.ttf', name='Leelawadee UI', style='normal', variant='normal', weight=400, stretch='normal', size='scalable')) = 10.05\n",
            "DEBUG:matplotlib.font_manager:findfont: score(FontEntry(fname='C:\\\\Windows\\\\Fonts\\\\BOOKOSB.TTF', name='Bookman Old Style', style='normal', variant='normal', weight=600, stretch='normal', size='scalable')) = 10.24\n",
            "DEBUG:matplotlib.font_manager:findfont: score(FontEntry(fname='C:\\\\Windows\\\\Fonts\\\\PAPYRUS.TTF', name='Papyrus', style='normal', variant='normal', weight=400, stretch='normal', size='scalable')) = 10.05\n",
            "DEBUG:matplotlib.font_manager:findfont: score(FontEntry(fname='C:\\\\Windows\\\\Fonts\\\\GILC____.TTF', name='Gill Sans MT Condensed', style='normal', variant='normal', weight=400, stretch='condensed', size='scalable')) = 10.25\n",
            "DEBUG:matplotlib.font_manager:findfont: score(FontEntry(fname='C:\\\\Windows\\\\Fonts\\\\isocp2__.ttf', name='ISOCP2', style='normal', variant='normal', weight=400, stretch='normal', size='scalable')) = 10.05\n",
            "DEBUG:matplotlib.font_manager:findfont: score(FontEntry(fname='C:\\\\Windows\\\\Fonts\\\\Swis721 BT Italic.ttf', name='Swis721 BT', style='italic', variant='normal', weight=400, stretch='normal', size='scalable')) = 11.05\n",
            "DEBUG:matplotlib.font_manager:findfont: score(FontEntry(fname='C:\\\\Windows\\\\Fonts\\\\FRADMCN.TTF', name='Franklin Gothic Demi Cond', style='normal', variant='normal', weight=400, stretch='condensed', size='scalable')) = 10.25\n",
            "DEBUG:matplotlib.font_manager:findfont: score(FontEntry(fname='C:\\\\Program Files (x86)\\\\Adobe\\\\Acrobat DC\\\\Resource\\\\Font\\\\AdobeDevanagari-Regular.otf', name='Adobe Devanagari', style='normal', variant='normal', weight=400, stretch='normal', size='scalable')) = 10.05\n",
            "DEBUG:matplotlib.font_manager:findfont: score(FontEntry(fname='C:\\\\Windows\\\\Fonts\\\\GLECB.TTF', name='Gloucester MT Extra Condensed', style='normal', variant='normal', weight=400, stretch='condensed', size='scalable')) = 10.25\n",
            "DEBUG:matplotlib.font_manager:findfont: score(FontEntry(fname='C:\\\\Windows\\\\Fonts\\\\monbaiti.ttf', name='Mongolian Baiti', style='normal', variant='normal', weight=400, stretch='normal', size='scalable')) = 10.05\n",
            "DEBUG:matplotlib.font_manager:findfont: score(FontEntry(fname='C:\\\\Windows\\\\Fonts\\\\AMDT_Symbols.ttf', name='AmdtSymbols', style='normal', variant='normal', weight=400, stretch='normal', size='scalable')) = 10.05\n",
            "DEBUG:matplotlib.font_manager:findfont: score(FontEntry(fname='C:\\\\Windows\\\\Fonts\\\\symeteo_.ttf', name='Symeteo', style='normal', variant='normal', weight=400, stretch='normal', size='scalable')) = 10.05\n",
            "DEBUG:matplotlib.font_manager:findfont: score(FontEntry(fname='C:\\\\Windows\\\\Fonts\\\\timesbd.ttf', name='Times New Roman', style='normal', variant='normal', weight=700, stretch='normal', size='scalable')) = 10.335\n",
            "DEBUG:matplotlib.font_manager:findfont: score(FontEntry(fname='C:\\\\Windows\\\\Fonts\\\\swissbi.ttf', name='Swis721 BT', style='italic', variant='normal', weight=700, stretch='normal', size='scalable')) = 11.335\n",
            "DEBUG:matplotlib.font_manager:findfont: score(FontEntry(fname='C:\\\\Windows\\\\Fonts\\\\MTEXTRA.TTF', name='MT Extra', style='normal', variant='normal', weight=400, stretch='normal', size='scalable')) = 10.05\n",
            "DEBUG:matplotlib.font_manager:findfont: score(FontEntry(fname='C:\\\\Windows\\\\Fonts\\\\verdanai.ttf', name='Verdana', style='italic', variant='normal', weight=400, stretch='normal', size='scalable')) = 4.6863636363636365\n",
            "DEBUG:matplotlib.font_manager:findfont: score(FontEntry(fname='C:\\\\Windows\\\\Fonts\\\\GeoSlab703 Md BT Bold Italic.ttf', name='GeoSlab703 Md BT', style='italic', variant='normal', weight=700, stretch='normal', size='scalable')) = 11.335\n",
            "DEBUG:matplotlib.font_manager:findfont: score(FontEntry(fname='C:\\\\Windows\\\\Fonts\\\\segoeuisl.ttf', name='Segoe UI', style='normal', variant='normal', weight=350, stretch='normal', size='scalable')) = 10.0975\n",
            "DEBUG:matplotlib.font_manager:findfont: score(FontEntry(fname='C:\\\\Windows\\\\Fonts\\\\YuGothL.ttc', name='Yu Gothic', style='normal', variant='normal', weight=300, stretch='normal', size='scalable')) = 10.145\n",
            "DEBUG:matplotlib.font_manager:findfont: score(FontEntry(fname='C:\\\\Windows\\\\Fonts\\\\CASTELAR.TTF', name='Castellar', style='normal', variant='normal', weight=400, stretch='normal', size='scalable')) = 10.05\n",
            "DEBUG:matplotlib.font_manager:findfont: score(FontEntry(fname='C:\\\\Windows\\\\Fonts\\\\GILI____.TTF', name='Gill Sans MT', style='italic', variant='normal', weight=400, stretch='normal', size='scalable')) = 11.05\n",
            "DEBUG:matplotlib.font_manager:findfont: score(FontEntry(fname='C:\\\\Windows\\\\Fonts\\\\msjh.ttc', name='Microsoft JhengHei', style='normal', variant='normal', weight=400, stretch='normal', size='scalable')) = 10.05\n",
            "DEBUG:matplotlib.font_manager:findfont: score(FontEntry(fname='C:\\\\Windows\\\\Fonts\\\\calibrili.ttf', name='Calibri', style='italic', variant='normal', weight=300, stretch='normal', size='scalable')) = 11.145\n",
            "DEBUG:matplotlib.font_manager:findfont: score(FontEntry(fname='C:\\\\Windows\\\\Fonts\\\\swisski.ttf', name='Swis721 Blk BT', style='italic', variant='normal', weight=400, stretch='normal', size='scalable')) = 11.05\n",
            "DEBUG:matplotlib.font_manager:findfont: score(FontEntry(fname='C:\\\\Windows\\\\Fonts\\\\LEELAWDB.TTF', name='Leelawadee', style='normal', variant='normal', weight=700, stretch='normal', size='scalable')) = 10.335\n",
            "DEBUG:matplotlib.font_manager:findfont: score(FontEntry(fname='C:\\\\Windows\\\\Fonts\\\\FRABK.TTF', name='Franklin Gothic Book', style='normal', variant='normal', weight=400, stretch='normal', size='scalable')) = 10.05\n",
            "DEBUG:matplotlib.font_manager:findfont: score(FontEntry(fname='C:\\\\Windows\\\\Fonts\\\\italicc_.ttf', name='ItalicC', style='italic', variant='normal', weight=400, stretch='normal', size='scalable')) = 11.05\n",
            "DEBUG:matplotlib.font_manager:findfont: score(FontEntry(fname='C:\\\\Windows\\\\Fonts\\\\PERBI___.TTF', name='Perpetua', style='italic', variant='normal', weight=700, stretch='normal', size='scalable')) = 11.335\n",
            "DEBUG:matplotlib.font_manager:findfont: score(FontEntry(fname='C:\\\\Windows\\\\Fonts\\\\Swis721 Cn BT Bold Italic.ttf', name='Swis721 Cn BT', style='italic', variant='normal', weight=700, stretch='normal', size='scalable')) = 11.335\n",
            "DEBUG:matplotlib.font_manager:findfont: score(FontEntry(fname='C:\\\\Windows\\\\Fonts\\\\Century751 SeBd BT Semi Bold.ttf', name='Century751 SeBd BT', style='normal', variant='normal', weight=400, stretch='normal', size='scalable')) = 10.05\n",
            "DEBUG:matplotlib.font_manager:findfont: score(FontEntry(fname='C:\\\\Windows\\\\Fonts\\\\seguiemj.ttf', name='Segoe UI Emoji', style='normal', variant='normal', weight=400, stretch='normal', size='scalable')) = 10.05\n",
            "DEBUG:matplotlib.font_manager:findfont: score(FontEntry(fname='C:\\\\Windows\\\\Fonts\\\\gdt_____.ttf', name='GDT', style='normal', variant='normal', weight=400, stretch='normal', size='scalable')) = 10.05\n",
            "DEBUG:matplotlib.font_manager:findfont: score(FontEntry(fname='C:\\\\Windows\\\\Fonts\\\\NewsGoth Lt BT Light.ttf', name='NewsGoth Lt BT', style='normal', variant='normal', weight=400, stretch='normal', size='scalable')) = 10.05\n",
            "DEBUG:matplotlib.font_manager:findfont: score(FontEntry(fname='C:\\\\Windows\\\\Fonts\\\\Candarab.ttf', name='Candara', style='normal', variant='normal', weight=700, stretch='normal', size='scalable')) = 10.335\n",
            "DEBUG:matplotlib.font_manager:findfont: score(FontEntry(fname='C:\\\\Windows\\\\Fonts\\\\monosbi.ttf', name='Monospac821 BT', style='italic', variant='normal', weight=700, stretch='normal', size='scalable')) = 11.335\n",
            "DEBUG:matplotlib.font_manager:findfont: score(FontEntry(fname='C:\\\\Windows\\\\Fonts\\\\CENTURY.TTF', name='Century', style='normal', variant='normal', weight=400, stretch='normal', size='scalable')) = 10.05\n",
            "DEBUG:matplotlib.font_manager:findfont: score(FontEntry(fname='C:\\\\Windows\\\\Fonts\\\\VINERITC.TTF', name='Viner Hand ITC', style='normal', variant='normal', weight=400, stretch='normal', size='scalable')) = 10.05\n",
            "DEBUG:matplotlib.font_manager:findfont: score(FontEntry(fname='C:\\\\Windows\\\\Fonts\\\\romab___.ttf', name='Romantic', style='normal', variant='normal', weight=700, stretch='normal', size='scalable')) = 10.335\n",
            "DEBUG:matplotlib.font_manager:findfont: score(FontEntry(fname='C:\\\\Windows\\\\Fonts\\\\ARLRDBD.TTF', name='Arial Rounded MT Bold', style='normal', variant='normal', weight=400, stretch='normal', size='scalable')) = 10.05\n",
            "DEBUG:matplotlib.font_manager:findfont: score(FontEntry(fname='C:\\\\Windows\\\\Fonts\\\\stylu.ttf', name='Stylus BT', style='normal', variant='normal', weight=300, stretch='normal', size='scalable')) = 10.145\n",
            "DEBUG:matplotlib.font_manager:findfont: score(FontEntry(fname='C:\\\\Windows\\\\Fonts\\\\framdit.ttf', name='Franklin Gothic Medium', style='italic', variant='normal', weight=400, stretch='normal', size='scalable')) = 11.05\n",
            "DEBUG:matplotlib.font_manager:findfont: score(FontEntry(fname='C:\\\\Windows\\\\Fonts\\\\CentSchbkCyrill BT Roman.ttf', name='CentSchbkCyrill BT', style='normal', variant='normal', weight=400, stretch='normal', size='scalable')) = 10.05\n",
            "DEBUG:matplotlib.font_manager:findfont: score(FontEntry(fname='C:\\\\Windows\\\\Fonts\\\\constani.ttf', name='Constantia', style='italic', variant='normal', weight=400, stretch='normal', size='scalable')) = 11.05\n",
            "DEBUG:matplotlib.font_manager:findfont: score(FontEntry(fname='C:\\\\Windows\\\\Fonts\\\\micross.ttf', name='Microsoft Sans Serif', style='normal', variant='normal', weight=400, stretch='normal', size='scalable')) = 10.05\n",
            "DEBUG:matplotlib.font_manager:findfont: score(FontEntry(fname='C:\\\\Windows\\\\Fonts\\\\ARIALN.TTF', name='Arial', style='normal', variant='normal', weight=400, stretch='condensed', size='scalable')) = 6.613636363636363\n",
            "DEBUG:matplotlib.font_manager:findfont: score(FontEntry(fname='C:\\\\Windows\\\\Fonts\\\\CentSchbkCyrill BT Bold Italic.ttf', name='CentSchbkCyrill BT', style='italic', variant='normal', weight=700, stretch='normal', size='scalable')) = 11.335\n",
            "DEBUG:matplotlib.font_manager:findfont: score(FontEntry(fname='C:\\\\Windows\\\\Fonts\\\\LSANS.TTF', name='Lucida Sans', style='normal', variant='normal', weight=400, stretch='normal', size='scalable')) = 10.05\n",
            "DEBUG:matplotlib.font_manager:findfont: score(FontEntry(fname='C:\\\\Windows\\\\Fonts\\\\Humnst777 Blk BT Black Italic.ttf', name='Humnst777 Blk BT', style='italic', variant='normal', weight=400, stretch='normal', size='scalable')) = 11.05\n",
            "DEBUG:matplotlib.font_manager:findfont: score(FontEntry(fname='C:\\\\Windows\\\\Fonts\\\\FRADM.TTF', name='Franklin Gothic Demi', style='normal', variant='normal', weight=400, stretch='normal', size='scalable')) = 10.05\n",
            "DEBUG:matplotlib.font_manager:findfont: score(FontEntry(fname='C:\\\\Windows\\\\Fonts\\\\ariali.ttf', name='Arial', style='italic', variant='normal', weight=400, stretch='normal', size='scalable')) = 7.413636363636363\n",
            "DEBUG:matplotlib.font_manager:findfont: score(FontEntry(fname='C:\\\\Windows\\\\Fonts\\\\Bodoni Bk BT Book Italic.ttf', name='Bodoni Bk BT', style='italic', variant='normal', weight=400, stretch='normal', size='scalable')) = 11.05\n",
            "DEBUG:matplotlib.font_manager:findfont: score(FontEntry(fname='C:\\\\Windows\\\\Fonts\\\\l_10646.ttf', name='Lucida Sans Unicode', style='normal', variant='normal', weight=400, stretch='normal', size='scalable')) = 10.05\n",
            "DEBUG:matplotlib.font_manager:findfont: score(FontEntry(fname='C:\\\\Windows\\\\Fonts\\\\NirmalaS.ttf', name='Nirmala UI', style='normal', variant='normal', weight=350, stretch='normal', size='scalable')) = 10.0975\n",
            "DEBUG:matplotlib.font_manager:findfont: score(FontEntry(fname='C:\\\\Windows\\\\Fonts\\\\Humanst521 BT Italic.ttf', name='Humanst521 BT', style='italic', variant='normal', weight=400, stretch='normal', size='scalable')) = 11.05\n",
            "DEBUG:matplotlib.font_manager:findfont: score(FontEntry(fname='C:\\\\Windows\\\\Fonts\\\\NirmalaB.ttf', name='Nirmala UI', style='normal', variant='normal', weight=700, stretch='normal', size='scalable')) = 10.335\n",
            "DEBUG:matplotlib.font_manager:findfont: score(FontEntry(fname='C:\\\\Windows\\\\Fonts\\\\LeelaUIb.ttf', name='Leelawadee UI', style='normal', variant='normal', weight=700, stretch='normal', size='scalable')) = 10.335\n",
            "DEBUG:matplotlib.font_manager:findfont: score(FontEntry(fname='C:\\\\Windows\\\\Fonts\\\\calibril.ttf', name='Calibri', style='normal', variant='normal', weight=300, stretch='normal', size='scalable')) = 10.145\n",
            "DEBUG:matplotlib.font_manager:findfont: score(FontEntry(fname='C:\\\\Windows\\\\Fonts\\\\corbell.ttf', name='Corbel', style='normal', variant='normal', weight=300, stretch='normal', size='scalable')) = 10.145\n",
            "DEBUG:matplotlib.font_manager:findfont: score(FontEntry(fname='C:\\\\Windows\\\\Fonts\\\\msyhl.ttc', name='Microsoft YaHei', style='normal', variant='normal', weight=290, stretch='normal', size='scalable')) = 10.1545\n",
            "DEBUG:matplotlib.font_manager:findfont: score(FontEntry(fname='C:\\\\Windows\\\\Fonts\\\\LCALLIG.TTF', name='Lucida Calligraphy', style='italic', variant='normal', weight=400, stretch='normal', size='scalable')) = 11.05\n",
            "DEBUG:matplotlib.font_manager:findfont: score(FontEntry(fname='C:\\\\Windows\\\\Fonts\\\\umath.ttf', name='UniversalMath1 BT', style='normal', variant='normal', weight=400, stretch='normal', size='scalable')) = 10.05\n",
            "DEBUG:matplotlib.font_manager:findfont: score(FontEntry(fname='C:\\\\Windows\\\\Fonts\\\\comicz.ttf', name='Comic Sans MS', style='italic', variant='normal', weight=700, stretch='normal', size='scalable')) = 11.335\n",
            "DEBUG:matplotlib.font_manager:findfont: score(FontEntry(fname='C:\\\\Windows\\\\Fonts\\\\MSUIGHUR.TTF', name='Microsoft Uighur', style='normal', variant='normal', weight=400, stretch='normal', size='scalable')) = 10.05\n",
            "DEBUG:matplotlib.font_manager:findfont: score(FontEntry(fname='C:\\\\Windows\\\\Fonts\\\\CALIFR.TTF', name='Californian FB', style='normal', variant='normal', weight=400, stretch='normal', size='scalable')) = 10.05\n",
            "DEBUG:matplotlib.font_manager:findfont: score(FontEntry(fname='C:\\\\Windows\\\\Fonts\\\\ELEPHNT.TTF', name='Elephant', style='normal', variant='normal', weight=400, stretch='normal', size='scalable')) = 10.05\n",
            "DEBUG:matplotlib.font_manager:findfont: score(FontEntry(fname='C:\\\\Windows\\\\Fonts\\\\Candarali.ttf', name='Candara', style='italic', variant='normal', weight=400, stretch='normal', size='scalable')) = 11.05\n",
            "DEBUG:matplotlib.font_manager:findfont: score(FontEntry(fname='C:\\\\Windows\\\\Fonts\\\\HARLOWSI.TTF', name='Harlow Solid Italic', style='italic', variant='normal', weight=400, stretch='normal', size='scalable')) = 11.05\n",
            "DEBUG:matplotlib.font_manager:findfont: score(FontEntry(fname='C:\\\\Windows\\\\Fonts\\\\Swis721 WGL4 BT Bold.ttf', name='Swis721 WGL4 BT', style='normal', variant='normal', weight=700, stretch='normal', size='scalable')) = 10.335\n",
            "DEBUG:matplotlib.font_manager:findfont: score(FontEntry(fname='C:\\\\Windows\\\\Fonts\\\\RAGE.TTF', name='Rage Italic', style='italic', variant='normal', weight=400, stretch='normal', size='scalable')) = 11.05\n",
            "DEBUG:matplotlib.font_manager:findfont: score(FontEntry(fname='C:\\\\Windows\\\\Fonts\\\\Clarendon Lt BT Light.ttf', name='Clarendon Lt BT', style='normal', variant='normal', weight=400, stretch='normal', size='scalable')) = 10.05\n",
            "DEBUG:matplotlib.font_manager:findfont: score(FontEntry(fname='C:\\\\Windows\\\\Fonts\\\\syastro_.ttf', name='Syastro', style='normal', variant='normal', weight=400, stretch='normal', size='scalable')) = 10.05\n",
            "DEBUG:matplotlib.font_manager:findfont: score(FontEntry(fname='C:\\\\Windows\\\\Fonts\\\\Swis721 Lt BT Light Italic.ttf', name='Swis721 Lt BT', style='italic', variant='normal', weight=400, stretch='normal', size='scalable')) = 11.05\n",
            "DEBUG:matplotlib.font_manager:findfont: score(FontEntry(fname='C:\\\\Windows\\\\Fonts\\\\comsc.ttf', name='CommercialScript BT', style='normal', variant='normal', weight=400, stretch='normal', size='scalable')) = 10.05\n",
            "DEBUG:matplotlib.font_manager:findfont: score(FontEntry(fname='C:\\\\Windows\\\\Fonts\\\\BELLB.TTF', name='Bell MT', style='normal', variant='normal', weight=700, stretch='normal', size='scalable')) = 10.335\n",
            "DEBUG:matplotlib.font_manager:findfont: score(FontEntry(fname='C:\\\\Windows\\\\Fonts\\\\trebucbi.ttf', name='Trebuchet MS', style='italic', variant='normal', weight=700, stretch='normal', size='scalable')) = 11.335\n",
            "DEBUG:matplotlib.font_manager:findfont: score(FontEntry(fname='C:\\\\Windows\\\\Fonts\\\\DUBAI-MEDIUM.TTF', name='Dubai', style='normal', variant='normal', weight=500, stretch='normal', size='scalable')) = 10.145\n",
            "DEBUG:matplotlib.font_manager:findfont: score(FontEntry(fname='C:\\\\Windows\\\\Fonts\\\\Bodoni Bd BT Bold.ttf', name='Bodoni Bd BT', style='normal', variant='normal', weight=400, stretch='normal', size='scalable')) = 10.05\n",
            "DEBUG:matplotlib.font_manager:findfont: score(FontEntry(fname='C:\\\\Windows\\\\Fonts\\\\PERI____.TTF', name='Perpetua', style='italic', variant='normal', weight=400, stretch='normal', size='scalable')) = 11.05\n",
            "DEBUG:matplotlib.font_manager:findfont: score(FontEntry(fname='C:\\\\Windows\\\\Fonts\\\\constan.ttf', name='Constantia', style='normal', variant='normal', weight=400, stretch='normal', size='scalable')) = 10.05\n",
            "DEBUG:matplotlib.font_manager:findfont: score(FontEntry(fname='C:\\\\Program Files (x86)\\\\Adobe\\\\Acrobat DC\\\\Resource\\\\Font\\\\AdobeDevanagari-Italic.otf', name='Adobe Devanagari', style='italic', variant='normal', weight=400, stretch='normal', size='scalable')) = 11.05\n",
            "DEBUG:matplotlib.font_manager:findfont: score(FontEntry(fname='C:\\\\Windows\\\\Fonts\\\\romai___.ttf', name='Romantic', style='italic', variant='normal', weight=400, stretch='normal', size='scalable')) = 11.05\n",
            "DEBUG:matplotlib.font_manager:findfont: score(FontEntry(fname='C:\\\\Windows\\\\Fonts\\\\segoepr.ttf', name='Segoe Print', style='normal', variant='normal', weight=400, stretch='normal', size='scalable')) = 10.05\n",
            "DEBUG:matplotlib.font_manager:findfont: score(FontEntry(fname='C:\\\\Windows\\\\Fonts\\\\PALSCRI.TTF', name='Palace Script MT', style='normal', variant='normal', weight=400, stretch='normal', size='scalable')) = 10.05\n",
            "DEBUG:matplotlib.font_manager:findfont: score(FontEntry(fname='C:\\\\Windows\\\\Fonts\\\\ROCKEB.TTF', name='Rockwell Extra Bold', style='normal', variant='normal', weight=800, stretch='normal', size='scalable')) = 10.43\n",
            "DEBUG:matplotlib.font_manager:findfont: score(FontEntry(fname='C:\\\\Windows\\\\Fonts\\\\CALIST.TTF', name='Calisto MT', style='normal', variant='normal', weight=400, stretch='normal', size='scalable')) = 10.05\n",
            "DEBUG:matplotlib.font_manager:findfont: score(FontEntry(fname='C:\\\\Windows\\\\Fonts\\\\FRSCRIPT.TTF', name='French Script MT', style='normal', variant='normal', weight=400, stretch='normal', size='scalable')) = 10.05\n",
            "DEBUG:matplotlib.font_manager:findfont: score(FontEntry(fname='C:\\\\Windows\\\\Fonts\\\\calibri.ttf', name='Calibri', style='normal', variant='normal', weight=400, stretch='normal', size='scalable')) = 10.05\n",
            "DEBUG:matplotlib.font_manager:findfont: score(FontEntry(fname='C:\\\\Windows\\\\Fonts\\\\couri.ttf', name='Courier New', style='italic', variant='normal', weight=400, stretch='normal', size='scalable')) = 11.05\n",
            "DEBUG:matplotlib.font_manager:findfont: score(FontEntry(fname='C:\\\\Windows\\\\Fonts\\\\tahomabd.ttf', name='Tahoma', style='normal', variant='normal', weight=700, stretch='normal', size='scalable')) = 10.335\n",
            "DEBUG:matplotlib.font_manager:findfont: score(FontEntry(fname='C:\\\\Windows\\\\Fonts\\\\gothicg_.ttf', name='GothicG', style='normal', variant='normal', weight=400, stretch='normal', size='scalable')) = 10.05\n",
            "DEBUG:matplotlib.font_manager:findfont: score(FontEntry(fname='C:\\\\Windows\\\\Fonts\\\\Candaraz.ttf', name='Candara', style='italic', variant='normal', weight=700, stretch='normal', size='scalable')) = 11.335\n",
            "DEBUG:matplotlib.font_manager:findfont: score(FontEntry(fname='C:\\\\Windows\\\\Fonts\\\\Humnst777 Lt BT Light.ttf', name='Humnst777 Lt BT', style='normal', variant='normal', weight=400, stretch='normal', size='scalable')) = 10.05\n",
            "DEBUG:matplotlib.font_manager:findfont: score(FontEntry(fname='C:\\\\Windows\\\\Fonts\\\\swisscli.ttf', name='Swis721 LtCn BT', style='italic', variant='normal', weight=400, stretch='condensed', size='scalable')) = 11.25\n",
            "DEBUG:matplotlib.font_manager:findfont: score(FontEntry(fname='C:\\\\Windows\\\\Fonts\\\\Geometr212 BkCn BT Heavy.ttf', name='Geometr212 BkCn BT', style='normal', variant='normal', weight=700, stretch='normal', size='scalable')) = 10.335\n",
            "DEBUG:matplotlib.font_manager:findfont: score(FontEntry(fname='C:\\\\Windows\\\\Fonts\\\\OCR-A BT.ttf', name='OCR-A BT', style='normal', variant='normal', weight=400, stretch='normal', size='scalable')) = 10.05\n",
            "DEBUG:matplotlib.font_manager:findfont: score(FontEntry(fname='C:\\\\Windows\\\\Fonts\\\\CALISTI.TTF', name='Calisto MT', style='italic', variant='normal', weight=400, stretch='normal', size='scalable')) = 11.05\n",
            "DEBUG:matplotlib.font_manager:findfont: score(FontEntry(fname='C:\\\\Windows\\\\Fonts\\\\PERTILI.TTF', name='Perpetua Titling MT', style='normal', variant='normal', weight=300, stretch='normal', size='scalable')) = 10.145\n",
            "DEBUG:matplotlib.font_manager:findfont: score(FontEntry(fname='C:\\\\Windows\\\\Fonts\\\\calibrib.ttf', name='Calibri', style='normal', variant='normal', weight=700, stretch='normal', size='scalable')) = 10.335\n",
            "DEBUG:matplotlib.font_manager:findfont: score(FontEntry(fname='C:\\\\Windows\\\\Fonts\\\\gadugi.ttf', name='Gadugi', style='normal', variant='normal', weight=400, stretch='normal', size='scalable')) = 10.05\n",
            "DEBUG:matplotlib.font_manager:findfont: score(FontEntry(fname='C:\\\\Windows\\\\Fonts\\\\Century751 No2 BT Bold.ttf', name='Century751 No2 BT', style='normal', variant='normal', weight=700, stretch='normal', size='scalable')) = 10.335\n",
            "DEBUG:matplotlib.font_manager:findfont: score(FontEntry(fname='C:\\\\Windows\\\\Fonts\\\\Bodoni Bd BT Bold Italic.ttf', name='Bodoni Bd BT', style='italic', variant='normal', weight=400, stretch='normal', size='scalable')) = 11.05\n",
            "DEBUG:matplotlib.font_manager:findfont: score(FontEntry(fname='C:\\\\Windows\\\\Fonts\\\\palabi.ttf', name='Palatino Linotype', style='italic', variant='normal', weight=700, stretch='normal', size='scalable')) = 11.335\n",
            "DEBUG:matplotlib.font_manager:findfont: score(FontEntry(fname='C:\\\\Windows\\\\Fonts\\\\italict_.ttf', name='ItalicT', style='italic', variant='normal', weight=400, stretch='normal', size='scalable')) = 11.05\n",
            "DEBUG:matplotlib.font_manager:findfont: score(FontEntry(fname='C:\\\\Windows\\\\Fonts\\\\Humnst777 BT Roman.ttf', name='Humnst777 BT', style='normal', variant='normal', weight=400, stretch='normal', size='scalable')) = 10.05\n",
            "DEBUG:matplotlib.font_manager:findfont: score(FontEntry(fname='C:\\\\Windows\\\\Fonts\\\\DUBAI-LIGHT.TTF', name='Dubai', style='normal', variant='normal', weight=300, stretch='normal', size='scalable')) = 10.145\n",
            "DEBUG:matplotlib.font_manager:findfont: score(FontEntry(fname='C:\\\\Windows\\\\Fonts\\\\ANTQUAB.TTF', name='Book Antiqua', style='normal', variant='normal', weight=700, stretch='normal', size='scalable')) = 10.335\n",
            "DEBUG:matplotlib.font_manager:findfont: score(FontEntry(fname='C:\\\\Windows\\\\Fonts\\\\YuGothR.ttc', name='Yu Gothic', style='normal', variant='normal', weight=400, stretch='normal', size='scalable')) = 10.05\n",
            "DEBUG:matplotlib.font_manager:findfont: score(FontEntry(fname='C:\\\\Windows\\\\Fonts\\\\BOD_CI.TTF', name='Bodoni MT', style='italic', variant='normal', weight=400, stretch='condensed', size='scalable')) = 11.25\n",
            "DEBUG:matplotlib.font_manager:findfont: score(FontEntry(fname='C:\\\\Windows\\\\Fonts\\\\LATINWD.TTF', name='Wide Latin', style='normal', variant='normal', weight=400, stretch='expanded', size='scalable')) = 10.25\n",
            "DEBUG:matplotlib.font_manager:findfont: score(FontEntry(fname='C:\\\\Windows\\\\Fonts\\\\AGENCYR.TTF', name='Agency FB', style='normal', variant='normal', weight=400, stretch='normal', size='scalable')) = 10.05\n",
            "DEBUG:matplotlib.font_manager:findfont: score(FontEntry(fname='C:\\\\Windows\\\\Fonts\\\\BOD_PSTC.TTF', name='Bodoni MT', style='normal', variant='normal', weight=300, stretch='normal', size='scalable')) = 10.145\n",
            "DEBUG:matplotlib.font_manager:findfont: score(FontEntry(fname='C:\\\\Windows\\\\Fonts\\\\msgothic.ttc', name='MS Gothic', style='normal', variant='normal', weight=400, stretch='normal', size='scalable')) = 10.05\n",
            "DEBUG:matplotlib.font_manager:findfont: score(FontEntry(fname='C:\\\\Windows\\\\Fonts\\\\LSANSD.TTF', name='Lucida Sans', style='normal', variant='normal', weight=600, stretch='normal', size='scalable')) = 10.24\n",
            "DEBUG:matplotlib.font_manager:findfont: score(FontEntry(fname='C:\\\\Windows\\\\Fonts\\\\GOUDOS.TTF', name='Goudy Old Style', style='normal', variant='normal', weight=400, stretch='normal', size='scalable')) = 10.05\n",
            "DEBUG:matplotlib.font_manager:findfont: score(FontEntry(fname='C:\\\\Windows\\\\Fonts\\\\Futura Md BT Bold.ttf', name='Futura Md BT', style='normal', variant='normal', weight=700, stretch='normal', size='scalable')) = 10.335\n",
            "DEBUG:matplotlib.font_manager:findfont: score(FontEntry(fname='C:\\\\Windows\\\\Fonts\\\\swissk.ttf', name='Swis721 Blk BT', style='normal', variant='normal', weight=400, stretch='normal', size='scalable')) = 10.05\n",
            "DEBUG:matplotlib.font_manager:findfont: score(FontEntry(fname='C:\\\\Windows\\\\Fonts\\\\BELLI.TTF', name='Bell MT', style='italic', variant='normal', weight=400, stretch='normal', size='scalable')) = 11.05\n",
            "DEBUG:matplotlib.font_manager:findfont: score(FontEntry(fname='C:\\\\Windows\\\\Fonts\\\\ANTQUABI.TTF', name='Book Antiqua', style='italic', variant='normal', weight=700, stretch='normal', size='scalable')) = 11.335\n",
            "DEBUG:matplotlib.font_manager:findfont: score(FontEntry(fname='C:\\\\Windows\\\\Fonts\\\\bgothl.ttf', name='BankGothic Lt BT', style='normal', variant='normal', weight=400, stretch='normal', size='scalable')) = 10.05\n",
            "DEBUG:matplotlib.font_manager:findfont: score(FontEntry(fname='C:\\\\Windows\\\\Fonts\\\\javatext.ttf', name='Javanese Text', style='normal', variant='normal', weight=400, stretch='normal', size='scalable')) = 10.05\n",
            "DEBUG:matplotlib.font_manager:findfont: score(FontEntry(fname='C:\\\\Windows\\\\Fonts\\\\bahnschrift.ttf', name='Bahnschrift', style='normal', variant='normal', weight=400, stretch='normal', size='scalable')) = 10.05\n",
            "DEBUG:matplotlib.font_manager:findfont: score(FontEntry(fname='C:\\\\Windows\\\\Fonts\\\\TypoUpright BT.ttf', name='TypoUpright BT', style='normal', variant='normal', weight=400, stretch='normal', size='scalable')) = 10.05\n",
            "DEBUG:matplotlib.font_manager:findfont: score(FontEntry(fname='C:\\\\Windows\\\\Fonts\\\\ARIALNBI.TTF', name='Arial', style='italic', variant='normal', weight=700, stretch='condensed', size='scalable')) = 7.8986363636363635\n",
            "DEBUG:matplotlib.font_manager:findfont: score(FontEntry(fname='C:\\\\Windows\\\\Fonts\\\\isoct2__.ttf', name='ISOCT2', style='normal', variant='normal', weight=400, stretch='normal', size='scalable')) = 10.05\n",
            "DEBUG:matplotlib.font_manager:findfont: score(FontEntry(fname='C:\\\\Windows\\\\Fonts\\\\trebucbd.ttf', name='Trebuchet MS', style='normal', variant='normal', weight=700, stretch='normal', size='scalable')) = 10.335\n",
            "DEBUG:matplotlib.font_manager:findfont: score(FontEntry(fname='C:\\\\Windows\\\\Fonts\\\\phagspa.ttf', name='Microsoft PhagsPa', style='normal', variant='normal', weight=400, stretch='normal', size='scalable')) = 10.05\n",
            "DEBUG:matplotlib.font_manager:findfont: score(FontEntry(fname='C:\\\\Windows\\\\Fonts\\\\seguisli.ttf', name='Segoe UI', style='italic', variant='normal', weight=350, stretch='normal', size='scalable')) = 11.0975\n",
            "DEBUG:matplotlib.font_manager:findfont: score(FontEntry(fname='C:\\\\Windows\\\\Fonts\\\\eurr____.ttf', name='EuroRoman', style='normal', variant='normal', weight=400, stretch='normal', size='scalable')) = 10.05\n",
            "DEBUG:matplotlib.font_manager:findfont: score(FontEntry(fname='C:\\\\Windows\\\\Fonts\\\\gothici_.ttf', name='GothicI', style='normal', variant='normal', weight=400, stretch='normal', size='scalable')) = 10.05\n",
            "DEBUG:matplotlib.font_manager:findfont: score(FontEntry(fname='C:\\\\Windows\\\\Fonts\\\\pala.ttf', name='Palatino Linotype', style='normal', variant='normal', weight=400, stretch='normal', size='scalable')) = 10.05\n",
            "DEBUG:matplotlib.font_manager:findfont: score(FontEntry(fname='C:\\\\Program Files (x86)\\\\Adobe\\\\Acrobat DC\\\\Resource\\\\Font\\\\AdobeDevanagari-Bold.otf', name='Adobe Devanagari', style='normal', variant='normal', weight=700, stretch='normal', size='scalable')) = 10.335\n",
            "DEBUG:matplotlib.font_manager:findfont: score(FontEntry(fname='C:\\\\Windows\\\\Fonts\\\\GARAIT.TTF', name='Garamond', style='italic', variant='normal', weight=400, stretch='normal', size='scalable')) = 11.05\n",
            "DEBUG:matplotlib.font_manager:findfont: score(FontEntry(fname='C:\\\\Windows\\\\Fonts\\\\LBRITE.TTF', name='Lucida Bright', style='normal', variant='normal', weight=400, stretch='normal', size='scalable')) = 10.05\n",
            "DEBUG:matplotlib.font_manager:findfont: score(FontEntry(fname='C:\\\\Windows\\\\Fonts\\\\AGENCYB.TTF', name='Agency FB', style='normal', variant='normal', weight=700, stretch='normal', size='scalable')) = 10.335\n",
            "DEBUG:matplotlib.font_manager:findfont: score(FontEntry(fname='C:\\\\Windows\\\\Fonts\\\\dutcheb.ttf', name='Dutch801 XBd BT', style='normal', variant='normal', weight=400, stretch='normal', size='scalable')) = 10.05\n",
            "DEBUG:matplotlib.font_manager:findfont: score(FontEntry(fname='C:\\\\Windows\\\\Fonts\\\\HATTEN.TTF', name='Haettenschweiler', style='normal', variant='normal', weight=400, stretch='normal', size='scalable')) = 10.05\n",
            "DEBUG:matplotlib.font_manager:findfont: score(FontEntry(fname='C:\\\\Windows\\\\Fonts\\\\News701 BT Bold.ttf', name='News701 BT', style='normal', variant='normal', weight=700, stretch='normal', size='scalable')) = 10.335\n",
            "DEBUG:matplotlib.font_manager:findfont: score(FontEntry(fname='C:\\\\Windows\\\\Fonts\\\\swisscbo.ttf', name='Swis721 BdCnOul BT', style='normal', variant='normal', weight=400, stretch='condensed', size='scalable')) = 10.25\n",
            "DEBUG:matplotlib.font_manager:findfont: score(FontEntry(fname='C:\\\\Windows\\\\Fonts\\\\techb___.ttf', name='TechnicBold', style='normal', variant='normal', weight=400, stretch='normal', size='scalable')) = 10.05\n",
            "DEBUG:matplotlib.font_manager:findfont: score(FontEntry(fname='C:\\\\Windows\\\\Fonts\\\\ITCBLKAD.TTF', name='Blackadder ITC', style='normal', variant='normal', weight=400, stretch='normal', size='scalable')) = 10.05\n",
            "DEBUG:matplotlib.font_manager:findfont: score(FontEntry(fname='C:\\\\Windows\\\\Fonts\\\\JUICE___.TTF', name='Juice ITC', style='normal', variant='normal', weight=400, stretch='normal', size='scalable')) = 10.05\n",
            "DEBUG:matplotlib.font_manager:findfont: score(FontEntry(fname='C:\\\\Windows\\\\Fonts\\\\Candarai.ttf', name='Candara', style='italic', variant='normal', weight=400, stretch='normal', size='scalable')) = 11.05\n",
            "DEBUG:matplotlib.font_manager:findfont: score(FontEntry(fname='C:\\\\Windows\\\\Fonts\\\\ERASMD.TTF', name='Eras Medium ITC', style='normal', variant='normal', weight=400, stretch='normal', size='scalable')) = 10.05\n",
            "DEBUG:matplotlib.font_manager:findfont: score(FontEntry(fname='C:\\\\Windows\\\\Fonts\\\\Humnst777 BlkCn BT Black.ttf', name='Humnst777 BlkCn BT', style='normal', variant='normal', weight=400, stretch='normal', size='scalable')) = 10.05\n",
            "DEBUG:matplotlib.font_manager:findfont: score(FontEntry(fname='C:\\\\Windows\\\\Fonts\\\\FTLTLT.TTF', name='Footlight MT Light', style='normal', variant='normal', weight=300, stretch='normal', size='scalable')) = 10.145\n",
            "DEBUG:matplotlib.font_manager:findfont: score(FontEntry(fname='C:\\\\Windows\\\\Fonts\\\\italic__.ttf', name='Italic', style='italic', variant='normal', weight=400, stretch='normal', size='scalable')) = 11.05\n",
            "DEBUG:matplotlib.font_manager:findfont: score(FontEntry(fname='C:\\\\Windows\\\\Fonts\\\\DeVinne Txt BT.ttf', name='DeVinne Txt BT', style='normal', variant='normal', weight=400, stretch='normal', size='scalable')) = 10.05\n",
            "DEBUG:matplotlib.font_manager:findfont: score(FontEntry(fname='C:\\\\Windows\\\\Fonts\\\\technic_.ttf', name='Technic', style='normal', variant='normal', weight=400, stretch='normal', size='scalable')) = 10.05\n",
            "DEBUG:matplotlib.font_manager:findfont: score(FontEntry(fname='C:\\\\Windows\\\\Fonts\\\\cour.ttf', name='Courier New', style='normal', variant='normal', weight=400, stretch='normal', size='scalable')) = 10.05\n",
            "DEBUG:matplotlib.font_manager:findfont: score(FontEntry(fname='C:\\\\Windows\\\\Fonts\\\\scriptc_.ttf', name='ScriptC', style='normal', variant='normal', weight=400, stretch='normal', size='scalable')) = 10.05\n",
            "DEBUG:matplotlib.font_manager:findfont: score(FontEntry(fname='C:\\\\Windows\\\\Fonts\\\\Humanst521 BT Bold.ttf', name='Humanst521 BT', style='normal', variant='normal', weight=700, stretch='normal', size='scalable')) = 10.335\n",
            "DEBUG:matplotlib.font_manager:findfont: score(FontEntry(fname='C:\\\\Windows\\\\Fonts\\\\Bodoni Bk BT Book.ttf', name='Bodoni Bk BT', style='normal', variant='normal', weight=400, stretch='normal', size='scalable')) = 10.05\n",
            "DEBUG:matplotlib.font_manager:findfont: score(FontEntry(fname='C:\\\\Windows\\\\Fonts\\\\BOD_CR.TTF', name='Bodoni MT', style='normal', variant='normal', weight=400, stretch='condensed', size='scalable')) = 10.25\n",
            "DEBUG:matplotlib.font_manager:findfont: score(FontEntry(fname='C:\\\\Windows\\\\Fonts\\\\Sitka.ttc', name='Sitka Small', style='normal', variant='normal', weight=400, stretch='normal', size='scalable')) = 10.05\n",
            "DEBUG:matplotlib.font_manager:findfont: score(FontEntry(fname='C:\\\\Windows\\\\Fonts\\\\DUBAI-BOLD.TTF', name='Dubai', style='normal', variant='normal', weight=700, stretch='normal', size='scalable')) = 10.335\n",
            "DEBUG:matplotlib.font_manager:findfont: score(FontEntry(fname='C:\\\\Windows\\\\Fonts\\\\ebrimabd.ttf', name='Ebrima', style='normal', variant='normal', weight=700, stretch='normal', size='scalable')) = 10.335\n",
            "DEBUG:matplotlib.font_manager:findfont: score(FontEntry(fname='C:\\\\Windows\\\\Fonts\\\\Swis721 BT Bold Italic.ttf', name='Swis721 BT', style='italic', variant='normal', weight=700, stretch='normal', size='scalable')) = 11.335\n",
            "DEBUG:matplotlib.font_manager:findfont: score(FontEntry(fname='C:\\\\Windows\\\\Fonts\\\\Swis721 Blk BT Black.ttf', name='Swis721 Blk BT', style='normal', variant='normal', weight=400, stretch='normal', size='scalable')) = 10.05\n",
            "DEBUG:matplotlib.font_manager:findfont: score(FontEntry(fname='C:\\\\Windows\\\\Fonts\\\\ariblk.ttf', name='Arial', style='normal', variant='normal', weight=900, stretch='normal', size='scalable')) = 6.888636363636364\n",
            "DEBUG:matplotlib.font_manager:findfont: score(FontEntry(fname='C:\\\\Windows\\\\Fonts\\\\BRITANIC.TTF', name='Britannic Bold', style='normal', variant='normal', weight=400, stretch='normal', size='scalable')) = 10.05\n",
            "DEBUG:matplotlib.font_manager:findfont: score(FontEntry(fname='C:\\\\Windows\\\\Fonts\\\\BRUSHSCI.TTF', name='Brush Script MT', style='italic', variant='normal', weight=400, stretch='normal', size='scalable')) = 11.05\n",
            "DEBUG:matplotlib.font_manager:findfont: score(FontEntry(fname='C:\\\\Windows\\\\Fonts\\\\BRLNSDB.TTF', name='Berlin Sans FB Demi', style='normal', variant='normal', weight=700, stretch='normal', size='scalable')) = 10.335\n",
            "DEBUG:matplotlib.font_manager:findfont: score(FontEntry(fname='C:\\\\Windows\\\\Fonts\\\\swissck.ttf', name='Swis721 BlkCn BT', style='normal', variant='normal', weight=400, stretch='condensed', size='scalable')) = 10.25\n",
            "DEBUG:matplotlib.font_manager:findfont: score(FontEntry(fname='C:\\\\Program Files (x86)\\\\Adobe\\\\Acrobat DC\\\\Resource\\\\Font\\\\AdobeDevanagari-BoldItalic.otf', name='Adobe Devanagari', style='italic', variant='normal', weight=700, stretch='normal', size='scalable')) = 11.335\n",
            "DEBUG:matplotlib.font_manager:findfont: score(FontEntry(fname='C:\\\\Windows\\\\Fonts\\\\msyi.ttf', name='Microsoft Yi Baiti', style='normal', variant='normal', weight=400, stretch='normal', size='scalable')) = 10.05\n",
            "DEBUG:matplotlib.font_manager:findfont: score(FontEntry(fname='C:\\\\Windows\\\\Fonts\\\\GOUDYSTO.TTF', name='Goudy Stout', style='normal', variant='normal', weight=400, stretch='normal', size='scalable')) = 10.05\n",
            "DEBUG:matplotlib.font_manager:findfont: score(FontEntry(fname='C:\\\\Windows\\\\Fonts\\\\seguisbi.ttf', name='Segoe UI', style='italic', variant='normal', weight=600, stretch='normal', size='scalable')) = 11.24\n",
            "DEBUG:matplotlib.font_manager:findfont: score(FontEntry(fname='C:\\\\Windows\\\\Fonts\\\\malgunbd.ttf', name='Malgun Gothic', style='normal', variant='normal', weight=700, stretch='normal', size='scalable')) = 10.335\n",
            "DEBUG:matplotlib.font_manager:findfont: score(FontEntry(fname='C:\\\\Windows\\\\Fonts\\\\mvboli.ttf', name='MV Boli', style='normal', variant='normal', weight=400, stretch='normal', size='scalable')) = 10.05\n",
            "DEBUG:matplotlib.font_manager:findfont: score(FontEntry(fname='C:\\\\Windows\\\\Fonts\\\\msjhbd.ttc', name='Microsoft JhengHei', style='normal', variant='normal', weight=700, stretch='normal', size='scalable')) = 10.335\n",
            "DEBUG:matplotlib.font_manager:findfont: score(FontEntry(fname='C:\\\\Windows\\\\Fonts\\\\GARA.TTF', name='Garamond', style='normal', variant='normal', weight=400, stretch='normal', size='scalable')) = 10.05\n",
            "DEBUG:matplotlib.font_manager:findfont: score(FontEntry(fname='C:\\\\Windows\\\\Fonts\\\\Futura Bk BT Book Italic.ttf', name='Futura Bk BT', style='italic', variant='normal', weight=400, stretch='normal', size='scalable')) = 11.05\n",
            "DEBUG:matplotlib.font_manager:findfont: score(FontEntry(fname='C:\\\\Windows\\\\Fonts\\\\TCMI____.TTF', name='Tw Cen MT', style='italic', variant='normal', weight=400, stretch='normal', size='scalable')) = 11.05\n",
            "DEBUG:matplotlib.font_manager:findfont: score(FontEntry(fname='C:\\\\Windows\\\\Fonts\\\\taileb.ttf', name='Microsoft Tai Le', style='normal', variant='normal', weight=700, stretch='normal', size='scalable')) = 10.335\n",
            "DEBUG:matplotlib.font_manager:findfont: score(FontEntry(fname='C:\\\\Windows\\\\Fonts\\\\ntailub.ttf', name='Microsoft New Tai Lue', style='normal', variant='normal', weight=700, stretch='normal', size='scalable')) = 10.335\n",
            "DEBUG:matplotlib.font_manager:findfont: score(FontEntry(fname='C:\\\\Windows\\\\Fonts\\\\swisseb.ttf', name='Swis721 Ex BT', style='normal', variant='normal', weight=700, stretch='expanded', size='scalable')) = 10.535\n",
            "DEBUG:matplotlib.font_manager:findfont: score(FontEntry(fname='C:\\\\Windows\\\\Fonts\\\\consola.ttf', name='Consolas', style='normal', variant='normal', weight=400, stretch='normal', size='scalable')) = 10.05\n",
            "DEBUG:matplotlib.font_manager:findfont: score(FontEntry(fname='C:\\\\Windows\\\\Fonts\\\\ebrima.ttf', name='Ebrima', style='normal', variant='normal', weight=400, stretch='normal', size='scalable')) = 10.05\n",
            "DEBUG:matplotlib.font_manager:findfont: score(FontEntry(fname='C:\\\\Windows\\\\Fonts\\\\News701 BT Italic.ttf', name='News701 BT', style='italic', variant='normal', weight=400, stretch='normal', size='scalable')) = 11.05\n",
            "DEBUG:matplotlib.font_manager:findfont: score(FontEntry(fname='C:\\\\Windows\\\\Fonts\\\\CALIFB.TTF', name='Californian FB', style='normal', variant='normal', weight=700, stretch='normal', size='scalable')) = 10.335\n",
            "DEBUG:matplotlib.font_manager:findfont: score(FontEntry(fname='C:\\\\Windows\\\\Fonts\\\\romanc__.ttf', name='RomanC', style='normal', variant='normal', weight=400, stretch='normal', size='scalable')) = 10.05\n",
            "DEBUG:matplotlib.font_manager:findfont: score(FontEntry(fname='C:\\\\Windows\\\\Fonts\\\\SitkaB.ttc', name='Sitka Small', style='normal', variant='normal', weight=700, stretch='normal', size='scalable')) = 10.335\n",
            "DEBUG:matplotlib.font_manager:findfont: score(FontEntry(fname='C:\\\\Windows\\\\Fonts\\\\mtproxy7.ttf', name='Proxy 7', style='normal', variant='normal', weight=400, stretch='normal', size='scalable')) = 10.05\n",
            "DEBUG:matplotlib.font_manager:findfont: score(FontEntry(fname='C:\\\\Windows\\\\Fonts\\\\Swis721 Cn BT Italic.ttf', name='Swis721 Cn BT', style='italic', variant='normal', weight=400, stretch='normal', size='scalable')) = 11.05\n",
            "DEBUG:matplotlib.font_manager:findfont: score(FontEntry(fname='C:\\\\Windows\\\\Fonts\\\\PERB____.TTF', name='Perpetua', style='normal', variant='normal', weight=700, stretch='normal', size='scalable')) = 10.335\n",
            "DEBUG:matplotlib.font_manager:findfont: score(FontEntry(fname='C:\\\\Windows\\\\Fonts\\\\constanb.ttf', name='Constantia', style='normal', variant='normal', weight=700, stretch='normal', size='scalable')) = 10.335\n",
            "DEBUG:matplotlib.font_manager:findfont: score(FontEntry(fname='C:\\\\Windows\\\\Fonts\\\\Swis721 BT Roman.ttf', name='Swis721 BT', style='normal', variant='normal', weight=400, stretch='normal', size='scalable')) = 10.05\n",
            "DEBUG:matplotlib.font_manager:findfont: score(FontEntry(fname='C:\\\\Windows\\\\Fonts\\\\FELIXTI.TTF', name='Felix Titling', style='normal', variant='normal', weight=400, stretch='normal', size='scalable')) = 10.05\n",
            "DEBUG:matplotlib.font_manager:findfont: score(FontEntry(fname='C:\\\\Windows\\\\Fonts\\\\complex_.ttf', name='Complex', style='normal', variant='normal', weight=400, stretch='normal', size='scalable')) = 10.05\n",
            "DEBUG:matplotlib.font_manager:findfont: score(FontEntry(fname='C:\\\\Windows\\\\Fonts\\\\swissko.ttf', name='Swis721 BlkOul BT', style='normal', variant='normal', weight=400, stretch='normal', size='scalable')) = 10.05\n",
            "DEBUG:matplotlib.font_manager:findfont: score(FontEntry(fname='C:\\\\Windows\\\\Fonts\\\\GILBI___.TTF', name='Gill Sans MT', style='italic', variant='normal', weight=700, stretch='normal', size='scalable')) = 11.335\n",
            "DEBUG:matplotlib.font_manager:findfont: score(FontEntry(fname='C:\\\\Windows\\\\Fonts\\\\BRLNSR.TTF', name='Berlin Sans FB', style='normal', variant='normal', weight=400, stretch='normal', size='scalable')) = 10.05\n",
            "DEBUG:matplotlib.font_manager:findfont: score(FontEntry(fname='C:\\\\Windows\\\\Fonts\\\\BOOKOSI.TTF', name='Bookman Old Style', style='italic', variant='normal', weight=300, stretch='normal', size='scalable')) = 11.145\n",
            "DEBUG:matplotlib.font_manager:findfont: score(FontEntry(fname='C:\\\\Windows\\\\Fonts\\\\ROCK.TTF', name='Rockwell', style='normal', variant='normal', weight=400, stretch='normal', size='scalable')) = 10.05\n",
            "DEBUG:matplotlib.font_manager:findfont: score(FontEntry(fname='C:\\\\Windows\\\\Fonts\\\\Century751 SeBd BT Semi Bold Italic.ttf', name='Century751 SeBd BT', style='italic', variant='normal', weight=400, stretch='normal', size='scalable')) = 11.05\n",
            "DEBUG:matplotlib.font_manager:findfont: score(FontEntry(fname='C:\\\\Windows\\\\Fonts\\\\LTYPEO.TTF', name='Lucida Sans Typewriter', style='oblique', variant='normal', weight=400, stretch='normal', size='scalable')) = 11.05\n",
            "DEBUG:matplotlib.font_manager:findfont: score(FontEntry(fname='C:\\\\Windows\\\\Fonts\\\\georgia.ttf', name='Georgia', style='normal', variant='normal', weight=400, stretch='normal', size='scalable')) = 10.05\n",
            "DEBUG:matplotlib.font_manager:findfont: score(FontEntry(fname='C:\\\\Windows\\\\Fonts\\\\MAIAN.TTF', name='Maiandra GD', style='normal', variant='normal', weight=400, stretch='normal', size='scalable')) = 10.05\n",
            "DEBUG:matplotlib.font_manager:findfont: score(FontEntry(fname='C:\\\\Windows\\\\Fonts\\\\EngraversGothic BT.ttf', name='EngraversGothic BT', style='normal', variant='normal', weight=400, stretch='normal', size='scalable')) = 10.05\n",
            "DEBUG:matplotlib.font_manager:findfont: score(FontEntry(fname='C:\\\\Windows\\\\Fonts\\\\Artifakt Element Italic.ttf', name='Artifakt Element', style='italic', variant='normal', weight=400, stretch='normal', size='scalable')) = 11.05\n",
            "DEBUG:matplotlib.font_manager:findfont: score(FontEntry(fname='C:\\\\Windows\\\\Fonts\\\\supef___.ttf', name='SuperFrench', style='normal', variant='normal', weight=400, stretch='normal', size='scalable')) = 10.05\n",
            "DEBUG:matplotlib.font_manager:findfont: score(FontEntry(fname='C:\\\\Windows\\\\Fonts\\\\SCHLBKBI.TTF', name='Century Schoolbook', style='italic', variant='normal', weight=700, stretch='normal', size='scalable')) = 11.335\n",
            "DEBUG:matplotlib.font_manager:findfont: score(FontEntry(fname='C:\\\\Windows\\\\Fonts\\\\ROCKB.TTF', name='Rockwell', style='normal', variant='normal', weight=700, stretch='normal', size='scalable')) = 10.335\n",
            "DEBUG:matplotlib.font_manager:findfont: score(FontEntry(fname='C:\\\\Windows\\\\Fonts\\\\phagspab.ttf', name='Microsoft PhagsPa', style='normal', variant='normal', weight=700, stretch='normal', size='scalable')) = 10.335\n",
            "DEBUG:matplotlib.font_manager:findfont: score(FontEntry(fname='C:\\\\Windows\\\\Fonts\\\\Embassy BT.ttf', name='Embassy BT', style='normal', variant='normal', weight=400, stretch='normal', size='scalable')) = 10.05\n",
            "DEBUG:matplotlib.font_manager:findfont: score(FontEntry(fname='C:\\\\Windows\\\\Fonts\\\\Artifakt Element Bold Italic.ttf', name='Artifakt Element', style='italic', variant='normal', weight=700, stretch='normal', size='scalable')) = 11.335\n",
            "DEBUG:matplotlib.font_manager:findfont: score(FontEntry(fname='C:\\\\Windows\\\\Fonts\\\\ROCC____.TTF', name='Rockwell Condensed', style='normal', variant='normal', weight=400, stretch='condensed', size='scalable')) = 10.25\n",
            "DEBUG:matplotlib.font_manager:findfont: score(FontEntry(fname='C:\\\\Windows\\\\Fonts\\\\swissi.ttf', name='Swis721 BT', style='italic', variant='normal', weight=400, stretch='normal', size='scalable')) = 11.05\n",
            "DEBUG:matplotlib.font_manager:findfont: score(FontEntry(fname='C:\\\\Windows\\\\Fonts\\\\GARABD.TTF', name='Garamond', style='normal', variant='normal', weight=700, stretch='normal', size='scalable')) = 10.335\n",
            "DEBUG:matplotlib.font_manager:findfont: score(FontEntry(fname='C:\\\\Windows\\\\Fonts\\\\swissci.ttf', name='Swis721 Cn BT', style='italic', variant='normal', weight=400, stretch='condensed', size='scalable')) = 11.25\n",
            "DEBUG:matplotlib.font_manager:findfont: score(FontEntry(fname='C:\\\\Windows\\\\Fonts\\\\ITCKRIST.TTF', name='Kristen ITC', style='normal', variant='normal', weight=400, stretch='normal', size='scalable')) = 10.05\n",
            "DEBUG:matplotlib.font_manager:findfont: score(FontEntry(fname='C:\\\\Windows\\\\Fonts\\\\gadugib.ttf', name='Gadugi', style='normal', variant='normal', weight=700, stretch='normal', size='scalable')) = 10.335\n",
            "DEBUG:matplotlib.font_manager:findfont: score(FontEntry(fname='C:\\\\Windows\\\\Fonts\\\\Humnst777 Cn BT.ttf', name='Humnst777 Cn BT', style='normal', variant='normal', weight=400, stretch='normal', size='scalable')) = 10.05\n",
            "DEBUG:matplotlib.font_manager:findfont: score(FontEntry(fname='C:\\\\Windows\\\\Fonts\\\\sansso__.ttf', name='SansSerif', style='oblique', variant='normal', weight=400, stretch='normal', size='scalable')) = 11.05\n",
            "DEBUG:matplotlib.font_manager:findfont: score(FontEntry(fname='C:\\\\Windows\\\\Fonts\\\\segoeui.ttf', name='Segoe UI', style='normal', variant='normal', weight=400, stretch='normal', size='scalable')) = 10.05\n",
            "DEBUG:matplotlib.font_manager:findfont: score(FontEntry(fname='C:\\\\Windows\\\\Fonts\\\\ROCKI.TTF', name='Rockwell', style='italic', variant='normal', weight=400, stretch='normal', size='scalable')) = 11.05\n",
            "DEBUG:matplotlib.font_manager:findfont: score(FontEntry(fname='C:\\\\Windows\\\\Fonts\\\\isoct___.ttf', name='ISOCT', style='normal', variant='normal', weight=400, stretch='normal', size='scalable')) = 10.05\n",
            "DEBUG:matplotlib.font_manager:findfont: score(FontEntry(fname='C:\\\\Windows\\\\Fonts\\\\Geometr415 Blk BT Black.ttf', name='Geometr415 Blk BT', style='normal', variant='normal', weight=400, stretch='normal', size='scalable')) = 10.05\n",
            "DEBUG:matplotlib.font_manager:findfont: score(FontEntry(fname='C:\\\\Windows\\\\Fonts\\\\ONYX.TTF', name='Onyx', style='normal', variant='normal', weight=400, stretch='normal', size='scalable')) = 10.05\n",
            "DEBUG:matplotlib.font_manager:findfont: score(FontEntry(fname='C:\\\\Windows\\\\Fonts\\\\REFSPCL.TTF', name='MS Reference Specialty', style='normal', variant='normal', weight=400, stretch='normal', size='scalable')) = 10.05\n",
            "DEBUG:matplotlib.font_manager:findfont: score(FontEntry(fname='C:\\\\Windows\\\\Fonts\\\\BASKVILL.TTF', name='Baskerville Old Face', style='normal', variant='normal', weight=400, stretch='normal', size='scalable')) = 10.05\n",
            "DEBUG:matplotlib.font_manager:findfont: score(FontEntry(fname='C:\\\\Windows\\\\Fonts\\\\VIVALDII.TTF', name='Vivaldi', style='italic', variant='normal', weight=400, stretch='normal', size='scalable')) = 11.05\n",
            "DEBUG:matplotlib.font_manager:findfont: score(FontEntry(fname='C:\\\\Windows\\\\Fonts\\\\CENTAUR.TTF', name='Centaur', style='normal', variant='normal', weight=400, stretch='normal', size='scalable')) = 10.05\n",
            "DEBUG:matplotlib.font_manager:findfont: score(FontEntry(fname='C:\\\\Windows\\\\Fonts\\\\Century751 No2 BT Italic.ttf', name='Century751 No2 BT', style='italic', variant='normal', weight=400, stretch='normal', size='scalable')) = 11.05\n",
            "DEBUG:matplotlib.font_manager:findfont: score(FontEntry(fname='C:\\\\Windows\\\\Fonts\\\\consolaz.ttf', name='Consolas', style='italic', variant='normal', weight=700, stretch='normal', size='scalable')) = 11.335\n",
            "DEBUG:matplotlib.font_manager:findfont: score(FontEntry(fname='C:\\\\Windows\\\\Fonts\\\\seguibli.ttf', name='Segoe UI', style='italic', variant='normal', weight=900, stretch='normal', size='scalable')) = 11.525\n",
            "DEBUG:matplotlib.font_manager:findfont: score(FontEntry(fname='C:\\\\Windows\\\\Fonts\\\\scripts_.ttf', name='ScriptS', style='normal', variant='normal', weight=400, stretch='normal', size='scalable')) = 10.05\n",
            "DEBUG:matplotlib.font_manager:findfont: score(FontEntry(fname='C:\\\\Windows\\\\Fonts\\\\GeoSlab703 Md BT Bold.ttf', name='GeoSlab703 Md BT', style='normal', variant='normal', weight=700, stretch='normal', size='scalable')) = 10.335\n",
            "DEBUG:matplotlib.font_manager:findfont: score(FontEntry(fname='C:\\\\Windows\\\\Fonts\\\\segmdl2.ttf', name='Segoe MDL2 Assets', style='normal', variant='normal', weight=400, stretch='normal', size='scalable')) = 10.05\n",
            "DEBUG:matplotlib.font_manager:findfont: score(FontEntry(fname='C:\\\\Windows\\\\Fonts\\\\Futura Bk BT Book.ttf', name='Futura Bk BT', style='normal', variant='normal', weight=400, stretch='normal', size='scalable')) = 10.05\n",
            "DEBUG:matplotlib.font_manager:findfont: score(FontEntry(fname='C:\\\\Windows\\\\Fonts\\\\Geometr212 BkCn BT Book.ttf', name='Geometr212 BkCn BT', style='normal', variant='normal', weight=400, stretch='normal', size='scalable')) = 10.05\n",
            "DEBUG:matplotlib.font_manager:findfont: score(FontEntry(fname='C:\\\\Windows\\\\Fonts\\\\Artifakt Element Bold.ttf', name='Artifakt Element', style='normal', variant='normal', weight=700, stretch='normal', size='scalable')) = 10.335\n",
            "DEBUG:matplotlib.font_manager:findfont: score(FontEntry(fname='C:\\\\Windows\\\\Fonts\\\\constanz.ttf', name='Constantia', style='italic', variant='normal', weight=700, stretch='normal', size='scalable')) = 11.335\n",
            "DEBUG:matplotlib.font_manager:findfont: score(FontEntry(fname='C:\\\\Windows\\\\Fonts\\\\Swis721 WGL4 BT Italic.ttf', name='Swis721 WGL4 BT', style='italic', variant='normal', weight=400, stretch='normal', size='scalable')) = 11.05\n",
            "DEBUG:matplotlib.font_manager:findfont: score(FontEntry(fname='C:\\\\Windows\\\\Fonts\\\\MTCORSVA.TTF', name='Monotype Corsiva', style='normal', variant='normal', weight=400, stretch='normal', size='scalable')) = 10.05\n",
            "DEBUG:matplotlib.font_manager:findfont: score(FontEntry(fname='C:\\\\Windows\\\\Fonts\\\\segoeuil.ttf', name='Segoe UI', style='normal', variant='normal', weight=300, stretch='normal', size='scalable')) = 10.145\n",
            "DEBUG:matplotlib.font_manager:findfont: score(FontEntry(fname='C:\\\\Windows\\\\Fonts\\\\timesi.ttf', name='Times New Roman', style='italic', variant='normal', weight=400, stretch='normal', size='scalable')) = 11.05\n",
            "DEBUG:matplotlib.font_manager:findfont: score(FontEntry(fname='C:\\\\Windows\\\\Fonts\\\\Swis721 WGL4 BT Bold Italic.ttf', name='Swis721 WGL4 BT', style='italic', variant='normal', weight=700, stretch='normal', size='scalable')) = 11.335\n",
            "DEBUG:matplotlib.font_manager:findfont: score(FontEntry(fname='C:\\\\Windows\\\\Fonts\\\\AIGDT___.TTF', name='AIGDT', style='normal', variant='normal', weight=400, stretch='normal', size='scalable')) = 10.05\n",
            "DEBUG:matplotlib.font_manager:findfont: score(FontEntry(fname='C:\\\\Windows\\\\Fonts\\\\sanss___.ttf', name='SansSerif', style='normal', variant='normal', weight=400, stretch='normal', size='scalable')) = 10.05\n",
            "DEBUG:matplotlib.font_manager:findfont: score(FontEntry(fname='C:\\\\Windows\\\\Fonts\\\\GOTHICB.TTF', name='Century Gothic', style='normal', variant='normal', weight=700, stretch='normal', size='scalable')) = 10.335\n",
            "DEBUG:matplotlib.font_manager:findfont: score(FontEntry(fname='C:\\\\Windows\\\\Fonts\\\\CALISTBI.TTF', name='Calisto MT', style='italic', variant='normal', weight=700, stretch='normal', size='scalable')) = 11.335\n",
            "DEBUG:matplotlib.font_manager:findfont: score(FontEntry(fname='C:\\\\Windows\\\\Fonts\\\\FRADMIT.TTF', name='Franklin Gothic Demi', style='italic', variant='normal', weight=400, stretch='normal', size='scalable')) = 11.05\n",
            "DEBUG:matplotlib.font_manager:findfont: score(FontEntry(fname='C:\\\\Windows\\\\Fonts\\\\Kaufmann BT.ttf', name='Kaufmann BT', style='normal', variant='normal', weight=400, stretch='normal', size='scalable')) = 10.05\n",
            "DEBUG:matplotlib.font_manager:findfont: score(FontEntry(fname='C:\\\\Windows\\\\Fonts\\\\BOD_CB.TTF', name='Bodoni MT', style='normal', variant='normal', weight=700, stretch='condensed', size='scalable')) = 10.535\n",
            "DEBUG:matplotlib.font_manager:findfont: score(FontEntry(fname='C:\\\\Windows\\\\Fonts\\\\Candaral.ttf', name='Candara', style='normal', variant='normal', weight=400, stretch='normal', size='scalable')) = 10.05\n",
            "DEBUG:matplotlib.font_manager:findfont: score(FontEntry(fname='C:\\\\Windows\\\\Fonts\\\\News706 BT Bold.ttf', name='News706 BT', style='normal', variant='normal', weight=700, stretch='normal', size='scalable')) = 10.335\n",
            "DEBUG:matplotlib.font_manager:findfont: score(FontEntry(fname='C:\\\\Windows\\\\Fonts\\\\georgiaz.ttf', name='Georgia', style='italic', variant='normal', weight=700, stretch='normal', size='scalable')) = 11.335\n",
            "DEBUG:matplotlib.font_manager:findfont: score(FontEntry(fname='C:\\\\Windows\\\\Fonts\\\\webdings.ttf', name='Webdings', style='normal', variant='normal', weight=400, stretch='normal', size='scalable')) = 10.05\n",
            "DEBUG:matplotlib.font_manager:findfont: score(FontEntry(fname='C:\\\\Windows\\\\Fonts\\\\monosi.ttf', name='Monospac821 BT', style='italic', variant='normal', weight=400, stretch='normal', size='scalable')) = 11.05\n",
            "DEBUG:matplotlib.font_manager:findfont: score(FontEntry(fname='C:\\\\Windows\\\\Fonts\\\\cambria.ttc', name='Cambria', style='normal', variant='normal', weight=400, stretch='normal', size='scalable')) = 10.05\n",
            "DEBUG:matplotlib.font_manager:findfont: score(FontEntry(fname='C:\\\\Windows\\\\Fonts\\\\marlett.ttf', name='Marlett', style='normal', variant='normal', weight=500, stretch='normal', size='scalable')) = 10.145\n",
            "DEBUG:matplotlib.font_manager:findfont: score(FontEntry(fname='C:\\\\Windows\\\\Fonts\\\\compi.ttf', name='CommercialPi BT', style='normal', variant='normal', weight=400, stretch='normal', size='scalable')) = 10.05\n",
            "DEBUG:matplotlib.font_manager:findfont: score(FontEntry(fname='C:\\\\Windows\\\\Fonts\\\\NewsGoth BT Italic.ttf', name='NewsGoth BT', style='italic', variant='normal', weight=400, stretch='normal', size='scalable')) = 11.05\n",
            "DEBUG:matplotlib.font_manager:findfont: score(FontEntry(fname='C:\\\\Windows\\\\Fonts\\\\Freehand521 BT.ttf', name='Freehand521 BT', style='normal', variant='normal', weight=400, stretch='normal', size='scalable')) = 10.05\n",
            "DEBUG:matplotlib.font_manager:findfont: score(FontEntry(fname='C:\\\\Windows\\\\Fonts\\\\Humanst521 BT Roman.ttf', name='Humanst521 BT', style='normal', variant='normal', weight=400, stretch='normal', size='scalable')) = 10.05\n",
            "DEBUG:matplotlib.font_manager:findfont: score(FontEntry(fname='C:\\\\Windows\\\\Fonts\\\\isocpeui.ttf', name='ISOCPEUR', style='italic', variant='normal', weight=400, stretch='normal', size='scalable')) = 11.05\n",
            "DEBUG:matplotlib.font_manager:findfont: score(FontEntry(fname='C:\\\\Windows\\\\Fonts\\\\PLAYBILL.TTF', name='Playbill', style='normal', variant='normal', weight=400, stretch='normal', size='scalable')) = 10.05\n",
            "DEBUG:matplotlib.font_manager:findfont: score(FontEntry(fname='C:\\\\Windows\\\\Fonts\\\\counb___.ttf', name='CountryBlueprint', style='normal', variant='normal', weight=400, stretch='normal', size='scalable')) = 10.05\n",
            "DEBUG:matplotlib.font_manager:findfont: score(FontEntry(fname='C:\\\\Windows\\\\Fonts\\\\ZWAdobeF.TTF', name='ZWAdobeF', style='normal', variant='normal', weight=400, stretch='normal', size='scalable')) = 10.05\n",
            "DEBUG:matplotlib.font_manager:findfont: score(FontEntry(fname='C:\\\\Windows\\\\Fonts\\\\seguisym.ttf', name='Segoe UI Symbol', style='normal', variant='normal', weight=400, stretch='normal', size='scalable')) = 10.05\n",
            "DEBUG:matplotlib.font_manager:findfont: score(FontEntry(fname='C:\\\\Windows\\\\Fonts\\\\isocteur.ttf', name='ISOCTEUR', style='normal', variant='normal', weight=400, stretch='normal', size='scalable')) = 10.05\n",
            "DEBUG:matplotlib.font_manager:findfont: score(FontEntry(fname='C:\\\\Windows\\\\Fonts\\\\dutch.ttf', name='Dutch801 Rm BT', style='normal', variant='normal', weight=400, stretch='normal', size='scalable')) = 10.05\n",
            "DEBUG:matplotlib.font_manager:findfont: score(FontEntry(fname='C:\\\\Windows\\\\Fonts\\\\wingding.ttf', name='Wingdings', style='normal', variant='normal', weight=400, stretch='normal', size='scalable')) = 10.05\n",
            "DEBUG:matplotlib.font_manager:findfont: score(FontEntry(fname='C:\\\\Windows\\\\Fonts\\\\HTOWERTI.TTF', name='High Tower Text', style='italic', variant='normal', weight=400, stretch='normal', size='scalable')) = 11.05\n",
            "DEBUG:matplotlib.font_manager:findfont: score(FontEntry(fname='C:\\\\Windows\\\\Fonts\\\\Clarendon BT Bold.ttf', name='Clarendon BT', style='normal', variant='normal', weight=700, stretch='normal', size='scalable')) = 10.335\n",
            "DEBUG:matplotlib.font_manager:findfont: score(FontEntry(fname='C:\\\\Windows\\\\Fonts\\\\romant__.ttf', name='RomanT', style='normal', variant='normal', weight=400, stretch='normal', size='scalable')) = 10.05\n",
            "DEBUG:matplotlib.font_manager:findfont: score(FontEntry(fname='C:\\\\Windows\\\\Fonts\\\\BSSYM7.TTF', name='Bookshelf Symbol 7', style='normal', variant='normal', weight=400, stretch='normal', size='scalable')) = 10.05\n",
            "DEBUG:matplotlib.font_manager:findfont: score(FontEntry(fname='C:\\\\Windows\\\\Fonts\\\\PER_____.TTF', name='Perpetua', style='normal', variant='normal', weight=400, stretch='normal', size='scalable')) = 10.05\n",
            "DEBUG:matplotlib.font_manager:findfont: score(FontEntry(fname='C:\\\\Windows\\\\Fonts\\\\LBRITED.TTF', name='Lucida Bright', style='normal', variant='normal', weight=600, stretch='normal', size='scalable')) = 10.24\n",
            "DEBUG:matplotlib.font_manager:findfont: score(FontEntry(fname='C:\\\\Windows\\\\Fonts\\\\LEELAWAD.TTF', name='Leelawadee', style='normal', variant='normal', weight=400, stretch='normal', size='scalable')) = 10.05\n",
            "DEBUG:matplotlib.font_manager:findfont: score(FontEntry(fname='C:\\\\Windows\\\\Fonts\\\\Humanst521 Lt BT Light.ttf', name='Humanst521 Lt BT', style='normal', variant='normal', weight=400, stretch='normal', size='scalable')) = 10.05\n",
            "DEBUG:matplotlib.font_manager:findfont: score(FontEntry(fname='C:\\\\Windows\\\\Fonts\\\\palai.ttf', name='Palatino Linotype', style='italic', variant='normal', weight=400, stretch='normal', size='scalable')) = 11.05\n",
            "DEBUG:matplotlib.font_manager:findfont: score(FontEntry(fname='C:\\\\Windows\\\\Fonts\\\\times.ttf', name='Times New Roman', style='normal', variant='normal', weight=400, stretch='normal', size='scalable')) = 10.05\n",
            "DEBUG:matplotlib.font_manager:findfont: score(FontEntry(fname='C:\\\\Windows\\\\Fonts\\\\isoct3__.ttf', name='ISOCT3', style='normal', variant='normal', weight=400, stretch='normal', size='scalable')) = 10.05\n",
            "DEBUG:matplotlib.font_manager:findfont: score(FontEntry(fname='C:\\\\Windows\\\\Fonts\\\\BOOKOSBI.TTF', name='Bookman Old Style', style='italic', variant='normal', weight=600, stretch='normal', size='scalable')) = 11.24\n",
            "DEBUG:matplotlib.font_manager:findfont: score(FontEntry(fname='C:\\\\Windows\\\\Fonts\\\\LFAXI.TTF', name='Lucida Fax', style='italic', variant='normal', weight=400, stretch='normal', size='scalable')) = 11.05\n",
            "DEBUG:matplotlib.font_manager:findfont: score(FontEntry(fname='C:\\\\Windows\\\\Fonts\\\\GOUDOSI.TTF', name='Goudy Old Style', style='italic', variant='normal', weight=400, stretch='normal', size='scalable')) = 11.05\n",
            "DEBUG:matplotlib.font_manager:findfont: score(FontEntry(fname='C:\\\\Windows\\\\Fonts\\\\trebucit.ttf', name='Trebuchet MS', style='italic', variant='normal', weight=400, stretch='normal', size='scalable')) = 11.05\n",
            "DEBUG:matplotlib.font_manager:findfont: score(FontEntry(fname='C:\\\\Windows\\\\Fonts\\\\Swis721 Hv BT Heavy.ttf', name='Swis721 Hv BT', style='normal', variant='normal', weight=400, stretch='normal', size='scalable')) = 10.05\n",
            "DEBUG:matplotlib.font_manager:findfont: score(FontEntry(fname='C:\\\\Windows\\\\Fonts\\\\GeoSlab703 MdCn BT Bold.ttf', name='GeoSlab703 MdCn BT', style='normal', variant='normal', weight=700, stretch='normal', size='scalable')) = 10.335\n",
            "DEBUG:matplotlib.font_manager:findfont: score(FontEntry(fname='C:\\\\Windows\\\\Fonts\\\\GOTHICBI.TTF', name='Century Gothic', style='italic', variant='normal', weight=700, stretch='normal', size='scalable')) = 11.335\n",
            "DEBUG:matplotlib.font_manager:findfont: score(FontEntry(fname='C:\\\\Windows\\\\Fonts\\\\BAUHS93.TTF', name='Bauhaus 93', style='normal', variant='normal', weight=400, stretch='normal', size='scalable')) = 10.05\n",
            "DEBUG:matplotlib.font_manager:findfont: score(FontEntry(fname='C:\\\\Windows\\\\Fonts\\\\Century725 Cn BT.ttf', name='Century725 Cn BT', style='normal', variant='normal', weight=400, stretch='normal', size='scalable')) = 10.05\n",
            "DEBUG:matplotlib.font_manager:findfont: score(FontEntry(fname='C:\\\\Windows\\\\Fonts\\\\msyh.ttc', name='Microsoft YaHei', style='normal', variant='normal', weight=400, stretch='normal', size='scalable')) = 10.05\n",
            "DEBUG:matplotlib.font_manager:findfont: score(FontEntry(fname='C:\\\\Windows\\\\Fonts\\\\BERNHC.TTF', name='Bernard MT Condensed', style='normal', variant='normal', weight=400, stretch='condensed', size='scalable')) = 10.25\n",
            "DEBUG:matplotlib.font_manager:findfont: score(FontEntry(fname='C:\\\\Windows\\\\Fonts\\\\techl___.ttf', name='TechnicLite', style='normal', variant='normal', weight=400, stretch='normal', size='scalable')) = 10.05\n",
            "DEBUG:matplotlib.font_manager:findfont: score(FontEntry(fname='C:\\\\Windows\\\\Fonts\\\\COOPBL.TTF', name='Cooper Black', style='normal', variant='normal', weight=400, stretch='normal', size='scalable')) = 10.05\n",
            "DEBUG:matplotlib.font_manager:findfont: score(FontEntry(fname='C:\\\\Windows\\\\Fonts\\\\segoescb.ttf', name='Segoe Script', style='normal', variant='normal', weight=700, stretch='normal', size='scalable')) = 10.335\n",
            "DEBUG:matplotlib.font_manager:findfont: score(FontEntry(fname='C:\\\\Windows\\\\Fonts\\\\arial.ttf', name='Arial', style='normal', variant='normal', weight=400, stretch='normal', size='scalable')) = 6.413636363636363\n",
            "DEBUG:matplotlib.font_manager:findfont: score(FontEntry(fname='C:\\\\Windows\\\\Fonts\\\\MATURASC.TTF', name='Matura MT Script Capitals', style='normal', variant='normal', weight=400, stretch='normal', size='scalable')) = 10.05\n",
            "DEBUG:matplotlib.font_manager:findfont: score(FontEntry(fname='C:\\\\Windows\\\\Fonts\\\\WINGDNG3.TTF', name='Wingdings 3', style='normal', variant='normal', weight=400, stretch='normal', size='scalable')) = 10.05\n",
            "DEBUG:matplotlib.font_manager:findfont: score(FontEntry(fname='C:\\\\Windows\\\\Fonts\\\\AMGDT___.ttf', name='AMGDT', style='normal', variant='normal', weight=400, stretch='normal', size='scalable')) = 10.05\n",
            "DEBUG:matplotlib.font_manager:findfont: score(FontEntry(fname='C:\\\\Windows\\\\Fonts\\\\swissc.ttf', name='Swis721 Cn BT', style='normal', variant='normal', weight=400, stretch='condensed', size='scalable')) = 10.25\n",
            "DEBUG:matplotlib.font_manager:findfont: score(FontEntry(fname='C:\\\\Windows\\\\Fonts\\\\swissel.ttf', name='Swis721 LtEx BT', style='normal', variant='normal', weight=400, stretch='expanded', size='scalable')) = 10.25\n",
            "DEBUG:matplotlib.font_manager:findfont: score(FontEntry(fname='C:\\\\Windows\\\\Fonts\\\\mmrtext.ttf', name='Myanmar Text', style='normal', variant='normal', weight=400, stretch='normal', size='scalable')) = 10.05\n",
            "DEBUG:matplotlib.font_manager:findfont: score(FontEntry(fname='C:\\\\Windows\\\\Fonts\\\\georgiai.ttf', name='Georgia', style='italic', variant='normal', weight=400, stretch='normal', size='scalable')) = 11.05\n",
            "DEBUG:matplotlib.font_manager:findfont: score(FontEntry(fname='C:\\\\Windows\\\\Fonts\\\\IMPRISHA.TTF', name='Imprint MT Shadow', style='normal', variant='normal', weight=400, stretch='normal', size='scalable')) = 10.05\n",
            "DEBUG:matplotlib.font_manager:findfont: score(FontEntry(fname='C:\\\\Windows\\\\Fonts\\\\CHILLER.TTF', name='Chiller', style='normal', variant='normal', weight=400, stretch='normal', size='scalable')) = 10.05\n",
            "DEBUG:matplotlib.font_manager:findfont: score(FontEntry(fname='C:\\\\Windows\\\\Fonts\\\\swisscki.ttf', name='Swis721 BlkCn BT', style='italic', variant='normal', weight=400, stretch='condensed', size='scalable')) = 11.25\n",
            "DEBUG:matplotlib.font_manager:findfont: score(FontEntry(fname='C:\\\\Windows\\\\Fonts\\\\OUTLOOK.TTF', name='MS Outlook', style='normal', variant='normal', weight=400, stretch='normal', size='scalable')) = 10.05\n",
            "DEBUG:matplotlib.font_manager:findfont: score(FontEntry(fname='C:\\\\Windows\\\\Fonts\\\\WINGDNG2.TTF', name='Wingdings 2', style='normal', variant='normal', weight=400, stretch='normal', size='scalable')) = 10.05\n",
            "DEBUG:matplotlib.font_manager:findfont: score(FontEntry(fname='C:\\\\Windows\\\\Fonts\\\\framd.ttf', name='Franklin Gothic Medium', style='normal', variant='normal', weight=400, stretch='normal', size='scalable')) = 10.05\n",
            "DEBUG:matplotlib.font_manager:findfont: score(FontEntry(fname='C:\\\\Windows\\\\Fonts\\\\CENSCBK.TTF', name='Century Schoolbook', style='normal', variant='normal', weight=400, stretch='normal', size='scalable')) = 10.05\n",
            "DEBUG:matplotlib.font_manager:findfont: score(FontEntry(fname='C:\\\\Windows\\\\Fonts\\\\Square721 Cn BT Bold.ttf', name='Square721 Cn BT', style='normal', variant='normal', weight=700, stretch='normal', size='scalable')) = 10.335\n",
            "DEBUG:matplotlib.font_manager:findfont: score(FontEntry(fname='C:\\\\Windows\\\\Fonts\\\\GeoSlab703 MdCn BT Medium.ttf', name='GeoSlab703 MdCn BT', style='normal', variant='normal', weight=400, stretch='normal', size='scalable')) = 10.05\n",
            "DEBUG:matplotlib.font_manager:findfont: score(FontEntry(fname='C:\\\\Windows\\\\Fonts\\\\eurro___.ttf', name='EuroRoman', style='oblique', variant='normal', weight=400, stretch='normal', size='scalable')) = 11.05\n",
            "DEBUG:matplotlib.font_manager:findfont: score(FontEntry(fname='C:\\\\Windows\\\\Fonts\\\\impact.ttf', name='Impact', style='normal', variant='normal', weight=400, stretch='normal', size='scalable')) = 10.05\n",
            "DEBUG:matplotlib.font_manager:findfont: score(FontEntry(fname='C:\\\\Windows\\\\Fonts\\\\YuGothM.ttc', name='Yu Gothic', style='normal', variant='normal', weight=500, stretch='normal', size='scalable')) = 10.145\n",
            "DEBUG:matplotlib.font_manager:findfont: score(FontEntry(fname='C:\\\\Windows\\\\Fonts\\\\Square721 Cn BT Roman.ttf', name='Square721 Cn BT', style='normal', variant='normal', weight=400, stretch='normal', size='scalable')) = 10.05\n",
            "DEBUG:matplotlib.font_manager:findfont: score(FontEntry(fname='C:\\\\Windows\\\\Fonts\\\\YuGothB.ttc', name='Yu Gothic', style='normal', variant='normal', weight=700, stretch='normal', size='scalable')) = 10.335\n",
            "DEBUG:matplotlib.font_manager:findfont: score(FontEntry(fname='C:\\\\Windows\\\\Fonts\\\\NewsGoth BT Roman.ttf', name='NewsGoth BT', style='normal', variant='normal', weight=400, stretch='normal', size='scalable')) = 10.05\n",
            "DEBUG:matplotlib.font_manager:findfont: score(FontEntry(fname='C:\\\\Windows\\\\Fonts\\\\monosb.ttf', name='Monospac821 BT', style='normal', variant='normal', weight=700, stretch='normal', size='scalable')) = 10.335\n",
            "DEBUG:matplotlib.font_manager:findfont: score(FontEntry(fname='C:\\\\Windows\\\\Fonts\\\\OCRAEXT.TTF', name='OCR A Extended', style='normal', variant='normal', weight=400, stretch='expanded', size='scalable')) = 10.25\n",
            "DEBUG:matplotlib.font_manager:findfont: score(FontEntry(fname='C:\\\\Windows\\\\Fonts\\\\sylfaen.ttf', name='Sylfaen', style='normal', variant='normal', weight=400, stretch='normal', size='scalable')) = 10.05\n",
            "DEBUG:matplotlib.font_manager:findfont: score(FontEntry(fname='C:\\\\Windows\\\\Fonts\\\\PERTIBD.TTF', name='Perpetua Titling MT', style='normal', variant='normal', weight=700, stretch='normal', size='scalable')) = 10.335\n",
            "DEBUG:matplotlib.font_manager:findfont: score(FontEntry(fname='C:\\\\Windows\\\\Fonts\\\\Humanst521 Lt BT Light Italic.ttf', name='Humanst521 Lt BT', style='italic', variant='normal', weight=400, stretch='normal', size='scalable')) = 11.05\n",
            "DEBUG:matplotlib.font_manager:findfont: score(FontEntry(fname='C:\\\\Windows\\\\Fonts\\\\ALGER.TTF', name='Algerian', style='normal', variant='normal', weight=400, stretch='normal', size='scalable')) = 10.05\n",
            "DEBUG:matplotlib.font_manager:findfont: score(FontEntry(fname='C:\\\\Windows\\\\Fonts\\\\Futura Md BT Medium.ttf', name='Futura Md BT', style='normal', variant='normal', weight=400, stretch='normal', size='scalable')) = 10.05\n",
            "DEBUG:matplotlib.font_manager:findfont: score(FontEntry(fname='C:\\\\Windows\\\\Fonts\\\\VLADIMIR.TTF', name='Vladimir Script', style='normal', variant='normal', weight=400, stretch='normal', size='scalable')) = 10.05\n",
            "DEBUG:matplotlib.font_manager:findfont: score(FontEntry(fname='C:\\\\Windows\\\\Fonts\\\\verdanab.ttf', name='Verdana', style='normal', variant='normal', weight=700, stretch='normal', size='scalable')) = 3.9713636363636367\n",
            "DEBUG:matplotlib.font_manager:findfont: score(FontEntry(fname='C:\\\\Windows\\\\Fonts\\\\swisscl.ttf', name='Swis721 LtCn BT', style='normal', variant='normal', weight=400, stretch='condensed', size='scalable')) = 10.25\n",
            "DEBUG:matplotlib.font_manager:findfont: score(FontEntry(fname='C:\\\\Windows\\\\Fonts\\\\STENCIL.TTF', name='Stencil', style='normal', variant='normal', weight=400, stretch='normal', size='scalable')) = 10.05\n",
            "DEBUG:matplotlib.font_manager:findfont: score(FontEntry(fname='C:\\\\Windows\\\\Fonts\\\\BRADHITC.TTF', name='Bradley Hand ITC', style='normal', variant='normal', weight=400, stretch='normal', size='scalable')) = 10.05\n",
            "DEBUG:matplotlib.font_manager:findfont: score(FontEntry(fname='C:\\\\Windows\\\\Fonts\\\\mtproxy4.ttf', name='Proxy 4', style='normal', variant='normal', weight=400, stretch='normal', size='scalable')) = 10.05\n",
            "DEBUG:matplotlib.font_manager:findfont: score(FontEntry(fname='C:\\\\Windows\\\\Fonts\\\\trebuc.ttf', name='Trebuchet MS', style='normal', variant='normal', weight=400, stretch='normal', size='scalable')) = 10.05\n",
            "DEBUG:matplotlib.font_manager:findfont: score(FontEntry(fname='C:\\\\Windows\\\\Fonts\\\\seguisb.ttf', name='Segoe UI', style='normal', variant='normal', weight=600, stretch='normal', size='scalable')) = 10.24\n",
            "DEBUG:matplotlib.font_manager:findfont: score(FontEntry(fname='C:\\\\Windows\\\\Fonts\\\\Exotc350 DmBd BT Demi-Bold.ttf', name='Exotc350 DmBd BT', style='normal', variant='normal', weight=400, stretch='normal', size='scalable')) = 10.05\n",
            "DEBUG:matplotlib.font_manager:findfont: score(FontEntry(fname='C:\\\\Windows\\\\Fonts\\\\GIL_____.TTF', name='Gill Sans MT', style='normal', variant='normal', weight=400, stretch='normal', size='scalable')) = 10.05\n",
            "DEBUG:matplotlib.font_manager:findfont: score(FontEntry(fname='C:\\\\Windows\\\\Fonts\\\\Swis721 BT Bold.ttf', name='Swis721 BT', style='normal', variant='normal', weight=700, stretch='normal', size='scalable')) = 10.335\n",
            "DEBUG:matplotlib.font_manager:findfont: score(FontEntry(fname='C:\\\\Windows\\\\Fonts\\\\GILB____.TTF', name='Gill Sans MT', style='normal', variant='normal', weight=700, stretch='normal', size='scalable')) = 10.335\n",
            "DEBUG:matplotlib.font_manager:findfont: score(FontEntry(fname='C:\\\\Windows\\\\Fonts\\\\mtproxy1.ttf', name='Proxy 1', style='normal', variant='normal', weight=400, stretch='normal', size='scalable')) = 10.05\n",
            "DEBUG:matplotlib.font_manager:findfont: score(FontEntry(fname='C:\\\\Windows\\\\Fonts\\\\ARIALNI.TTF', name='Arial', style='italic', variant='normal', weight=400, stretch='condensed', size='scalable')) = 7.613636363636363\n",
            "DEBUG:matplotlib.font_manager:findfont: score(FontEntry(fname='C:\\\\Windows\\\\Fonts\\\\swisscb.ttf', name='Swis721 Cn BT', style='normal', variant='normal', weight=700, stretch='condensed', size='scalable')) = 10.535\n",
            "DEBUG:matplotlib.font_manager:findfont: score(FontEntry(fname='C:\\\\Windows\\\\Fonts\\\\Exotc350 Bd BT Bold.ttf', name='Exotc350 Bd BT', style='normal', variant='normal', weight=400, stretch='normal', size='scalable')) = 10.05\n",
            "DEBUG:matplotlib.font_manager:findfont: Matching sans\\-serif:style=normal:variant=normal:weight=normal:stretch=normal:size=12.0 to DejaVu Sans ('c:\\\\Users\\\\USUARIO\\\\anaconda3\\\\envs\\\\torch\\\\Lib\\\\site-packages\\\\matplotlib\\\\mpl-data\\\\fonts\\\\ttf\\\\DejaVuSans.ttf') with score of 0.050000.\n"
          ]
        }
      ],
      "source": [
        "# Plot loss history\n",
        "plt.figure(figsize=(10, 5))\n",
        "plt.plot(loss_history, label='Training Loss')\n",
        "plt.xlabel('Epochs')\n",
        "plt.ylabel('Loss')\n",
        "plt.title('Training Loss History')\n",
        "plt.legend()\n",
        "plt.savefig('cnn_vae/loss_history.png')\n",
        "plt.close()"
      ]
    },
    {
      "cell_type": "code",
      "execution_count": 10,
      "metadata": {
        "id": "X0KlWI26pysb"
      },
      "outputs": [
        {
          "name": "stdout",
          "output_type": "stream",
          "text": [
            "Model saved to 'cnn_vae_model.pth'\n"
          ]
        }
      ],
      "source": [
        "# Save the model's state dictionary\n",
        "torch.save(vae.state_dict(), 'cnn_vae/cnn_vae_model.pth')\n",
        "print(\"Model saved to 'cnn_vae_model.pth'\")"
      ]
    },
    {
      "cell_type": "code",
      "execution_count": 11,
      "metadata": {},
      "outputs": [
        {
          "name": "stdout",
          "output_type": "stream",
          "text": [
            "Model loaded from 'cnn_vae_model.pth'\n"
          ]
        }
      ],
      "source": [
        "# Load the model's state dictionary\n",
        "vae = ConvVAE(in_channels=2, latent_dim=latent_dim, img_height=img_height, img_width=img_width, device=device).to(device)\n",
        "vae.load_state_dict(torch.load('cnn_vae/cnn_vae_model.pth'))\n",
        "vae.eval()\n",
        "print(\"Model loaded from 'cnn_vae_model.pth'\")\n",
        "\n",
        "# Generate images using the loaded model\n",
        "num_samples = 5\n",
        "generated_images = vae.generate_images(num_samples)"
      ]
    },
    {
      "cell_type": "code",
      "execution_count": 12,
      "metadata": {},
      "outputs": [
        {
          "name": "stdout",
          "output_type": "stream",
          "text": [
            "original shape:(129, 10329)\n"
          ]
        },
        {
          "name": "stderr",
          "output_type": "stream",
          "text": [
            "C:\\Users\\USUARIO\\AppData\\Local\\Temp\\ipykernel_24464\\1835819452.py:39: DeprecationWarning: `interp2d` is deprecated in SciPy 1.10 and will be removed in SciPy 1.14.0.\n",
            "\n",
            "For legacy code, nearly bug-for-bug compatible replacements are\n",
            "`RectBivariateSpline` on regular grids, and `bisplrep`/`bisplev` for\n",
            "scattered 2D data.\n",
            "\n",
            "In new code, for regular grids use `RegularGridInterpolator` instead.\n",
            "For scattered data, prefer `LinearNDInterpolator` or\n",
            "`CloughTocher2DInterpolator`.\n",
            "\n",
            "For more details see\n",
            "`https://scipy.github.io/devdocs/notebooks/interp_transition_guide.html`\n",
            "\n",
            "  magnitude_interp = interp2d(x, y, magnitude[:, :, 0], kind='cubic')\n",
            "C:\\Users\\USUARIO\\AppData\\Local\\Temp\\ipykernel_24464\\1835819452.py:40: DeprecationWarning: `interp2d` is deprecated in SciPy 1.10 and will be removed in SciPy 1.14.0.\n",
            "\n",
            "For legacy code, nearly bug-for-bug compatible replacements are\n",
            "`RectBivariateSpline` on regular grids, and `bisplrep`/`bisplev` for\n",
            "scattered 2D data.\n",
            "\n",
            "In new code, for regular grids use `RegularGridInterpolator` instead.\n",
            "For scattered data, prefer `LinearNDInterpolator` or\n",
            "`CloughTocher2DInterpolator`.\n",
            "\n",
            "For more details see\n",
            "`https://scipy.github.io/devdocs/notebooks/interp_transition_guide.html`\n",
            "\n",
            "  phase_interp = interp2d(x, y, phase[:, :, 0], kind='cubic')\n",
            "C:\\Users\\USUARIO\\AppData\\Local\\Temp\\ipykernel_24464\\1835819452.py:45: DeprecationWarning: `interp2d` is deprecated in SciPy 1.10 and will be removed in SciPy 1.14.0.\n",
            "\n",
            "For legacy code, nearly bug-for-bug compatible replacements are\n",
            "`RectBivariateSpline` on regular grids, and `bisplrep`/`bisplev` for\n",
            "scattered 2D data.\n",
            "\n",
            "In new code, for regular grids use `RegularGridInterpolator` instead.\n",
            "For scattered data, prefer `LinearNDInterpolator` or\n",
            "`CloughTocher2DInterpolator`.\n",
            "\n",
            "For more details see\n",
            "`https://scipy.github.io/devdocs/notebooks/interp_transition_guide.html`\n",
            "\n",
            "  magnitude_rescaled = magnitude_interp(new_x, new_y)\n",
            "C:\\Users\\USUARIO\\AppData\\Local\\Temp\\ipykernel_24464\\1835819452.py:46: DeprecationWarning: `interp2d` is deprecated in SciPy 1.10 and will be removed in SciPy 1.14.0.\n",
            "\n",
            "For legacy code, nearly bug-for-bug compatible replacements are\n",
            "`RectBivariateSpline` on regular grids, and `bisplrep`/`bisplev` for\n",
            "scattered 2D data.\n",
            "\n",
            "In new code, for regular grids use `RegularGridInterpolator` instead.\n",
            "For scattered data, prefer `LinearNDInterpolator` or\n",
            "`CloughTocher2DInterpolator`.\n",
            "\n",
            "For more details see\n",
            "`https://scipy.github.io/devdocs/notebooks/interp_transition_guide.html`\n",
            "\n",
            "  phase_rescaled = phase_interp(new_x, new_y)\n",
            "C:\\Users\\USUARIO\\AppData\\Local\\Temp\\ipykernel_24464\\1835819452.py:39: DeprecationWarning: `interp2d` is deprecated in SciPy 1.10 and will be removed in SciPy 1.14.0.\n",
            "\n",
            "For legacy code, nearly bug-for-bug compatible replacements are\n",
            "`RectBivariateSpline` on regular grids, and `bisplrep`/`bisplev` for\n",
            "scattered 2D data.\n",
            "\n",
            "In new code, for regular grids use `RegularGridInterpolator` instead.\n",
            "For scattered data, prefer `LinearNDInterpolator` or\n",
            "`CloughTocher2DInterpolator`.\n",
            "\n",
            "For more details see\n",
            "`https://scipy.github.io/devdocs/notebooks/interp_transition_guide.html`\n",
            "\n",
            "  magnitude_interp = interp2d(x, y, magnitude[:, :, 0], kind='cubic')\n",
            "C:\\Users\\USUARIO\\AppData\\Local\\Temp\\ipykernel_24464\\1835819452.py:40: DeprecationWarning: `interp2d` is deprecated in SciPy 1.10 and will be removed in SciPy 1.14.0.\n",
            "\n",
            "For legacy code, nearly bug-for-bug compatible replacements are\n",
            "`RectBivariateSpline` on regular grids, and `bisplrep`/`bisplev` for\n",
            "scattered 2D data.\n",
            "\n",
            "In new code, for regular grids use `RegularGridInterpolator` instead.\n",
            "For scattered data, prefer `LinearNDInterpolator` or\n",
            "`CloughTocher2DInterpolator`.\n",
            "\n",
            "For more details see\n",
            "`https://scipy.github.io/devdocs/notebooks/interp_transition_guide.html`\n",
            "\n",
            "  phase_interp = interp2d(x, y, phase[:, :, 0], kind='cubic')\n",
            "C:\\Users\\USUARIO\\AppData\\Local\\Temp\\ipykernel_24464\\1835819452.py:45: DeprecationWarning: `interp2d` is deprecated in SciPy 1.10 and will be removed in SciPy 1.14.0.\n",
            "\n",
            "For legacy code, nearly bug-for-bug compatible replacements are\n",
            "`RectBivariateSpline` on regular grids, and `bisplrep`/`bisplev` for\n",
            "scattered 2D data.\n",
            "\n",
            "In new code, for regular grids use `RegularGridInterpolator` instead.\n",
            "For scattered data, prefer `LinearNDInterpolator` or\n",
            "`CloughTocher2DInterpolator`.\n",
            "\n",
            "For more details see\n",
            "`https://scipy.github.io/devdocs/notebooks/interp_transition_guide.html`\n",
            "\n",
            "  magnitude_rescaled = magnitude_interp(new_x, new_y)\n",
            "C:\\Users\\USUARIO\\AppData\\Local\\Temp\\ipykernel_24464\\1835819452.py:46: DeprecationWarning: `interp2d` is deprecated in SciPy 1.10 and will be removed in SciPy 1.14.0.\n",
            "\n",
            "For legacy code, nearly bug-for-bug compatible replacements are\n",
            "`RectBivariateSpline` on regular grids, and `bisplrep`/`bisplev` for\n",
            "scattered 2D data.\n",
            "\n",
            "In new code, for regular grids use `RegularGridInterpolator` instead.\n",
            "For scattered data, prefer `LinearNDInterpolator` or\n",
            "`CloughTocher2DInterpolator`.\n",
            "\n",
            "For more details see\n",
            "`https://scipy.github.io/devdocs/notebooks/interp_transition_guide.html`\n",
            "\n",
            "  phase_rescaled = phase_interp(new_x, new_y)\n",
            "C:\\Users\\USUARIO\\AppData\\Local\\Temp\\ipykernel_24464\\1835819452.py:39: DeprecationWarning: `interp2d` is deprecated in SciPy 1.10 and will be removed in SciPy 1.14.0.\n",
            "\n",
            "For legacy code, nearly bug-for-bug compatible replacements are\n",
            "`RectBivariateSpline` on regular grids, and `bisplrep`/`bisplev` for\n",
            "scattered 2D data.\n",
            "\n",
            "In new code, for regular grids use `RegularGridInterpolator` instead.\n",
            "For scattered data, prefer `LinearNDInterpolator` or\n",
            "`CloughTocher2DInterpolator`.\n",
            "\n",
            "For more details see\n",
            "`https://scipy.github.io/devdocs/notebooks/interp_transition_guide.html`\n",
            "\n",
            "  magnitude_interp = interp2d(x, y, magnitude[:, :, 0], kind='cubic')\n",
            "C:\\Users\\USUARIO\\AppData\\Local\\Temp\\ipykernel_24464\\1835819452.py:40: DeprecationWarning: `interp2d` is deprecated in SciPy 1.10 and will be removed in SciPy 1.14.0.\n",
            "\n",
            "For legacy code, nearly bug-for-bug compatible replacements are\n",
            "`RectBivariateSpline` on regular grids, and `bisplrep`/`bisplev` for\n",
            "scattered 2D data.\n",
            "\n",
            "In new code, for regular grids use `RegularGridInterpolator` instead.\n",
            "For scattered data, prefer `LinearNDInterpolator` or\n",
            "`CloughTocher2DInterpolator`.\n",
            "\n",
            "For more details see\n",
            "`https://scipy.github.io/devdocs/notebooks/interp_transition_guide.html`\n",
            "\n",
            "  phase_interp = interp2d(x, y, phase[:, :, 0], kind='cubic')\n",
            "C:\\Users\\USUARIO\\AppData\\Local\\Temp\\ipykernel_24464\\1835819452.py:45: DeprecationWarning: `interp2d` is deprecated in SciPy 1.10 and will be removed in SciPy 1.14.0.\n",
            "\n",
            "For legacy code, nearly bug-for-bug compatible replacements are\n",
            "`RectBivariateSpline` on regular grids, and `bisplrep`/`bisplev` for\n",
            "scattered 2D data.\n",
            "\n",
            "In new code, for regular grids use `RegularGridInterpolator` instead.\n",
            "For scattered data, prefer `LinearNDInterpolator` or\n",
            "`CloughTocher2DInterpolator`.\n",
            "\n",
            "For more details see\n",
            "`https://scipy.github.io/devdocs/notebooks/interp_transition_guide.html`\n",
            "\n",
            "  magnitude_rescaled = magnitude_interp(new_x, new_y)\n",
            "C:\\Users\\USUARIO\\AppData\\Local\\Temp\\ipykernel_24464\\1835819452.py:46: DeprecationWarning: `interp2d` is deprecated in SciPy 1.10 and will be removed in SciPy 1.14.0.\n",
            "\n",
            "For legacy code, nearly bug-for-bug compatible replacements are\n",
            "`RectBivariateSpline` on regular grids, and `bisplrep`/`bisplev` for\n",
            "scattered 2D data.\n",
            "\n",
            "In new code, for regular grids use `RegularGridInterpolator` instead.\n",
            "For scattered data, prefer `LinearNDInterpolator` or\n",
            "`CloughTocher2DInterpolator`.\n",
            "\n",
            "For more details see\n",
            "`https://scipy.github.io/devdocs/notebooks/interp_transition_guide.html`\n",
            "\n",
            "  phase_rescaled = phase_interp(new_x, new_y)\n",
            "C:\\Users\\USUARIO\\AppData\\Local\\Temp\\ipykernel_24464\\1835819452.py:39: DeprecationWarning: `interp2d` is deprecated in SciPy 1.10 and will be removed in SciPy 1.14.0.\n",
            "\n",
            "For legacy code, nearly bug-for-bug compatible replacements are\n",
            "`RectBivariateSpline` on regular grids, and `bisplrep`/`bisplev` for\n",
            "scattered 2D data.\n",
            "\n",
            "In new code, for regular grids use `RegularGridInterpolator` instead.\n",
            "For scattered data, prefer `LinearNDInterpolator` or\n",
            "`CloughTocher2DInterpolator`.\n",
            "\n",
            "For more details see\n",
            "`https://scipy.github.io/devdocs/notebooks/interp_transition_guide.html`\n",
            "\n",
            "  magnitude_interp = interp2d(x, y, magnitude[:, :, 0], kind='cubic')\n",
            "C:\\Users\\USUARIO\\AppData\\Local\\Temp\\ipykernel_24464\\1835819452.py:40: DeprecationWarning: `interp2d` is deprecated in SciPy 1.10 and will be removed in SciPy 1.14.0.\n",
            "\n",
            "For legacy code, nearly bug-for-bug compatible replacements are\n",
            "`RectBivariateSpline` on regular grids, and `bisplrep`/`bisplev` for\n",
            "scattered 2D data.\n",
            "\n",
            "In new code, for regular grids use `RegularGridInterpolator` instead.\n",
            "For scattered data, prefer `LinearNDInterpolator` or\n",
            "`CloughTocher2DInterpolator`.\n",
            "\n",
            "For more details see\n",
            "`https://scipy.github.io/devdocs/notebooks/interp_transition_guide.html`\n",
            "\n",
            "  phase_interp = interp2d(x, y, phase[:, :, 0], kind='cubic')\n",
            "C:\\Users\\USUARIO\\AppData\\Local\\Temp\\ipykernel_24464\\1835819452.py:45: DeprecationWarning: `interp2d` is deprecated in SciPy 1.10 and will be removed in SciPy 1.14.0.\n",
            "\n",
            "For legacy code, nearly bug-for-bug compatible replacements are\n",
            "`RectBivariateSpline` on regular grids, and `bisplrep`/`bisplev` for\n",
            "scattered 2D data.\n",
            "\n",
            "In new code, for regular grids use `RegularGridInterpolator` instead.\n",
            "For scattered data, prefer `LinearNDInterpolator` or\n",
            "`CloughTocher2DInterpolator`.\n",
            "\n",
            "For more details see\n",
            "`https://scipy.github.io/devdocs/notebooks/interp_transition_guide.html`\n",
            "\n",
            "  magnitude_rescaled = magnitude_interp(new_x, new_y)\n",
            "C:\\Users\\USUARIO\\AppData\\Local\\Temp\\ipykernel_24464\\1835819452.py:46: DeprecationWarning: `interp2d` is deprecated in SciPy 1.10 and will be removed in SciPy 1.14.0.\n",
            "\n",
            "For legacy code, nearly bug-for-bug compatible replacements are\n",
            "`RectBivariateSpline` on regular grids, and `bisplrep`/`bisplev` for\n",
            "scattered 2D data.\n",
            "\n",
            "In new code, for regular grids use `RegularGridInterpolator` instead.\n",
            "For scattered data, prefer `LinearNDInterpolator` or\n",
            "`CloughTocher2DInterpolator`.\n",
            "\n",
            "For more details see\n",
            "`https://scipy.github.io/devdocs/notebooks/interp_transition_guide.html`\n",
            "\n",
            "  phase_rescaled = phase_interp(new_x, new_y)\n",
            "C:\\Users\\USUARIO\\AppData\\Local\\Temp\\ipykernel_24464\\1835819452.py:39: DeprecationWarning: `interp2d` is deprecated in SciPy 1.10 and will be removed in SciPy 1.14.0.\n",
            "\n",
            "For legacy code, nearly bug-for-bug compatible replacements are\n",
            "`RectBivariateSpline` on regular grids, and `bisplrep`/`bisplev` for\n",
            "scattered 2D data.\n",
            "\n",
            "In new code, for regular grids use `RegularGridInterpolator` instead.\n",
            "For scattered data, prefer `LinearNDInterpolator` or\n",
            "`CloughTocher2DInterpolator`.\n",
            "\n",
            "For more details see\n",
            "`https://scipy.github.io/devdocs/notebooks/interp_transition_guide.html`\n",
            "\n",
            "  magnitude_interp = interp2d(x, y, magnitude[:, :, 0], kind='cubic')\n",
            "C:\\Users\\USUARIO\\AppData\\Local\\Temp\\ipykernel_24464\\1835819452.py:40: DeprecationWarning: `interp2d` is deprecated in SciPy 1.10 and will be removed in SciPy 1.14.0.\n",
            "\n",
            "For legacy code, nearly bug-for-bug compatible replacements are\n",
            "`RectBivariateSpline` on regular grids, and `bisplrep`/`bisplev` for\n",
            "scattered 2D data.\n",
            "\n",
            "In new code, for regular grids use `RegularGridInterpolator` instead.\n",
            "For scattered data, prefer `LinearNDInterpolator` or\n",
            "`CloughTocher2DInterpolator`.\n",
            "\n",
            "For more details see\n",
            "`https://scipy.github.io/devdocs/notebooks/interp_transition_guide.html`\n",
            "\n",
            "  phase_interp = interp2d(x, y, phase[:, :, 0], kind='cubic')\n",
            "C:\\Users\\USUARIO\\AppData\\Local\\Temp\\ipykernel_24464\\1835819452.py:45: DeprecationWarning: `interp2d` is deprecated in SciPy 1.10 and will be removed in SciPy 1.14.0.\n",
            "\n",
            "For legacy code, nearly bug-for-bug compatible replacements are\n",
            "`RectBivariateSpline` on regular grids, and `bisplrep`/`bisplev` for\n",
            "scattered 2D data.\n",
            "\n",
            "In new code, for regular grids use `RegularGridInterpolator` instead.\n",
            "For scattered data, prefer `LinearNDInterpolator` or\n",
            "`CloughTocher2DInterpolator`.\n",
            "\n",
            "For more details see\n",
            "`https://scipy.github.io/devdocs/notebooks/interp_transition_guide.html`\n",
            "\n",
            "  magnitude_rescaled = magnitude_interp(new_x, new_y)\n",
            "C:\\Users\\USUARIO\\AppData\\Local\\Temp\\ipykernel_24464\\1835819452.py:46: DeprecationWarning: `interp2d` is deprecated in SciPy 1.10 and will be removed in SciPy 1.14.0.\n",
            "\n",
            "For legacy code, nearly bug-for-bug compatible replacements are\n",
            "`RectBivariateSpline` on regular grids, and `bisplrep`/`bisplev` for\n",
            "scattered 2D data.\n",
            "\n",
            "In new code, for regular grids use `RegularGridInterpolator` instead.\n",
            "For scattered data, prefer `LinearNDInterpolator` or\n",
            "`CloughTocher2DInterpolator`.\n",
            "\n",
            "For more details see\n",
            "`https://scipy.github.io/devdocs/notebooks/interp_transition_guide.html`\n",
            "\n",
            "  phase_rescaled = phase_interp(new_x, new_y)\n"
          ]
        }
      ],
      "source": [
        "def plot_generated_images(generated_images, scaler, original_shape):\n",
        "    num_images = min(5, generated_images.shape[0])\n",
        "    fig, axs = plt.subplots(2, num_images, figsize=(15, 12))\n",
        "\n",
        "    for i in range(num_images):\n",
        "        gen_mag, gen_phase = denormalize_spectrograms(generated_images[i], scaler, original_shape)\n",
        "\n",
        "        # Ensure that the magnitude and phase are both 2D\n",
        "        if gen_mag.ndim == 3:\n",
        "            gen_mag = gen_mag[:, :, 0]\n",
        "        if gen_phase.ndim == 3:\n",
        "            gen_phase = gen_phase[:, :, 0]\n",
        "\n",
        "        # Plot magnitude\n",
        "        axs[0, i].imshow(gen_mag, aspect='auto', cmap='viridis')\n",
        "        axs[0, i].set_title('Magnitude')\n",
        "        axs[0, i].axis('off')\n",
        "\n",
        "        # Plot phase\n",
        "        axs[1, i].imshow(gen_phase, aspect='auto', cmap='hsv')  # Use 'hsv' for phase to show colors\n",
        "        axs[1, i].set_title('Phase')\n",
        "        axs[1, i].axis('off')\n",
        "\n",
        "    plt.suptitle('Generated Images')\n",
        "    plt.savefig('cnn_vae/generated_images.png')\n",
        "    plt.close()\n",
        "\n",
        "scaler, _ = dataset.scaler, dataset.original_shape\n",
        "original_shape = (129, 10329)\n",
        "print(f\"original shape:{original_shape}\")\n",
        "\n",
        "# Assuming 'generated_images' is available\n",
        "plot_generated_images(generated_images, scaler, original_shape)"
      ]
    },
    {
      "cell_type": "code",
      "execution_count": 13,
      "metadata": {},
      "outputs": [
        {
          "name": "stderr",
          "output_type": "stream",
          "text": [
            "C:\\Users\\USUARIO\\AppData\\Local\\Temp\\ipykernel_24464\\1835819452.py:39: DeprecationWarning: `interp2d` is deprecated in SciPy 1.10 and will be removed in SciPy 1.14.0.\n",
            "\n",
            "For legacy code, nearly bug-for-bug compatible replacements are\n",
            "`RectBivariateSpline` on regular grids, and `bisplrep`/`bisplev` for\n",
            "scattered 2D data.\n",
            "\n",
            "In new code, for regular grids use `RegularGridInterpolator` instead.\n",
            "For scattered data, prefer `LinearNDInterpolator` or\n",
            "`CloughTocher2DInterpolator`.\n",
            "\n",
            "For more details see\n",
            "`https://scipy.github.io/devdocs/notebooks/interp_transition_guide.html`\n",
            "\n",
            "  magnitude_interp = interp2d(x, y, magnitude[:, :, 0], kind='cubic')\n",
            "C:\\Users\\USUARIO\\AppData\\Local\\Temp\\ipykernel_24464\\1835819452.py:40: DeprecationWarning: `interp2d` is deprecated in SciPy 1.10 and will be removed in SciPy 1.14.0.\n",
            "\n",
            "For legacy code, nearly bug-for-bug compatible replacements are\n",
            "`RectBivariateSpline` on regular grids, and `bisplrep`/`bisplev` for\n",
            "scattered 2D data.\n",
            "\n",
            "In new code, for regular grids use `RegularGridInterpolator` instead.\n",
            "For scattered data, prefer `LinearNDInterpolator` or\n",
            "`CloughTocher2DInterpolator`.\n",
            "\n",
            "For more details see\n",
            "`https://scipy.github.io/devdocs/notebooks/interp_transition_guide.html`\n",
            "\n",
            "  phase_interp = interp2d(x, y, phase[:, :, 0], kind='cubic')\n",
            "C:\\Users\\USUARIO\\AppData\\Local\\Temp\\ipykernel_24464\\1835819452.py:45: DeprecationWarning: `interp2d` is deprecated in SciPy 1.10 and will be removed in SciPy 1.14.0.\n",
            "\n",
            "For legacy code, nearly bug-for-bug compatible replacements are\n",
            "`RectBivariateSpline` on regular grids, and `bisplrep`/`bisplev` for\n",
            "scattered 2D data.\n",
            "\n",
            "In new code, for regular grids use `RegularGridInterpolator` instead.\n",
            "For scattered data, prefer `LinearNDInterpolator` or\n",
            "`CloughTocher2DInterpolator`.\n",
            "\n",
            "For more details see\n",
            "`https://scipy.github.io/devdocs/notebooks/interp_transition_guide.html`\n",
            "\n",
            "  magnitude_rescaled = magnitude_interp(new_x, new_y)\n",
            "C:\\Users\\USUARIO\\AppData\\Local\\Temp\\ipykernel_24464\\1835819452.py:46: DeprecationWarning: `interp2d` is deprecated in SciPy 1.10 and will be removed in SciPy 1.14.0.\n",
            "\n",
            "For legacy code, nearly bug-for-bug compatible replacements are\n",
            "`RectBivariateSpline` on regular grids, and `bisplrep`/`bisplev` for\n",
            "scattered 2D data.\n",
            "\n",
            "In new code, for regular grids use `RegularGridInterpolator` instead.\n",
            "For scattered data, prefer `LinearNDInterpolator` or\n",
            "`CloughTocher2DInterpolator`.\n",
            "\n",
            "For more details see\n",
            "`https://scipy.github.io/devdocs/notebooks/interp_transition_guide.html`\n",
            "\n",
            "  phase_rescaled = phase_interp(new_x, new_y)\n",
            "C:\\Users\\USUARIO\\AppData\\Local\\Temp\\ipykernel_24464\\1835819452.py:39: DeprecationWarning: `interp2d` is deprecated in SciPy 1.10 and will be removed in SciPy 1.14.0.\n",
            "\n",
            "For legacy code, nearly bug-for-bug compatible replacements are\n",
            "`RectBivariateSpline` on regular grids, and `bisplrep`/`bisplev` for\n",
            "scattered 2D data.\n",
            "\n",
            "In new code, for regular grids use `RegularGridInterpolator` instead.\n",
            "For scattered data, prefer `LinearNDInterpolator` or\n",
            "`CloughTocher2DInterpolator`.\n",
            "\n",
            "For more details see\n",
            "`https://scipy.github.io/devdocs/notebooks/interp_transition_guide.html`\n",
            "\n",
            "  magnitude_interp = interp2d(x, y, magnitude[:, :, 0], kind='cubic')\n",
            "C:\\Users\\USUARIO\\AppData\\Local\\Temp\\ipykernel_24464\\1835819452.py:40: DeprecationWarning: `interp2d` is deprecated in SciPy 1.10 and will be removed in SciPy 1.14.0.\n",
            "\n",
            "For legacy code, nearly bug-for-bug compatible replacements are\n",
            "`RectBivariateSpline` on regular grids, and `bisplrep`/`bisplev` for\n",
            "scattered 2D data.\n",
            "\n",
            "In new code, for regular grids use `RegularGridInterpolator` instead.\n",
            "For scattered data, prefer `LinearNDInterpolator` or\n",
            "`CloughTocher2DInterpolator`.\n",
            "\n",
            "For more details see\n",
            "`https://scipy.github.io/devdocs/notebooks/interp_transition_guide.html`\n",
            "\n",
            "  phase_interp = interp2d(x, y, phase[:, :, 0], kind='cubic')\n"
          ]
        },
        {
          "name": "stdout",
          "output_type": "stream",
          "text": [
            "Saved magnitude to cnn_vae/generated_spectrograms\\generated_magnitude_0.npy\n",
            "Saved phase to cnn_vae/generated_spectrograms\\generated_phase_0.npy\n",
            "Saved magnitude to cnn_vae/generated_spectrograms\\generated_magnitude_1.npy\n",
            "Saved phase to cnn_vae/generated_spectrograms\\generated_phase_1.npy\n"
          ]
        },
        {
          "name": "stderr",
          "output_type": "stream",
          "text": [
            "C:\\Users\\USUARIO\\AppData\\Local\\Temp\\ipykernel_24464\\1835819452.py:45: DeprecationWarning: `interp2d` is deprecated in SciPy 1.10 and will be removed in SciPy 1.14.0.\n",
            "\n",
            "For legacy code, nearly bug-for-bug compatible replacements are\n",
            "`RectBivariateSpline` on regular grids, and `bisplrep`/`bisplev` for\n",
            "scattered 2D data.\n",
            "\n",
            "In new code, for regular grids use `RegularGridInterpolator` instead.\n",
            "For scattered data, prefer `LinearNDInterpolator` or\n",
            "`CloughTocher2DInterpolator`.\n",
            "\n",
            "For more details see\n",
            "`https://scipy.github.io/devdocs/notebooks/interp_transition_guide.html`\n",
            "\n",
            "  magnitude_rescaled = magnitude_interp(new_x, new_y)\n",
            "C:\\Users\\USUARIO\\AppData\\Local\\Temp\\ipykernel_24464\\1835819452.py:46: DeprecationWarning: `interp2d` is deprecated in SciPy 1.10 and will be removed in SciPy 1.14.0.\n",
            "\n",
            "For legacy code, nearly bug-for-bug compatible replacements are\n",
            "`RectBivariateSpline` on regular grids, and `bisplrep`/`bisplev` for\n",
            "scattered 2D data.\n",
            "\n",
            "In new code, for regular grids use `RegularGridInterpolator` instead.\n",
            "For scattered data, prefer `LinearNDInterpolator` or\n",
            "`CloughTocher2DInterpolator`.\n",
            "\n",
            "For more details see\n",
            "`https://scipy.github.io/devdocs/notebooks/interp_transition_guide.html`\n",
            "\n",
            "  phase_rescaled = phase_interp(new_x, new_y)\n",
            "C:\\Users\\USUARIO\\AppData\\Local\\Temp\\ipykernel_24464\\1835819452.py:39: DeprecationWarning: `interp2d` is deprecated in SciPy 1.10 and will be removed in SciPy 1.14.0.\n",
            "\n",
            "For legacy code, nearly bug-for-bug compatible replacements are\n",
            "`RectBivariateSpline` on regular grids, and `bisplrep`/`bisplev` for\n",
            "scattered 2D data.\n",
            "\n",
            "In new code, for regular grids use `RegularGridInterpolator` instead.\n",
            "For scattered data, prefer `LinearNDInterpolator` or\n",
            "`CloughTocher2DInterpolator`.\n",
            "\n",
            "For more details see\n",
            "`https://scipy.github.io/devdocs/notebooks/interp_transition_guide.html`\n",
            "\n",
            "  magnitude_interp = interp2d(x, y, magnitude[:, :, 0], kind='cubic')\n",
            "C:\\Users\\USUARIO\\AppData\\Local\\Temp\\ipykernel_24464\\1835819452.py:40: DeprecationWarning: `interp2d` is deprecated in SciPy 1.10 and will be removed in SciPy 1.14.0.\n",
            "\n",
            "For legacy code, nearly bug-for-bug compatible replacements are\n",
            "`RectBivariateSpline` on regular grids, and `bisplrep`/`bisplev` for\n",
            "scattered 2D data.\n",
            "\n",
            "In new code, for regular grids use `RegularGridInterpolator` instead.\n",
            "For scattered data, prefer `LinearNDInterpolator` or\n",
            "`CloughTocher2DInterpolator`.\n",
            "\n",
            "For more details see\n",
            "`https://scipy.github.io/devdocs/notebooks/interp_transition_guide.html`\n",
            "\n",
            "  phase_interp = interp2d(x, y, phase[:, :, 0], kind='cubic')\n",
            "C:\\Users\\USUARIO\\AppData\\Local\\Temp\\ipykernel_24464\\1835819452.py:45: DeprecationWarning: `interp2d` is deprecated in SciPy 1.10 and will be removed in SciPy 1.14.0.\n",
            "\n",
            "For legacy code, nearly bug-for-bug compatible replacements are\n",
            "`RectBivariateSpline` on regular grids, and `bisplrep`/`bisplev` for\n",
            "scattered 2D data.\n",
            "\n",
            "In new code, for regular grids use `RegularGridInterpolator` instead.\n",
            "For scattered data, prefer `LinearNDInterpolator` or\n",
            "`CloughTocher2DInterpolator`.\n",
            "\n",
            "For more details see\n",
            "`https://scipy.github.io/devdocs/notebooks/interp_transition_guide.html`\n",
            "\n",
            "  magnitude_rescaled = magnitude_interp(new_x, new_y)\n",
            "C:\\Users\\USUARIO\\AppData\\Local\\Temp\\ipykernel_24464\\1835819452.py:46: DeprecationWarning: `interp2d` is deprecated in SciPy 1.10 and will be removed in SciPy 1.14.0.\n",
            "\n",
            "For legacy code, nearly bug-for-bug compatible replacements are\n",
            "`RectBivariateSpline` on regular grids, and `bisplrep`/`bisplev` for\n",
            "scattered 2D data.\n",
            "\n",
            "In new code, for regular grids use `RegularGridInterpolator` instead.\n",
            "For scattered data, prefer `LinearNDInterpolator` or\n",
            "`CloughTocher2DInterpolator`.\n",
            "\n",
            "For more details see\n",
            "`https://scipy.github.io/devdocs/notebooks/interp_transition_guide.html`\n",
            "\n",
            "  phase_rescaled = phase_interp(new_x, new_y)\n",
            "C:\\Users\\USUARIO\\AppData\\Local\\Temp\\ipykernel_24464\\1835819452.py:39: DeprecationWarning: `interp2d` is deprecated in SciPy 1.10 and will be removed in SciPy 1.14.0.\n",
            "\n",
            "For legacy code, nearly bug-for-bug compatible replacements are\n",
            "`RectBivariateSpline` on regular grids, and `bisplrep`/`bisplev` for\n",
            "scattered 2D data.\n",
            "\n",
            "In new code, for regular grids use `RegularGridInterpolator` instead.\n",
            "For scattered data, prefer `LinearNDInterpolator` or\n",
            "`CloughTocher2DInterpolator`.\n",
            "\n",
            "For more details see\n",
            "`https://scipy.github.io/devdocs/notebooks/interp_transition_guide.html`\n",
            "\n",
            "  magnitude_interp = interp2d(x, y, magnitude[:, :, 0], kind='cubic')\n"
          ]
        },
        {
          "name": "stdout",
          "output_type": "stream",
          "text": [
            "Saved magnitude to cnn_vae/generated_spectrograms\\generated_magnitude_2.npy\n",
            "Saved phase to cnn_vae/generated_spectrograms\\generated_phase_2.npy\n",
            "Saved magnitude to cnn_vae/generated_spectrograms\\generated_magnitude_3.npy\n",
            "Saved phase to cnn_vae/generated_spectrograms\\generated_phase_3.npy\n"
          ]
        },
        {
          "name": "stderr",
          "output_type": "stream",
          "text": [
            "C:\\Users\\USUARIO\\AppData\\Local\\Temp\\ipykernel_24464\\1835819452.py:40: DeprecationWarning: `interp2d` is deprecated in SciPy 1.10 and will be removed in SciPy 1.14.0.\n",
            "\n",
            "For legacy code, nearly bug-for-bug compatible replacements are\n",
            "`RectBivariateSpline` on regular grids, and `bisplrep`/`bisplev` for\n",
            "scattered 2D data.\n",
            "\n",
            "In new code, for regular grids use `RegularGridInterpolator` instead.\n",
            "For scattered data, prefer `LinearNDInterpolator` or\n",
            "`CloughTocher2DInterpolator`.\n",
            "\n",
            "For more details see\n",
            "`https://scipy.github.io/devdocs/notebooks/interp_transition_guide.html`\n",
            "\n",
            "  phase_interp = interp2d(x, y, phase[:, :, 0], kind='cubic')\n",
            "C:\\Users\\USUARIO\\AppData\\Local\\Temp\\ipykernel_24464\\1835819452.py:45: DeprecationWarning: `interp2d` is deprecated in SciPy 1.10 and will be removed in SciPy 1.14.0.\n",
            "\n",
            "For legacy code, nearly bug-for-bug compatible replacements are\n",
            "`RectBivariateSpline` on regular grids, and `bisplrep`/`bisplev` for\n",
            "scattered 2D data.\n",
            "\n",
            "In new code, for regular grids use `RegularGridInterpolator` instead.\n",
            "For scattered data, prefer `LinearNDInterpolator` or\n",
            "`CloughTocher2DInterpolator`.\n",
            "\n",
            "For more details see\n",
            "`https://scipy.github.io/devdocs/notebooks/interp_transition_guide.html`\n",
            "\n",
            "  magnitude_rescaled = magnitude_interp(new_x, new_y)\n",
            "C:\\Users\\USUARIO\\AppData\\Local\\Temp\\ipykernel_24464\\1835819452.py:46: DeprecationWarning: `interp2d` is deprecated in SciPy 1.10 and will be removed in SciPy 1.14.0.\n",
            "\n",
            "For legacy code, nearly bug-for-bug compatible replacements are\n",
            "`RectBivariateSpline` on regular grids, and `bisplrep`/`bisplev` for\n",
            "scattered 2D data.\n",
            "\n",
            "In new code, for regular grids use `RegularGridInterpolator` instead.\n",
            "For scattered data, prefer `LinearNDInterpolator` or\n",
            "`CloughTocher2DInterpolator`.\n",
            "\n",
            "For more details see\n",
            "`https://scipy.github.io/devdocs/notebooks/interp_transition_guide.html`\n",
            "\n",
            "  phase_rescaled = phase_interp(new_x, new_y)\n",
            "C:\\Users\\USUARIO\\AppData\\Local\\Temp\\ipykernel_24464\\1835819452.py:39: DeprecationWarning: `interp2d` is deprecated in SciPy 1.10 and will be removed in SciPy 1.14.0.\n",
            "\n",
            "For legacy code, nearly bug-for-bug compatible replacements are\n",
            "`RectBivariateSpline` on regular grids, and `bisplrep`/`bisplev` for\n",
            "scattered 2D data.\n",
            "\n",
            "In new code, for regular grids use `RegularGridInterpolator` instead.\n",
            "For scattered data, prefer `LinearNDInterpolator` or\n",
            "`CloughTocher2DInterpolator`.\n",
            "\n",
            "For more details see\n",
            "`https://scipy.github.io/devdocs/notebooks/interp_transition_guide.html`\n",
            "\n",
            "  magnitude_interp = interp2d(x, y, magnitude[:, :, 0], kind='cubic')\n",
            "C:\\Users\\USUARIO\\AppData\\Local\\Temp\\ipykernel_24464\\1835819452.py:40: DeprecationWarning: `interp2d` is deprecated in SciPy 1.10 and will be removed in SciPy 1.14.0.\n",
            "\n",
            "For legacy code, nearly bug-for-bug compatible replacements are\n",
            "`RectBivariateSpline` on regular grids, and `bisplrep`/`bisplev` for\n",
            "scattered 2D data.\n",
            "\n",
            "In new code, for regular grids use `RegularGridInterpolator` instead.\n",
            "For scattered data, prefer `LinearNDInterpolator` or\n",
            "`CloughTocher2DInterpolator`.\n",
            "\n",
            "For more details see\n",
            "`https://scipy.github.io/devdocs/notebooks/interp_transition_guide.html`\n",
            "\n",
            "  phase_interp = interp2d(x, y, phase[:, :, 0], kind='cubic')\n",
            "C:\\Users\\USUARIO\\AppData\\Local\\Temp\\ipykernel_24464\\1835819452.py:45: DeprecationWarning: `interp2d` is deprecated in SciPy 1.10 and will be removed in SciPy 1.14.0.\n",
            "\n",
            "For legacy code, nearly bug-for-bug compatible replacements are\n",
            "`RectBivariateSpline` on regular grids, and `bisplrep`/`bisplev` for\n",
            "scattered 2D data.\n",
            "\n",
            "In new code, for regular grids use `RegularGridInterpolator` instead.\n",
            "For scattered data, prefer `LinearNDInterpolator` or\n",
            "`CloughTocher2DInterpolator`.\n",
            "\n",
            "For more details see\n",
            "`https://scipy.github.io/devdocs/notebooks/interp_transition_guide.html`\n",
            "\n",
            "  magnitude_rescaled = magnitude_interp(new_x, new_y)\n",
            "C:\\Users\\USUARIO\\AppData\\Local\\Temp\\ipykernel_24464\\1835819452.py:46: DeprecationWarning: `interp2d` is deprecated in SciPy 1.10 and will be removed in SciPy 1.14.0.\n",
            "\n",
            "For legacy code, nearly bug-for-bug compatible replacements are\n",
            "`RectBivariateSpline` on regular grids, and `bisplrep`/`bisplev` for\n",
            "scattered 2D data.\n",
            "\n",
            "In new code, for regular grids use `RegularGridInterpolator` instead.\n",
            "For scattered data, prefer `LinearNDInterpolator` or\n",
            "`CloughTocher2DInterpolator`.\n",
            "\n",
            "For more details see\n",
            "`https://scipy.github.io/devdocs/notebooks/interp_transition_guide.html`\n",
            "\n",
            "  phase_rescaled = phase_interp(new_x, new_y)\n"
          ]
        },
        {
          "name": "stdout",
          "output_type": "stream",
          "text": [
            "Saved magnitude to cnn_vae/generated_spectrograms\\generated_magnitude_4.npy\n",
            "Saved phase to cnn_vae/generated_spectrograms\\generated_phase_4.npy\n"
          ]
        }
      ],
      "source": [
        "# Define the output directory\n",
        "output_dir = 'cnn_vae/generated_spectrograms'\n",
        "os.makedirs(output_dir, exist_ok=True)\n",
        "\n",
        "# Save generated images\n",
        "for i, spectrogram in enumerate(generated_images):\n",
        "    # magnitude, phase = spectrogram\n",
        "    magnitude, phase = denormalize_spectrograms(spectrogram, scaler, original_shape)\n",
        "    magnitude_path = os.path.join(output_dir, f'generated_magnitude_{i}.npy')\n",
        "    phase_path = os.path.join(output_dir, f'generated_phase_{i}.npy')\n",
        "    np.save(magnitude_path, magnitude)\n",
        "    np.save(phase_path, phase)\n",
        "    \n",
        "    print(f'Saved magnitude to {magnitude_path}')\n",
        "    print(f'Saved phase to {phase_path}')"
      ]
    },
    {
      "cell_type": "code",
      "execution_count": 14,
      "metadata": {},
      "outputs": [
        {
          "name": "stdout",
          "output_type": "stream",
          "text": [
            "Se guardó la señal de audio en cnn_vae/generated_audio\\generated_audio_0.wav\n",
            "Se guardó la señal de audio en cnn_vae/generated_audio\\generated_audio_1.wav\n",
            "Se guardó la señal de audio en cnn_vae/generated_audio\\generated_audio_2.wav\n",
            "Se guardó la señal de audio en cnn_vae/generated_audio\\generated_audio_3.wav\n",
            "Se guardó la señal de audio en cnn_vae/generated_audio\\generated_audio_4.wav\n"
          ]
        }
      ],
      "source": [
        "# Define the output directory and files\n",
        "output_wav_dir = 'cnn_vae/generated_audio'\n",
        "os.makedirs(output_wav_dir, exist_ok=True)\n",
        "# Convert and save audio files\n",
        "for i in range(len(generated_images)):\n",
        "    magnitude_path = os.path.join(output_dir, f'generated_magnitude_{i}.npy')\n",
        "    phase_path = os.path.join(output_dir, f'generated_phase_{i}.npy')\n",
        "    output_wav_path = os.path.join(output_wav_dir, f'generated_audio_{i}.wav')\n",
        "\n",
        "    convert_npy_to_audio(magnitude_path, phase_path, output_wav_path)"
      ]
    },
    {
      "cell_type": "code",
      "execution_count": null,
      "metadata": {},
      "outputs": [],
      "source": []
    }
  ],
  "metadata": {
    "accelerator": "GPU",
    "colab": {
      "gpuType": "T4",
      "provenance": []
    },
    "kernelspec": {
      "display_name": "Python 3",
      "name": "python3"
    },
    "language_info": {
      "codemirror_mode": {
        "name": "ipython",
        "version": 3
      },
      "file_extension": ".py",
      "mimetype": "text/x-python",
      "name": "python",
      "nbconvert_exporter": "python",
      "pygments_lexer": "ipython3",
      "version": "3.12.3"
    }
  },
  "nbformat": 4,
  "nbformat_minor": 0
}
