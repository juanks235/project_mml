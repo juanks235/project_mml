{
 "cells": [
  {
   "cell_type": "code",
   "execution_count": 4,
   "metadata": {},
   "outputs": [
    {
     "name": "stdout",
     "output_type": "stream",
     "text": [
      "The autoreload extension is already loaded. To reload it, use:\n",
      "  %reload_ext autoreload\n"
     ]
    }
   ],
   "source": [
    "%load_ext autoreload\n",
    "%autoreload 2\n",
    "\n",
    "from vlstm_spec import *\n",
    "from music_dataset import TorchMusicDataset\n",
    "\n",
    "import torch\n",
    "import torch.nn as nn\n",
    "import torch.optim as optim\n",
    "from torch.utils.data import DataLoader, TensorDataset\n",
    "import torchaudio.transforms as transforms\n",
    "\n",
    "import matplotlib.pyplot as plt\n",
    "import numpy as np\n",
    "\n",
    "import numpy as np\n",
    "from scipy.io.wavfile import write\n",
    "    \n",
    "from scipy.signal import resample, firwin, lfilter\n",
    "\n",
    "import librosa\n",
    "\n",
    "\n",
    "dataset = TorchMusicDataset(\"../dataset/cleaned_data/cleaned_data\")"
   ]
  },
  {
   "cell_type": "code",
   "execution_count": 2,
   "metadata": {},
   "outputs": [],
   "source": [
    "def downsample_audio(audio, original_rate, new_rate):\n",
    "    factor = original_rate // new_rate\n",
    "    \n",
    "    nyquist_rate = original_rate / 2\n",
    "    cutoff_freq = new_rate / 2\n",
    "    numtaps = 101 \n",
    "    fir_coeff = firwin(numtaps, cutoff_freq / nyquist_rate)\n",
    "    filtered_audio = lfilter(fir_coeff, 1.0, audio)\n",
    "    \n",
    "    downsampled_audio = filtered_audio[::factor]\n",
    "    \n",
    "    return downsampled_audio"
   ]
  },
  {
   "cell_type": "code",
   "execution_count": 3,
   "metadata": {},
   "outputs": [],
   "source": [
    "songs = []\n",
    "for i in range(100):\n",
    "    obj = dataset.__getitem__(i)\n",
    "    song = obj['time_series'].numpy()\n",
    "    downsampled_song = downsample_audio(song, 44100, 11025)\n",
    "    songs.append(downsampled_song[:11025*5])\n",
    "    "
   ]
  },
  {
   "cell_type": "code",
   "execution_count": 4,
   "metadata": {},
   "outputs": [
    {
     "name": "stdout",
     "output_type": "stream",
     "text": [
      "Epoch 1, Average Loss: 265.4140\n",
      "Epoch 2, Average Loss: 265.3775\n",
      "Epoch 3, Average Loss: 265.3563\n",
      "Epoch 4, Average Loss: 265.3312\n",
      "Epoch 5, Average Loss: 265.3103\n",
      "Epoch 6, Average Loss: 265.2962\n",
      "Epoch 7, Average Loss: 265.2763\n",
      "Epoch 8, Average Loss: 265.2633\n",
      "Epoch 9, Average Loss: 265.2533\n",
      "Epoch 10, Average Loss: 265.2453\n",
      "Epoch 11, Average Loss: 265.2357\n",
      "Epoch 12, Average Loss: 265.2307\n",
      "Epoch 13, Average Loss: 265.2220\n",
      "Epoch 14, Average Loss: 265.2194\n",
      "Epoch 15, Average Loss: 265.2072\n",
      "Epoch 16, Average Loss: 265.2061\n",
      "Epoch 17, Average Loss: 265.2024\n",
      "Epoch 18, Average Loss: 265.2035\n",
      "Epoch 19, Average Loss: 265.2007\n",
      "Epoch 20, Average Loss: 265.2029\n",
      "Epoch 21, Average Loss: 265.1981\n",
      "Epoch 22, Average Loss: 265.1974\n",
      "Epoch 23, Average Loss: 265.2010\n",
      "Epoch 24, Average Loss: 265.1954\n",
      "Epoch 25, Average Loss: 265.1953\n",
      "Epoch 26, Average Loss: 265.2039\n",
      "Epoch 27, Average Loss: 265.1925\n",
      "Epoch 28, Average Loss: 265.1962\n",
      "Epoch 29, Average Loss: 265.1948\n",
      "Epoch 30, Average Loss: 265.1953\n",
      "Epoch 31, Average Loss: 265.1963\n",
      "Epoch 32, Average Loss: 265.1975\n",
      "Epoch 33, Average Loss: 265.1959\n",
      "Epoch 34, Average Loss: 265.1965\n",
      "Epoch 35, Average Loss: 265.1961\n",
      "Epoch 36, Average Loss: 265.1951\n",
      "Epoch 37, Average Loss: 265.1924\n",
      "Epoch 38, Average Loss: 265.1951\n",
      "Epoch 39, Average Loss: 265.1938\n",
      "Epoch 40, Average Loss: 265.1942\n",
      "Epoch 41, Average Loss: 265.1950\n",
      "Epoch 42, Average Loss: 265.1968\n",
      "Epoch 43, Average Loss: 265.1949\n",
      "Epoch 44, Average Loss: 265.1934\n",
      "Epoch 45, Average Loss: 265.1935\n",
      "Epoch 46, Average Loss: 265.1942\n",
      "Epoch 47, Average Loss: 265.1958\n",
      "Epoch 48, Average Loss: 265.1930\n",
      "Epoch 49, Average Loss: 265.1937\n",
      "Epoch 50, Average Loss: 265.1917\n",
      "Epoch 51, Average Loss: 265.1955\n",
      "Epoch 52, Average Loss: 265.1976\n",
      "Epoch 53, Average Loss: 265.1962\n",
      "Epoch 54, Average Loss: 265.1944\n",
      "Epoch 55, Average Loss: 265.1937\n",
      "Epoch 56, Average Loss: 265.1934\n",
      "Epoch 57, Average Loss: 265.1960\n",
      "Epoch 58, Average Loss: 265.1947\n",
      "Epoch 59, Average Loss: 265.1960\n",
      "Epoch 60, Average Loss: 265.1950\n",
      "Epoch 61, Average Loss: 265.1960\n",
      "Epoch 62, Average Loss: 265.1951\n",
      "Epoch 63, Average Loss: 265.1944\n",
      "Epoch 64, Average Loss: 265.1949\n",
      "Epoch 65, Average Loss: 265.1929\n",
      "Epoch 66, Average Loss: 265.1953\n",
      "Epoch 67, Average Loss: 265.1936\n",
      "Epoch 68, Average Loss: 265.1933\n",
      "Epoch 69, Average Loss: 265.1929\n",
      "Epoch 70, Average Loss: 265.1933\n",
      "Epoch 71, Average Loss: 265.1926\n",
      "Epoch 72, Average Loss: 265.1933\n",
      "Epoch 73, Average Loss: 265.1946\n",
      "Epoch 74, Average Loss: 265.1940\n",
      "Epoch 75, Average Loss: 265.1949\n",
      "Epoch 76, Average Loss: 265.1957\n",
      "Epoch 77, Average Loss: 265.1940\n",
      "Epoch 78, Average Loss: 265.1942\n",
      "Epoch 79, Average Loss: 265.1946\n",
      "Epoch 80, Average Loss: 265.1950\n",
      "Epoch 81, Average Loss: 265.1945\n",
      "Epoch 82, Average Loss: 265.1964\n",
      "Epoch 83, Average Loss: 265.1938\n",
      "Epoch 84, Average Loss: 265.1934\n",
      "Epoch 85, Average Loss: 265.1966\n",
      "Epoch 86, Average Loss: 265.1945\n",
      "Epoch 87, Average Loss: 265.1940\n",
      "Epoch 88, Average Loss: 265.1936\n",
      "Epoch 89, Average Loss: 265.1942\n",
      "Epoch 90, Average Loss: 265.1934\n",
      "Epoch 91, Average Loss: 265.1954\n",
      "Epoch 92, Average Loss: 265.1936\n",
      "Epoch 93, Average Loss: 265.1941\n",
      "Epoch 94, Average Loss: 265.1940\n",
      "Epoch 95, Average Loss: 265.1932\n",
      "Epoch 96, Average Loss: 265.1950\n",
      "Epoch 97, Average Loss: 265.1956\n",
      "Epoch 98, Average Loss: 265.1928\n",
      "Epoch 99, Average Loss: 265.1948\n",
      "Epoch 100, Average Loss: 265.1943\n"
     ]
    }
   ],
   "source": [
    "batch_size = 4\n",
    "n_in = songs[0].shape[0]\n",
    "hidden_size = 5\n",
    "songs = np.array(songs)\n",
    "sample_rate = 22050\n",
    "features = 32\n",
    "latent_dim = 4\n",
    "\n",
    "device = torch.device(\"cuda\" if torch.cuda.is_available() else \"cpu\")\n",
    "    \n",
    "dataloader = create_dataloader(songs, sample_rate, batch_size, n_in)\n",
    "    \n",
    "vae = VAE(n_in, features, latent_dim, device, hidden_size).to(device)\n",
    "optimizer = optim.Adam(vae.parameters(), lr=1e-3)\n",
    "vae.optimizer = optimizer\n",
    "\n",
    "lossGraph = []\n",
    "# Training loop\n",
    "epochs = 100\n",
    "for epoch in range(epochs):\n",
    "    epoch_loss = 0\n",
    "    num_batches = 0\n",
    "    \n",
    "    for batch_x, _ in dataloader:\n",
    "        batch_x = batch_x.to(device)\n",
    "        loss = vae.training_step(batch_x)\n",
    "        \n",
    "        epoch_loss += loss\n",
    "        num_batches += 1\n",
    "    \n",
    "    average_loss = epoch_loss / num_batches\n",
    "    lossGraph.append(average_loss)\n",
    "    \n",
    "    print(f'Epoch {epoch+1}, Average Loss: {average_loss:.4f}')"
   ]
  },
  {
   "cell_type": "code",
   "execution_count": 5,
   "metadata": {},
   "outputs": [],
   "source": [
    "torch.save(vae, 'vlstm_spec.pt')"
   ]
  },
  {
   "cell_type": "code",
   "execution_count": 15,
   "metadata": {},
   "outputs": [
    {
     "name": "stdout",
     "output_type": "stream",
     "text": [
      "Audio saved as gen_audio_vlstm_spec_.wav\n"
     ]
    }
   ],
   "source": [
    "from scipy.io.wavfile import write\n",
    "\n",
    "num_samples = 1\n",
    "generated_sequences = vae.generate_sequences(num_samples)\n",
    "\n",
    "spec = generated_sequences[0]\n",
    "mel_inverted = librosa.feature.inverse.mel_to_stft(spec, sr=11025, n_fft=2048)\n",
    "audio_array = librosa.griffinlim(mel_inverted, n_iter=32, hop_length=512, win_length=2048)\n",
    "audio_array = audio_array / np.max(np.abs(audio_array))\n",
    "audio_array = (audio_array * 32767).astype(np.int16)\n",
    "sample_rate = 11025\n",
    "output_filename = 'gen_audio_vlstm_spec_.wav'\n",
    "\n",
    "write(output_filename, sample_rate, audio_array)\n",
    "\n",
    "print(f\"Audio saved as {output_filename}\")"
   ]
  },
  {
   "cell_type": "code",
   "execution_count": 12,
   "metadata": {},
   "outputs": [
    {
     "data": {
      "text/plain": [
       "(1, 55125, 32)"
      ]
     },
     "execution_count": 12,
     "metadata": {},
     "output_type": "execute_result"
    }
   ],
   "source": [
    "generated_sequences.shape"
   ]
  },
  {
   "cell_type": "code",
   "execution_count": 13,
   "metadata": {},
   "outputs": [
    {
     "data": {
      "text/plain": [
       "(15872,)"
      ]
     },
     "execution_count": 13,
     "metadata": {},
     "output_type": "execute_result"
    }
   ],
   "source": [
    "audio_array.shape"
   ]
  },
  {
   "cell_type": "code",
   "execution_count": null,
   "metadata": {},
   "outputs": [],
   "source": []
  }
 ],
 "metadata": {
  "kernelspec": {
   "display_name": "mmlenv",
   "language": "python",
   "name": "python3"
  },
  "language_info": {
   "codemirror_mode": {
    "name": "ipython",
    "version": 3
   },
   "file_extension": ".py",
   "mimetype": "text/x-python",
   "name": "python",
   "nbconvert_exporter": "python",
   "pygments_lexer": "ipython3",
   "version": "3.10.12"
  }
 },
 "nbformat": 4,
 "nbformat_minor": 2
}
