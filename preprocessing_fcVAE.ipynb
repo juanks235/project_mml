{
 "cells": [
  {
   "cell_type": "code",
   "execution_count": 2,
   "metadata": {},
   "outputs": [
    {
     "name": "stdout",
     "output_type": "stream",
     "text": [
      "WARNING:tensorflow:From C:\\Users\\santi\\AppData\\Roaming\\Python\\Python311\\site-packages\\keras\\src\\losses.py:2976: The name tf.losses.sparse_softmax_cross_entropy is deprecated. Please use tf.compat.v1.losses.sparse_softmax_cross_entropy instead.\n",
      "\n"
     ]
    }
   ],
   "source": [
    "import matplotlib.pyplot as plt\n",
    "import numpy as np\n",
    "import tensorflow as tf\n",
    "import pandas as pd\n",
    "import librosa\n",
    "import io\n",
    "import os"
   ]
  },
  {
   "cell_type": "code",
   "execution_count": 3,
   "metadata": {},
   "outputs": [],
   "source": [
    "base_name = 'train-00000-of-00016-6b5481c76a3d2702'\n",
    "\n",
    "parquet_file_path = f'music/{base_name}.parquet'"
   ]
  },
  {
   "cell_type": "code",
   "execution_count": 4,
   "metadata": {},
   "outputs": [],
   "source": [
    "\n",
    "# Load the data into a pandas DataFrame\n",
    "df = pd.read_parquet(parquet_file_path, engine='pyarrow')"
   ]
  },
  {
   "cell_type": "code",
   "execution_count": 5,
   "metadata": {},
   "outputs": [
    {
     "data": {
      "text/html": [
       "<div>\n",
       "<style scoped>\n",
       "    .dataframe tbody tr th:only-of-type {\n",
       "        vertical-align: middle;\n",
       "    }\n",
       "\n",
       "    .dataframe tbody tr th {\n",
       "        vertical-align: top;\n",
       "    }\n",
       "\n",
       "    .dataframe thead th {\n",
       "        text-align: right;\n",
       "    }\n",
       "</style>\n",
       "<table border=\"1\" class=\"dataframe\">\n",
       "  <thead>\n",
       "    <tr style=\"text-align: right;\">\n",
       "      <th></th>\n",
       "      <th>audio</th>\n",
       "      <th>song_id</th>\n",
       "      <th>genre_id</th>\n",
       "      <th>genre</th>\n",
       "    </tr>\n",
       "  </thead>\n",
       "  <tbody>\n",
       "    <tr>\n",
       "      <th>0</th>\n",
       "      <td>{'bytes': b'OggS\\x00\\x02\\x00\\x00\\x00\\x00\\x00\\x...</td>\n",
       "      <td>0</td>\n",
       "      <td>0</td>\n",
       "      <td>Electronic</td>\n",
       "    </tr>\n",
       "    <tr>\n",
       "      <th>1</th>\n",
       "      <td>{'bytes': b'OggS\\x00\\x02\\x00\\x00\\x00\\x00\\x00\\x...</td>\n",
       "      <td>1</td>\n",
       "      <td>9</td>\n",
       "      <td>International</td>\n",
       "    </tr>\n",
       "    <tr>\n",
       "      <th>2</th>\n",
       "      <td>{'bytes': b'OggS\\x00\\x02\\x00\\x00\\x00\\x00\\x00\\x...</td>\n",
       "      <td>2</td>\n",
       "      <td>6</td>\n",
       "      <td>Chiptune / Glitch</td>\n",
       "    </tr>\n",
       "    <tr>\n",
       "      <th>3</th>\n",
       "      <td>{'bytes': b'OggS\\x00\\x02\\x00\\x00\\x00\\x00\\x00\\x...</td>\n",
       "      <td>4</td>\n",
       "      <td>4</td>\n",
       "      <td>Hip-Hop</td>\n",
       "    </tr>\n",
       "    <tr>\n",
       "      <th>4</th>\n",
       "      <td>{'bytes': b'OggS\\x00\\x02\\x00\\x00\\x00\\x00\\x00\\x...</td>\n",
       "      <td>5</td>\n",
       "      <td>14</td>\n",
       "      <td>Country</td>\n",
       "    </tr>\n",
       "  </tbody>\n",
       "</table>\n",
       "</div>"
      ],
      "text/plain": [
       "                                               audio  song_id  genre_id  \\\n",
       "0  {'bytes': b'OggS\\x00\\x02\\x00\\x00\\x00\\x00\\x00\\x...        0         0   \n",
       "1  {'bytes': b'OggS\\x00\\x02\\x00\\x00\\x00\\x00\\x00\\x...        1         9   \n",
       "2  {'bytes': b'OggS\\x00\\x02\\x00\\x00\\x00\\x00\\x00\\x...        2         6   \n",
       "3  {'bytes': b'OggS\\x00\\x02\\x00\\x00\\x00\\x00\\x00\\x...        4         4   \n",
       "4  {'bytes': b'OggS\\x00\\x02\\x00\\x00\\x00\\x00\\x00\\x...        5        14   \n",
       "\n",
       "               genre  \n",
       "0         Electronic  \n",
       "1      International  \n",
       "2  Chiptune / Glitch  \n",
       "3            Hip-Hop  \n",
       "4            Country  "
      ]
     },
     "execution_count": 5,
     "metadata": {},
     "output_type": "execute_result"
    }
   ],
   "source": [
    "df.head()"
   ]
  },
  {
   "cell_type": "code",
   "execution_count": 6,
   "metadata": {},
   "outputs": [
    {
     "data": {
      "text/plain": [
       "Index(['audio', 'song_id', 'genre_id', 'genre'], dtype='object')"
      ]
     },
     "execution_count": 6,
     "metadata": {},
     "output_type": "execute_result"
    }
   ],
   "source": [
    "df.columns"
   ]
  },
  {
   "cell_type": "code",
   "execution_count": 7,
   "metadata": {},
   "outputs": [],
   "source": [
    "def decode_audio(binary_data):\n",
    "    # Convert bytes to file-like object\n",
    "    audio_file = io.BytesIO(binary_data)\n",
    "    \n",
    "    # Load audio file using librosa\n",
    "    y, sr = librosa.load(audio_file, sr=None)  # `sr=None` to keep the original sampling rate\n",
    "    \n",
    "    return y, sr"
   ]
  },
  {
   "cell_type": "code",
   "execution_count": 8,
   "metadata": {},
   "outputs": [
    {
     "name": "stdout",
     "output_type": "stream",
     "text": [
      "Decoded Audio: [ 3.9714024e-07  7.3031049e-07  7.5640696e-07 ... -1.1963670e-01\n",
      " -1.1681189e-01 -1.1244176e-01]\n",
      "Sampling Rate: 44100\n"
     ]
    }
   ],
   "source": [
    "# Decode audio for each row in the DataFrame\n",
    "df['decoded_audio'] = df['audio'].apply(lambda x: decode_audio(x['bytes']))\n",
    "\n",
    "# Example of how to access the decoded audio and sampling rate\n",
    "decoded_audio, sampling_rate = df['decoded_audio'][0]  # Accessing the first row as an example\n",
    "print(f\"Decoded Audio: {decoded_audio}\")\n",
    "print(f\"Sampling Rate: {sampling_rate}\")\n",
    "\n",
    "# If you want to extract just the time series (audio data) and store it separately\n",
    "df['audio_time_series'] = df['decoded_audio'].apply(lambda x: x[0])  # Extract time series data\n",
    "df['sampling_rate'] = df['decoded_audio'].apply(lambda x: x[1])  # Extract sampling rate"
   ]
  },
  {
   "cell_type": "code",
   "execution_count": 9,
   "metadata": {},
   "outputs": [],
   "source": [
    "df = df.drop(['decoded_audio','audio'], axis=1)"
   ]
  },
  {
   "cell_type": "code",
   "execution_count": 10,
   "metadata": {},
   "outputs": [
    {
     "data": {
      "text/html": [
       "<div>\n",
       "<style scoped>\n",
       "    .dataframe tbody tr th:only-of-type {\n",
       "        vertical-align: middle;\n",
       "    }\n",
       "\n",
       "    .dataframe tbody tr th {\n",
       "        vertical-align: top;\n",
       "    }\n",
       "\n",
       "    .dataframe thead th {\n",
       "        text-align: right;\n",
       "    }\n",
       "</style>\n",
       "<table border=\"1\" class=\"dataframe\">\n",
       "  <thead>\n",
       "    <tr style=\"text-align: right;\">\n",
       "      <th></th>\n",
       "      <th>song_id</th>\n",
       "      <th>genre_id</th>\n",
       "      <th>genre</th>\n",
       "      <th>audio_time_series</th>\n",
       "      <th>sampling_rate</th>\n",
       "    </tr>\n",
       "  </thead>\n",
       "  <tbody>\n",
       "    <tr>\n",
       "      <th>0</th>\n",
       "      <td>0</td>\n",
       "      <td>0</td>\n",
       "      <td>Electronic</td>\n",
       "      <td>[3.9714024e-07, 7.303105e-07, 7.5640696e-07, 4...</td>\n",
       "      <td>44100</td>\n",
       "    </tr>\n",
       "    <tr>\n",
       "      <th>1</th>\n",
       "      <td>1</td>\n",
       "      <td>9</td>\n",
       "      <td>International</td>\n",
       "      <td>[0.15237975, 0.13222949, 0.10627693, 0.0847923...</td>\n",
       "      <td>44100</td>\n",
       "    </tr>\n",
       "    <tr>\n",
       "      <th>2</th>\n",
       "      <td>2</td>\n",
       "      <td>6</td>\n",
       "      <td>Chiptune / Glitch</td>\n",
       "      <td>[0.0, 0.0, 0.0, 0.0, 0.0, 0.0, 0.0, 0.0, 0.0, ...</td>\n",
       "      <td>44100</td>\n",
       "    </tr>\n",
       "    <tr>\n",
       "      <th>3</th>\n",
       "      <td>4</td>\n",
       "      <td>4</td>\n",
       "      <td>Hip-Hop</td>\n",
       "      <td>[1.0242003e-07, -2.1464828e-08, 4.3254058e-08,...</td>\n",
       "      <td>44100</td>\n",
       "    </tr>\n",
       "    <tr>\n",
       "      <th>4</th>\n",
       "      <td>5</td>\n",
       "      <td>14</td>\n",
       "      <td>Country</td>\n",
       "      <td>[0.0, 0.0, 0.0, 0.0, 0.0, 0.0, 0.0, 0.0, 0.0, ...</td>\n",
       "      <td>44100</td>\n",
       "    </tr>\n",
       "  </tbody>\n",
       "</table>\n",
       "</div>"
      ],
      "text/plain": [
       "   song_id  genre_id              genre  \\\n",
       "0        0         0         Electronic   \n",
       "1        1         9      International   \n",
       "2        2         6  Chiptune / Glitch   \n",
       "3        4         4            Hip-Hop   \n",
       "4        5        14            Country   \n",
       "\n",
       "                                   audio_time_series  sampling_rate  \n",
       "0  [3.9714024e-07, 7.303105e-07, 7.5640696e-07, 4...          44100  \n",
       "1  [0.15237975, 0.13222949, 0.10627693, 0.0847923...          44100  \n",
       "2  [0.0, 0.0, 0.0, 0.0, 0.0, 0.0, 0.0, 0.0, 0.0, ...          44100  \n",
       "3  [1.0242003e-07, -2.1464828e-08, 4.3254058e-08,...          44100  \n",
       "4  [0.0, 0.0, 0.0, 0.0, 0.0, 0.0, 0.0, 0.0, 0.0, ...          44100  "
      ]
     },
     "execution_count": 10,
     "metadata": {},
     "output_type": "execute_result"
    }
   ],
   "source": [
    "df.head()"
   ]
  },
  {
   "cell_type": "code",
   "execution_count": 11,
   "metadata": {},
   "outputs": [
    {
     "name": "stdout",
     "output_type": "stream",
     "text": [
      "Longitudes únicas de audios: [ 660719 1321967 1323119 1439471]\n",
      "Longitud 660719: 2 ejemplos\n",
      "Longitud 1321967: 661 ejemplos\n",
      "Longitud 1323119: 531 ejemplos\n",
      "Longitud 1439471: 51 ejemplos\n",
      "Sampling Rate únicos de audios: [22050 44100 48000]\n",
      "Longitud 22050: 2 ejemplos\n",
      "Longitud 44100: 1192 ejemplos\n",
      "Longitud 48000: 51 ejemplos\n"
     ]
    },
    {
     "data": {
      "text/plain": [
       "<function matplotlib.pyplot.show(close=None, block=None)>"
      ]
     },
     "execution_count": 11,
     "metadata": {},
     "output_type": "execute_result"
    },
    {
     "data": {
      "image/png": "[encoded data removed]",
      "text/plain": [
       "<Figure size 640x480 with 1 Axes>"
      ]
     },
     "metadata": {},
     "output_type": "display_data"
    }
   ],
   "source": [
    "# Calculate the length of each audio time series\n",
    "lens = [len(ts) for ts in df['audio_time_series']]\n",
    "# Find unique lengths and their counts\n",
    "unique_lengths, counts_len = np.unique(lens, return_counts=True)\n",
    "# Print unique lengths and the number of examples for each length\n",
    "print(f\"Longitudes únicas de audios: {unique_lengths}\")\n",
    "for length, count in zip(unique_lengths, counts_len):\n",
    "    print(f\"Longitud {length}: {count} ejemplos\")\n",
    "\n",
    "unique_sr, counts_sr = np.unique(df.sampling_rate, return_counts=True)\n",
    "# Print unique lengths and the number of examples for each sampling rate\n",
    "print(f\"Sampling Rate únicos de audios: {unique_sr}\")\n",
    "for length, count in zip(unique_sr, counts_sr):\n",
    "    print(f\"Longitud {length}: {count} ejemplos\")\n",
    "\n",
    "\n",
    "plt.plot(df.audio_time_series[10])\n",
    "plt.show"
   ]
  },
  {
   "cell_type": "code",
   "execution_count": 12,
   "metadata": {},
   "outputs": [
    {
     "name": "stdout",
     "output_type": "stream",
     "text": [
      "Most common sampling rate: 44100\n"
     ]
    },
    {
     "data": {
      "image/png": "[encoded data removed]",
      "text/plain": [
       "<Figure size 640x480 with 1 Axes>"
      ]
     },
     "metadata": {},
     "output_type": "display_data"
    }
   ],
   "source": [
    "# 1. Identify the most common sampling rate\n",
    "most_common_sampling_rate = df['sampling_rate'].mode()[0]\n",
    "print(f\"Most common sampling rate: {most_common_sampling_rate}\")\n",
    "\n",
    "# 2. Filter the DataFrame to include only examples with the most common sampling rate\n",
    "filtered_df = df[df['sampling_rate'] == most_common_sampling_rate]\n",
    "\n",
    "# Display some of the padded time series to verify\n",
    "plt.plot(filtered_df['audio_time_series'].iloc[10])\n",
    "plt.title(\"Audio Time Series at Index 10\")\n",
    "plt.xlabel(\"Sample\")\n",
    "plt.ylabel(\"Amplitude\")\n",
    "plt.show()"
   ]
  },
  {
   "cell_type": "code",
   "execution_count": 13,
   "metadata": {},
   "outputs": [
    {
     "data": {
      "text/plain": [
       "1245"
      ]
     },
     "execution_count": 13,
     "metadata": {},
     "output_type": "execute_result"
    }
   ],
   "source": [
    "len(df)"
   ]
  },
  {
   "cell_type": "code",
   "execution_count": 14,
   "metadata": {},
   "outputs": [
    {
     "data": {
      "text/plain": [
       "1192"
      ]
     },
     "execution_count": 14,
     "metadata": {},
     "output_type": "execute_result"
    }
   ],
   "source": [
    "len(filtered_df)"
   ]
  },
  {
   "cell_type": "code",
   "execution_count": 15,
   "metadata": {},
   "outputs": [
    {
     "data": {
      "text/plain": [
       "4386"
      ]
     },
     "execution_count": 15,
     "metadata": {},
     "output_type": "execute_result"
    }
   ],
   "source": [
    "import gc\n",
    "\n",
    "# Delete the DataFrame\n",
    "del df\n",
    "\n",
    "# Run garbage collection\n",
    "gc.collect()"
   ]
  },
  {
   "cell_type": "code",
   "execution_count": 16,
   "metadata": {},
   "outputs": [
    {
     "name": "stdout",
     "output_type": "stream",
     "text": [
      "Most common genre: Electronic\n",
      "Number of examples with the most common genre: 196\n",
      "    song_id  genre_id       genre  \\\n",
      "0         0         0  Electronic   \n",
      "8        12         0  Electronic   \n",
      "14       19         0  Electronic   \n",
      "28       39         0  Electronic   \n",
      "30       41         0  Electronic   \n",
      "\n",
      "                                    audio_time_series  sampling_rate  \n",
      "0   [3.9714024e-07, 7.303105e-07, 7.5640696e-07, 4...          44100  \n",
      "8   [-0.086568944, -0.058528088, -0.12844338, -0.2...          44100  \n",
      "14  [1.6128641e-06, 1.3899444e-06, 1.1362536e-06, ...          44100  \n",
      "28  [-3.0545246e-09, -2.2721935e-08, -3.0839455e-0...          44100  \n",
      "30  [0.0, 0.0, 0.0, 0.0, 0.0, 0.0, 0.0, 0.0, 0.0, ...          44100  \n"
     ]
    }
   ],
   "source": [
    "# 1. Identify the most common genre\n",
    "most_common_genre = filtered_df['genre'].mode()[0]\n",
    "print(f\"Most common genre: {most_common_genre}\")\n",
    "\n",
    "# 2. Filter the DataFrame to include only examples with the most common genre\n",
    "filtered_genre_df = filtered_df[filtered_df['genre'] == most_common_genre]\n",
    "\n",
    "# Display the number of examples remaining\n",
    "print(f\"Number of examples with the most common genre: {len(filtered_genre_df)}\")\n",
    "\n",
    "# Optionally, you can inspect the first few rows of the filtered DataFrame\n",
    "print(filtered_genre_df.head())"
   ]
  },
  {
   "cell_type": "code",
   "execution_count": 17,
   "metadata": {},
   "outputs": [
    {
     "data": {
      "text/plain": [
       "196"
      ]
     },
     "execution_count": 17,
     "metadata": {},
     "output_type": "execute_result"
    }
   ],
   "source": [
    "len(filtered_genre_df)"
   ]
  },
  {
   "cell_type": "code",
   "execution_count": 18,
   "metadata": {},
   "outputs": [
    {
     "data": {
      "text/html": [
       "<div>\n",
       "<style scoped>\n",
       "    .dataframe tbody tr th:only-of-type {\n",
       "        vertical-align: middle;\n",
       "    }\n",
       "\n",
       "    .dataframe tbody tr th {\n",
       "        vertical-align: top;\n",
       "    }\n",
       "\n",
       "    .dataframe thead th {\n",
       "        text-align: right;\n",
       "    }\n",
       "</style>\n",
       "<table border=\"1\" class=\"dataframe\">\n",
       "  <thead>\n",
       "    <tr style=\"text-align: right;\">\n",
       "      <th></th>\n",
       "      <th>song_id</th>\n",
       "      <th>genre_id</th>\n",
       "      <th>genre</th>\n",
       "      <th>audio_time_series</th>\n",
       "      <th>sampling_rate</th>\n",
       "    </tr>\n",
       "  </thead>\n",
       "  <tbody>\n",
       "    <tr>\n",
       "      <th>0</th>\n",
       "      <td>0</td>\n",
       "      <td>0</td>\n",
       "      <td>Electronic</td>\n",
       "      <td>[3.9714024e-07, 7.303105e-07, 7.5640696e-07, 4...</td>\n",
       "      <td>44100</td>\n",
       "    </tr>\n",
       "    <tr>\n",
       "      <th>8</th>\n",
       "      <td>12</td>\n",
       "      <td>0</td>\n",
       "      <td>Electronic</td>\n",
       "      <td>[-0.086568944, -0.058528088, -0.12844338, -0.2...</td>\n",
       "      <td>44100</td>\n",
       "    </tr>\n",
       "    <tr>\n",
       "      <th>14</th>\n",
       "      <td>19</td>\n",
       "      <td>0</td>\n",
       "      <td>Electronic</td>\n",
       "      <td>[1.6128641e-06, 1.3899444e-06, 1.1362536e-06, ...</td>\n",
       "      <td>44100</td>\n",
       "    </tr>\n",
       "    <tr>\n",
       "      <th>28</th>\n",
       "      <td>39</td>\n",
       "      <td>0</td>\n",
       "      <td>Electronic</td>\n",
       "      <td>[-3.0545246e-09, -2.2721935e-08, -3.0839455e-0...</td>\n",
       "      <td>44100</td>\n",
       "    </tr>\n",
       "    <tr>\n",
       "      <th>30</th>\n",
       "      <td>41</td>\n",
       "      <td>0</td>\n",
       "      <td>Electronic</td>\n",
       "      <td>[0.0, 0.0, 0.0, 0.0, 0.0, 0.0, 0.0, 0.0, 0.0, ...</td>\n",
       "      <td>44100</td>\n",
       "    </tr>\n",
       "  </tbody>\n",
       "</table>\n",
       "</div>"
      ],
      "text/plain": [
       "    song_id  genre_id       genre  \\\n",
       "0         0         0  Electronic   \n",
       "8        12         0  Electronic   \n",
       "14       19         0  Electronic   \n",
       "28       39         0  Electronic   \n",
       "30       41         0  Electronic   \n",
       "\n",
       "                                    audio_time_series  sampling_rate  \n",
       "0   [3.9714024e-07, 7.303105e-07, 7.5640696e-07, 4...          44100  \n",
       "8   [-0.086568944, -0.058528088, -0.12844338, -0.2...          44100  \n",
       "14  [1.6128641e-06, 1.3899444e-06, 1.1362536e-06, ...          44100  \n",
       "28  [-3.0545246e-09, -2.2721935e-08, -3.0839455e-0...          44100  \n",
       "30  [0.0, 0.0, 0.0, 0.0, 0.0, 0.0, 0.0, 0.0, 0.0, ...          44100  "
      ]
     },
     "execution_count": 18,
     "metadata": {},
     "output_type": "execute_result"
    }
   ],
   "source": [
    "filtered_genre_df.head()"
   ]
  },
  {
   "cell_type": "code",
   "execution_count": 19,
   "metadata": {},
   "outputs": [
    {
     "data": {
      "text/plain": [
       "1323119"
      ]
     },
     "execution_count": 19,
     "metadata": {},
     "output_type": "execute_result"
    }
   ],
   "source": [
    "len(filtered_genre_df[\"audio_time_series\"].iloc[10])"
   ]
  },
  {
   "cell_type": "code",
   "execution_count": 20,
   "metadata": {},
   "outputs": [
    {
     "name": "stdout",
     "output_type": "stream",
     "text": [
      "All time series chunks have been saved to music_preprocessed_planarVAE.\n"
     ]
    }
   ],
   "source": [
    "# Create the output folder if it doesn't exist\n",
    "output_folder = 'music_preprocessed_planarVAE'\n",
    "os.makedirs(output_folder, exist_ok=True)\n",
    "\n",
    "# Define the target length for chunks (5 seconds at 44100 Hz)\n",
    "target_length = 44100 * 5\n",
    "\n",
    "# Function to split and pad time series\n",
    "def split_and_pad_time_series(time_series, target_length):\n",
    "    chunks = []\n",
    "    for start in range(0, len(time_series), target_length):\n",
    "        chunk = time_series[start:start + target_length]\n",
    "        if len(chunk) < target_length:\n",
    "            chunk = np.pad(chunk, (0, target_length - len(chunk)), mode='constant')\n",
    "        chunks.append(chunk)\n",
    "    return chunks\n",
    "\n",
    "# Iterate over the filtered DataFrame and save each chunked and padded time series\n",
    "for idx, row in filtered_genre_df.iterrows():\n",
    "    # Get the original time series\n",
    "    time_series = row['audio_time_series']\n",
    "    \n",
    "    # Split and pad the time series into chunks\n",
    "    chunks = split_and_pad_time_series(time_series, target_length)\n",
    "    \n",
    "    # Save each chunk as a separate .npy file\n",
    "    for chunk_idx, chunk in enumerate(chunks):\n",
    "        file_path = os.path.join(output_folder, f'audio_{idx}_chunk_{chunk_idx}.npy')\n",
    "        np.save(file_path, chunk)\n",
    "\n",
    "print(f\"All time series chunks have been saved to {output_folder}.\")"
   ]
  },
  {
   "cell_type": "code",
   "execution_count": null,
   "metadata": {},
   "outputs": [],
   "source": []
  }
 ],
 "metadata": {
  "kernelspec": {
   "display_name": "Python 3",
   "language": "python",
   "name": "python3"
  },
  "language_info": {
   "codemirror_mode": {
    "name": "ipython",
    "version": 3
   },
   "file_extension": ".py",
   "mimetype": "text/x-python",
   "name": "python",
   "nbconvert_exporter": "python",
   "pygments_lexer": "ipython3",
   "version": "3.11.4"
  }
 },
 "nbformat": 4,
 "nbformat_minor": 2
}
