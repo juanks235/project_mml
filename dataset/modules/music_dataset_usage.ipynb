{
 "cells": [
  {
   "cell_type": "code",
   "execution_count": 57,
   "id": "f57e617e-ab32-40d8-bd02-4f118bc2aae9",
   "metadata": {},
   "outputs": [
    {
     "name": "stdout",
     "output_type": "stream",
     "text": [
      "The autoreload extension is already loaded. To reload it, use:\n",
      "  %reload_ext autoreload\n"
     ]
    }
   ],
   "source": [
    "%load_ext autoreload\n",
    "%autoreload 2\n",
    "from music_dataset import TorchMusicDataset"
   ]
  },
  {
   "cell_type": "code",
   "execution_count": 58,
   "id": "b01ad45e-45f1-44a7-976d-b156703125ec",
   "metadata": {},
   "outputs": [],
   "source": [
    "dataset = TorchMusicDataset(\"../cleaned_data\")"
   ]
  },
  {
   "cell_type": "code",
   "execution_count": 59,
   "id": "764878c7-d4ff-48b9-b5dc-9a39c8c8d1c6",
   "metadata": {},
   "outputs": [
    {
     "name": "stdout",
     "output_type": "stream",
     "text": [
      "dict_keys(['song_id', 'genre_id', 'genre', 'time_series'])\n"
     ]
    }
   ],
   "source": [
    "pepe = dataset.__getitem__(1)"
   ]
  },
  {
   "cell_type": "code",
   "execution_count": 61,
   "id": "e92cdf63-da5e-48c1-8a09-6ec9d1f96399",
   "metadata": {},
   "outputs": [
    {
     "data": {
      "text/plain": [
       "{'song_id': tensor(17592),\n",
       " 'genre_id': tensor(0),\n",
       " 'time_series': tensor([2.8207e-07, 3.4114e-07, 5.0393e-07,  ..., 1.7359e-01, 2.7635e-01,\n",
       "         3.8630e-01])}"
      ]
     },
     "execution_count": 61,
     "metadata": {},
     "output_type": "execute_result"
    }
   ],
   "source": [
    "pepe"
   ]
  },
  {
   "cell_type": "code",
   "execution_count": null,
   "id": "875c0b8c-4052-436d-bc23-d78f190b2e47",
   "metadata": {},
   "outputs": [],
   "source": []
  }
 ],
 "metadata": {
  "kernelspec": {
   "display_name": "Python 3 (ipykernel)",
   "language": "python",
   "name": "python3"
  },
  "language_info": {
   "codemirror_mode": {
    "name": "ipython",
    "version": 3
   },
   "file_extension": ".py",
   "mimetype": "text/x-python",
   "name": "python",
   "nbconvert_exporter": "python",
   "pygments_lexer": "ipython3",
   "version": "3.11.0rc1"
  }
 },
 "nbformat": 4,
 "nbformat_minor": 5
}
