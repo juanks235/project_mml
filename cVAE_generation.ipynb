{
 "cells": [
  {
   "cell_type": "code",
   "execution_count": 1,
   "id": "bb555ecd-d9ec-4366-8d1d-3f257e491adf",
   "metadata": {},
   "outputs": [],
   "source": [
    "%load_ext autoreload\n",
    "%autoreload 2\n",
    "import os\n",
    "from Pytorch_VAE_LSTM import LSTMVAE\n",
    "from music_dataset import TorchMusicDataset\n",
    "\n",
    "import torch\n",
    "import torch.nn as nn\n",
    "import torch.optim as optim\n",
    "from torch.utils.data import DataLoader, TensorDataset\n",
    "\n",
    "import matplotlib.pyplot as plt\n",
    "import numpy as np\n",
    "\n",
    "import scipy.io.wavfile as wavfile"
   ]
  },
  {
   "cell_type": "code",
   "execution_count": 2,
   "id": "77d0bc84-124d-4dab-b839-46e47186ab85",
   "metadata": {},
   "outputs": [],
   "source": [
    "epochs = 1\n",
    "batch_size = 4\n",
    "hidden_dim = 100\n",
    "latent_dim = 100\n",
    "n_seconds = 10"
   ]
  },
  {
   "cell_type": "code",
   "execution_count": 3,
   "id": "5750f6bd-cc0d-4776-a803-38e46d5ac1aa",
   "metadata": {},
   "outputs": [],
   "source": [
    "# 0 elektronik - 1 folk\n",
    "song_classes = [0 for i in range(50)] + [1 for i in range(50)]\n",
    "songs_path = \"songs\""
   ]
  },
  {
   "cell_type": "code",
   "execution_count": 4,
   "id": "46df86c9-3681-4794-83ae-4febe306b935",
   "metadata": {},
   "outputs": [],
   "source": [
    "device = torch.device('cuda' if torch.cuda.is_available() else 'cpu')"
   ]
  },
  {
   "cell_type": "code",
   "execution_count": 5,
   "id": "f718bbfd-7391-4065-b1a4-494905e4bf25",
   "metadata": {},
   "outputs": [
    {
     "data": {
      "text/plain": [
       "(44100, 11)"
      ]
     },
     "execution_count": 5,
     "metadata": {},
     "output_type": "execute_result"
    }
   ],
   "source": [
    "dataset = TorchMusicDataset(\"../cleaned_data\", n_seconds)\n",
    "dataloader = DataLoader(dataset, batch_size=batch_size, shuffle=True)\n",
    "n_timesteps, n_features  = dataset.__getitem__(1).shape[:2]\n",
    "n_timesteps, n_features"
   ]
  },
  {
   "cell_type": "code",
   "execution_count": 6,
   "id": "def2aa9b-de73-4ec9-b713-716a3b6c7947",
   "metadata": {},
   "outputs": [
    {
     "data": {
      "text/plain": [
       "torch.Size([44100, 11])"
      ]
     },
     "execution_count": 6,
     "metadata": {},
     "output_type": "execute_result"
    }
   ],
   "source": [
    "dataset.__getitem__(1).shape"
   ]
  },
  {
   "cell_type": "code",
   "execution_count": 7,
   "id": "3cd02c24-c90c-4eb5-baf6-970eb39e64f3",
   "metadata": {},
   "outputs": [],
   "source": [
    "vae = LSTMVAE(n_timesteps, n_features, hidden_dim, latent_dim, device).to(device)\n",
    "vae.optimizer = optim.Adam(vae.parameters(), lr=1e-3)"
   ]
  },
  {
   "cell_type": "code",
   "execution_count": 8,
   "id": "4bb5a4b0-39c1-4b61-b04f-da50d09e9860",
   "metadata": {},
   "outputs": [
    {
     "name": "stderr",
     "output_type": "stream",
     "text": [
      "/tmp/ipykernel_189906/2509860592.py:1: FutureWarning: You are using `torch.load` with `weights_only=False` (the current default value), which uses the default pickle module implicitly. It is possible to construct malicious pickle data which will execute arbitrary code during unpickling (See https://github.com/pytorch/pytorch/blob/main/SECURITY.md#untrusted-models for more details). In a future release, the default value for `weights_only` will be flipped to `True`. This limits the functions that could be executed during unpickling. Arbitrary objects will no longer be allowed to be loaded via this mode unless they are explicitly allowlisted by the user via `torch.serialization.add_safe_globals`. We recommend you start setting `weights_only=True` for any use case where you don't have full control of the loaded file. Please open an issue on GitHub for any issues related to this experimental feature.\n",
      "  vae.load_state_dict(torch.load(\"model.torch\"))\n"
     ]
    },
    {
     "data": {
      "text/plain": [
       "<All keys matched successfully>"
      ]
     },
     "execution_count": 8,
     "metadata": {},
     "output_type": "execute_result"
    }
   ],
   "source": [
    "vae.load_state_dict(torch.load(\"model.torch\"))"
   ]
  },
  {
   "cell_type": "code",
   "execution_count": 9,
   "id": "cec61900-2e22-4a27-a51f-7c500abb475f",
   "metadata": {},
   "outputs": [],
   "source": [
    "if not os.path.exists(songs_path):\n",
    "    os.mkdir(songs_path)"
   ]
  },
  {
   "cell_type": "code",
   "execution_count": 10,
   "id": "4eba458a-aa5d-4e06-9d6c-7cebb30bff1d",
   "metadata": {},
   "outputs": [],
   "source": [
    "for i, c in enumerate(song_classes):\n",
    "    song = vae.generate_sequences([c])[0].reshape(-1)\n",
    "    wavfile.write(\n",
    "        f\"{songs_path}/{i}.wav\",\n",
    "        44100,\n",
    "        song\n",
    "    )"
   ]
  },
  {
   "cell_type": "code",
   "execution_count": null,
   "id": "ad99c2b0-41fd-495a-98b3-522eca249e20",
   "metadata": {},
   "outputs": [],
   "source": []
  }
 ],
 "metadata": {
  "kernelspec": {
   "display_name": "Python 3 (ipykernel)",
   "language": "python",
   "name": "python3"
  },
  "language_info": {
   "codemirror_mode": {
    "name": "ipython",
    "version": 3
   },
   "file_extension": ".py",
   "mimetype": "text/x-python",
   "name": "python",
   "nbconvert_exporter": "python",
   "pygments_lexer": "ipython3",
   "version": "3.11.0rc1"
  }
 },
 "nbformat": 4,
 "nbformat_minor": 5
}
