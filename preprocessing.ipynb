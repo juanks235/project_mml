{
 "cells": [
  {
   "cell_type": "code",
   "execution_count": 1,
   "metadata": {},
   "outputs": [
    {
     "name": "stdout",
     "output_type": "stream",
     "text": [
      "WARNING:tensorflow:From C:\\Users\\santi\\AppData\\Roaming\\Python\\Python311\\site-packages\\keras\\src\\losses.py:2976: The name tf.losses.sparse_softmax_cross_entropy is deprecated. Please use tf.compat.v1.losses.sparse_softmax_cross_entropy instead.\n",
      "\n"
     ]
    }
   ],
   "source": [
    "import matplotlib.pyplot as plt\n",
    "import numpy as np\n",
    "import tensorflow as tf\n",
    "import pandas as pd\n",
    "import librosa\n",
    "import io"
   ]
  },
  {
   "cell_type": "code",
   "execution_count": 2,
   "metadata": {},
   "outputs": [],
   "source": [
    "base_name = 'train-00000-of-00016-6b5481c76a3d2702'\n",
    "parquet_file_path = f'music/{base_name}.parquet'"
   ]
  },
  {
   "cell_type": "code",
   "execution_count": 3,
   "metadata": {},
   "outputs": [],
   "source": [
    "\n",
    "# Load the data into a pandas DataFrame\n",
    "df = pd.read_parquet(parquet_file_path, engine='pyarrow')"
   ]
  },
  {
   "cell_type": "code",
   "execution_count": 4,
   "metadata": {},
   "outputs": [
    {
     "data": {
      "text/html": [
       "<div>\n",
       "<style scoped>\n",
       "    .dataframe tbody tr th:only-of-type {\n",
       "        vertical-align: middle;\n",
       "    }\n",
       "\n",
       "    .dataframe tbody tr th {\n",
       "        vertical-align: top;\n",
       "    }\n",
       "\n",
       "    .dataframe thead th {\n",
       "        text-align: right;\n",
       "    }\n",
       "</style>\n",
       "<table border=\"1\" class=\"dataframe\">\n",
       "  <thead>\n",
       "    <tr style=\"text-align: right;\">\n",
       "      <th></th>\n",
       "      <th>audio</th>\n",
       "      <th>song_id</th>\n",
       "      <th>genre_id</th>\n",
       "      <th>genre</th>\n",
       "    </tr>\n",
       "  </thead>\n",
       "  <tbody>\n",
       "    <tr>\n",
       "      <th>0</th>\n",
       "      <td>{'bytes': b'OggS\\x00\\x02\\x00\\x00\\x00\\x00\\x00\\x...</td>\n",
       "      <td>0</td>\n",
       "      <td>0</td>\n",
       "      <td>Electronic</td>\n",
       "    </tr>\n",
       "    <tr>\n",
       "      <th>1</th>\n",
       "      <td>{'bytes': b'OggS\\x00\\x02\\x00\\x00\\x00\\x00\\x00\\x...</td>\n",
       "      <td>1</td>\n",
       "      <td>9</td>\n",
       "      <td>International</td>\n",
       "    </tr>\n",
       "    <tr>\n",
       "      <th>2</th>\n",
       "      <td>{'bytes': b'OggS\\x00\\x02\\x00\\x00\\x00\\x00\\x00\\x...</td>\n",
       "      <td>2</td>\n",
       "      <td>6</td>\n",
       "      <td>Chiptune / Glitch</td>\n",
       "    </tr>\n",
       "    <tr>\n",
       "      <th>3</th>\n",
       "      <td>{'bytes': b'OggS\\x00\\x02\\x00\\x00\\x00\\x00\\x00\\x...</td>\n",
       "      <td>4</td>\n",
       "      <td>4</td>\n",
       "      <td>Hip-Hop</td>\n",
       "    </tr>\n",
       "    <tr>\n",
       "      <th>4</th>\n",
       "      <td>{'bytes': b'OggS\\x00\\x02\\x00\\x00\\x00\\x00\\x00\\x...</td>\n",
       "      <td>5</td>\n",
       "      <td>14</td>\n",
       "      <td>Country</td>\n",
       "    </tr>\n",
       "  </tbody>\n",
       "</table>\n",
       "</div>"
      ],
      "text/plain": [
       "                                               audio  song_id  genre_id  \\\n",
       "0  {'bytes': b'OggS\\x00\\x02\\x00\\x00\\x00\\x00\\x00\\x...        0         0   \n",
       "1  {'bytes': b'OggS\\x00\\x02\\x00\\x00\\x00\\x00\\x00\\x...        1         9   \n",
       "2  {'bytes': b'OggS\\x00\\x02\\x00\\x00\\x00\\x00\\x00\\x...        2         6   \n",
       "3  {'bytes': b'OggS\\x00\\x02\\x00\\x00\\x00\\x00\\x00\\x...        4         4   \n",
       "4  {'bytes': b'OggS\\x00\\x02\\x00\\x00\\x00\\x00\\x00\\x...        5        14   \n",
       "\n",
       "               genre  \n",
       "0         Electronic  \n",
       "1      International  \n",
       "2  Chiptune / Glitch  \n",
       "3            Hip-Hop  \n",
       "4            Country  "
      ]
     },
     "execution_count": 4,
     "metadata": {},
     "output_type": "execute_result"
    }
   ],
   "source": [
    "df.head()"
   ]
  },
  {
   "cell_type": "code",
   "execution_count": 5,
   "metadata": {},
   "outputs": [
    {
     "data": {
      "text/plain": [
       "Index(['audio', 'song_id', 'genre_id', 'genre'], dtype='object')"
      ]
     },
     "execution_count": 5,
     "metadata": {},
     "output_type": "execute_result"
    }
   ],
   "source": [
    "df.columns"
   ]
  },
  {
   "cell_type": "code",
   "execution_count": 6,
   "metadata": {},
   "outputs": [],
   "source": [
    "def decode_audio(binary_data):\n",
    "    # Convert bytes to file-like object\n",
    "    audio_file = io.BytesIO(binary_data)\n",
    "    \n",
    "    # Load audio file using librosa\n",
    "    y, sr = librosa.load(audio_file, sr=None)  # `sr=None` to keep the original sampling rate\n",
    "    \n",
    "    return y, sr"
   ]
  },
  {
   "cell_type": "code",
   "execution_count": 7,
   "metadata": {},
   "outputs": [
    {
     "name": "stdout",
     "output_type": "stream",
     "text": [
      "Decoded Audio: [ 3.9714024e-07  7.3031049e-07  7.5640696e-07 ... -1.1963670e-01\n",
      " -1.1681189e-01 -1.1244176e-01]\n",
      "Sampling Rate: 44100\n"
     ]
    }
   ],
   "source": [
    "# Decode audio for each row in the DataFrame\n",
    "df['decoded_audio'] = df['audio'].apply(lambda x: decode_audio(x['bytes']))\n",
    "\n",
    "# Example of how to access the decoded audio and sampling rate\n",
    "decoded_audio, sampling_rate = df['decoded_audio'][0]  # Accessing the first row as an example\n",
    "print(f\"Decoded Audio: {decoded_audio}\")\n",
    "print(f\"Sampling Rate: {sampling_rate}\")\n",
    "\n",
    "# If you want to extract just the time series (audio data) and store it separately\n",
    "df['audio_time_series'] = df['decoded_audio'].apply(lambda x: x[0])  # Extract time series data\n",
    "df['sampling_rate'] = df['decoded_audio'].apply(lambda x: x[1])  # Extract sampling rate"
   ]
  },
  {
   "cell_type": "code",
   "execution_count": 8,
   "metadata": {},
   "outputs": [],
   "source": [
    "df = df.drop(['decoded_audio','audio'], axis=1)"
   ]
  },
  {
   "cell_type": "code",
   "execution_count": 9,
   "metadata": {},
   "outputs": [
    {
     "data": {
      "text/html": [
       "<div>\n",
       "<style scoped>\n",
       "    .dataframe tbody tr th:only-of-type {\n",
       "        vertical-align: middle;\n",
       "    }\n",
       "\n",
       "    .dataframe tbody tr th {\n",
       "        vertical-align: top;\n",
       "    }\n",
       "\n",
       "    .dataframe thead th {\n",
       "        text-align: right;\n",
       "    }\n",
       "</style>\n",
       "<table border=\"1\" class=\"dataframe\">\n",
       "  <thead>\n",
       "    <tr style=\"text-align: right;\">\n",
       "      <th></th>\n",
       "      <th>song_id</th>\n",
       "      <th>genre_id</th>\n",
       "      <th>genre</th>\n",
       "      <th>audio_time_series</th>\n",
       "      <th>sampling_rate</th>\n",
       "    </tr>\n",
       "  </thead>\n",
       "  <tbody>\n",
       "    <tr>\n",
       "      <th>0</th>\n",
       "      <td>0</td>\n",
       "      <td>0</td>\n",
       "      <td>Electronic</td>\n",
       "      <td>[3.9714024e-07, 7.303105e-07, 7.5640696e-07, 4...</td>\n",
       "      <td>44100</td>\n",
       "    </tr>\n",
       "    <tr>\n",
       "      <th>1</th>\n",
       "      <td>1</td>\n",
       "      <td>9</td>\n",
       "      <td>International</td>\n",
       "      <td>[0.15237975, 0.13222949, 0.10627693, 0.0847923...</td>\n",
       "      <td>44100</td>\n",
       "    </tr>\n",
       "    <tr>\n",
       "      <th>2</th>\n",
       "      <td>2</td>\n",
       "      <td>6</td>\n",
       "      <td>Chiptune / Glitch</td>\n",
       "      <td>[0.0, 0.0, 0.0, 0.0, 0.0, 0.0, 0.0, 0.0, 0.0, ...</td>\n",
       "      <td>44100</td>\n",
       "    </tr>\n",
       "    <tr>\n",
       "      <th>3</th>\n",
       "      <td>4</td>\n",
       "      <td>4</td>\n",
       "      <td>Hip-Hop</td>\n",
       "      <td>[1.0242003e-07, -2.1464828e-08, 4.3254058e-08,...</td>\n",
       "      <td>44100</td>\n",
       "    </tr>\n",
       "    <tr>\n",
       "      <th>4</th>\n",
       "      <td>5</td>\n",
       "      <td>14</td>\n",
       "      <td>Country</td>\n",
       "      <td>[0.0, 0.0, 0.0, 0.0, 0.0, 0.0, 0.0, 0.0, 0.0, ...</td>\n",
       "      <td>44100</td>\n",
       "    </tr>\n",
       "  </tbody>\n",
       "</table>\n",
       "</div>"
      ],
      "text/plain": [
       "   song_id  genre_id              genre  \\\n",
       "0        0         0         Electronic   \n",
       "1        1         9      International   \n",
       "2        2         6  Chiptune / Glitch   \n",
       "3        4         4            Hip-Hop   \n",
       "4        5        14            Country   \n",
       "\n",
       "                                   audio_time_series  sampling_rate  \n",
       "0  [3.9714024e-07, 7.303105e-07, 7.5640696e-07, 4...          44100  \n",
       "1  [0.15237975, 0.13222949, 0.10627693, 0.0847923...          44100  \n",
       "2  [0.0, 0.0, 0.0, 0.0, 0.0, 0.0, 0.0, 0.0, 0.0, ...          44100  \n",
       "3  [1.0242003e-07, -2.1464828e-08, 4.3254058e-08,...          44100  \n",
       "4  [0.0, 0.0, 0.0, 0.0, 0.0, 0.0, 0.0, 0.0, 0.0, ...          44100  "
      ]
     },
     "execution_count": 9,
     "metadata": {},
     "output_type": "execute_result"
    }
   ],
   "source": [
    "df.head()"
   ]
  },
  {
   "cell_type": "code",
   "execution_count": 10,
   "metadata": {},
   "outputs": [
    {
     "name": "stdout",
     "output_type": "stream",
     "text": [
      "Longitudes únicas de audios: [ 660719 1321967 1323119 1439471]\n",
      "Longitud 660719: 2 ejemplos\n",
      "Longitud 1321967: 661 ejemplos\n",
      "Longitud 1323119: 531 ejemplos\n",
      "Longitud 1439471: 51 ejemplos\n",
      "Sampling Rate únicos de audios: [22050 44100 48000]\n",
      "Longitud 22050: 2 ejemplos\n",
      "Longitud 44100: 1192 ejemplos\n",
      "Longitud 48000: 51 ejemplos\n"
     ]
    },
    {
     "data": {
      "text/plain": [
       "<function matplotlib.pyplot.show(close=None, block=None)>"
      ]
     },
     "execution_count": 10,
     "metadata": {},
     "output_type": "execute_result"
    },
    {
     "data": {
      "image/png": "[encoded data removed]",
      "text/plain": [
       "<Figure size 640x480 with 1 Axes>"
      ]
     },
     "metadata": {},
     "output_type": "display_data"
    }
   ],
   "source": [
    "# Calculate the length of each audio time series\n",
    "lens = [len(ts) for ts in df['audio_time_series']]\n",
    "# Find unique lengths and their counts\n",
    "unique_lengths, counts_len = np.unique(lens, return_counts=True)\n",
    "# Print unique lengths and the number of examples for each length\n",
    "print(f\"Longitudes únicas de audios: {unique_lengths}\")\n",
    "for length, count in zip(unique_lengths, counts_len):\n",
    "    print(f\"Longitud {length}: {count} ejemplos\")\n",
    "\n",
    "unique_sr, counts_sr = np.unique(df.sampling_rate, return_counts=True)\n",
    "# Print unique lengths and the number of examples for each sampling rate\n",
    "print(f\"Sampling Rate únicos de audios: {unique_sr}\")\n",
    "for length, count in zip(unique_sr, counts_sr):\n",
    "    print(f\"Longitud {length}: {count} ejemplos\")\n",
    "\n",
    "\n",
    "plt.plot(df.audio_time_series[10])\n",
    "plt.show"
   ]
  },
  {
   "cell_type": "code",
   "execution_count": 11,
   "metadata": {},
   "outputs": [
    {
     "name": "stdout",
     "output_type": "stream",
     "text": [
      "Most common sampling rate: 44100\n",
      "Most common length: 1321967\n"
     ]
    },
    {
     "name": "stderr",
     "output_type": "stream",
     "text": [
      "C:\\Users\\santi\\AppData\\Local\\Temp\\ipykernel_22076\\3784317945.py:22: SettingWithCopyWarning: \n",
      "A value is trying to be set on a copy of a slice from a DataFrame.\n",
      "Try using .loc[row_indexer,col_indexer] = value instead\n",
      "\n",
      "See the caveats in the documentation: https://pandas.pydata.org/pandas-docs/stable/user_guide/indexing.html#returning-a-view-versus-a-copy\n",
      "  filtered_df['padded_audio_time_series'] = filtered_df['audio_time_series'].apply(lambda ts: pad_time_series(ts, most_common_length))\n"
     ]
    },
    {
     "data": {
      "image/png": "[encoded data removed]",
      "text/plain": [
       "<Figure size 640x480 with 1 Axes>"
      ]
     },
     "metadata": {},
     "output_type": "display_data"
    }
   ],
   "source": [
    "# 1. Identify the most common sampling rate\n",
    "most_common_sampling_rate = df['sampling_rate'].mode()[0]\n",
    "print(f\"Most common sampling rate: {most_common_sampling_rate}\")\n",
    "\n",
    "# 2. Filter the DataFrame to include only examples with the most common sampling rate\n",
    "filtered_df = df[df['sampling_rate'] == most_common_sampling_rate]\n",
    "\n",
    "# 3. Determine the target length for padding\n",
    "# Find the most common length among the filtered examples\n",
    "lengths = [len(ts) for ts in filtered_df['audio_time_series']]\n",
    "most_common_length = np.bincount(lengths).argmax()\n",
    "print(f\"Most common length: {most_common_length}\")\n",
    "\n",
    "# 4. Pad time series to the most common length\n",
    "def pad_time_series(ts, target_length):\n",
    "    if len(ts) > target_length:\n",
    "        return ts[:target_length]  # Truncate if longer than target length\n",
    "    else:\n",
    "        # Pad with zeros if shorter than target length\n",
    "        return np.pad(ts, (0, target_length - len(ts)), mode='constant')\n",
    "\n",
    "filtered_df['padded_audio_time_series'] = filtered_df['audio_time_series'].apply(lambda ts: pad_time_series(ts, most_common_length))\n",
    "\n",
    "# Display some of the padded time series to verify\n",
    "plt.plot(filtered_df['padded_audio_time_series'].iloc[10])\n",
    "plt.title(\"Padded Audio Time Series at Index 10\")\n",
    "plt.xlabel(\"Sample\")\n",
    "plt.ylabel(\"Amplitude\")\n",
    "plt.show()"
   ]
  },
  {
   "cell_type": "code",
   "execution_count": 12,
   "metadata": {},
   "outputs": [
    {
     "data": {
      "text/plain": [
       "1245"
      ]
     },
     "execution_count": 12,
     "metadata": {},
     "output_type": "execute_result"
    }
   ],
   "source": [
    "len(df)"
   ]
  },
  {
   "cell_type": "code",
   "execution_count": 13,
   "metadata": {},
   "outputs": [
    {
     "data": {
      "text/plain": [
       "1192"
      ]
     },
     "execution_count": 13,
     "metadata": {},
     "output_type": "execute_result"
    }
   ],
   "source": [
    "len(filtered_df)"
   ]
  },
  {
   "cell_type": "code",
   "execution_count": 14,
   "metadata": {},
   "outputs": [
    {
     "data": {
      "text/plain": [
       "7453"
      ]
     },
     "execution_count": 14,
     "metadata": {},
     "output_type": "execute_result"
    }
   ],
   "source": [
    "import gc\n",
    "\n",
    "# Delete the DataFrame\n",
    "del df\n",
    "\n",
    "# Run garbage collection\n",
    "gc.collect()"
   ]
  }
 ],
 "metadata": {
  "kernelspec": {
   "display_name": "Python 3",
   "language": "python",
   "name": "python3"
  },
  "language_info": {
   "codemirror_mode": {
    "name": "ipython",
    "version": 3
   },
   "file_extension": ".py",
   "mimetype": "text/x-python",
   "name": "python",
   "nbconvert_exporter": "python",
   "pygments_lexer": "ipython3",
   "version": "3.11.4"
  }
 },
 "nbformat": 4,
 "nbformat_minor": 2
}
